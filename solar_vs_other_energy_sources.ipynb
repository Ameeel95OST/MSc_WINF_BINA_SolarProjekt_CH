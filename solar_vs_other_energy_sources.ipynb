{
 "cells": [
  {
   "cell_type": "code",
   "execution_count": null,
   "metadata": {},
   "outputs": [],
   "source": [
    "import pandas as pd\n",
    "import plotly.express as px\n",
    "\n",
    "file_path_energy_data = 'data\\\\energy_sources\\\\elektrizitaetbilanz_jahreswerte.csv'\n",
    "energy_data = pd.read_csv(file_path_energy_data, delimiter=';')\n",
    "\n",
    "# Nur Spalten behalten, die mit 'Erzeugung_' beginnen oder 'Jahr' enthalten\n",
    "columns_to_keep = ['Jahr'] + [col for col in energy_data.columns if col.startswith('Erzeugung_')]\n",
    "energy_data = energy_data[columns_to_keep]\n",
    "\n",
    "\n",
    "energy_data['Wasserkraft'] = (energy_data['Erzeugung_laufwerk_GWh'] + energy_data['Erzeugung_speicherwerk_GWh'])\n",
    "energy_data['Andere_erneuerbare_Energien_GWh'] = (energy_data['Erzeugung_holz_GWh'] + energy_data['Erzeugung_biogas_GWh'] + energy_data['Erzeugung_wind_GWh'])\n",
    "\n",
    "# Daten filtern: Nur Werte ab 2015\n",
    "energy_data = energy_data[energy_data['Jahr'] >= 2015]\n",
    "\n",
    "# Sicherstellen, dass alle Jahre als Kategorie behandelt werden\n",
    "energy_data['Jahr'] = energy_data['Jahr'].astype(str)\n",
    "\n",
    "# Spalten für die melt-Operation angeben und Namen ändern\n",
    "columns_to_melt = ['Wasserkraft', 'Erzeugung_kernkraftwerk_GWh', 'Erzeugung_andere_total_GWh', 'Erzeugung_photovoltaik_GWh', 'Andere_erneuerbare_Energien_GWh']\n",
    "\n",
    "# Perform the melt operation\n",
    "energy_data_melted = energy_data.melt(\n",
    "    id_vars=['Jahr'], \n",
    "    value_vars=columns_to_melt, \n",
    "    var_name='Energiequelle', \n",
    "    value_name='Wert'\n",
    ")\n",
    "\n",
    "# Spalten umbenennen\n",
    "energy_data_melted['Energiequelle'] = energy_data_melted['Energiequelle'].replace({\n",
    "    'Erzeugung_kernkraftwerk_GWh': 'Kernkraft',\n",
    "    'Erzeugung_andere_total_GWh': 'Thermische Kraft',\n",
    "    'Erzeugung_photovoltaik_GWh': 'Photovoltaik',\n",
    "    'Andere_erneuerbare_Energien_GWh': 'Andere erneuerbare Energien'\n",
    "})\n",
    "\n",
    "# Gestapeltes Flächenchart erstellen\n",
    "fig = px.area(\n",
    "    energy_data_melted,\n",
    "    x='Jahr',\n",
    "    y='Wert',\n",
    "    color='Energiequelle',\n",
    "    title='Energieproduktion nach Quellen in der Schweiz',\n",
    "    labels={'Wert': 'Energieproduktion in GWh', 'Jahr': 'Jahr', 'Energiequelle': 'Energiequelle'}\n",
    ")\n",
    "\n",
    "# Chart anzeigen\n",
    "fig.show()\n",
    "\n",
    "# Speichern des Diagramms als HTML-Datei\n",
    "fig.write_html('docs\\\\assets\\\\diagramme\\\\solar_vs_other_energy_sources.html')"
   ]
  }
 ],
 "metadata": {
  "kernelspec": {
   "display_name": "Python 3",
   "language": "python",
   "name": "python3"
  },
  "language_info": {
   "codemirror_mode": {
    "name": "ipython",
    "version": 3
   },
   "file_extension": ".py",
   "mimetype": "text/x-python",
   "name": "python",
   "nbconvert_exporter": "python",
   "pygments_lexer": "ipython3",
   "version": "3.13.2"
  }
 },
 "nbformat": 4,
 "nbformat_minor": 2
}
