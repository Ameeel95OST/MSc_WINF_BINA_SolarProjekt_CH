{
  "cells": [
    {
      "cell_type": "markdown",
      "metadata": {
        "colab_type": "text",
        "id": "view-in-github"
      },
      "source": [
        "<a href=\"https://colab.research.google.com/github/andre-winkler/LN_BINA_FS25/blob/main/LN_BINA_FS25.ipynb\" target=\"_parent\"><img src=\"https://colab.research.google.com/assets/colab-badge.svg\" alt=\"Open In Colab\"/></a>"
      ]
    },
    {
      "cell_type": "markdown",
      "metadata": {},
      "source": [
        "![FH Logos](images/FH_Logos.png)\n",
        "\n",
        "# Das Potenzial von Solarenergie in der Schweiz - Analyse der letzten 10 Jahre & eine Prognose\n",
        "\n",
        "<style>\n",
        "    .table-name-value th {\n",
        "        display: none;\n",
        "    }\n",
        "    .table-name-value td {\n",
        "        border: none;\n",
        "    }\n",
        "</style>\n",
        "<div class=\"table-name-value\">\n",
        "\n",
        "| | |\n",
        "| --- | --- |\n",
        "| **Verfasser** | Fabienne Ghirardin, Amel Kujovic und André Winkler |\n",
        "| **Modul** | BINA - Business Intelligence & Analytics (Sa+, FS25) |\n",
        "| **Dozent** | Dr. Alen Doko, FFHS |\n",
        "\n",
        "</div>\n",
        "\n",
        "## Management Summary\n",
        "\n",
        "## Einleitung\n",
        "In den letzten Jahren hat die Solarenergie weltweit an Bedeutung gewonnen, und auch in der Schweiz zeigt sich ein bemerkenswerter Aufwärtstrend. Diese Fallstudie untersucht das Potenzial der Solarenergie in der Schweiz, analysiert die Entwicklungen der letzten zehn Jahre und wagt einen Blick in die Zukunft. Dabei wird zunächst die Funktionsweise der Solarenergie erläutert und aufgezeigt, warum diese erneuerbare Energiequelle besonders sinnvoll für die Schweiz ist.\n",
        "\n",
        "Solarenergie basiert auf der Nutzung der Sonnenstrahlung zur Erzeugung von elektrischem Strom. Dies geschieht durch Photovoltaikanlagen, die Sonnenlicht direkt in elektrische Energie umwandeln. Die Solarzellen, meist aus Silizium, nutzen den photovoltaischen Effekt, bei dem Licht Elektronen freisetzt und somit eine elektrische Spannung erzeugt. Diese Technologie hat sich in den letzten Jahren stark weiterentwickelt und bietet heute hohe Wirkungsgrade und wirtschaftliche Vorteile.\n",
        "\n",
        "Die Schweiz, mit ihren zahlreichen Sonnenstunden und der zunehmenden Notwendigkeit, fossile Brennstoffe zu ersetzen, bietet ideale Bedingungen für die Nutzung von Solarenergie. Die Vorteile sind vielfältig: Solarenergie ist umweltfreundlich, reduziert die Abhängigkeit von importierten Energieträgern und trägt zur Stabilisierung der Strompreise bei. Zudem unterstützt die Schweizer Regierung den Ausbau erneuerbarer Energien durch verschiedene Förderprogramme und steuerliche Anreize.\n",
        "\n",
        "Diese Fallstudie wird die Entwicklung der Solarenergie in der Schweiz in den letzten zehn Jahren detailliert analysieren und eine Prognose für die kommenden Jahre erstellen. Ziel ist es, das Potenzial dieser nachhaltigen Energiequelle aufzuzeigen und ihre Bedeutung für die zukünftige Energieversorgung der Schweiz zu unterstreichen.\n",
        "\n",
        "## Vorgehen\n",
        "In diesem Kapitel wird das Vorgehen für diese Arbeit beschrieben. Zunächst werden die vier ersten Schritte aus dem Framework der CPA Management Accounting Guideline (Siehe Abbildung 1) beschrieben.\n",
        "![from Data to decisions](images/from_data_to_decisions.png)\n",
        "\n",
        "### Schritt 1: Ziele und Informationsbedürfnisse definieren\n",
        "Dieser Schritt beginnt mit der zentralen Frage: \"Was müssen wir wissen?\". Es ist wichtig, dass die Informationsbedürfnisse der Entscheidungsträger die Nutzung von Daten und Analysen bestimmen und nicht umgekehrt. Dieser Schritt umfasst zwei Ansätze: die Identifizierung strategischer Informationsbedürfnisse auf Top-Level-Ebene und die Demokratisierung des datengesteuerten Entscheidungsprozesses, um allen Mitarbeitern Zugang zu Daten zu ermöglichen. Entscheidend ist die Verknüpfung von Daten mit der Unternehmensstrategie und den wichtigsten Wert- und Leistungstreibern, um Informationsüberflutung zu vermeiden und relevante Daten zu sammeln. Weiterhin beinhaltet dieser Schritt die Identifizierung der Informationsempfänger (Führungsteam und operative Einheiten) und die Klärung der Fragen, die diese beantwortet haben möchten, idealerweise durch die Formulierung von Key Analytics Questions (KAQs), die auf die Gegenwart oder Zukunft ausgerichtet sind und mit den strategischen Zielen verknüpft sind. Schließlich geht es darum zu verstehen, welche Entscheidungen die Daten unterstützen sollen und welche Daten (intern und extern, strukturiert und unstrukturiert) zur Verfügung stehen und gesammelt werden müssen.\n",
        "\n",
        "### Schritt 2: Datenerfassungsformate identifizieren\n",
        "In diesem Schritt geht es darum zu bestimmen, welche Arten von Daten gesammelt werden sollen, wobei zwischen Aktivitätsdaten, Konversationsdaten, Foto- und Videodaten sowie Sensordaten unterschieden wird. Die Datenerfassung kann automatisch oder manuell erfolgen. Wichtige Aspekte sind die Berücksichtigung des Datenschutzes gemäß geltender Gesetze wie der DSGVO und die Klärung der Datenbesitzverhältnisse, um sicherzustellen, dass das Unternehmen die benötigten Daten nutzen kann. Die Planung der Datenerfassung umfasst die Auswahl der Datenquelle und -methode, die Festlegung des Zeitpunkts, der Sequenz und der Häufigkeit der Datenerfassung sowie die Bestimmung der Verantwortlichkeit für die Datenerfassung. Wichtig ist auch die Sicherstellung der Datenqualität durch die Verwendung von Metadaten, die Überwachung der Datenqualität und die Einhaltung von Datenschutzrichtlinien.\n",
        "\n",
        "### Schritt 3: Daten analysieren\n",
        "Nachdem die richtigen Daten gesammelt wurden, müssen diese in entscheidungsrelevante Erkenntnisse umgewandelt werden. Dies geschieht durch den Einsatz verschiedener Analysetechniken. Der Leitfaden nennt hier beispielhaft Korrelationsanalyse, Regressionsanalyse, Data Mining, Textanalyse, Bildanalyse, Videoanalyse, Sound- und Sprachanalyse, Sentimentanalyse sowie KI und fortgeschrittene Analysen. Oftmals liefern die Kombination verschiedener Analysetechniken die wertvollsten Erkenntnisse. Bei der Analyse ist es entscheidend, die Zielgruppe und deren spezifische Bedürfnisse im Blick zu behalten. Wichtig ist auch, die Ergebnisse zu validieren und zu überprüfen, um sicherzustellen, dass sie korrekt und verlässlich sind. Die Ergebnisse sollten in einem klaren und verständlichen Format präsentiert werden, um eine fundierte Entscheidungsfindung zu ermöglichen.\n",
        "\n",
        "### Schritt 4: Informationen präsentieren\n",
        "In diesem Schritt geht es darum, die gewonnenen Erkenntnisse so zu kommunizieren, dass sie für die jeweilige Zielgruppe relevant und bedeutsam sind und zu rechtzeitigen Entscheidungen führen. Dies beinhaltet die Festlegung der richtigen Berichtsfrequenz, die Auswahl der Kommunikationskanäle (Berichte, Dashboards etc.) und die bestmögliche Präsentation der Daten (Zahlen, Text, Tabellen, Grafiken). Oft ist eine Kombination verschiedener Präsentationsformate effektiv, um eine \"Geschichte\" mit den Daten zu erzählen. Wichtig ist, mit der zentralen Frage (KAQ) zu beginnen, Überschriften zu verwenden, effektive Visualisierungen einzusetzen und diese durch erläuternde Texte (Narrative) zu ergänzen. Auch Self-Service-Tools spielen eine wichtige Rolle, müssen aber benutzerfreundlich gestaltet sein. Der Leitfaden weist auf häufige Fehler bei der Datenkommunikation hin, wie z.B. mangelnde Verknüpfung zur Strategie, unpassende Präsentation für die Zielgruppe oder überfrachtete Dashboards. Das Ziel ist es, Informationen so zu präsentieren, dass sie zu fundierten datengesteuerten Entscheidungen führen.\n",
        "\n",
        "## Ziele und Informationsbedarf definieren\n",
        "\n",
        "## Daten sammeln\n",
        "\n",
        "### Daten Quellen\n",
        "\n",
        "\n",
        "## Zusammenfassung"
      ]
    }
  ],
  "metadata": {
    "colab": {
      "authorship_tag": "ABX9TyNzmOM7Rvi/FYfvLGp7TUJ1",
      "include_colab_link": true,
      "provenance": []
    },
    "kernelspec": {
      "display_name": "Python 3",
      "name": "python3"
    },
    "language_info": {
      "codemirror_mode": {
        "name": "ipython",
        "version": 3
      },
      "file_extension": ".py",
      "mimetype": "text/x-python",
      "name": "python",
      "nbconvert_exporter": "python",
      "pygments_lexer": "ipython3",
      "version": "3.13.2"
    }
  },
  "nbformat": 4,
  "nbformat_minor": 0
}
