{
  "cells": [
    {
      "cell_type": "markdown",
      "metadata": {
        "colab_type": "text",
        "id": "view-in-github"
      },
      "source": [
        "<a href=\"https://colab.research.google.com/github/andre-winkler/LN_BINA_FS25/blob/main/LN_BINA_FS25.ipynb\" target=\"_parent\"><img src=\"https://colab.research.google.com/assets/colab-badge.svg\" alt=\"Open In Colab\"/></a>"
      ]
    },
    {
      "cell_type": "markdown",
      "metadata": {},
      "source": [
        "\n",
        "\n",
        "\n",
        "\n",
        "\n",
        "## Vorgehen\n",
        "In diesem Kapitel wird das Vorgehen für diese Arbeit beschrieben. Zunächst werden die vier ersten Schritte aus dem Framework der CPA Management Accounting Guideline (Siehe Abbildung 1) beschrieben.\n",
        "![from Data to decisions](images/from_data_to_decisions.png)\n",
        "\n",
        "### Schritt 1: Ziele und Informationsbedarf definieren\n",
        "Dieser Schritt beginnt mit der zentralen Frage: \"Was müssen wir wissen?\". Es ist wichtig, dass die Informationsbedürfnisse der Entscheidungsträger die Nutzung von Daten und Analysen bestimmen und nicht umgekehrt. Dieser Schritt umfasst zwei Ansätze: die Identifizierung strategischer Informationsbedürfnisse auf Top-Level-Ebene und die Demokratisierung des datengesteuerten Entscheidungsprozesses, um allen Mitarbeitern Zugang zu Daten zu ermöglichen. Entscheidend ist die Verknüpfung von Daten mit der Unternehmensstrategie und den wichtigsten Wert- und Leistungstreibern, um Informationsüberflutung zu vermeiden und relevante Daten zu sammeln. Weiterhin beinhaltet dieser Schritt die Identifizierung der Informationsempfänger (Führungsteam und operative Einheiten) und die Klärung der Fragen, die diese beantwortet haben möchten, idealerweise durch die Formulierung von Key Analytics Questions (KAQs), die auf die Gegenwart oder Zukunft ausgerichtet sind und mit den strategischen Zielen verknüpft sind. Schließlich geht es darum zu verstehen, welche Entscheidungen die Daten unterstützen sollen und welche Daten (intern und extern, strukturiert und unstrukturiert) zur Verfügung stehen und gesammelt werden müssen.\n",
        "\n",
        "### Schritt 2: Daten sammeln\n",
        "In diesem Schritt geht es darum zu bestimmen, welche Arten von Daten gesammelt werden sollen, wobei zwischen Aktivitätsdaten, Konversationsdaten, Foto- und Videodaten sowie Sensordaten unterschieden wird. Die Datenerfassung kann automatisch oder manuell erfolgen. Wichtige Aspekte sind die Berücksichtigung des Datenschutzes gemäß geltender Gesetze wie der DSGVO und die Klärung der Datenbesitzverhältnisse, um sicherzustellen, dass das Unternehmen die benötigten Daten nutzen kann. Die Planung der Datenerfassung umfasst die Auswahl der Datenquelle und -methode, die Festlegung des Zeitpunkts, der Sequenz und der Häufigkeit der Datenerfassung sowie die Bestimmung der Verantwortlichkeit für die Datenerfassung. Wichtig ist auch die Sicherstellung der Datenqualität durch die Verwendung von Metadaten, die Überwachung der Datenqualität und die Einhaltung von Datenschutzrichtlinien.\n",
        "\n",
        "### Schritt 3: Daten analysieren\n",
        "Nachdem die richtigen Daten gesammelt wurden, müssen diese in entscheidungsrelevante Erkenntnisse umgewandelt werden. Dies geschieht durch den Einsatz verschiedener Analysetechniken. Der Leitfaden nennt hier beispielhaft Korrelationsanalyse, Regressionsanalyse, Data Mining, Textanalyse, Bildanalyse, Videoanalyse, Sound- und Sprachanalyse, Sentimentanalyse sowie KI und fortgeschrittene Analysen. Oftmals liefern die Kombination verschiedener Analysetechniken die wertvollsten Erkenntnisse. Bei der Analyse ist es entscheidend, die Zielgruppe und deren spezifische Bedürfnisse im Blick zu behalten. Wichtig ist auch, die Ergebnisse zu validieren und zu überprüfen, um sicherzustellen, dass sie korrekt und verlässlich sind. Die Ergebnisse sollten in einem klaren und verständlichen Format präsentiert werden, um eine fundierte Entscheidungsfindung zu ermöglichen.\n",
        "\n",
        "### Schritt 4: Informationen präsentieren\n",
        "In diesem Schritt geht es darum, die gewonnenen Erkenntnisse so zu kommunizieren, dass sie für die jeweilige Zielgruppe relevant und bedeutsam sind und zu rechtzeitigen Entscheidungen führen. Dies beinhaltet die Festlegung der richtigen Berichtsfrequenz, die Auswahl der Kommunikationskanäle (Berichte, Dashboards etc.) und die bestmögliche Präsentation der Daten (Zahlen, Text, Tabellen, Grafiken). Oft ist eine Kombination verschiedener Präsentationsformate effektiv, um eine \"Geschichte\" mit den Daten zu erzählen. Wichtig ist, mit der zentralen Frage (KAQ) zu beginnen, Überschriften zu verwenden, effektive Visualisierungen einzusetzen und diese durch erläuternde Texte (Narrative) zu ergänzen. Auch Self-Service-Tools spielen eine wichtige Rolle, müssen aber benutzerfreundlich gestaltet sein. Der Leitfaden weist auf häufige Fehler bei der Datenkommunikation hin, wie z.B. mangelnde Verknüpfung zur Strategie, unpassende Präsentation für die Zielgruppe oder überfrachtete Dashboards. Das Ziel ist es, Informationen so zu präsentieren, dass sie zu fundierten datengesteuerten Entscheidungen führen.\n",
        "\n",
        "## Ziele und Informationsbedürfnisse definieren\n",
        "Letzten 10 Jahren (01.01.2015 - 31.12.2024)\n",
        "    • Wetterentwicklung in der Schweiz\n",
        "        ○ Entwicklung der Sonnenstunden in der Schweiz\n",
        "        --> nicht nur die Sonnenstunden zählen sondern einfach auch die Helligkeit!\n",
        "    • Solarenergie-Entwicklung in der Schweiz\n",
        "        ○ Installierte PV-Leistung\n",
        "            § Stromproduktion\n",
        "            § Effizienz von PV-Modulen\n",
        "            § Wie Fläche wird beansprucht\n",
        "            § Kosten pro installierter kW-Leistung\n",
        "        ○ Solar Energie im Vergleich zu den anderen Stromquellen\n",
        "    • Andere Faktoren\n",
        "            § Subventionen und Förderungen\n",
        "            § Einspeisevergütung für Solarstrom\n",
        "            § steigende Nachfrage nach Solarstrom\n",
        "            § Korrelation der Entwicklung mit der Entwicklung der CO2-Emissionen?\n",
        "            § Stromverbrauch der Endgeräte (Optional)\n",
        "    • Trends (Optional)\n",
        "        ○ Wie unterscheidet sich die Solarstromproduktion zwischen Sommer und Winter?\n",
        "        ○ Wie hat sich die Nutzung erneuerbarer Energien langfristig entwickelt?\n",
        "        \n",
        "Zukunft\n",
        "    • Sonnenstunden\n",
        "    • Verschiedene Use Cases -> mit positiv und negativ Szenarien\n",
        "    • Wie hoch ist die maximale mögliche Solarleistung in 5 Jahren?\n",
        "    • Welche Prognosen gibt es für den weiteren Ausbau von Solarenergie?\n",
        "    • Potential von der Nutzung der Gebäudeflächen\n",
        "        ○ Dächer\n",
        "        ○ Fassaden\n",
        "Agri-PV?\n",
        "\n",
        "## Daten sammeln\n",
        "Für die Analyse des Solarpotenzials in der Schweiz wurden umfassende Datensätze aus offiziellen Quellen zusammengetragen und aufbereitet. Die wichtigsten Daten stammen vom Bundesamt für Energie (BFE) und MeteoSwiss. Das BFE liefert detaillierte Informationen zur installierten Solarleistung, der Anzahl an Photovoltaikanlagen, den Einspeisevergütungen sowie zu Subventionen und Förderprogrammen. Diese Daten ermöglichen eine genaue Untersuchung der Entwicklung der Solarenergie in der Schweiz über die letzten zehn Jahre und helfen dabei, wirtschaftliche und politische Einflussfaktoren zu bewerten.\n",
        "\n",
        "Neben den wirtschaftlichen und technischen Aspekten ist die Sonneneinstrahlung der entscheidende Faktor für die Effizienz und Leistungsfähigkeit von Solaranlagen. Um diesen Einfluss zu quantifizieren, wurden die Daten von MeteoSwiss herangezogen. Sie enthalten Messwerte zur Globalstrahlung, den täglichen Sonnenstunden und den Temperaturen an verschiedenen Wetterstationen in der Schweiz. Diese Parameter sind essenziell, um den Zusammenhang zwischen Sonnenenergie und Stromproduktion zu analysieren. Darüber hinaus erlauben sie eine saisonale Betrachtung, da die Solarleistung im Sommer deutlich höher ist als in den Wintermonaten.\n",
        "\n",
        "Die gesammelten Daten wurden nach ihrer Bereinigung in ein einheitliches Format überführt. Um eine präzisere Analyse zu ermöglichen, erfolgte die Aggregation auf Stundenbasis. Dies erlaubt eine genauere Untersuchung von Trends und Schwankungen im Tagesverlauf sowie eine präzisere Modellierung der Solarstromproduktion. Die Kombination dieser umfangreichen Datensätze bildet die Grundlage für die Untersuchung der Vergangenheit und ermöglicht es, Prognosen für die zukünftige Entwicklung der Solarenergie in der Schweiz abzuleiten.\n",
        "\n",
        "### Daten Quellen\n",
        "TODO\n",
        "\n",
        "### Datenmodellierung\n",
        "TODO\n",
        "\n",
        "### MeteoSchweiz Wetterdaten\n",
        "#### Datenquelle\n",
        "TODO Amel\n",
        "\n",
        "#### Datenqualität\n",
        "-> fehlende Daten\n",
        "\n",
        "\n",
        "## Daten analysieren\n",
        "Hinweis: folgende Unterkapitel beziehen sich auf einen Zeitraum von den letzten 10 Jahren (01.01.2014 - 31.12.2024).\n",
        "\n",
        "### Wetterenticklung in der Schweiz\n",
        "\n",
        "\n",
        "\n",
        "## Zusammenfassung"
      ]
    }
  ],
  "metadata": {
    "colab": {
      "authorship_tag": "ABX9TyNzmOM7Rvi/FYfvLGp7TUJ1",
      "include_colab_link": true,
      "provenance": []
    },
    "kernelspec": {
      "display_name": "Python 3",
      "name": "python3"
    },
    "language_info": {
      "codemirror_mode": {
        "name": "ipython",
        "version": 3
      },
      "file_extension": ".py",
      "mimetype": "text/x-python",
      "name": "python",
      "nbconvert_exporter": "python",
      "pygments_lexer": "ipython3",
      "version": "3.13.2"
    }
  },
  "nbformat": 4,
  "nbformat_minor": 0
}
