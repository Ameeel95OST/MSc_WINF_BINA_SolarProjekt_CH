{
  "cells": [
    {
      "cell_type": "markdown",
      "metadata": {
        "colab_type": "text",
        "id": "view-in-github"
      },
      "source": [
        "<a href=\"https://colab.research.google.com/github/andre-winkler/LN_BINA_FS25/blob/main/LN_BINA_FS25.ipynb\" target=\"_parent\"><img src=\"https://colab.research.google.com/assets/colab-badge.svg\" alt=\"Open In Colab\"/></a>"
      ]
    },
    {
      "cell_type": "markdown",
      "metadata": {},
      "source": [
        "![FH Logos](images/FH_Logos.png)\n",
        "\n",
        "# Das Potenzial von Solarenergie in der Schweiz <p> Analyse der letzten 10 Jahre & eine Prognose\n",
        "\n",
        "<style>\n",
        "    .table-name-value th {\n",
        "        display: none;\n",
        "    }\n",
        "    .table-name-value td {\n",
        "        border: none;\n",
        "    }\n",
        "</style>\n",
        "<div class=\"table-name-value\">\n",
        "\n",
        "| | |\n",
        "| --- | --- |\n",
        "| **Verfasser** | Fabienne Ghirardin, Amel Kujovic und André Winkler |\n",
        "| **Modul** | BINA - Business Intelligence & Analytics (Sa+, FS25) |\n",
        "| **Dozent** | Dr. Alen Doko, FFHS |\n",
        "\n",
        "</div>\n",
        "\n",
        "## Management Summary\n",
        "\n",
        "## Einleitung\n",
        "\n",
        "## Vorgehen\n",
        "\n",
        "## Ziele und Informationsbedarf definieren\n",
        "\n",
        "## Daten sammeln\n",
        "\n",
        "### Daten Quellen\n",
        "\n",
        "\n",
        "## Zusammenfassung"
      ]
    }
  ],
  "metadata": {
    "colab": {
      "authorship_tag": "ABX9TyNzmOM7Rvi/FYfvLGp7TUJ1",
      "include_colab_link": true,
      "provenance": []
    },
    "kernelspec": {
      "display_name": "Python 3",
      "name": "python3"
    },
    "language_info": {
      "codemirror_mode": {
        "name": "ipython",
        "version": 3
      },
      "file_extension": ".py",
      "mimetype": "text/x-python",
      "name": "python",
      "nbconvert_exporter": "python",
      "pygments_lexer": "ipython3",
      "version": "3.13.2"
    }
  },
  "nbformat": 4,
  "nbformat_minor": 0
}
