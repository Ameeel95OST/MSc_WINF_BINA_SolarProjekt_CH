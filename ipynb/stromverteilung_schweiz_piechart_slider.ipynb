{
 "cells": [
  {
   "cell_type": "code",
   "execution_count": 1,
   "metadata": {},
   "outputs": [
    {
     "ename": "NameError",
     "evalue": "name 'df_pie' is not defined",
     "output_type": "error",
     "traceback": [
      "\u001b[1;31m---------------------------------------------------------------------------\u001b[0m",
      "\u001b[1;31mNameError\u001b[0m                                 Traceback (most recent call last)",
      "Cell \u001b[1;32mIn[1], line 12\u001b[0m\n\u001b[0;32m      3\u001b[0m farben \u001b[38;5;241m=\u001b[39m {\n\u001b[0;32m      4\u001b[0m     \u001b[38;5;124m\"\u001b[39m\u001b[38;5;124mPhotovoltaik\u001b[39m\u001b[38;5;124m\"\u001b[39m: \u001b[38;5;124m\"\u001b[39m\u001b[38;5;124m#f6c90e\u001b[39m\u001b[38;5;124m\"\u001b[39m,\n\u001b[0;32m      5\u001b[0m     \u001b[38;5;124m\"\u001b[39m\u001b[38;5;124mKernkraft\u001b[39m\u001b[38;5;124m\"\u001b[39m: \u001b[38;5;124m\"\u001b[39m\u001b[38;5;124m#3c91e6\u001b[39m\u001b[38;5;124m\"\u001b[39m,\n\u001b[1;32m   (...)\u001b[0m\n\u001b[0;32m      8\u001b[0m     \u001b[38;5;124m\"\u001b[39m\u001b[38;5;124mAndere\u001b[39m\u001b[38;5;124m\"\u001b[39m: \u001b[38;5;124m\"\u001b[39m\u001b[38;5;124m#8a6ded\u001b[39m\u001b[38;5;124m\"\u001b[39m\n\u001b[0;32m      9\u001b[0m }\n\u001b[0;32m     11\u001b[0m quellen \u001b[38;5;241m=\u001b[39m \u001b[38;5;28mlist\u001b[39m(farben\u001b[38;5;241m.\u001b[39mkeys())\n\u001b[1;32m---> 12\u001b[0m years \u001b[38;5;241m=\u001b[39m \u001b[43mdf_pie\u001b[49m[\u001b[38;5;124m\"\u001b[39m\u001b[38;5;124mJahr\u001b[39m\u001b[38;5;124m\"\u001b[39m]\u001b[38;5;241m.\u001b[39mtolist()\n\u001b[0;32m     14\u001b[0m \u001b[38;5;66;03m# Initialisiere Plot\u001b[39;00m\n\u001b[0;32m     15\u001b[0m fig \u001b[38;5;241m=\u001b[39m go\u001b[38;5;241m.\u001b[39mFigure()\n",
      "\u001b[1;31mNameError\u001b[0m: name 'df_pie' is not defined"
     ]
    }
   ],
   "source": [
    "import plotly.graph_objects as go\n",
    "\n",
    "farben = {\n",
    "    \"Photovoltaik\": \"#f6c90e\",\n",
    "    \"Kernkraft\": \"#3c91e6\",\n",
    "    \"Laufwasserkraft\": \"#52de97\",\n",
    "    \"Speicherkraft\": \"#fa744f\",\n",
    "    \"Andere\": \"#8a6ded\"\n",
    "}\n",
    "\n",
    "quellen = list(farben.keys())\n",
    "years = df_pie[\"Jahr\"].tolist()\n",
    "\n",
    "# Initialisiere Plot\n",
    "fig = go.Figure()\n",
    "\n",
    "# Erstes Jahr einfügen\n",
    "werte_0 = df_pie[df_pie[\"Jahr\"] == years[0]][quellen].values.flatten()\n",
    "fig.add_trace(go.Pie(\n",
    "    labels=quellen,\n",
    "    values=werte_0,\n",
    "    name=str(years[0]),\n",
    "    hole=0.4,\n",
    "    sort=False,\n",
    "    rotation=120,  # Hier drehen wir das Rad!\n",
    "    marker=dict(colors=[farben[q] for q in quellen], line=dict(color=\"#ffffff\", width=2)),\n",
    "    textinfo=\"percent+label\",\n",
    "    hoverinfo=\"label+value+percent\"\n",
    "))\n",
    "\n",
    "# Slider-Schritte definieren\n",
    "steps = []\n",
    "for year in years:\n",
    "    werte = df_pie[df_pie[\"Jahr\"] == year][quellen].values.flatten()\n",
    "    step = dict(\n",
    "        method=\"restyle\",\n",
    "        args=[{\n",
    "            \"values\": [werte],\n",
    "            \"marker\": [dict(colors=[farben[q] for q in quellen])],\n",
    "            \"sort\": [False],\n",
    "            \"rotation\": [120]\n",
    "        }],\n",
    "        label=str(year)\n",
    "    )\n",
    "    steps.append(step)\n",
    "\n",
    "# Slider\n",
    "sliders = [dict(\n",
    "    active=0,\n",
    "    currentvalue={\"prefix\": \"Jahr: \", \"font\": {\"size\": 16}},\n",
    "    pad={\"t\": 50},\n",
    "    steps=steps\n",
    ")]\n",
    "\n",
    "# Layout\n",
    "fig.update_layout(\n",
    "    title=dict(\n",
    "        text=\"Stromerzeugung Schweiz – Prozentuale Verteilung nach Energiequelle (2015–2024)\",\n",
    "        x=0.5,\n",
    "        font=dict(size=20)\n",
    "    ),\n",
    "    sliders=sliders,\n",
    "    font=dict(family=\"Arial\", size=14),\n",
    "    margin=dict(t=100, b=50, l=50, r=50),\n",
    "    showlegend=True\n",
    ")\n",
    "\n",
    "fig.show()"
   ]
  }
 ],
 "metadata": {
  "kernelspec": {
   "display_name": "Python 3",
   "language": "python",
   "name": "python3"
  },
  "language_info": {
   "codemirror_mode": {
    "name": "ipython",
    "version": 3
   },
   "file_extension": ".py",
   "mimetype": "text/x-python",
   "name": "python",
   "nbconvert_exporter": "python",
   "pygments_lexer": "ipython3",
   "version": "3.13.2"
  }
 },
 "nbformat": 4,
 "nbformat_minor": 2
}
