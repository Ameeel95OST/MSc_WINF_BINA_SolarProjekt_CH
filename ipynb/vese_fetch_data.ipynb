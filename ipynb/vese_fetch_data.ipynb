{
 "cells": [
  {
   "cell_type": "code",
   "execution_count": 7,
   "metadata": {},
   "outputs": [
    {
     "name": "stdout",
     "output_type": "stream",
     "text": [
      "Gemeinden mit Fehlern:\n",
      "291\n",
      "2238\n",
      "2239\n",
      "2430\n",
      "3112\n",
      "3396\n",
      "3715\n",
      "4185\n",
      "4186\n",
      "4324\n",
      "5239\n",
      "5240\n",
      "5395\n",
      "5399\n",
      "5656\n",
      "5892\n",
      "6037\n",
      "6254\n",
      "6513\n",
      "6811\n",
      "6812\n"
     ]
    }
   ],
   "source": [
    "import os\n",
    "import requests\n",
    "import csv\n",
    "\n",
    "\n",
    "gemeinden = []\n",
    "with open('../data/vese/Gemeindestand.csv', 'r') as file:\n",
    "    reader = csv.reader(file, delimiter=';')  # Verwende ; als Trennzeichen\n",
    "    next(reader)  # Überspringe die Kopfzeile\n",
    "    for row in reader:\n",
    "        gemeinden.append(row[4])\n",
    "\n",
    "# Lizenzschlüssel (API-Key)\n",
    "license_key = 'vkmshstyf3r9epknhajqhenzog4opv6wcajd7ob7'\n",
    "\n",
    "# Funktion zur Abfrage der Gemeinde-API\n",
    "def abfrage_gemeinde(idofs, license_key):\n",
    "    url = f'https://opendata.vese.ch/pvtarif/api/getData/muni?idofs={idofs}&licenseKey={license_key}'\n",
    "    response = requests.get(url)\n",
    "    return response.json()\n",
    "\n",
    "# Ergebnisse speichern\n",
    "ergebnisse = []\n",
    "\n",
    "gemeinde_mit_fehler = []\n",
    "for gemeinde in gemeinden:\n",
    "    result = abfrage_gemeinde(gemeinde, license_key)\n",
    "    if not result['valid']:\n",
    "        gemeinde_mit_fehler.append(gemeinde)   \n",
    "    else:\n",
    "        for evu in result['evus']:\n",
    "            ergebnisse.append([evu['nrElcom'], evu['Name'], evu['idofs'], evu['PLZ'], evu['Gemeinde']])\n",
    "\n",
    "print(\"Gemeinden mit Fehlern:\")\n",
    "for gemeinde in gemeinde_mit_fehler:\n",
    "    print(gemeinde)   \n",
    "\n",
    "# Datei löschen, wenn sie existiert\n",
    "output_file = '../data/vese/gemeinde_ergebnisse.csv'\n",
    "if os.path.exists(output_file):\n",
    "    os.remove(output_file)\n",
    "\n",
    "# Ergebnisse in eine CSV-Datei schreiben\n",
    "with open('../data/vese/gemeinde_ergebnisse.csv', 'w', newline='', encoding='utf-8') as file:\n",
    "    writer = csv.writer(file, delimiter=';')\n",
    "    writer.writerow(['nrElcom', 'Name', 'idofs', 'PLZ', 'Gemeinde'])\n",
    "    writer.writerows(ergebnisse)\n"
   ]
  },
  {
   "cell_type": "code",
   "execution_count": null,
   "metadata": {},
   "outputs": [],
   "source": []
  }
 ],
 "metadata": {
  "kernelspec": {
   "display_name": "Python 3",
   "language": "python",
   "name": "python3"
  },
  "language_info": {
   "codemirror_mode": {
    "name": "ipython",
    "version": 3
   },
   "file_extension": ".py",
   "mimetype": "text/x-python",
   "name": "python",
   "nbconvert_exporter": "python",
   "pygments_lexer": "ipython3",
   "version": "3.13.2"
  }
 },
 "nbformat": 4,
 "nbformat_minor": 2
}
