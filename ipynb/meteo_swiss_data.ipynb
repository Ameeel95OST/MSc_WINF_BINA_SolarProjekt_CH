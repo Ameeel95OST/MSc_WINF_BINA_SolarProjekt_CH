{
 "cells": [
  {
   "cell_type": "markdown",
   "metadata": {},
   "source": [
    "<a href=\"https://colab.research.google.com/github/alendoko/bina/blob/main/LB4/DATA/Python_JUPYTER_Data_Analysis_SteyByStep_Melbourne_Houseprice2025.ipynb\" target=\"_parent\"><img src=\"https://colab.research.google.com/assets/colab-badge.svg\" alt=\"Open In Colab\"/></a>"
   ]
  },
  {
   "cell_type": "markdown",
   "metadata": {},
   "source": [
    "# Jupyter Notebook zur Analyse der Wetterdaten (Sonnenstunden) in der Schweiz der letzten 10 Jahre"
   ]
  },
  {
   "cell_type": "markdown",
   "metadata": {},
   "source": [
    "## Daten laden, aufbereiten und anreichern"
   ]
  },
  {
   "cell_type": "code",
   "execution_count": 1,
   "metadata": {},
   "outputs": [],
   "source": [
    "# Importieren der benötigten Bibliotheken\n",
    "import re\n",
    "import pandas as pd\n",
    "import geopandas as gpd\n",
    "from matplotlib import cm, colors\n",
    "import plotly.express as px\n",
    "import plotly.graph_objects as go\n",
    "import folium\n",
    "import os\n",
    "\n",
    "# Dateipfade für die CSV-Dateien\n",
    "file_path_sun_data = '../data/meteo/meteo_swiss_data.csv'\n",
    "file_path_stn_data = '../data/meteo/meteo_swiss_stn_data.csv'\n",
    "\n",
    "# Laden der Daten\n",
    "sun_data = pd.read_csv(file_path_sun_data, delimiter=';')\n",
    "stn_data = pd.read_csv(file_path_stn_data, delimiter=';')\n",
    "\n",
    "# Entfernen von Einträgen für Liechtenstein\n",
    "stn_data = stn_data[stn_data['canton'] != 'LI']\n",
    "\n",
    "# Funktion zur Umrechnung von GMS in Dezimalgrad\n",
    "def gms_to_dg(gms):\n",
    "    match = re.match(r\"(\\d+)°(\\d+)\", gms)\n",
    "    if match:\n",
    "        grad = int(match.group(1))\n",
    "        minuten = int(match.group(2))\n",
    "        return grad + (minuten / 60)\n",
    "    raise ValueError(\"Ungültiges Format. Erwartet: 'XX°YY'\")\n",
    "\n",
    "# Umrechnung der Koordinaten\n",
    "stn_data['latitude_dg'] = stn_data['latitude'].apply(gms_to_dg)\n",
    "stn_data['longitude_dg'] = stn_data['longitude'].apply(gms_to_dg)\n",
    "\n",
    "# Verknüpfen der Wetter- und Stationsdaten\n",
    "data = pd.merge(sun_data, stn_data, on='stn', how='inner')\n",
    "\n",
    "# Konvertieren der Zeitspalte in Datumsformat\n",
    "data['time'] = pd.to_datetime(data['time'], format='%Y%m')\n",
    "data['year'] = data['time'].dt.year\n",
    "data['month'] = data['time'].dt.month\n",
    "\n",
    "# Ersetzen von '-' durch '0' und Konvertieren in Float\n",
    "data['sunhours'] = data['su2000m0'].replace('-', '0').astype(float)\n",
    "\n",
    "# Entfernen ungültiger Werte\n",
    "data = data[(data['sunhours'] > 0) & (data['year'] != 2025)]\n",
    "\n",
    "# Gruppieren nach Jahr und Monat\n",
    "monthly_data = data.groupby(['year', 'month'])['sunhours'].mean().unstack(level=0)\n",
    "\n",
    "# Monatsnamen definieren\n",
    "month_names = ['Jan', 'Feb', 'Mär', 'Apr', 'Mai', 'Jun', 'Jul', 'Aug', 'Sep', 'Okt', 'Nov', 'Dez']"
   ]
  },
  {
   "cell_type": "markdown",
   "metadata": {},
   "source": [
    "## Diagramm: Wetterstationen in der Schweiz"
   ]
  },
  {
   "cell_type": "code",
   "execution_count": null,
   "metadata": {},
   "outputs": [],
   "source": [
    "# Karte erstellen\n",
    "map = folium.Map(location=[46.8, 8.33], zoom_start=7, tiles='TopPlusOpen.Color')\n",
    "\n",
    "# Hinzufügen der Kantonsgrenzen\n",
    "folium.GeoJson('../data/meteo/swiss_cantons.geojson', name='Kantone').add_to(map)\n",
    "\n",
    "# Marker für jede Station hinzufügen\n",
    "for _, stn in stn_data.iterrows():\n",
    "    folium.Marker(\n",
    "        location=[stn['latitude_dg'], stn['longitude_dg']],\n",
    "        popup=stn['stn']\n",
    "    ).add_to(map)\n",
    "\n",
    "# Titel hinzufügen\n",
    "title_html = '''\n",
    "<div style=\"font-size:20px;position: absolute;z-index: 1000;left: 25%;\"><b>Verteilung der Wettermessstationen in der Schweiz</b></div>\n",
    "'''\n",
    "map.get_root().html.add_child(folium.Element(title_html))\n",
    "\n",
    "# Karte speichern\n",
    "map.save('../docs/assets/diagramme/swiss_stations_map.html')\n",
    "\n",
    "# Karte anzeigen\n",
    "map"
   ]
  },
  {
   "cell_type": "markdown",
   "metadata": {},
   "source": [
    "## Tabelle, zur Höhenverteilung der Wetterstationen"
   ]
  },
  {
   "cell_type": "code",
   "execution_count": 7,
   "metadata": {},
   "outputs": [
    {
     "name": "stdout",
     "output_type": "stream",
     "text": [
      "Markdown-Datei wurde erfolgreich erstellt: hoehenverteilung_stationen.md\n"
     ]
    }
   ],
   "source": [
    "# Höhenkategorien definieren\n",
    "bins = [0, 500, 1000, 1500, 2000, 2500, 5000]\n",
    "labels = ['<500 m', '500–1000 m', '1000–1500 m', '1500–2000 m', '2000–2500 m', '>2500 m']\n",
    "\n",
    "# Höhenkategorie jeder Station zuweisen\n",
    "data['elevation_category'] = pd.cut(data['elevation'], bins=bins, labels=labels, right=False)\n",
    "\n",
    "# Anzahl Stationen pro Höhenkategorie zählen für Jahr 2024\n",
    "stn_nr_2024 = data[data['year'] == 2024].groupby('elevation_category', observed=True)['stn'].nunique().sort_index()\n",
    "\n",
    "# Berechnung der jährlichen kumulierten Sonnenstunden pro Höhenkategorie\n",
    "elevation_monthly_avg = data.groupby(['elevation_category', 'year', 'month'], observed=True)['sunhours'].mean().reset_index()\n",
    "\n",
    "# Berechnung der jährlichen kumulierten Sonnenstunden pro Kanton\n",
    "elevation_yearly_cum = elevation_monthly_avg.groupby(['elevation_category', 'year'], observed=True, dropna=False)['sunhours'].sum().reset_index()\n",
    "\n",
    "# Pivot-Tabelle erstellen, um kumulierte Sonnenstunden pro Jahr anzuzeigen\n",
    "elevation_yearly_pivot = elevation_yearly_cum.pivot(index='elevation_category', columns='year', values='sunhours')\n",
    "\n",
    "# Markdown-Tabelle für die kumulierten Werte erstellen\n",
    "markdown_table_cum = \"| Höhenkategorie | Anzahl Stationen<br>(Stand 2024) | \" + \" | \".join(str(year) for year in elevation_yearly_pivot.columns) + \" |\\n\"\n",
    "markdown_table_cum += \"|:----------------:|:------------------:| \" + \" | \".join([\":------------------:\"] * len(elevation_yearly_pivot.columns)) + \" |\\n\"\n",
    "\n",
    "for category, row in elevation_yearly_pivot.iterrows():\n",
    "    station_count = stn_nr_2024.get(category, 0)\n",
    "    # Identify the top 3 values in the row\n",
    "    top_3_indices = row.nlargest(3).index\n",
    "    markdown_table_cum += f\"| {category} | {station_count:,} | \" + \" | \".join(\n",
    "        f\"**{value:,.2f}**\" if year in top_3_indices else f\"{value:,.2f}\"\n",
    "        if not pd.isna(value) else \"-\" for year, value in row.items()\n",
    "    ) + \" |\\n\"\n",
    "\n",
    "# Datei löschen, wenn sie bereits existiert\n",
    "file_path_cum = \"../docs/assets/md/hoehenverteilung_stationen.md\"\n",
    "if os.path.exists(file_path_cum):\n",
    "    os.remove(file_path_cum)\n",
    "\n",
    "# In eine .md-Datei schreiben\n",
    "with open(file_path_cum, \"w\", encoding=\"utf-8\") as f:\n",
    "    f.write(markdown_table_cum)\n",
    "\n",
    "print(\"Markdown-Datei wurde erfolgreich erstellt: hoehenverteilung_stationen.md\")"
   ]
  },
  {
   "cell_type": "markdown",
   "metadata": {},
   "source": [
    "## Diagramm erstellen, mit den durchschnittliche Sonnenstunden pro Monat in der Schweiz"
   ]
  },
  {
   "cell_type": "code",
   "execution_count": 31,
   "metadata": {},
   "outputs": [
    {
     "data": {
      "application/vnd.plotly.v1+json": {
       "config": {
        "plotlyServerURL": "https://plot.ly"
       },
       "data": [
        {
         "mode": "lines+markers",
         "name": "2015",
         "opacity": 0.5,
         "type": "scatter",
         "x": {
          "bdata": "AQAAAAIAAAADAAAABAAAAAUAAAAGAAAABwAAAAgAAAAJAAAACgAAAAsAAAAMAAAA",
          "dtype": "i4"
         },
         "y": {
          "bdata": "57cQMEoFUECRgfT+XAtXQLdt27ZtW2NAt23btm3jaUCDPCXIU0JlQIiX1c2u0mpA20b5wuk8cUARIF5WN8tqQLTIdr6fAmJACALcPqR8XEB7/trQhOpdQDbosdhzwFtA",
          "dtype": "f8"
         }
        },
        {
         "mode": "lines+markers",
         "name": "2016",
         "opacity": 0.5,
         "type": "scatter",
         "x": {
          "bdata": "AQAAAAIAAAADAAAABAAAAAUAAAAGAAAABwAAAAgAAAAJAAAACgAAAAsAAAAMAAAA",
          "dtype": "i4"
         },
         "y": {
          "bdata": "OrTIdr5/TkCE3PWzxcpNQOD2IeUc/2FAT4STBd2sX0DKOX7/SABkQE2oVGFAGWJA/dR46SbBbECDbtZh9zhtQH9taEKlOmhA1qrnrw3NW0AjIyMjI4NPQK5H4XoUHl1A",
          "dtype": "f8"
         }
        },
        {
         "mode": "lines+markers",
         "name": "2017",
         "opacity": 0.5,
         "type": "scatter",
         "x": {
          "bdata": "AQAAAAIAAAADAAAABAAAAAUAAAAGAAAABwAAAAgAAAAJAAAACgAAAAsAAAAMAAAA",
          "dtype": "i4"
         },
         "y": {
          "bdata": "i97R8mknVEAgUs7x++dYQEjhehSuq2RAVj1/bWjiaECO3z8SvFVqQDExMTExYW1AiIeHh4efaEChoKCgoFhpQEQo5RH0Z2BAZGRkZGSkZEBOTk5OTt5RQO58PzVeCk5A",
          "dtype": "f8"
         }
        },
        {
         "mode": "lines+markers",
         "name": "2018",
         "opacity": 0.5,
         "type": "scatter",
         "x": {
          "bdata": "AQAAAAIAAAADAAAABAAAAAUAAAAGAAAABwAAAAgAAAAJAAAACgAAAAsAAAAMAAAA",
          "dtype": "i4"
         },
         "y": {
          "bdata": "EhISEhJyTUA8oy7EpUFSQOkdLZ92hlVAFxcXFxefaUC/vr6+vh5kQOPi4uLigm1AhoaGhoZmcECtrKysrNxrQEZGRkZGLmpAo5OdQdQXZEBoaGhoaKhPQPKjbZQvXExA",
          "dtype": "f8"
         }
        },
        {
         "mode": "lines+markers",
         "name": "2019",
         "opacity": 0.5,
         "type": "scatter",
         "x": {
          "bdata": "AQAAAAIAAAADAAAABAAAAAUAAAAGAAAABwAAAAgAAAAJAAAACgAAAAsAAAAMAAAA",
          "dtype": "i4"
         },
         "y": {
          "bdata": "RUVFRUV1U0BIR0dHRy9kQMXExMTE1GVAE56Wm+22YUBPy812W+hiQE5OTk5Oxm9AnkHUx3rzbUD7rTaGputpQG23hVF0gmZAIz6BVHJ+W0B/q42h6U5HQDY0oVKFAVBA",
          "dtype": "f8"
         }
        },
        {
         "mode": "lines+markers",
         "name": "2020",
         "opacity": 0.5,
         "type": "scatter",
         "x": {
          "bdata": "AQAAAAIAAAADAAAABAAAAAUAAAAGAAAABwAAAAgAAAAJAAAACgAAAAsAAAAMAAAA",
          "dtype": "i4"
         },
         "y": {
          "bdata": "uoP9VhsDXUDxtNxst6VaQDzYb7UxtGRAbGxsbGwkb0C+XKAKjS5sQJpL7iJhw2RAEjZJMc8hcEBkW2cYu49pQJiOmkvu4mZAQnsJ7SVUVkDGpFVMWvVcQBqpmFud0UJA",
          "dtype": "f8"
         }
        },
        {
         "mode": "lines+markers",
         "name": "2021",
         "opacity": 0.5,
         "type": "scatter",
         "x": {
          "bdata": "AQAAAAIAAAADAAAABAAAAAUAAAAGAAAABwAAAAgAAAAJAAAACgAAAAsAAAAMAAAA",
          "dtype": "i4"
         },
         "y": {
          "bdata": "qmjVpYrWSkCpvxWQ+jtbQPATBPs+4WVAgA5g/OfAaEBvPyTw9sNjQEts7aTE1mlAUNZrCmUtZUCDQx8vOMRmQLkehetRmGdACcs9jbAIY0CTXZso2QVSQJ2xmNMZS1BA",
          "dtype": "f8"
         }
        },
        {
         "mode": "lines+markers",
         "name": "2022",
         "opacity": 0.5,
         "type": "scatter",
         "x": {
          "bdata": "AQAAAAIAAAADAAAABAAAAAUAAAAGAAAABwAAAAgAAAAJAAAACgAAAAsAAAAMAAAA",
          "dtype": "i4"
         },
         "y": {
          "bdata": "dU3XdE0XXEB2aZd2afdeQBZXcRVX0WpAKpmSKZmSZ0AUNEETNAFqQLh8y7d8W2xA3+u93utdckAqoAIqoLJuQFqiJVqiNWJAtVIrtVL7YEC0atizarhSQGCy/CXLb0pA",
          "dtype": "f8"
         }
        },
        {
         "mode": "lines+markers",
         "name": "2023",
         "opacity": 0.5,
         "type": "scatter",
         "x": {
          "bdata": "AQAAAAIAAAADAAAABAAAAAUAAAAGAAAABwAAAAgAAAAJAAAACgAAAAsAAAAMAAAA",
          "dtype": "i4"
         },
         "y": {
          "bdata": "ZmZmZqZHUEDcXh2+7VVhQM+xQPkcO2BA+uhxrY/+X0BCeN0qhPdiQHA9Ctej+G9A02SAOcueakDuqnuHRG1nQJ1l88+YVmtAg5KOT18LYkDCgpKOT59KQEfwRG8EL1BA",
          "dtype": "f8"
         }
        },
        {
         "mode": "lines+markers",
         "name": "2024",
         "opacity": 0.5,
         "type": "scatter",
         "x": {
          "bdata": "AQAAAAIAAAADAAAABAAAAAUAAAAGAAAABwAAAAgAAAAJAAAACgAAAAsAAAAMAAAA",
          "dtype": "i4"
         },
         "y": {
          "bdata": "eEhUEeLNU0DPJZA1jNZUQBaUdHz6mllAq3uHRBW5YEDuqnuHRLVeQFMrtVIrzWFAJgPMWTZHa0CAOcvmn7luQGSAOcvmz1xAfW1xsKB0U0DMWTb/jBlcQFBBuvYUhFNA",
          "dtype": "f8"
         }
        },
        {
         "line": {
          "color": "black",
          "dash": "dash"
         },
         "mode": "lines",
         "name": "Durchschnitt",
         "type": "scatter",
         "x": {
          "bdata": "AQAAAAIAAAADAAAABAAAAAUAAAAGAAAABwAAAAgAAAAJAAAACgAAAAsAAAAMAAAA",
          "dtype": "i4"
         },
         "y": {
          "bdata": "ur60Bpw4U0C7K3tT2C5aQEYvBa3C52JAD/ckZ6g2ZkBjGWj0VH1lQI65fh8tCGpAgt/1QMp3bUCKRCdxD9VqQCrII9iJYGVA1bbeVAOEX0B1fhmqSdBTQCZa8WZsq1FA",
          "dtype": "f8"
         }
        },
        {
         "line": {
          "color": "red",
          "dash": "dot"
         },
         "mode": "lines",
         "name": "Median",
         "type": "scatter",
         "x": {
          "bdata": "AQAAAAIAAAADAAAABAAAAAUAAAAGAAAABwAAAAgAAAAJAAAACgAAAAsAAAAMAAAA",
          "dtype": "i4"
         },
         "y": {
          "bdata": "1tXV1XXeUUCIg1Wv2cZZQIAnq+WNA2RA1VP5ksApaEBEfB7fgw9kQCCK0MIVl2tAToum2FBabUAGZ0rubltqQAIjkE6xsmZAuVOZ1KQ5X0Dw1XS7E/JRQD4S8+BEGFBA",
          "dtype": "f8"
         }
        }
       ],
       "layout": {
        "legend": {
         "title": {
          "text": "Jahr"
         }
        },
        "template": {
         "data": {
          "bar": [
           {
            "error_x": {
             "color": "#2a3f5f"
            },
            "error_y": {
             "color": "#2a3f5f"
            },
            "marker": {
             "line": {
              "color": "white",
              "width": 0.5
             },
             "pattern": {
              "fillmode": "overlay",
              "size": 10,
              "solidity": 0.2
             }
            },
            "type": "bar"
           }
          ],
          "barpolar": [
           {
            "marker": {
             "line": {
              "color": "white",
              "width": 0.5
             },
             "pattern": {
              "fillmode": "overlay",
              "size": 10,
              "solidity": 0.2
             }
            },
            "type": "barpolar"
           }
          ],
          "carpet": [
           {
            "aaxis": {
             "endlinecolor": "#2a3f5f",
             "gridcolor": "#C8D4E3",
             "linecolor": "#C8D4E3",
             "minorgridcolor": "#C8D4E3",
             "startlinecolor": "#2a3f5f"
            },
            "baxis": {
             "endlinecolor": "#2a3f5f",
             "gridcolor": "#C8D4E3",
             "linecolor": "#C8D4E3",
             "minorgridcolor": "#C8D4E3",
             "startlinecolor": "#2a3f5f"
            },
            "type": "carpet"
           }
          ],
          "choropleth": [
           {
            "colorbar": {
             "outlinewidth": 0,
             "ticks": ""
            },
            "type": "choropleth"
           }
          ],
          "contour": [
           {
            "colorbar": {
             "outlinewidth": 0,
             "ticks": ""
            },
            "colorscale": [
             [
              0,
              "#0d0887"
             ],
             [
              0.1111111111111111,
              "#46039f"
             ],
             [
              0.2222222222222222,
              "#7201a8"
             ],
             [
              0.3333333333333333,
              "#9c179e"
             ],
             [
              0.4444444444444444,
              "#bd3786"
             ],
             [
              0.5555555555555556,
              "#d8576b"
             ],
             [
              0.6666666666666666,
              "#ed7953"
             ],
             [
              0.7777777777777778,
              "#fb9f3a"
             ],
             [
              0.8888888888888888,
              "#fdca26"
             ],
             [
              1,
              "#f0f921"
             ]
            ],
            "type": "contour"
           }
          ],
          "contourcarpet": [
           {
            "colorbar": {
             "outlinewidth": 0,
             "ticks": ""
            },
            "type": "contourcarpet"
           }
          ],
          "heatmap": [
           {
            "colorbar": {
             "outlinewidth": 0,
             "ticks": ""
            },
            "colorscale": [
             [
              0,
              "#0d0887"
             ],
             [
              0.1111111111111111,
              "#46039f"
             ],
             [
              0.2222222222222222,
              "#7201a8"
             ],
             [
              0.3333333333333333,
              "#9c179e"
             ],
             [
              0.4444444444444444,
              "#bd3786"
             ],
             [
              0.5555555555555556,
              "#d8576b"
             ],
             [
              0.6666666666666666,
              "#ed7953"
             ],
             [
              0.7777777777777778,
              "#fb9f3a"
             ],
             [
              0.8888888888888888,
              "#fdca26"
             ],
             [
              1,
              "#f0f921"
             ]
            ],
            "type": "heatmap"
           }
          ],
          "histogram": [
           {
            "marker": {
             "pattern": {
              "fillmode": "overlay",
              "size": 10,
              "solidity": 0.2
             }
            },
            "type": "histogram"
           }
          ],
          "histogram2d": [
           {
            "colorbar": {
             "outlinewidth": 0,
             "ticks": ""
            },
            "colorscale": [
             [
              0,
              "#0d0887"
             ],
             [
              0.1111111111111111,
              "#46039f"
             ],
             [
              0.2222222222222222,
              "#7201a8"
             ],
             [
              0.3333333333333333,
              "#9c179e"
             ],
             [
              0.4444444444444444,
              "#bd3786"
             ],
             [
              0.5555555555555556,
              "#d8576b"
             ],
             [
              0.6666666666666666,
              "#ed7953"
             ],
             [
              0.7777777777777778,
              "#fb9f3a"
             ],
             [
              0.8888888888888888,
              "#fdca26"
             ],
             [
              1,
              "#f0f921"
             ]
            ],
            "type": "histogram2d"
           }
          ],
          "histogram2dcontour": [
           {
            "colorbar": {
             "outlinewidth": 0,
             "ticks": ""
            },
            "colorscale": [
             [
              0,
              "#0d0887"
             ],
             [
              0.1111111111111111,
              "#46039f"
             ],
             [
              0.2222222222222222,
              "#7201a8"
             ],
             [
              0.3333333333333333,
              "#9c179e"
             ],
             [
              0.4444444444444444,
              "#bd3786"
             ],
             [
              0.5555555555555556,
              "#d8576b"
             ],
             [
              0.6666666666666666,
              "#ed7953"
             ],
             [
              0.7777777777777778,
              "#fb9f3a"
             ],
             [
              0.8888888888888888,
              "#fdca26"
             ],
             [
              1,
              "#f0f921"
             ]
            ],
            "type": "histogram2dcontour"
           }
          ],
          "mesh3d": [
           {
            "colorbar": {
             "outlinewidth": 0,
             "ticks": ""
            },
            "type": "mesh3d"
           }
          ],
          "parcoords": [
           {
            "line": {
             "colorbar": {
              "outlinewidth": 0,
              "ticks": ""
             }
            },
            "type": "parcoords"
           }
          ],
          "pie": [
           {
            "automargin": true,
            "type": "pie"
           }
          ],
          "scatter": [
           {
            "fillpattern": {
             "fillmode": "overlay",
             "size": 10,
             "solidity": 0.2
            },
            "type": "scatter"
           }
          ],
          "scatter3d": [
           {
            "line": {
             "colorbar": {
              "outlinewidth": 0,
              "ticks": ""
             }
            },
            "marker": {
             "colorbar": {
              "outlinewidth": 0,
              "ticks": ""
             }
            },
            "type": "scatter3d"
           }
          ],
          "scattercarpet": [
           {
            "marker": {
             "colorbar": {
              "outlinewidth": 0,
              "ticks": ""
             }
            },
            "type": "scattercarpet"
           }
          ],
          "scattergeo": [
           {
            "marker": {
             "colorbar": {
              "outlinewidth": 0,
              "ticks": ""
             }
            },
            "type": "scattergeo"
           }
          ],
          "scattergl": [
           {
            "marker": {
             "colorbar": {
              "outlinewidth": 0,
              "ticks": ""
             }
            },
            "type": "scattergl"
           }
          ],
          "scattermap": [
           {
            "marker": {
             "colorbar": {
              "outlinewidth": 0,
              "ticks": ""
             }
            },
            "type": "scattermap"
           }
          ],
          "scattermapbox": [
           {
            "marker": {
             "colorbar": {
              "outlinewidth": 0,
              "ticks": ""
             }
            },
            "type": "scattermapbox"
           }
          ],
          "scatterpolar": [
           {
            "marker": {
             "colorbar": {
              "outlinewidth": 0,
              "ticks": ""
             }
            },
            "type": "scatterpolar"
           }
          ],
          "scatterpolargl": [
           {
            "marker": {
             "colorbar": {
              "outlinewidth": 0,
              "ticks": ""
             }
            },
            "type": "scatterpolargl"
           }
          ],
          "scatterternary": [
           {
            "marker": {
             "colorbar": {
              "outlinewidth": 0,
              "ticks": ""
             }
            },
            "type": "scatterternary"
           }
          ],
          "surface": [
           {
            "colorbar": {
             "outlinewidth": 0,
             "ticks": ""
            },
            "colorscale": [
             [
              0,
              "#0d0887"
             ],
             [
              0.1111111111111111,
              "#46039f"
             ],
             [
              0.2222222222222222,
              "#7201a8"
             ],
             [
              0.3333333333333333,
              "#9c179e"
             ],
             [
              0.4444444444444444,
              "#bd3786"
             ],
             [
              0.5555555555555556,
              "#d8576b"
             ],
             [
              0.6666666666666666,
              "#ed7953"
             ],
             [
              0.7777777777777778,
              "#fb9f3a"
             ],
             [
              0.8888888888888888,
              "#fdca26"
             ],
             [
              1,
              "#f0f921"
             ]
            ],
            "type": "surface"
           }
          ],
          "table": [
           {
            "cells": {
             "fill": {
              "color": "#EBF0F8"
             },
             "line": {
              "color": "white"
             }
            },
            "header": {
             "fill": {
              "color": "#C8D4E3"
             },
             "line": {
              "color": "white"
             }
            },
            "type": "table"
           }
          ]
         },
         "layout": {
          "annotationdefaults": {
           "arrowcolor": "#2a3f5f",
           "arrowhead": 0,
           "arrowwidth": 1
          },
          "autotypenumbers": "strict",
          "coloraxis": {
           "colorbar": {
            "outlinewidth": 0,
            "ticks": ""
           }
          },
          "colorscale": {
           "diverging": [
            [
             0,
             "#8e0152"
            ],
            [
             0.1,
             "#c51b7d"
            ],
            [
             0.2,
             "#de77ae"
            ],
            [
             0.3,
             "#f1b6da"
            ],
            [
             0.4,
             "#fde0ef"
            ],
            [
             0.5,
             "#f7f7f7"
            ],
            [
             0.6,
             "#e6f5d0"
            ],
            [
             0.7,
             "#b8e186"
            ],
            [
             0.8,
             "#7fbc41"
            ],
            [
             0.9,
             "#4d9221"
            ],
            [
             1,
             "#276419"
            ]
           ],
           "sequential": [
            [
             0,
             "#0d0887"
            ],
            [
             0.1111111111111111,
             "#46039f"
            ],
            [
             0.2222222222222222,
             "#7201a8"
            ],
            [
             0.3333333333333333,
             "#9c179e"
            ],
            [
             0.4444444444444444,
             "#bd3786"
            ],
            [
             0.5555555555555556,
             "#d8576b"
            ],
            [
             0.6666666666666666,
             "#ed7953"
            ],
            [
             0.7777777777777778,
             "#fb9f3a"
            ],
            [
             0.8888888888888888,
             "#fdca26"
            ],
            [
             1,
             "#f0f921"
            ]
           ],
           "sequentialminus": [
            [
             0,
             "#0d0887"
            ],
            [
             0.1111111111111111,
             "#46039f"
            ],
            [
             0.2222222222222222,
             "#7201a8"
            ],
            [
             0.3333333333333333,
             "#9c179e"
            ],
            [
             0.4444444444444444,
             "#bd3786"
            ],
            [
             0.5555555555555556,
             "#d8576b"
            ],
            [
             0.6666666666666666,
             "#ed7953"
            ],
            [
             0.7777777777777778,
             "#fb9f3a"
            ],
            [
             0.8888888888888888,
             "#fdca26"
            ],
            [
             1,
             "#f0f921"
            ]
           ]
          },
          "colorway": [
           "#636efa",
           "#EF553B",
           "#00cc96",
           "#ab63fa",
           "#FFA15A",
           "#19d3f3",
           "#FF6692",
           "#B6E880",
           "#FF97FF",
           "#FECB52"
          ],
          "font": {
           "color": "#2a3f5f"
          },
          "geo": {
           "bgcolor": "white",
           "lakecolor": "white",
           "landcolor": "white",
           "showlakes": true,
           "showland": true,
           "subunitcolor": "#C8D4E3"
          },
          "hoverlabel": {
           "align": "left"
          },
          "hovermode": "closest",
          "mapbox": {
           "style": "light"
          },
          "paper_bgcolor": "white",
          "plot_bgcolor": "white",
          "polar": {
           "angularaxis": {
            "gridcolor": "#EBF0F8",
            "linecolor": "#EBF0F8",
            "ticks": ""
           },
           "bgcolor": "white",
           "radialaxis": {
            "gridcolor": "#EBF0F8",
            "linecolor": "#EBF0F8",
            "ticks": ""
           }
          },
          "scene": {
           "xaxis": {
            "backgroundcolor": "white",
            "gridcolor": "#DFE8F3",
            "gridwidth": 2,
            "linecolor": "#EBF0F8",
            "showbackground": true,
            "ticks": "",
            "zerolinecolor": "#EBF0F8"
           },
           "yaxis": {
            "backgroundcolor": "white",
            "gridcolor": "#DFE8F3",
            "gridwidth": 2,
            "linecolor": "#EBF0F8",
            "showbackground": true,
            "ticks": "",
            "zerolinecolor": "#EBF0F8"
           },
           "zaxis": {
            "backgroundcolor": "white",
            "gridcolor": "#DFE8F3",
            "gridwidth": 2,
            "linecolor": "#EBF0F8",
            "showbackground": true,
            "ticks": "",
            "zerolinecolor": "#EBF0F8"
           }
          },
          "shapedefaults": {
           "line": {
            "color": "#2a3f5f"
           }
          },
          "ternary": {
           "aaxis": {
            "gridcolor": "#DFE8F3",
            "linecolor": "#A2B1C6",
            "ticks": ""
           },
           "baxis": {
            "gridcolor": "#DFE8F3",
            "linecolor": "#A2B1C6",
            "ticks": ""
           },
           "bgcolor": "white",
           "caxis": {
            "gridcolor": "#DFE8F3",
            "linecolor": "#A2B1C6",
            "ticks": ""
           }
          },
          "title": {
           "x": 0.05
          },
          "xaxis": {
           "automargin": true,
           "gridcolor": "#EBF0F8",
           "linecolor": "#EBF0F8",
           "ticks": "",
           "title": {
            "standoff": 15
           },
           "zerolinecolor": "#EBF0F8",
           "zerolinewidth": 2
          },
          "yaxis": {
           "automargin": true,
           "gridcolor": "#EBF0F8",
           "linecolor": "#EBF0F8",
           "ticks": "",
           "title": {
            "standoff": 15
           },
           "zerolinecolor": "#EBF0F8",
           "zerolinewidth": 2
          }
         }
        },
        "title": {
         "text": "Durchschnittliche Sonnenstunden pro Monat in der Schweiz"
        },
        "xaxis": {
         "tickmode": "array",
         "ticktext": [
          "Jan",
          "Feb",
          "Mär",
          "Apr",
          "Mai",
          "Jun",
          "Jul",
          "Aug",
          "Sep",
          "Okt",
          "Nov",
          "Dez"
         ],
         "tickvals": [
          1,
          2,
          3,
          4,
          5,
          6,
          7,
          8,
          9,
          10,
          11,
          12
         ],
         "title": {
          "text": "Monat"
         }
        },
        "yaxis": {
         "title": {
          "text": "Durchschnittliche Sonnenstunden"
         }
        }
       }
      }
     },
     "metadata": {},
     "output_type": "display_data"
    }
   ],
   "source": [
    "# Berechnen des durchschnittlichen Sonnenstunden pro Monat über alle Jahre\n",
    "average_sunhours = monthly_data.mean(axis=1)\n",
    "\n",
    "# Berechnen des Medians der Sonnenstunden pro Monat über alle Jahre\n",
    "median_sunhours = monthly_data.median(axis=1)\n",
    "\n",
    "# Erstellung eines interaktiven Liniendiagramms mit Plotly\n",
    "fig = go.Figure()\n",
    "\n",
    "# Iteriere über die Spalten (Jahre) in den monatlichen Daten und füge eine Linie für jedes Jahr hinzu\n",
    "for year in monthly_data.columns:\n",
    "    fig.add_trace(go.Scatter(\n",
    "        x=monthly_data.index,  # Monatsnamen (Index der Tabelle)\n",
    "        y=monthly_data[year],  # Sonnenstunden für das jeweilige Jahr\n",
    "        mode='lines+markers',  # Darstellung als Linie mit Markern\n",
    "        name=str(year),  # Name des Jahres in der Legende\n",
    "        opacity=0.5  # Transparenz für bessere Übersichtlichkeit\n",
    "    ))\n",
    "\n",
    "# Darstellung des Durchschnitts der Sonnenstunden über alle Jahre\n",
    "fig.add_trace(go.Scatter(\n",
    "    x=monthly_data.index,  # Monatsnamen\n",
    "    y=average_sunhours,  # Durchschnittswerte\n",
    "    mode='lines',  # Darstellung als Linie\n",
    "    name='Durchschnitt',  # Name in der Legende\n",
    "    line=dict(color='black', dash='dash')  # Schwarze gestrichelte Linie\n",
    "))\n",
    "\n",
    "# Darstellung des Medians der Sonnenstunden über alle Jahre\n",
    "fig.add_trace(go.Scatter(\n",
    "    x=monthly_data.index,  # Monatsnamen\n",
    "    y=median_sunhours,  # Medianwerte\n",
    "    mode='lines',  # Darstellung als Linie\n",
    "    name='Median',  # Name in der Legende\n",
    "    line=dict(color='red', dash='dot')  # Rote gepunktete Linie\n",
    "))\n",
    "\n",
    "# Anpassung des Diagrammlayouts\n",
    "fig.update_layout(\n",
    "    title='Durchschnittliche Sonnenstunden pro Monat in der Schweiz',  # Titel des Diagramms\n",
    "    xaxis_title='Monat',  # Beschriftung der x-Achse\n",
    "    yaxis_title='Durchschnittliche Sonnenstunden',  # Beschriftung der y-Achse\n",
    "    xaxis=dict(\n",
    "        tickmode='array',  # Anpassung der x-Achsen-Ticks\n",
    "        tickvals=list(range(1, 13)),  # Werte für die Ticks (1 bis 12 für die Monate)\n",
    "        ticktext=month_names  # Monatsnamen als Beschriftung\n",
    "    ),\n",
    "    legend_title='Jahr',  # Titel der Legende\n",
    "    template='plotly_white'  # Weisses Diagramm-Template\n",
    ")\n",
    "\n",
    "# Anzeigen des Diagramms\n",
    "fig.show()\n",
    "\n",
    "# Speichern des Diagramms als HTML-Datei\n",
    "fig.write_html('../docs/assets/diagramme/sunhours_per_month.html')"
   ]
  },
  {
   "cell_type": "markdown",
   "metadata": {},
   "source": [
    "## Diagramm erstellen, der verteilung der Sonnenstunden pro Monat in der Schweiz"
   ]
  },
  {
   "cell_type": "code",
   "execution_count": null,
   "metadata": {},
   "outputs": [],
   "source": [
    "# Erstellung eines interaktiven Boxplots mit Plotly\n",
    "# Der Boxplot zeigt die Verteilung der Sonnenstunden pro Monat\n",
    "\n",
    "# Erstellen des Boxplots\n",
    "fig_box = px.box(\n",
    "    data,  # Datensatz mit den Sonnenstunden\n",
    "    x='month',  # Gruppierung nach Monat\n",
    "    y='sunhours',  # Werte der Sonnenstunden\n",
    "    points=False,  # Keine Punkte (Outlier) anzeigen\n",
    "    labels={'month': 'Monat', 'sunhours': 'Sonnenstunden'}  # Achsenbeschriftungen\n",
    ")\n",
    "\n",
    "# Anpassung des Layouts des Boxplots\n",
    "fig_box.update_layout(\n",
    "    title='Verteilung der Sonnenstunden pro Monat in der Schweiz',  # Titel des Diagramms\n",
    "    xaxis=dict(\n",
    "        tickmode='array',  # Anpassung der x-Achsen-Ticks\n",
    "        tickvals=list(range(1, 13)),  # Werte für die Ticks (1 bis 12 für die Monate)\n",
    "        ticktext=month_names  # Monatsnamen als Beschriftung\n",
    "    ),\n",
    "    template='plotly_white'  # Weisses Diagramm-Template\n",
    ")\n",
    "\n",
    "# Anzeigen des Boxplots\n",
    "fig_box.show()\n",
    "\n",
    "# Speichern des Boxplots als HTML-Datei\n",
    "fig_box.write_html('../docs/assets/diagramme/sunhours_distribution_per_month.html')"
   ]
  },
  {
   "cell_type": "markdown",
   "metadata": {},
   "source": [
    "## Diagramm erstellen, der durchschnittlichen jährlichen Sonnenstunden pro Kanton"
   ]
  },
  {
   "cell_type": "code",
   "execution_count": null,
   "metadata": {},
   "outputs": [],
   "source": [
    "# Berechnung der monatlichen Durchschnittswerte der Sonnenstunden pro Kanton\n",
    "canton_monthly_avg = data.groupby(['canton_name', 'year', 'month'])['sunhours'].mean().reset_index()\n",
    "\n",
    "# Berechnung der jährlichen kumulierten Sonnenstunden pro Kanton\n",
    "canton_yearly_cum = canton_monthly_avg.groupby(['canton_name', 'year'])['sunhours'].sum().reset_index()\n",
    "\n",
    "# Berechnung der durchschnittlichen jährlichen Sonnenstunden pro Kanton\n",
    "canton_avg = canton_yearly_cum.groupby('canton_name')['sunhours'].mean().reset_index()\n",
    "\n",
    "# Laden der GeoJSON-Daten der Schweizer Kantone\n",
    "# Diese Daten enthalten die geografischen Grenzen der Kantone\n",
    "cantons = gpd.read_file('../data/meteo/swiss_cantons.geojson')\n",
    "\n",
    "# Verknüpfen der Durchschnittswerte mit den GeoJSON-Daten\n",
    "# Die Verknüpfung erfolgt über den Namen des Kantons\n",
    "cantons = cantons.merge(canton_avg, left_on='NAME', right_on='canton_name', how='left')\n",
    "\n",
    "# Erstellung der interaktiven Karte mit Folium\n",
    "# Festlegen des Startpunkts und der Zoomstufe der Karte\n",
    "map = folium.Map(location=[46.8, 8.33], zoom_start=7)\n",
    "\n",
    "# Hinzufügen der Kantonsgrenzen zur Karte\n",
    "folium.GeoJson(\n",
    "    '../data/meteo/swiss_cantons.geojson', \n",
    "    name='Kantone'\n",
    ").add_to(map)\n",
    "\n",
    "# Definition der Farbskala basierend auf den Durchschnittswerten\n",
    "norm = colors.Normalize(vmin=canton_avg['sunhours'].min(), vmax=canton_avg['sunhours'].max())\n",
    "colormap = cm.ScalarMappable(norm=norm, cmap='YlOrRd')\n",
    "\n",
    "# Hinzufügen von Kreis-Markern für die Durchschnittswerte der Sonnenstunden\n",
    "for _, row in cantons.iterrows():\n",
    "    if not pd.isna(row['sunhours']):  # Nur wenn ein Durchschnittswert vorhanden ist\n",
    "        color = colors.to_hex(colormap.to_rgba(row['sunhours']))  # Farbe basierend auf dem Wert\n",
    "        folium.Circle(\n",
    "            location=[row['geometry'].centroid.y, row['geometry'].centroid.x],  # Position des Kreises (Kantonszentrum)\n",
    "            radius=row['sunhours'] * 7,  # Radius des Kreises (Skalierung basierend auf Sonnenstunden)\n",
    "            color=color,  # Randfarbe des Kreises\n",
    "            fill=True,  # Kreis ausfüllen\n",
    "            fill_color=color,  # Füllfarbe des Kreises\n",
    "            fill_opacity=0.6,  # Transparenz des Kreises\n",
    "            popup=f\"{row['NAME']}: {row['sunhours']:.2f}\"  # Popup mit Kanton und Durchschnittswert\n",
    "        ).add_to(map)\n",
    "\n",
    "# Hinzufügen von Text-Markern mit den Durchschnittswerten\n",
    "for _, row in cantons.iterrows():\n",
    "    if not pd.isna(row['sunhours']):  # Nur wenn ein Durchschnittswert vorhanden ist\n",
    "        folium.map.Marker(\n",
    "            [row['geometry'].centroid.y, row['geometry'].centroid.x],  # Position des Textes (Kantonszentrum)\n",
    "            icon=folium.DivIcon(\n",
    "                icon_size=(15, 12),  # Grösse des Icons\n",
    "                icon_anchor=(20, 12),  # Ankerpunkt des Icons\n",
    "                html=f'<div style=\"font-size: 12pt; color: black;\">{int(row[\"sunhours\"])}</div>'  # Text mit Sonnenstunden\n",
    "            ),\n",
    "            popup=f\"{row['NAME']}: {row['sunhours']:.2f}\"  # Popup mit Kanton und Durchschnittswert\n",
    "        ).add_to(map)\n",
    "\n",
    "# HTML-Code für den Titel der Karte\n",
    "title_html = '''\n",
    "<div style=\"font-size:20px;position: absolute;z-index: 1000;left: 25%;\"><b>Durchschnittliche jährliche Sonnenstunden pro Kanton</b></div>\n",
    "'''\n",
    "# Hinzufügen des Titels zur Karte\n",
    "map.get_root().html.add_child(folium.Element(title_html))\n",
    "\n",
    "# Speichern der Karte in einer HTML-Datei\n",
    "# Die Karte wird in einem Ordner gespeichert, um sie später im Browser anzuzeigen\n",
    "map.save('../docs/assets/diagramme/swiss_sunhours_map.html')\n",
    "\n",
    "# Anzeigen der Karte (optional, wenn in einer Jupyter-Umgebung verwendet)\n",
    "map"
   ]
  },
  {
   "cell_type": "markdown",
   "metadata": {},
   "source": [
    "## Diagramm erstellen, mit den kummulierten Sonnenstunden pro Jahr und Station"
   ]
  },
  {
   "cell_type": "code",
   "execution_count": null,
   "metadata": {},
   "outputs": [],
   "source": [
    "# Gruppieren und kumulieren der Sonnenstunden\n",
    "data_grouped = data.groupby([\"year\", \"stn\", \"latitude_dg\", \"longitude_dg\"]).agg({\"sunhours\": \"sum\"}).reset_index()\n",
    "data_grouped[\"sunhours_cum\"] = data_grouped.groupby(\"stn\")[\"sunhours\"].cumsum()\n",
    "\n",
    "# Liste der Jahre sortieren\n",
    "years = sorted(data_grouped[\"year\"].unique())\n",
    "\n",
    "# Farbfunktion\n",
    "def get_color(value):\n",
    "    \"\"\"Bestimmt die Farbe basierend auf dem Wert der kumulierten Sonnenstunden.\"\"\"\n",
    "    if value <= 2500: return \"rgb(0, 0, 139)\"       # Dunkelblau\n",
    "    elif value <= 5000: return \"rgb(30, 144, 255)\"  # Blau\n",
    "    elif value <= 7500: return \"rgb(60, 179, 113)\"  # Grün\n",
    "    elif value <= 10000: return \"rgb(124, 252, 0)\"  # Hellgrün\n",
    "    elif value <= 12500: return \"rgb(255, 255, 0)\"  # Gelb\n",
    "    elif value <= 15000: return \"rgb(255, 165, 0)\"  # Orange\n",
    "    elif value <= 17500: return \"rgb(255, 69, 0)\"   # Rot\n",
    "    elif value <= 20000: return \"rgb(220, 20, 60)\"  # Dunkelrot\n",
    "    else: return \"rgb(139, 0, 0)\"                   # Sehr dunkelrot\n",
    "\n",
    "# Linienbreitenfunktion\n",
    "def get_line_width(value):\n",
    "    \"\"\"Bestimmt die Linienbreite basierend auf dem Wert der kumulierten Sonnenstunden.\"\"\"\n",
    "    if value < 5000: return 2\n",
    "    elif value < 10000: return 3\n",
    "    elif value < 15000: return 4\n",
    "    elif value < 20000: return 5\n",
    "    else: return 6\n",
    "\n",
    "# Start-Frame erstellen\n",
    "df_start = data_grouped[data_grouped[\"year\"] == years[0]]\n",
    "\n",
    "# Erstellen der Start-Traces\n",
    "start_traces = [\n",
    "    go.Scatter3d(\n",
    "        x=[row[\"longitude_dg\"]]*2,\n",
    "        y=[row[\"latitude_dg\"]]*2,\n",
    "        z=[0, row[\"sunhours_cum\"]],\n",
    "        mode=\"lines\",\n",
    "        line=dict(\n",
    "            color=get_color(row[\"sunhours_cum\"]),\n",
    "            width=get_line_width(row[\"sunhours_cum\"])\n",
    "        ),\n",
    "        text=f\"Ort: {row.name}<br>Jahr: {years[0]}<br>Sonnenstunden: {int(row.sunhours_cum):,}\".replace(',', ''),\n",
    "        hoverinfo=\"text\",\n",
    "        showlegend=False\n",
    "    ) for _, row in df_start.iterrows()\n",
    "]\n",
    "\n",
    "# Laden der GeoJSON-Daten für die Schweizerkarte\n",
    "swiss_map = gpd.read_file('../data/meteo/swiss_cantons.geojson')\n",
    "\n",
    "# Extrahieren der Koordinaten für die Kantonsgrenzen\n",
    "map_lines = []\n",
    "for _, row in swiss_map.iterrows():\n",
    "    if row['geometry'].geom_type == 'Polygon':\n",
    "        x, y = row['geometry'].exterior.xy\n",
    "        map_lines.append(go.Scatter3d(\n",
    "            x=x.tolist(),\n",
    "            y=y.tolist(),\n",
    "            z=[0] * len(x),\n",
    "            mode='lines',\n",
    "            line=dict(color='black', width=2),\n",
    "            name=row['NAME'],\n",
    "            showlegend=False\n",
    "        ))\n",
    "    elif row['geometry'].geom_type == 'MultiPolygon':\n",
    "        for polygon in row['geometry']:\n",
    "            x, y = polygon.exterior.xy\n",
    "            map_lines.append(go.Scatter3d(\n",
    "                x=x,\n",
    "                y=y,\n",
    "                z=[0] * len(x),\n",
    "                mode='lines',\n",
    "                line=dict(color='black', width=2),\n",
    "                name=row['NAME'],\n",
    "                showlegend=False\n",
    "            ))\n",
    "\n",
    "# Hinzufügen der Schweizerkarte als Basis zu den Start-Traces\n",
    "start_traces.extend(map_lines)\n",
    "\n",
    "# Animations-Frames erstellen\n",
    "frames = [\n",
    "    go.Frame(\n",
    "        data=[\n",
    "            go.Scatter3d(\n",
    "                x=[row[\"longitude_dg\"]]*2,\n",
    "                y=[row[\"latitude_dg\"]]*2,\n",
    "                z=[0, row[\"sunhours_cum\"]],\n",
    "                mode=\"lines\",\n",
    "                line=dict(\n",
    "                    color=get_color(row[\"sunhours_cum\"]),\n",
    "                    width=get_line_width(row[\"sunhours_cum\"])\n",
    "                ),\n",
    "                text=f\"Ort: {row.name}<br>Jahr: {jahr}<br>Sonnenstunden: {int(row.sunhours_cum):,}\",\n",
    "                hoverinfo=\"text\",\n",
    "                showlegend=False\n",
    "            ) for _, row in data_grouped[data_grouped[\"year\"] == jahr].head(110).iterrows()\n",
    "        ] + map_lines,  # Add map_lines to every frame\n",
    "        name=str(jahr)\n",
    "    ) for jahr in years\n",
    "]\n",
    "\n",
    "# Layout erstellen\n",
    "layout = go.Layout(\n",
    "    title=\"☀️ Kumulierte Sonnenstunden in der Schweiz der letzten 10 Jahre\",\n",
    "    scene=dict(\n",
    "        xaxis=dict(\n",
    "            title=\"Längengrad\", \n",
    "            showgrid=True, \n",
    "            backgroundcolor=\"rgba(0, 0, 0,0)\",\n",
    "            gridcolor=\"white\",\n",
    "            showbackground=True,\n",
    "            zerolinecolor=\"white\"),\n",
    "        yaxis=dict(\n",
    "            title=\"Breitengrad\", \n",
    "            backgroundcolor=\"rgba(0, 0, 0,0)\",\n",
    "            gridcolor=\"white\",\n",
    "            showbackground=True,\n",
    "            zerolinecolor=\"white\"),\n",
    "        zaxis=dict(\n",
    "            title=\"Kumulierte Sonnenstunden\",\n",
    "            tickvals=[5000, 10000, 15000, 20000],\n",
    "            ticktext=[\"5'000\", \"10'000\", \"15'000\", \"20'000\"],\n",
    "            range=[0, data_grouped[\"sunhours_cum\"].max()],\n",
    "            backgroundcolor=\"rgba(0, 0, 0,0)\",\n",
    "            gridcolor=\"white\",\n",
    "            showbackground=True,\n",
    "            zerolinecolor=\"white\"\n",
    "        ),\n",
    "        camera=dict(\n",
    "            eye=dict(x=0.5, y=-2.5, z=1.5)\n",
    "        )\n",
    "    ),\n",
    "    sliders=[{\n",
    "        \"steps\": [{\n",
    "            \"method\": \"animate\",\n",
    "            \"label\": str(j),\n",
    "            \"args\": [[str(j)], {\"mode\": \"immediate\", \"frame\": {\"duration\": 600, \"redraw\": True}}]\n",
    "        } for j in years]\n",
    "    }],\n",
    "    updatemenus=[{\n",
    "        \"type\": \"buttons\",\n",
    "        \"buttons\": [\n",
    "            {\"label\": \"Play\", \"method\": \"animate\", \"args\": [None]},\n",
    "            {\"label\": \"Pause\", \"method\": \"animate\", \"args\": [[None], {\"mode\": \"immediate\", \"frame\": {\"duration\": 0}}]}\n",
    "        ]\n",
    "    }]\n",
    ")\n",
    "\n",
    "# Diagramm erstellen und speichern \n",
    "fig = go.Figure(data=start_traces, layout=layout, frames=frames)\n",
    "fig.write_html(\"../docs/assets/diagramme/sonnenstunden_3d.html\")\n",
    "fig.show()\n"
   ]
  }
 ],
 "metadata": {
  "kernelspec": {
   "display_name": "Python 3",
   "language": "python",
   "name": "python3"
  },
  "language_info": {
   "codemirror_mode": {
    "name": "ipython",
    "version": 3
   },
   "file_extension": ".py",
   "mimetype": "text/x-python",
   "name": "python",
   "nbconvert_exporter": "python",
   "pygments_lexer": "ipython3",
   "version": "3.13.2"
  }
 },
 "nbformat": 4,
 "nbformat_minor": 2
}
