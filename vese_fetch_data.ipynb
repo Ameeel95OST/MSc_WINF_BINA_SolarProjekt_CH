{
 "cells": [
  {
   "cell_type": "code",
   "execution_count": 4,
   "metadata": {},
   "outputs": [],
   "source": [
    "import requests\n",
    "import csv\n",
    "\n",
    "# Liste der BFS-Gemeindenummern\n",
    "gemeinden = ['4551', '1234', '5678']  # Beispiel-Gemeindenummern\n",
    "\n",
    "# Lizenzschlüssel (API-Key)\n",
    "license_key = 'vkmshstyf3r9epknhajqhenzog4opv6wcajd7ob7'\n",
    "\n",
    "# Funktion zur Abfrage der Gemeinde-API\n",
    "def abfrage_gemeinde(idofs, license_key):\n",
    "    url = f'https://opendata.vese.ch/pvtarif/api/getData/muni?idofs={idofs}&licenseKey={license_key}'\n",
    "    response = requests.get(url)\n",
    "    return response.json()\n",
    "\n",
    "# Ergebnisse speichern\n",
    "ergebnisse = []\n",
    "\n",
    "for gemeinde in gemeinden:\n",
    "    result = abfrage_gemeinde(gemeinde, license_key)\n",
    "    if result['valid']:\n",
    "        for evu in result['evus']:\n",
    "            ergebnisse.append([evu['nrElcom'], evu['Name'], evu['idofs'], evu['PLZ'], evu['Gemeinde']])\n",
    "\n",
    "# Ergebnisse in eine CSV-Datei schreiben\n",
    "with open('gemeinde_ergebnisse.csv', 'w', newline='') as file:\n",
    "    writer = csv.writer(file)\n",
    "    writer.writerow(['nrElcom', 'Name', 'idofs', 'PLZ', 'Gemeinde'])\n",
    "    writer.writerows(ergebnisse)\n"
   ]
  }
 ],
 "metadata": {
  "kernelspec": {
   "display_name": "Python 3",
   "language": "python",
   "name": "python3"
  },
  "language_info": {
   "codemirror_mode": {
    "name": "ipython",
    "version": 3
   },
   "file_extension": ".py",
   "mimetype": "text/x-python",
   "name": "python",
   "nbconvert_exporter": "python",
   "pygments_lexer": "ipython3",
   "version": "3.13.2"
  }
 },
 "nbformat": 4,
 "nbformat_minor": 2
}
