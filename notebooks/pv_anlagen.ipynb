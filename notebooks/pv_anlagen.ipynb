{
 "cells": [
  {
   "cell_type": "markdown",
   "metadata": {},
   "source": [
    "# Analyse der PV-Anlagen in der Schweiz\n",
    "Dieses Notebook analysiert die Photovoltaik-Anlagen (PV-Anlagen) in der Schweiz, einschliesslich ihrer Verteilung und Entwicklung."
   ]
  },
  {
   "cell_type": "markdown",
   "metadata": {},
   "source": [
    "## Daten laden, aufbereiten und anreichern\n",
    "In diesem Abschnitt werden die Daten geladen, gefiltert und für die Analyse vorbereitet."
   ]
  },
  {
   "cell_type": "code",
   "execution_count": 2,
   "metadata": {},
   "outputs": [
    {
     "data": {
      "text/html": [
       "<div>\n",
       "<style scoped>\n",
       "    .dataframe tbody tr th:only-of-type {\n",
       "        vertical-align: middle;\n",
       "    }\n",
       "\n",
       "    .dataframe tbody tr th {\n",
       "        vertical-align: top;\n",
       "    }\n",
       "\n",
       "    .dataframe thead th {\n",
       "        text-align: right;\n",
       "    }\n",
       "</style>\n",
       "<table border=\"1\" class=\"dataframe\">\n",
       "  <thead>\n",
       "    <tr style=\"text-align: right;\">\n",
       "      <th></th>\n",
       "      <th>xtf_id</th>\n",
       "      <th>Address</th>\n",
       "      <th>PostCode</th>\n",
       "      <th>Municipality</th>\n",
       "      <th>Canton</th>\n",
       "      <th>BeginningOfOperation</th>\n",
       "      <th>InitialPower</th>\n",
       "      <th>TotalPower</th>\n",
       "      <th>MainCategory</th>\n",
       "      <th>SubCategory</th>\n",
       "      <th>PlantCategory</th>\n",
       "      <th>_x</th>\n",
       "      <th>_y</th>\n",
       "      <th>Year</th>\n",
       "    </tr>\n",
       "  </thead>\n",
       "  <tbody>\n",
       "    <tr>\n",
       "      <th>0</th>\n",
       "      <td>14727</td>\n",
       "      <td>Schlossstrasse 15</td>\n",
       "      <td>4147</td>\n",
       "      <td>Aesch BL</td>\n",
       "      <td>BL</td>\n",
       "      <td>2009-05-05</td>\n",
       "      <td>14.65</td>\n",
       "      <td>18.81</td>\n",
       "      <td>Übrige erneuerbare Energien</td>\n",
       "      <td>Photovoltaik</td>\n",
       "      <td>Integriert</td>\n",
       "      <td>2611936.0</td>\n",
       "      <td>1257011.0</td>\n",
       "      <td>2009</td>\n",
       "    </tr>\n",
       "    <tr>\n",
       "      <th>1</th>\n",
       "      <td>14728</td>\n",
       "      <td>Ob der Steig 1</td>\n",
       "      <td>5082</td>\n",
       "      <td>Kaisten</td>\n",
       "      <td>AG</td>\n",
       "      <td>2011-10-28</td>\n",
       "      <td>5.80</td>\n",
       "      <td>5.80</td>\n",
       "      <td>Übrige erneuerbare Energien</td>\n",
       "      <td>Photovoltaik</td>\n",
       "      <td>Angebaut</td>\n",
       "      <td>2645758.0</td>\n",
       "      <td>1265094.0</td>\n",
       "      <td>2011</td>\n",
       "    </tr>\n",
       "    <tr>\n",
       "      <th>2</th>\n",
       "      <td>10164</td>\n",
       "      <td>Gässli 4</td>\n",
       "      <td>3114</td>\n",
       "      <td>Wichtrach</td>\n",
       "      <td>BE</td>\n",
       "      <td>2008-10-07</td>\n",
       "      <td>3.00</td>\n",
       "      <td>3.00</td>\n",
       "      <td>Übrige erneuerbare Energien</td>\n",
       "      <td>Photovoltaik</td>\n",
       "      <td>Angebaut</td>\n",
       "      <td>2610547.0</td>\n",
       "      <td>1188979.0</td>\n",
       "      <td>2008</td>\n",
       "    </tr>\n",
       "    <tr>\n",
       "      <th>3</th>\n",
       "      <td>10794</td>\n",
       "      <td>Diemtigtalstrasse 46</td>\n",
       "      <td>3753</td>\n",
       "      <td>Oey</td>\n",
       "      <td>BE</td>\n",
       "      <td>2008-06-27</td>\n",
       "      <td>8.40</td>\n",
       "      <td>8.40</td>\n",
       "      <td>Übrige erneuerbare Energien</td>\n",
       "      <td>Photovoltaik</td>\n",
       "      <td>Angebaut</td>\n",
       "      <td>2610529.0</td>\n",
       "      <td>1167346.0</td>\n",
       "      <td>2008</td>\n",
       "    </tr>\n",
       "    <tr>\n",
       "      <th>4</th>\n",
       "      <td>9476</td>\n",
       "      <td>Holzweidstrasse 8</td>\n",
       "      <td>8340</td>\n",
       "      <td>Hinwil</td>\n",
       "      <td>ZH</td>\n",
       "      <td>2006-04-21</td>\n",
       "      <td>4.80</td>\n",
       "      <td>4.80</td>\n",
       "      <td>Übrige erneuerbare Energien</td>\n",
       "      <td>Photovoltaik</td>\n",
       "      <td>Angebaut</td>\n",
       "      <td>2705863.0</td>\n",
       "      <td>1240553.0</td>\n",
       "      <td>2006</td>\n",
       "    </tr>\n",
       "  </tbody>\n",
       "</table>\n",
       "</div>"
      ],
      "text/plain": [
       "   xtf_id               Address  PostCode Municipality Canton  \\\n",
       "0   14727     Schlossstrasse 15      4147     Aesch BL     BL   \n",
       "1   14728        Ob der Steig 1      5082      Kaisten     AG   \n",
       "2   10164              Gässli 4      3114    Wichtrach     BE   \n",
       "3   10794  Diemtigtalstrasse 46      3753          Oey     BE   \n",
       "4    9476     Holzweidstrasse 8      8340       Hinwil     ZH   \n",
       "\n",
       "  BeginningOfOperation  InitialPower  TotalPower                 MainCategory  \\\n",
       "0           2009-05-05         14.65       18.81  Übrige erneuerbare Energien   \n",
       "1           2011-10-28          5.80        5.80  Übrige erneuerbare Energien   \n",
       "2           2008-10-07          3.00        3.00  Übrige erneuerbare Energien   \n",
       "3           2008-06-27          8.40        8.40  Übrige erneuerbare Energien   \n",
       "4           2006-04-21          4.80        4.80  Übrige erneuerbare Energien   \n",
       "\n",
       "    SubCategory PlantCategory         _x         _y  Year  \n",
       "0  Photovoltaik    Integriert  2611936.0  1257011.0  2009  \n",
       "1  Photovoltaik      Angebaut  2645758.0  1265094.0  2011  \n",
       "2  Photovoltaik      Angebaut  2610547.0  1188979.0  2008  \n",
       "3  Photovoltaik      Angebaut  2610529.0  1167346.0  2008  \n",
       "4  Photovoltaik      Angebaut  2705863.0  1240553.0  2006  "
      ]
     },
     "execution_count": 2,
     "metadata": {},
     "output_type": "execute_result"
    }
   ],
   "source": [
    "# Bibliotheken importieren\n",
    "import pandas as pd\n",
    "\n",
    "# CSV-Datei mit den PV-Anlagen laden\n",
    "file_path = '../data/electricity_production_plants/ElectricityProductionPlant.csv'\n",
    "df = pd.read_csv(file_path)\n",
    "\n",
    "# Kategorien ersetzen (Haupt-, Unter- und Anlagenkategorien)\n",
    "main_categories = pd.read_csv('../data/electricity_production_plants/MainCategoryCatalogue.csv')\n",
    "df['MainCategory'] = df['MainCategory'].replace(dict(zip(main_categories['Catalogue_id'], main_categories['de'])))\n",
    "\n",
    "sub_categories = pd.read_csv('../data/electricity_production_plants/SubCategoryCatalogue.csv')\n",
    "df['SubCategory'] = df['SubCategory'].replace(dict(zip(sub_categories['Catalogue_id'], sub_categories['de'])))\n",
    "\n",
    "plant_categories = pd.read_csv('../data/electricity_production_plants/PlantCategoryCatalogue.csv')\n",
    "df['PlantCategory'] = df['PlantCategory'].replace(dict(zip(plant_categories['Catalogue_id'], plant_categories['de'])))\n",
    "\n",
    "# Nur Photovoltaik-Anlagen filtern\n",
    "df = df[df['SubCategory'] == 'Photovoltaik'].copy()\n",
    "\n",
    "# Jahr aus 'BeginningOfOperation' extrahieren\n",
    "df['Year'] = pd.to_datetime(df['BeginningOfOperation'], errors='coerce').dt.year\n",
    "\n",
    "# Erste Zeilen anzeigen\n",
    "df.head()"
   ]
  },
  {
   "cell_type": "markdown",
   "metadata": {},
   "source": [
    "## Karte mit allen PV-Anlagen in der Schweiz (Stand 2024)\n",
    "Diese Karte zeigt die Standorte aller PV-Anlagen in der Schweiz bis zum Jahr 2024."
   ]
  },
  {
   "cell_type": "code",
   "execution_count": null,
   "metadata": {},
   "outputs": [],
   "source": [
    "# Bibliotheken für die Kartenerstellung importieren\n",
    "import folium\n",
    "from folium.plugins import FastMarkerCluster\n",
    "from pyproj import Transformer\n",
    "\n",
    "# Daten für Installationen bis 2024 filtern\n",
    "df['BeginningOfOperation'] = pd.to_datetime(df['BeginningOfOperation'], errors='coerce')\n",
    "df = df[df['BeginningOfOperation'].dt.year <= 2024]\n",
    "\n",
    "# Karte erstellen\n",
    "map = folium.Map(location=[46.8, 8.33], zoom_start=7, tiles='OpenStreetMap')\n",
    "\n",
    "# Marker-Cluster hinzufügen\n",
    "transformer = Transformer.from_crs(\"EPSG:2056\", \"EPSG:4326\", always_xy=True)\n",
    "coordinates = [\n",
    "    [transformer.transform(row['_x'], row['_y'])[1], transformer.transform(row['_x'], row['_y'])[0]]\n",
    "    for _, row in df.iterrows() if not pd.isna(row['_x']) and not pd.isna(row['_y'])\n",
    "]\n",
    "FastMarkerCluster(coordinates).add_to(map)\n",
    "\n",
    "# Titel hinzufügen\n",
    "title_html = '''\n",
    "<div style=\"font-size:20px;position: absolute;z-index: 1000;left: 25%;\"><b>PV-Anlagen in der Schweiz (Stand 2024)</b></div>\n",
    "'''\n",
    "map.get_root().html.add_child(folium.Element(title_html))\n",
    "\n",
    "# Karte speichern und anzeigen\n",
    "map.save('../docs/assets/diagramme/elcoms_map.html')\n",
    "map"
   ]
  },
  {
   "cell_type": "markdown",
   "metadata": {},
   "source": [
    "## Kumulative Entwicklung der Gesamtkapazität\n",
    "Dieses Diagramm zeigt die kumulative Entwicklung der Gesamtkapazität der PV-Anlagen pro Kanton"
   ]
  },
  {
   "cell_type": "code",
   "execution_count": null,
   "metadata": {},
   "outputs": [],
   "source": [
    "# Plotly für die Visualisierung importieren\n",
    "import plotly.express as px\n",
    "\n",
    "# Daten gruppieren und kumulativ berechnen\n",
    "cumulative_data = df.groupby(['Year', 'Canton'])['TotalPower'].sum().groupby(level=1).cumsum().reset_index()\n",
    "filtered_data = cumulative_data[(cumulative_data['Year'] >= 2015) & (cumulative_data['Year'] <= 2024)].copy()\n",
    "filtered_data['CumulativePower'] = cumulative_data.groupby('Canton')['TotalPower'].cumsum()\n",
    "\n",
    "# Farben für die Top 4 Kantone und neutrale Farbe für die restlichen\n",
    "top_4_cantons = ['BE', 'ZH', 'VD', 'SG']\n",
    "filtered_data['Color'] = filtered_data['Canton'].apply(\n",
    "    lambda x: (\n",
    "        'rgb(0, 102, 204)' if x == top_4_cantons[0] else\n",
    "        'rgb(0, 153, 76)' if x == top_4_cantons[1] else\n",
    "        'rgb(255, 153, 51)' if x == top_4_cantons[2] else\n",
    "        'rgb(204, 0, 0)' if x == top_4_cantons[3] else\n",
    "        'rgb(169, 169, 169)'\n",
    "    )\n",
    ")\n",
    "\n",
    "# Liniendiagramm erstellen\n",
    "fig = px.line(\n",
    "    filtered_data,\n",
    "    x='Year',\n",
    "    y='CumulativePower',\n",
    "    color='Canton',\n",
    "    title='Kumulative Entwicklung der Gesamtkapazität pro Kanton (MW)',\n",
    "    labels={'CumulativePower': 'Kumulative Gesamtkapazität (MW)', 'Canton': 'Kanton'},\n",
    "    color_discrete_map={canton: color for canton, color in zip(filtered_data['Canton'], filtered_data['Color'])}\n",
    ")\n",
    "fig.update_traces(\n",
    "    line=dict(width=2),\n",
    "    selector=dict(name=lambda name: name not in top_4_cantons),\n",
    "    line_color='rgb(169, 169, 169)'\n",
    ")\n",
    "fig.update_layout(\n",
    "    xaxis=dict(tickmode='linear', tick0=2015, dtick=1, title=''),\n",
    "    template='simple_white',\n",
    "    showlegend=False  # Remove the legend\n",
    ")\n",
    "\n",
    "# Add canton labels at the end of the lines for the top 4 cantons\n",
    "for canton in top_4_cantons:\n",
    "    canton_data = filtered_data[filtered_data['Canton'] == canton]\n",
    "    if not canton_data.empty:\n",
    "        last_year = canton_data['Year'].max()\n",
    "        last_value = canton_data[canton_data['Year'] == last_year]['CumulativePower'].values[0]\n",
    "        fig.add_annotation(\n",
    "            x=last_year,\n",
    "            y=last_value,\n",
    "            text=canton,\n",
    "            showarrow=False,\n",
    "            font=dict(size=10),\n",
    "            xanchor='left'\n",
    "        )\n",
    "fig.show()\n",
    "fig.write_html(\"../docs/assets/diagramme/elcom_entwicklung_total_power.html\")"
   ]
  },
  {
   "cell_type": "markdown",
   "metadata": {},
   "source": [
    "## Gesamtkapazität pro Kanton im Jahr 2024\n",
    "Dieses Balkendiagramm zeigt die Gesamtkapazität der PV-Anlagen pro Kanton im Jahr 2024."
   ]
  },
  {
   "cell_type": "code",
   "execution_count": 6,
   "metadata": {},
   "outputs": [
    {
     "data": {
      "application/vnd.plotly.v1+json": {
       "config": {
        "plotlyServerURL": "https://plot.ly"
       },
       "data": [
        {
         "alignmentgroup": "True",
         "hovertemplate": "Year=2015<br>Canton=%{x}<br>Kumulierte Gesamtkapazität (MW)=%{y}<extra></extra>",
         "legendgroup": "",
         "marker": {
          "color": "rgb(169, 169, 169)",
          "pattern": {
           "shape": ""
          }
         },
         "name": "",
         "offsetgroup": "",
         "orientation": "v",
         "showlegend": false,
         "textposition": "auto",
         "type": "bar",
         "x": [
          "AG",
          "AI",
          "AR",
          "BL",
          "BS",
          "FR",
          "GE",
          "GL",
          "GR",
          "JU",
          "NE",
          "NW",
          "OW",
          "SH",
          "SO",
          "SZ",
          "TG",
          "TI",
          "UR",
          "VS",
          "ZG",
          "ZH"
         ],
         "xaxis": "x",
         "y": [
          31042.93,
          872.89,
          2938.79,
          9192.130000000001,
          1969.23,
          30077.2,
          7361.53,
          1274.53,
          13222.15,
          5044.07,
          10680.52,
          855.6899999999999,
          1380.79,
          3093.61,
          18329.29,
          5308.38,
          25663.510000000002,
          18926.61,
          473.44,
          18874.82,
          6361.12,
          31522.079999999998
         ],
         "yaxis": "y"
        },
        {
         "alignmentgroup": "True",
         "hovertemplate": "Year=2015<br>Canton=%{x}<br>Kumulierte Gesamtkapazität (MW)=%{y}<extra></extra>",
         "legendgroup": "",
         "marker": {
          "color": "rgb(0, 102, 204)",
          "pattern": {
           "shape": ""
          }
         },
         "name": "",
         "offsetgroup": "",
         "orientation": "v",
         "showlegend": false,
         "textposition": "auto",
         "type": "bar",
         "x": [
          "BE"
         ],
         "xaxis": "x",
         "y": [
          55872.19
         ],
         "yaxis": "y"
        },
        {
         "alignmentgroup": "True",
         "hovertemplate": "Year=2015<br>Canton=%{x}<br>Kumulierte Gesamtkapazität (MW)=%{y}<extra></extra>",
         "legendgroup": "",
         "marker": {
          "color": "rgb(204, 0, 0)",
          "pattern": {
           "shape": ""
          }
         },
         "name": "",
         "offsetgroup": "",
         "orientation": "v",
         "showlegend": false,
         "textposition": "auto",
         "type": "bar",
         "x": [
          "LU"
         ],
         "xaxis": "x",
         "y": [
          35658.83
         ],
         "yaxis": "y"
        },
        {
         "alignmentgroup": "True",
         "hovertemplate": "Year=2015<br>Canton=%{x}<br>Kumulierte Gesamtkapazität (MW)=%{y}<extra></extra>",
         "legendgroup": "",
         "marker": {
          "color": "rgb(0, 153, 76)",
          "pattern": {
           "shape": ""
          }
         },
         "name": "",
         "offsetgroup": "",
         "orientation": "v",
         "showlegend": false,
         "textposition": "auto",
         "type": "bar",
         "x": [
          "SG"
         ],
         "xaxis": "x",
         "y": [
          40960.61
         ],
         "yaxis": "y"
        },
        {
         "alignmentgroup": "True",
         "hovertemplate": "Year=2015<br>Canton=%{x}<br>Kumulierte Gesamtkapazität (MW)=%{y}<extra></extra>",
         "legendgroup": "",
         "marker": {
          "color": "rgb(255, 153, 51)",
          "pattern": {
           "shape": ""
          }
         },
         "name": "",
         "offsetgroup": "",
         "orientation": "v",
         "showlegend": false,
         "textposition": "auto",
         "type": "bar",
         "x": [
          "VD"
         ],
         "xaxis": "x",
         "y": [
          35839.72
         ],
         "yaxis": "y"
        }
       ],
       "frames": [
        {
         "data": [
          {
           "alignmentgroup": "True",
           "hovertemplate": "Year=2015<br>Canton=%{x}<br>Kumulierte Gesamtkapazität (MW)=%{y}<extra></extra>",
           "legendgroup": "",
           "marker": {
            "color": "rgb(169, 169, 169)",
            "pattern": {
             "shape": ""
            }
           },
           "name": "",
           "offsetgroup": "",
           "orientation": "v",
           "showlegend": false,
           "textposition": "auto",
           "type": "bar",
           "x": [
            "AG",
            "AI",
            "AR",
            "BL",
            "BS",
            "FR",
            "GE",
            "GL",
            "GR",
            "JU",
            "NE",
            "NW",
            "OW",
            "SH",
            "SO",
            "SZ",
            "TG",
            "TI",
            "UR",
            "VS",
            "ZG",
            "ZH"
           ],
           "xaxis": "x",
           "y": [
            31042.93,
            872.89,
            2938.79,
            9192.130000000001,
            1969.23,
            30077.2,
            7361.53,
            1274.53,
            13222.15,
            5044.07,
            10680.52,
            855.6899999999999,
            1380.79,
            3093.61,
            18329.29,
            5308.38,
            25663.510000000002,
            18926.61,
            473.44,
            18874.82,
            6361.12,
            31522.079999999998
           ],
           "yaxis": "y"
          },
          {
           "alignmentgroup": "True",
           "hovertemplate": "Year=2015<br>Canton=%{x}<br>Kumulierte Gesamtkapazität (MW)=%{y}<extra></extra>",
           "legendgroup": "",
           "marker": {
            "color": "rgb(0, 102, 204)",
            "pattern": {
             "shape": ""
            }
           },
           "name": "",
           "offsetgroup": "",
           "orientation": "v",
           "showlegend": false,
           "textposition": "auto",
           "type": "bar",
           "x": [
            "BE"
           ],
           "xaxis": "x",
           "y": [
            55872.19
           ],
           "yaxis": "y"
          },
          {
           "alignmentgroup": "True",
           "hovertemplate": "Year=2015<br>Canton=%{x}<br>Kumulierte Gesamtkapazität (MW)=%{y}<extra></extra>",
           "legendgroup": "",
           "marker": {
            "color": "rgb(204, 0, 0)",
            "pattern": {
             "shape": ""
            }
           },
           "name": "",
           "offsetgroup": "",
           "orientation": "v",
           "showlegend": false,
           "textposition": "auto",
           "type": "bar",
           "x": [
            "LU"
           ],
           "xaxis": "x",
           "y": [
            35658.83
           ],
           "yaxis": "y"
          },
          {
           "alignmentgroup": "True",
           "hovertemplate": "Year=2015<br>Canton=%{x}<br>Kumulierte Gesamtkapazität (MW)=%{y}<extra></extra>",
           "legendgroup": "",
           "marker": {
            "color": "rgb(0, 153, 76)",
            "pattern": {
             "shape": ""
            }
           },
           "name": "",
           "offsetgroup": "",
           "orientation": "v",
           "showlegend": false,
           "textposition": "auto",
           "type": "bar",
           "x": [
            "SG"
           ],
           "xaxis": "x",
           "y": [
            40960.61
           ],
           "yaxis": "y"
          },
          {
           "alignmentgroup": "True",
           "hovertemplate": "Year=2015<br>Canton=%{x}<br>Kumulierte Gesamtkapazität (MW)=%{y}<extra></extra>",
           "legendgroup": "",
           "marker": {
            "color": "rgb(255, 153, 51)",
            "pattern": {
             "shape": ""
            }
           },
           "name": "",
           "offsetgroup": "",
           "orientation": "v",
           "showlegend": false,
           "textposition": "auto",
           "type": "bar",
           "x": [
            "VD"
           ],
           "xaxis": "x",
           "y": [
            35839.72
           ],
           "yaxis": "y"
          }
         ],
         "name": "2015"
        },
        {
         "data": [
          {
           "alignmentgroup": "True",
           "hovertemplate": "Year=2016<br>Canton=%{x}<br>Kumulierte Gesamtkapazität (MW)=%{y}<extra></extra>",
           "legendgroup": "",
           "marker": {
            "color": "rgb(169, 169, 169)",
            "pattern": {
             "shape": ""
            }
           },
           "name": "",
           "offsetgroup": "",
           "orientation": "v",
           "showlegend": false,
           "textposition": "auto",
           "type": "bar",
           "x": [
            "AG",
            "AI",
            "AR",
            "BL",
            "BS",
            "FR",
            "GE",
            "GL",
            "GR",
            "JU",
            "LU",
            "NE",
            "NW",
            "OW",
            "SH",
            "SO",
            "SZ",
            "TG",
            "TI",
            "UR",
            "VS",
            "ZG"
           ],
           "xaxis": "x",
           "y": [
            49133.57,
            1950.58,
            4701.72,
            13592.330000000002,
            3381.9700000000003,
            47302.41,
            13181.029999999999,
            5056.38,
            19295.64,
            15808.29,
            55937.19,
            17569.43,
            2410.87,
            2769.87,
            4883.42,
            25526.98,
            8884,
            42570.33,
            27850.66,
            926.06,
            27989.08,
            9753.91
           ],
           "yaxis": "y"
          },
          {
           "alignmentgroup": "True",
           "hovertemplate": "Year=2016<br>Canton=%{x}<br>Kumulierte Gesamtkapazität (MW)=%{y}<extra></extra>",
           "legendgroup": "",
           "marker": {
            "color": "rgb(0, 102, 204)",
            "pattern": {
             "shape": ""
            }
           },
           "name": "",
           "offsetgroup": "",
           "orientation": "v",
           "showlegend": false,
           "textposition": "auto",
           "type": "bar",
           "x": [
            "BE"
           ],
           "xaxis": "x",
           "y": [
            86383.7
           ],
           "yaxis": "y"
          },
          {
           "alignmentgroup": "True",
           "hovertemplate": "Year=2016<br>Canton=%{x}<br>Kumulierte Gesamtkapazität (MW)=%{y}<extra></extra>",
           "legendgroup": "",
           "marker": {
            "color": "rgb(204, 0, 0)",
            "pattern": {
             "shape": ""
            }
           },
           "name": "",
           "offsetgroup": "",
           "orientation": "v",
           "showlegend": false,
           "textposition": "auto",
           "type": "bar",
           "x": [
            "ZH"
           ],
           "xaxis": "x",
           "y": [
            55960.53999999999
           ],
           "yaxis": "y"
          },
          {
           "alignmentgroup": "True",
           "hovertemplate": "Year=2016<br>Canton=%{x}<br>Kumulierte Gesamtkapazität (MW)=%{y}<extra></extra>",
           "legendgroup": "",
           "marker": {
            "color": "rgb(0, 153, 76)",
            "pattern": {
             "shape": ""
            }
           },
           "name": "",
           "offsetgroup": "",
           "orientation": "v",
           "showlegend": false,
           "textposition": "auto",
           "type": "bar",
           "x": [
            "VD"
           ],
           "xaxis": "x",
           "y": [
            74893.19
           ],
           "yaxis": "y"
          },
          {
           "alignmentgroup": "True",
           "hovertemplate": "Year=2016<br>Canton=%{x}<br>Kumulierte Gesamtkapazität (MW)=%{y}<extra></extra>",
           "legendgroup": "",
           "marker": {
            "color": "rgb(255, 153, 51)",
            "pattern": {
             "shape": ""
            }
           },
           "name": "",
           "offsetgroup": "",
           "orientation": "v",
           "showlegend": false,
           "textposition": "auto",
           "type": "bar",
           "x": [
            "SG"
           ],
           "xaxis": "x",
           "y": [
            61652.07
           ],
           "yaxis": "y"
          }
         ],
         "name": "2016"
        },
        {
         "data": [
          {
           "alignmentgroup": "True",
           "hovertemplate": "Year=2017<br>Canton=%{x}<br>Kumulierte Gesamtkapazität (MW)=%{y}<extra></extra>",
           "legendgroup": "",
           "marker": {
            "color": "rgb(169, 169, 169)",
            "pattern": {
             "shape": ""
            }
           },
           "name": "",
           "offsetgroup": "",
           "orientation": "v",
           "showlegend": false,
           "textposition": "auto",
           "type": "bar",
           "x": [
            "AG",
            "AI",
            "AR",
            "BL",
            "BS",
            "FR",
            "GE",
            "GL",
            "GR",
            "JU",
            "LU",
            "NE",
            "NW",
            "OW",
            "SH",
            "SO",
            "SZ",
            "TG",
            "TI",
            "UR",
            "VS",
            "ZG"
           ],
           "xaxis": "x",
           "y": [
            64223.28,
            2941.1,
            6205.08,
            19612.43,
            6995.93,
            64730.5,
            18230.809999999998,
            5485.49,
            26116.309999999998,
            20490.46,
            72470.75,
            23656.1,
            2831.76,
            4825.66,
            7978.950000000001,
            32551.11,
            12296.32,
            54312.47,
            39524.7,
            1331.16,
            38340.31,
            13186.82
           ],
           "yaxis": "y"
          },
          {
           "alignmentgroup": "True",
           "hovertemplate": "Year=2017<br>Canton=%{x}<br>Kumulierte Gesamtkapazität (MW)=%{y}<extra></extra>",
           "legendgroup": "",
           "marker": {
            "color": "rgb(0, 102, 204)",
            "pattern": {
             "shape": ""
            }
           },
           "name": "",
           "offsetgroup": "",
           "orientation": "v",
           "showlegend": false,
           "textposition": "auto",
           "type": "bar",
           "x": [
            "BE"
           ],
           "xaxis": "x",
           "y": [
            109971.03
           ],
           "yaxis": "y"
          },
          {
           "alignmentgroup": "True",
           "hovertemplate": "Year=2017<br>Canton=%{x}<br>Kumulierte Gesamtkapazität (MW)=%{y}<extra></extra>",
           "legendgroup": "",
           "marker": {
            "color": "rgb(204, 0, 0)",
            "pattern": {
             "shape": ""
            }
           },
           "name": "",
           "offsetgroup": "",
           "orientation": "v",
           "showlegend": false,
           "textposition": "auto",
           "type": "bar",
           "x": [
            "SG"
           ],
           "xaxis": "x",
           "y": [
            76856.26
           ],
           "yaxis": "y"
          },
          {
           "alignmentgroup": "True",
           "hovertemplate": "Year=2017<br>Canton=%{x}<br>Kumulierte Gesamtkapazität (MW)=%{y}<extra></extra>",
           "legendgroup": "",
           "marker": {
            "color": "rgb(0, 153, 76)",
            "pattern": {
             "shape": ""
            }
           },
           "name": "",
           "offsetgroup": "",
           "orientation": "v",
           "showlegend": false,
           "textposition": "auto",
           "type": "bar",
           "x": [
            "VD"
           ],
           "xaxis": "x",
           "y": [
            101196.83
           ],
           "yaxis": "y"
          },
          {
           "alignmentgroup": "True",
           "hovertemplate": "Year=2017<br>Canton=%{x}<br>Kumulierte Gesamtkapazität (MW)=%{y}<extra></extra>",
           "legendgroup": "",
           "marker": {
            "color": "rgb(255, 153, 51)",
            "pattern": {
             "shape": ""
            }
           },
           "name": "",
           "offsetgroup": "",
           "orientation": "v",
           "showlegend": false,
           "textposition": "auto",
           "type": "bar",
           "x": [
            "ZH"
           ],
           "xaxis": "x",
           "y": [
            80294.89
           ],
           "yaxis": "y"
          }
         ],
         "name": "2017"
        },
        {
         "data": [
          {
           "alignmentgroup": "True",
           "hovertemplate": "Year=2018<br>Canton=%{x}<br>Kumulierte Gesamtkapazität (MW)=%{y}<extra></extra>",
           "legendgroup": "",
           "marker": {
            "color": "rgb(169, 169, 169)",
            "pattern": {
             "shape": ""
            }
           },
           "name": "",
           "offsetgroup": "",
           "orientation": "v",
           "showlegend": false,
           "textposition": "auto",
           "type": "bar",
           "x": [
            "AG",
            "AI",
            "AR",
            "BL",
            "BS",
            "FR",
            "GE",
            "GL",
            "GR",
            "JU",
            "LU",
            "NE",
            "NW",
            "OW",
            "SH",
            "SO",
            "SZ",
            "TG",
            "TI",
            "UR",
            "VS",
            "ZG"
           ],
           "xaxis": "x",
           "y": [
            80681.22,
            3634.1499999999996,
            7651.12,
            24470.39,
            9978.84,
            81695.73,
            24426.32,
            6449.86,
            32173.39,
            24367.190000000002,
            90696.77,
            32093.739999999998,
            3690.02,
            6303.61,
            9444.01,
            40155.07,
            16022.79,
            66100.76,
            50165.87,
            2167.1800000000003,
            51143.57,
            16501.79
           ],
           "yaxis": "y"
          },
          {
           "alignmentgroup": "True",
           "hovertemplate": "Year=2018<br>Canton=%{x}<br>Kumulierte Gesamtkapazität (MW)=%{y}<extra></extra>",
           "legendgroup": "",
           "marker": {
            "color": "rgb(0, 102, 204)",
            "pattern": {
             "shape": ""
            }
           },
           "name": "",
           "offsetgroup": "",
           "orientation": "v",
           "showlegend": false,
           "textposition": "auto",
           "type": "bar",
           "x": [
            "BE"
           ],
           "xaxis": "x",
           "y": [
            136672.53
           ],
           "yaxis": "y"
          },
          {
           "alignmentgroup": "True",
           "hovertemplate": "Year=2018<br>Canton=%{x}<br>Kumulierte Gesamtkapazität (MW)=%{y}<extra></extra>",
           "legendgroup": "",
           "marker": {
            "color": "rgb(204, 0, 0)",
            "pattern": {
             "shape": ""
            }
           },
           "name": "",
           "offsetgroup": "",
           "orientation": "v",
           "showlegend": false,
           "textposition": "auto",
           "type": "bar",
           "x": [
            "SG"
           ],
           "xaxis": "x",
           "y": [
            96174.6
           ],
           "yaxis": "y"
          },
          {
           "alignmentgroup": "True",
           "hovertemplate": "Year=2018<br>Canton=%{x}<br>Kumulierte Gesamtkapazität (MW)=%{y}<extra></extra>",
           "legendgroup": "",
           "marker": {
            "color": "rgb(0, 153, 76)",
            "pattern": {
             "shape": ""
            }
           },
           "name": "",
           "offsetgroup": "",
           "orientation": "v",
           "showlegend": false,
           "textposition": "auto",
           "type": "bar",
           "x": [
            "VD"
           ],
           "xaxis": "x",
           "y": [
            127823.73000000001
           ],
           "yaxis": "y"
          },
          {
           "alignmentgroup": "True",
           "hovertemplate": "Year=2018<br>Canton=%{x}<br>Kumulierte Gesamtkapazität (MW)=%{y}<extra></extra>",
           "legendgroup": "",
           "marker": {
            "color": "rgb(255, 153, 51)",
            "pattern": {
             "shape": ""
            }
           },
           "name": "",
           "offsetgroup": "",
           "orientation": "v",
           "showlegend": false,
           "textposition": "auto",
           "type": "bar",
           "x": [
            "ZH"
           ],
           "xaxis": "x",
           "y": [
            105627.7
           ],
           "yaxis": "y"
          }
         ],
         "name": "2018"
        },
        {
         "data": [
          {
           "alignmentgroup": "True",
           "hovertemplate": "Year=2019<br>Canton=%{x}<br>Kumulierte Gesamtkapazität (MW)=%{y}<extra></extra>",
           "legendgroup": "",
           "marker": {
            "color": "rgb(169, 169, 169)",
            "pattern": {
             "shape": ""
            }
           },
           "name": "",
           "offsetgroup": "",
           "orientation": "v",
           "showlegend": false,
           "textposition": "auto",
           "type": "bar",
           "x": [
            "AG",
            "AI",
            "AR",
            "BL",
            "BS",
            "FR",
            "GE",
            "GL",
            "GR",
            "JU",
            "LU",
            "NE",
            "NW",
            "OW",
            "SH",
            "SO",
            "SZ",
            "TG",
            "TI",
            "UR",
            "VS",
            "ZG"
           ],
           "xaxis": "x",
           "y": [
            102967.35,
            4550.48,
            10116.11,
            30901.84,
            11879.89,
            100303.85,
            32738.84,
            7370.79,
            40098.89,
            29012.33,
            118366.22,
            40238.02,
            4377.63,
            8372.279999999999,
            11013.42,
            46318.89,
            21946.67,
            80747.63,
            62265.86,
            2773.06,
            65261.45,
            19647.87
           ],
           "yaxis": "y"
          },
          {
           "alignmentgroup": "True",
           "hovertemplate": "Year=2019<br>Canton=%{x}<br>Kumulierte Gesamtkapazität (MW)=%{y}<extra></extra>",
           "legendgroup": "",
           "marker": {
            "color": "rgb(0, 102, 204)",
            "pattern": {
             "shape": ""
            }
           },
           "name": "",
           "offsetgroup": "",
           "orientation": "v",
           "showlegend": false,
           "textposition": "auto",
           "type": "bar",
           "x": [
            "BE"
           ],
           "xaxis": "x",
           "y": [
            170804.07
           ],
           "yaxis": "y"
          },
          {
           "alignmentgroup": "True",
           "hovertemplate": "Year=2019<br>Canton=%{x}<br>Kumulierte Gesamtkapazität (MW)=%{y}<extra></extra>",
           "legendgroup": "",
           "marker": {
            "color": "rgb(204, 0, 0)",
            "pattern": {
             "shape": ""
            }
           },
           "name": "",
           "offsetgroup": "",
           "orientation": "v",
           "showlegend": false,
           "textposition": "auto",
           "type": "bar",
           "x": [
            "SG"
           ],
           "xaxis": "x",
           "y": [
            122960.88
           ],
           "yaxis": "y"
          },
          {
           "alignmentgroup": "True",
           "hovertemplate": "Year=2019<br>Canton=%{x}<br>Kumulierte Gesamtkapazität (MW)=%{y}<extra></extra>",
           "legendgroup": "",
           "marker": {
            "color": "rgb(0, 153, 76)",
            "pattern": {
             "shape": ""
            }
           },
           "name": "",
           "offsetgroup": "",
           "orientation": "v",
           "showlegend": false,
           "textposition": "auto",
           "type": "bar",
           "x": [
            "VD"
           ],
           "xaxis": "x",
           "y": [
            158200.95
           ],
           "yaxis": "y"
          },
          {
           "alignmentgroup": "True",
           "hovertemplate": "Year=2019<br>Canton=%{x}<br>Kumulierte Gesamtkapazität (MW)=%{y}<extra></extra>",
           "legendgroup": "",
           "marker": {
            "color": "rgb(255, 153, 51)",
            "pattern": {
             "shape": ""
            }
           },
           "name": "",
           "offsetgroup": "",
           "orientation": "v",
           "showlegend": false,
           "textposition": "auto",
           "type": "bar",
           "x": [
            "ZH"
           ],
           "xaxis": "x",
           "y": [
            138403.01
           ],
           "yaxis": "y"
          }
         ],
         "name": "2019"
        },
        {
         "data": [
          {
           "alignmentgroup": "True",
           "hovertemplate": "Year=2020<br>Canton=%{x}<br>Kumulierte Gesamtkapazität (MW)=%{y}<extra></extra>",
           "legendgroup": "",
           "marker": {
            "color": "rgb(169, 169, 169)",
            "pattern": {
             "shape": ""
            }
           },
           "name": "",
           "offsetgroup": "",
           "orientation": "v",
           "showlegend": false,
           "textposition": "auto",
           "type": "bar",
           "x": [
            "AG",
            "AI",
            "AR",
            "BL",
            "BS",
            "FR",
            "GE",
            "GL",
            "GR",
            "JU",
            "LU",
            "NE",
            "NW",
            "OW",
            "SH",
            "SO",
            "SZ",
            "TG",
            "TI",
            "UR",
            "VS",
            "ZG"
           ],
           "xaxis": "x",
           "y": [
            141890.45,
            6772.17,
            14527.15,
            43258.62,
            15722.369999999999,
            124039.70999999999,
            40382.33,
            10085.539999999999,
            54202.21,
            37579.86,
            154752.66,
            49722.08,
            6366.92,
            10949.48,
            14969.810000000001,
            58856.270000000004,
            35764.43,
            111438.79000000001,
            76962.62,
            4529.360000000001,
            83296.73999999999,
            26555.17
           ],
           "yaxis": "y"
          },
          {
           "alignmentgroup": "True",
           "hovertemplate": "Year=2020<br>Canton=%{x}<br>Kumulierte Gesamtkapazität (MW)=%{y}<extra></extra>",
           "legendgroup": "",
           "marker": {
            "color": "rgb(0, 102, 204)",
            "pattern": {
             "shape": ""
            }
           },
           "name": "",
           "offsetgroup": "",
           "orientation": "v",
           "showlegend": false,
           "textposition": "auto",
           "type": "bar",
           "x": [
            "BE"
           ],
           "xaxis": "x",
           "y": [
            221893.36
           ],
           "yaxis": "y"
          },
          {
           "alignmentgroup": "True",
           "hovertemplate": "Year=2020<br>Canton=%{x}<br>Kumulierte Gesamtkapazität (MW)=%{y}<extra></extra>",
           "legendgroup": "",
           "marker": {
            "color": "rgb(204, 0, 0)",
            "pattern": {
             "shape": ""
            }
           },
           "name": "",
           "offsetgroup": "",
           "orientation": "v",
           "showlegend": false,
           "textposition": "auto",
           "type": "bar",
           "x": [
            "SG"
           ],
           "xaxis": "x",
           "y": [
            159996.65
           ],
           "yaxis": "y"
          },
          {
           "alignmentgroup": "True",
           "hovertemplate": "Year=2020<br>Canton=%{x}<br>Kumulierte Gesamtkapazität (MW)=%{y}<extra></extra>",
           "legendgroup": "",
           "marker": {
            "color": "rgb(0, 153, 76)",
            "pattern": {
             "shape": ""
            }
           },
           "name": "",
           "offsetgroup": "",
           "orientation": "v",
           "showlegend": false,
           "textposition": "auto",
           "type": "bar",
           "x": [
            "VD"
           ],
           "xaxis": "x",
           "y": [
            199176.97
           ],
           "yaxis": "y"
          },
          {
           "alignmentgroup": "True",
           "hovertemplate": "Year=2020<br>Canton=%{x}<br>Kumulierte Gesamtkapazität (MW)=%{y}<extra></extra>",
           "legendgroup": "",
           "marker": {
            "color": "rgb(255, 153, 51)",
            "pattern": {
             "shape": ""
            }
           },
           "name": "",
           "offsetgroup": "",
           "orientation": "v",
           "showlegend": false,
           "textposition": "auto",
           "type": "bar",
           "x": [
            "ZH"
           ],
           "xaxis": "x",
           "y": [
            186515.52
           ],
           "yaxis": "y"
          }
         ],
         "name": "2020"
        },
        {
         "data": [
          {
           "alignmentgroup": "True",
           "hovertemplate": "Year=2021<br>Canton=%{x}<br>Kumulierte Gesamtkapazität (MW)=%{y}<extra></extra>",
           "legendgroup": "",
           "marker": {
            "color": "rgb(169, 169, 169)",
            "pattern": {
             "shape": ""
            }
           },
           "name": "",
           "offsetgroup": "",
           "orientation": "v",
           "showlegend": false,
           "textposition": "auto",
           "type": "bar",
           "x": [
            "AG",
            "AI",
            "AR",
            "BL",
            "BS",
            "FR",
            "GE",
            "GL",
            "GR",
            "JU",
            "LU",
            "NE",
            "NW",
            "OW",
            "SH",
            "SO",
            "SZ",
            "TG",
            "TI",
            "UR",
            "VS",
            "ZG"
           ],
           "xaxis": "x",
           "y": [
            198065.15,
            8970.39,
            18262.07,
            58781.36,
            20918.45,
            152300.06,
            53065.99,
            14541.22,
            68661.55,
            46655.350000000006,
            195754.8,
            62577.119999999995,
            11031.11,
            13497.779999999999,
            20268.08,
            74383.5,
            45624.84,
            145554.58000000002,
            97882.31,
            7323.08,
            109135.16,
            33977.06
           ],
           "yaxis": "y"
          },
          {
           "alignmentgroup": "True",
           "hovertemplate": "Year=2021<br>Canton=%{x}<br>Kumulierte Gesamtkapazität (MW)=%{y}<extra></extra>",
           "legendgroup": "",
           "marker": {
            "color": "rgb(0, 102, 204)",
            "pattern": {
             "shape": ""
            }
           },
           "name": "",
           "offsetgroup": "",
           "orientation": "v",
           "showlegend": false,
           "textposition": "auto",
           "type": "bar",
           "x": [
            "BE"
           ],
           "xaxis": "x",
           "y": [
            284635.88
           ],
           "yaxis": "y"
          },
          {
           "alignmentgroup": "True",
           "hovertemplate": "Year=2021<br>Canton=%{x}<br>Kumulierte Gesamtkapazität (MW)=%{y}<extra></extra>",
           "legendgroup": "",
           "marker": {
            "color": "rgb(204, 0, 0)",
            "pattern": {
             "shape": ""
            }
           },
           "name": "",
           "offsetgroup": "",
           "orientation": "v",
           "showlegend": false,
           "textposition": "auto",
           "type": "bar",
           "x": [
            "SG"
           ],
           "xaxis": "x",
           "y": [
            209558.58
           ],
           "yaxis": "y"
          },
          {
           "alignmentgroup": "True",
           "hovertemplate": "Year=2021<br>Canton=%{x}<br>Kumulierte Gesamtkapazität (MW)=%{y}<extra></extra>",
           "legendgroup": "",
           "marker": {
            "color": "rgb(0, 153, 76)",
            "pattern": {
             "shape": ""
            }
           },
           "name": "",
           "offsetgroup": "",
           "orientation": "v",
           "showlegend": false,
           "textposition": "auto",
           "type": "bar",
           "x": [
            "ZH"
           ],
           "xaxis": "x",
           "y": [
            256067.8
           ],
           "yaxis": "y"
          },
          {
           "alignmentgroup": "True",
           "hovertemplate": "Year=2021<br>Canton=%{x}<br>Kumulierte Gesamtkapazität (MW)=%{y}<extra></extra>",
           "legendgroup": "",
           "marker": {
            "color": "rgb(255, 153, 51)",
            "pattern": {
             "shape": ""
            }
           },
           "name": "",
           "offsetgroup": "",
           "orientation": "v",
           "showlegend": false,
           "textposition": "auto",
           "type": "bar",
           "x": [
            "VD"
           ],
           "xaxis": "x",
           "y": [
            243716.76
           ],
           "yaxis": "y"
          }
         ],
         "name": "2021"
        },
        {
         "data": [
          {
           "alignmentgroup": "True",
           "hovertemplate": "Year=2022<br>Canton=%{x}<br>Kumulierte Gesamtkapazität (MW)=%{y}<extra></extra>",
           "legendgroup": "",
           "marker": {
            "color": "rgb(169, 169, 169)",
            "pattern": {
             "shape": ""
            }
           },
           "name": "",
           "offsetgroup": "",
           "orientation": "v",
           "showlegend": false,
           "textposition": "auto",
           "type": "bar",
           "x": [
            "AG",
            "AI",
            "AR",
            "BL",
            "BS",
            "FR",
            "GE",
            "GL",
            "GR",
            "JU",
            "LU",
            "NE",
            "NW",
            "OW",
            "SH",
            "SO",
            "SZ",
            "TG",
            "TI",
            "UR",
            "VS",
            "ZG"
           ],
           "xaxis": "x",
           "y": [
            274052.43,
            12701.45,
            27429.699999999997,
            78647.43,
            26250.54,
            196927.28,
            69021.67,
            18072.04,
            87327.05,
            60102.200000000004,
            243358.95,
            78560.66,
            13227.07,
            18108.91,
            25831.21,
            101972.34,
            60357.55,
            191179.32,
            129644.95999999999,
            11624.74,
            144106.8,
            44973.56
           ],
           "yaxis": "y"
          },
          {
           "alignmentgroup": "True",
           "hovertemplate": "Year=2022<br>Canton=%{x}<br>Kumulierte Gesamtkapazität (MW)=%{y}<extra></extra>",
           "legendgroup": "",
           "marker": {
            "color": "rgb(0, 102, 204)",
            "pattern": {
             "shape": ""
            }
           },
           "name": "",
           "offsetgroup": "",
           "orientation": "v",
           "showlegend": false,
           "textposition": "auto",
           "type": "bar",
           "x": [
            "BE"
           ],
           "xaxis": "x",
           "y": [
            375735.70999999996
           ],
           "yaxis": "y"
          },
          {
           "alignmentgroup": "True",
           "hovertemplate": "Year=2022<br>Canton=%{x}<br>Kumulierte Gesamtkapazität (MW)=%{y}<extra></extra>",
           "legendgroup": "",
           "marker": {
            "color": "rgb(204, 0, 0)",
            "pattern": {
             "shape": ""
            }
           },
           "name": "",
           "offsetgroup": "",
           "orientation": "v",
           "showlegend": false,
           "textposition": "auto",
           "type": "bar",
           "x": [
            "SG"
           ],
           "xaxis": "x",
           "y": [
            274124.19
           ],
           "yaxis": "y"
          },
          {
           "alignmentgroup": "True",
           "hovertemplate": "Year=2022<br>Canton=%{x}<br>Kumulierte Gesamtkapazität (MW)=%{y}<extra></extra>",
           "legendgroup": "",
           "marker": {
            "color": "rgb(0, 153, 76)",
            "pattern": {
             "shape": ""
            }
           },
           "name": "",
           "offsetgroup": "",
           "orientation": "v",
           "showlegend": false,
           "textposition": "auto",
           "type": "bar",
           "x": [
            "ZH"
           ],
           "xaxis": "x",
           "y": [
            335860.82
           ],
           "yaxis": "y"
          },
          {
           "alignmentgroup": "True",
           "hovertemplate": "Year=2022<br>Canton=%{x}<br>Kumulierte Gesamtkapazität (MW)=%{y}<extra></extra>",
           "legendgroup": "",
           "marker": {
            "color": "rgb(255, 153, 51)",
            "pattern": {
             "shape": ""
            }
           },
           "name": "",
           "offsetgroup": "",
           "orientation": "v",
           "showlegend": false,
           "textposition": "auto",
           "type": "bar",
           "x": [
            "VD"
           ],
           "xaxis": "x",
           "y": [
            308389.49
           ],
           "yaxis": "y"
          }
         ],
         "name": "2022"
        },
        {
         "data": [
          {
           "alignmentgroup": "True",
           "hovertemplate": "Year=2023<br>Canton=%{x}<br>Kumulierte Gesamtkapazität (MW)=%{y}<extra></extra>",
           "legendgroup": "",
           "marker": {
            "color": "rgb(169, 169, 169)",
            "pattern": {
             "shape": ""
            }
           },
           "name": "",
           "offsetgroup": "",
           "orientation": "v",
           "showlegend": false,
           "textposition": "auto",
           "type": "bar",
           "x": [
            "AG",
            "AI",
            "AR",
            "BL",
            "BS",
            "FR",
            "GE",
            "GL",
            "GR",
            "JU",
            "LU",
            "NE",
            "NW",
            "OW",
            "SH",
            "SO",
            "SZ",
            "TG",
            "TI",
            "UR",
            "VS",
            "ZG"
           ],
           "xaxis": "x",
           "y": [
            403792.11,
            16842.18,
            43902.28,
            128781.27,
            33589.36,
            277624.31,
            96640.78,
            25911.17,
            118953.57,
            84824.35,
            362021.98,
            114618.62,
            21952.47,
            26995.21,
            41781.240000000005,
            153903.63,
            93388.6,
            279686.4,
            204986.83,
            16134.220000000001,
            214236.33000000002,
            63203.490000000005
           ],
           "yaxis": "y"
          },
          {
           "alignmentgroup": "True",
           "hovertemplate": "Year=2023<br>Canton=%{x}<br>Kumulierte Gesamtkapazität (MW)=%{y}<extra></extra>",
           "legendgroup": "",
           "marker": {
            "color": "rgb(0, 102, 204)",
            "pattern": {
             "shape": ""
            }
           },
           "name": "",
           "offsetgroup": "",
           "orientation": "v",
           "showlegend": false,
           "textposition": "auto",
           "type": "bar",
           "x": [
            "BE"
           ],
           "xaxis": "x",
           "y": [
            562551.66
           ],
           "yaxis": "y"
          },
          {
           "alignmentgroup": "True",
           "hovertemplate": "Year=2023<br>Canton=%{x}<br>Kumulierte Gesamtkapazität (MW)=%{y}<extra></extra>",
           "legendgroup": "",
           "marker": {
            "color": "rgb(204, 0, 0)",
            "pattern": {
             "shape": ""
            }
           },
           "name": "",
           "offsetgroup": "",
           "orientation": "v",
           "showlegend": false,
           "textposition": "auto",
           "type": "bar",
           "x": [
            "SG"
           ],
           "xaxis": "x",
           "y": [
            411021.9
           ],
           "yaxis": "y"
          },
          {
           "alignmentgroup": "True",
           "hovertemplate": "Year=2023<br>Canton=%{x}<br>Kumulierte Gesamtkapazität (MW)=%{y}<extra></extra>",
           "legendgroup": "",
           "marker": {
            "color": "rgb(0, 153, 76)",
            "pattern": {
             "shape": ""
            }
           },
           "name": "",
           "offsetgroup": "",
           "orientation": "v",
           "showlegend": false,
           "textposition": "auto",
           "type": "bar",
           "x": [
            "ZH"
           ],
           "xaxis": "x",
           "y": [
            478485.51
           ],
           "yaxis": "y"
          },
          {
           "alignmentgroup": "True",
           "hovertemplate": "Year=2023<br>Canton=%{x}<br>Kumulierte Gesamtkapazität (MW)=%{y}<extra></extra>",
           "legendgroup": "",
           "marker": {
            "color": "rgb(255, 153, 51)",
            "pattern": {
             "shape": ""
            }
           },
           "name": "",
           "offsetgroup": "",
           "orientation": "v",
           "showlegend": false,
           "textposition": "auto",
           "type": "bar",
           "x": [
            "VD"
           ],
           "xaxis": "x",
           "y": [
            433486.6
           ],
           "yaxis": "y"
          }
         ],
         "name": "2023"
        },
        {
         "data": [
          {
           "alignmentgroup": "True",
           "hovertemplate": "Year=2024<br>Canton=%{x}<br>Kumulierte Gesamtkapazität (MW)=%{y}<extra></extra>",
           "legendgroup": "",
           "marker": {
            "color": "rgb(169, 169, 169)",
            "pattern": {
             "shape": ""
            }
           },
           "name": "",
           "offsetgroup": "",
           "orientation": "v",
           "showlegend": false,
           "textposition": "auto",
           "type": "bar",
           "x": [
            "AI",
            "AR",
            "BL",
            "BS",
            "FR",
            "GE",
            "GL",
            "GR",
            "JU",
            "LU",
            "NE",
            "NW",
            "OW",
            "SG",
            "SH",
            "SO",
            "SZ",
            "TG",
            "TI",
            "UR",
            "VS",
            "ZG"
           ],
           "xaxis": "x",
           "y": [
            22437.62,
            59020.47,
            171801.71000000002,
            44203.130000000005,
            355131.9,
            119203.35,
            32526.75,
            148777.84,
            99093.74,
            453570.67000000004,
            137900.72,
            28317.16,
            33237.78,
            522712.32,
            55084.39,
            206489.73,
            115129.69,
            359913.12,
            278450.29,
            22343.58,
            266263.85,
            83902.63
           ],
           "yaxis": "y"
          },
          {
           "alignmentgroup": "True",
           "hovertemplate": "Year=2024<br>Canton=%{x}<br>Kumulierte Gesamtkapazität (MW)=%{y}<extra></extra>",
           "legendgroup": "",
           "marker": {
            "color": "rgb(0, 102, 204)",
            "pattern": {
             "shape": ""
            }
           },
           "name": "",
           "offsetgroup": "",
           "orientation": "v",
           "showlegend": false,
           "textposition": "auto",
           "type": "bar",
           "x": [
            "BE"
           ],
           "xaxis": "x",
           "y": [
            714352.69
           ],
           "yaxis": "y"
          },
          {
           "alignmentgroup": "True",
           "hovertemplate": "Year=2024<br>Canton=%{x}<br>Kumulierte Gesamtkapazität (MW)=%{y}<extra></extra>",
           "legendgroup": "",
           "marker": {
            "color": "rgb(204, 0, 0)",
            "pattern": {
             "shape": ""
            }
           },
           "name": "",
           "offsetgroup": "",
           "orientation": "v",
           "showlegend": false,
           "textposition": "auto",
           "type": "bar",
           "x": [
            "AG"
           ],
           "xaxis": "x",
           "y": [
            533202.35
           ],
           "yaxis": "y"
          },
          {
           "alignmentgroup": "True",
           "hovertemplate": "Year=2024<br>Canton=%{x}<br>Kumulierte Gesamtkapazität (MW)=%{y}<extra></extra>",
           "legendgroup": "",
           "marker": {
            "color": "rgb(0, 153, 76)",
            "pattern": {
             "shape": ""
            }
           },
           "name": "",
           "offsetgroup": "",
           "orientation": "v",
           "showlegend": false,
           "textposition": "auto",
           "type": "bar",
           "x": [
            "ZH"
           ],
           "xaxis": "x",
           "y": [
            626432.73
           ],
           "yaxis": "y"
          },
          {
           "alignmentgroup": "True",
           "hovertemplate": "Year=2024<br>Canton=%{x}<br>Kumulierte Gesamtkapazität (MW)=%{y}<extra></extra>",
           "legendgroup": "",
           "marker": {
            "color": "rgb(255, 153, 51)",
            "pattern": {
             "shape": ""
            }
           },
           "name": "",
           "offsetgroup": "",
           "orientation": "v",
           "showlegend": false,
           "textposition": "auto",
           "type": "bar",
           "x": [
            "VD"
           ],
           "xaxis": "x",
           "y": [
            533229.05
           ],
           "yaxis": "y"
          }
         ],
         "name": "2024"
        }
       ],
       "layout": {
        "barmode": "relative",
        "legend": {
         "tracegroupgap": 0
        },
        "showlegend": false,
        "sliders": [
         {
          "active": 0,
          "currentvalue": {
           "prefix": "Year="
          },
          "len": 0.9,
          "pad": {
           "b": 10,
           "t": 60
          },
          "steps": [
           {
            "args": [
             [
              "2015"
             ],
             {
              "frame": {
               "duration": 500,
               "redraw": true
              },
              "mode": "immediate"
             }
            ],
            "label": "2015",
            "method": "animate"
           },
           {
            "args": [
             [
              "2016"
             ],
             {
              "frame": {
               "duration": 500,
               "redraw": true
              },
              "mode": "immediate"
             }
            ],
            "label": "2016",
            "method": "animate"
           },
           {
            "args": [
             [
              "2017"
             ],
             {
              "frame": {
               "duration": 500,
               "redraw": true
              },
              "mode": "immediate"
             }
            ],
            "label": "2017",
            "method": "animate"
           },
           {
            "args": [
             [
              "2018"
             ],
             {
              "frame": {
               "duration": 500,
               "redraw": true
              },
              "mode": "immediate"
             }
            ],
            "label": "2018",
            "method": "animate"
           },
           {
            "args": [
             [
              "2019"
             ],
             {
              "frame": {
               "duration": 500,
               "redraw": true
              },
              "mode": "immediate"
             }
            ],
            "label": "2019",
            "method": "animate"
           },
           {
            "args": [
             [
              "2020"
             ],
             {
              "frame": {
               "duration": 500,
               "redraw": true
              },
              "mode": "immediate"
             }
            ],
            "label": "2020",
            "method": "animate"
           },
           {
            "args": [
             [
              "2021"
             ],
             {
              "frame": {
               "duration": 500,
               "redraw": true
              },
              "mode": "immediate"
             }
            ],
            "label": "2021",
            "method": "animate"
           },
           {
            "args": [
             [
              "2022"
             ],
             {
              "frame": {
               "duration": 500,
               "redraw": true
              },
              "mode": "immediate"
             }
            ],
            "label": "2022",
            "method": "animate"
           },
           {
            "args": [
             [
              "2023"
             ],
             {
              "frame": {
               "duration": 500,
               "redraw": true
              },
              "mode": "immediate"
             }
            ],
            "label": "2023",
            "method": "animate"
           },
           {
            "args": [
             [
              "2024"
             ],
             {
              "frame": {
               "duration": 500,
               "redraw": true
              },
              "mode": "immediate"
             }
            ],
            "label": "2024",
            "method": "animate"
           }
          ],
          "x": 0.1,
          "xanchor": "left",
          "y": 0,
          "yanchor": "top"
         }
        ],
        "template": {
         "data": {
          "bar": [
           {
            "error_x": {
             "color": "rgb(36,36,36)"
            },
            "error_y": {
             "color": "rgb(36,36,36)"
            },
            "marker": {
             "line": {
              "color": "white",
              "width": 0.5
             },
             "pattern": {
              "fillmode": "overlay",
              "size": 10,
              "solidity": 0.2
             }
            },
            "type": "bar"
           }
          ],
          "barpolar": [
           {
            "marker": {
             "line": {
              "color": "white",
              "width": 0.5
             },
             "pattern": {
              "fillmode": "overlay",
              "size": 10,
              "solidity": 0.2
             }
            },
            "type": "barpolar"
           }
          ],
          "carpet": [
           {
            "aaxis": {
             "endlinecolor": "rgb(36,36,36)",
             "gridcolor": "white",
             "linecolor": "white",
             "minorgridcolor": "white",
             "startlinecolor": "rgb(36,36,36)"
            },
            "baxis": {
             "endlinecolor": "rgb(36,36,36)",
             "gridcolor": "white",
             "linecolor": "white",
             "minorgridcolor": "white",
             "startlinecolor": "rgb(36,36,36)"
            },
            "type": "carpet"
           }
          ],
          "choropleth": [
           {
            "colorbar": {
             "outlinewidth": 1,
             "tickcolor": "rgb(36,36,36)",
             "ticks": "outside"
            },
            "type": "choropleth"
           }
          ],
          "contour": [
           {
            "colorbar": {
             "outlinewidth": 1,
             "tickcolor": "rgb(36,36,36)",
             "ticks": "outside"
            },
            "colorscale": [
             [
              0,
              "#440154"
             ],
             [
              0.1111111111111111,
              "#482878"
             ],
             [
              0.2222222222222222,
              "#3e4989"
             ],
             [
              0.3333333333333333,
              "#31688e"
             ],
             [
              0.4444444444444444,
              "#26828e"
             ],
             [
              0.5555555555555556,
              "#1f9e89"
             ],
             [
              0.6666666666666666,
              "#35b779"
             ],
             [
              0.7777777777777778,
              "#6ece58"
             ],
             [
              0.8888888888888888,
              "#b5de2b"
             ],
             [
              1,
              "#fde725"
             ]
            ],
            "type": "contour"
           }
          ],
          "contourcarpet": [
           {
            "colorbar": {
             "outlinewidth": 1,
             "tickcolor": "rgb(36,36,36)",
             "ticks": "outside"
            },
            "type": "contourcarpet"
           }
          ],
          "heatmap": [
           {
            "colorbar": {
             "outlinewidth": 1,
             "tickcolor": "rgb(36,36,36)",
             "ticks": "outside"
            },
            "colorscale": [
             [
              0,
              "#440154"
             ],
             [
              0.1111111111111111,
              "#482878"
             ],
             [
              0.2222222222222222,
              "#3e4989"
             ],
             [
              0.3333333333333333,
              "#31688e"
             ],
             [
              0.4444444444444444,
              "#26828e"
             ],
             [
              0.5555555555555556,
              "#1f9e89"
             ],
             [
              0.6666666666666666,
              "#35b779"
             ],
             [
              0.7777777777777778,
              "#6ece58"
             ],
             [
              0.8888888888888888,
              "#b5de2b"
             ],
             [
              1,
              "#fde725"
             ]
            ],
            "type": "heatmap"
           }
          ],
          "heatmapgl": [
           {
            "colorbar": {
             "outlinewidth": 1,
             "tickcolor": "rgb(36,36,36)",
             "ticks": "outside"
            },
            "colorscale": [
             [
              0,
              "#440154"
             ],
             [
              0.1111111111111111,
              "#482878"
             ],
             [
              0.2222222222222222,
              "#3e4989"
             ],
             [
              0.3333333333333333,
              "#31688e"
             ],
             [
              0.4444444444444444,
              "#26828e"
             ],
             [
              0.5555555555555556,
              "#1f9e89"
             ],
             [
              0.6666666666666666,
              "#35b779"
             ],
             [
              0.7777777777777778,
              "#6ece58"
             ],
             [
              0.8888888888888888,
              "#b5de2b"
             ],
             [
              1,
              "#fde725"
             ]
            ],
            "type": "heatmapgl"
           }
          ],
          "histogram": [
           {
            "marker": {
             "line": {
              "color": "white",
              "width": 0.6
             }
            },
            "type": "histogram"
           }
          ],
          "histogram2d": [
           {
            "colorbar": {
             "outlinewidth": 1,
             "tickcolor": "rgb(36,36,36)",
             "ticks": "outside"
            },
            "colorscale": [
             [
              0,
              "#440154"
             ],
             [
              0.1111111111111111,
              "#482878"
             ],
             [
              0.2222222222222222,
              "#3e4989"
             ],
             [
              0.3333333333333333,
              "#31688e"
             ],
             [
              0.4444444444444444,
              "#26828e"
             ],
             [
              0.5555555555555556,
              "#1f9e89"
             ],
             [
              0.6666666666666666,
              "#35b779"
             ],
             [
              0.7777777777777778,
              "#6ece58"
             ],
             [
              0.8888888888888888,
              "#b5de2b"
             ],
             [
              1,
              "#fde725"
             ]
            ],
            "type": "histogram2d"
           }
          ],
          "histogram2dcontour": [
           {
            "colorbar": {
             "outlinewidth": 1,
             "tickcolor": "rgb(36,36,36)",
             "ticks": "outside"
            },
            "colorscale": [
             [
              0,
              "#440154"
             ],
             [
              0.1111111111111111,
              "#482878"
             ],
             [
              0.2222222222222222,
              "#3e4989"
             ],
             [
              0.3333333333333333,
              "#31688e"
             ],
             [
              0.4444444444444444,
              "#26828e"
             ],
             [
              0.5555555555555556,
              "#1f9e89"
             ],
             [
              0.6666666666666666,
              "#35b779"
             ],
             [
              0.7777777777777778,
              "#6ece58"
             ],
             [
              0.8888888888888888,
              "#b5de2b"
             ],
             [
              1,
              "#fde725"
             ]
            ],
            "type": "histogram2dcontour"
           }
          ],
          "mesh3d": [
           {
            "colorbar": {
             "outlinewidth": 1,
             "tickcolor": "rgb(36,36,36)",
             "ticks": "outside"
            },
            "type": "mesh3d"
           }
          ],
          "parcoords": [
           {
            "line": {
             "colorbar": {
              "outlinewidth": 1,
              "tickcolor": "rgb(36,36,36)",
              "ticks": "outside"
             }
            },
            "type": "parcoords"
           }
          ],
          "pie": [
           {
            "automargin": true,
            "type": "pie"
           }
          ],
          "scatter": [
           {
            "fillpattern": {
             "fillmode": "overlay",
             "size": 10,
             "solidity": 0.2
            },
            "type": "scatter"
           }
          ],
          "scatter3d": [
           {
            "line": {
             "colorbar": {
              "outlinewidth": 1,
              "tickcolor": "rgb(36,36,36)",
              "ticks": "outside"
             }
            },
            "marker": {
             "colorbar": {
              "outlinewidth": 1,
              "tickcolor": "rgb(36,36,36)",
              "ticks": "outside"
             }
            },
            "type": "scatter3d"
           }
          ],
          "scattercarpet": [
           {
            "marker": {
             "colorbar": {
              "outlinewidth": 1,
              "tickcolor": "rgb(36,36,36)",
              "ticks": "outside"
             }
            },
            "type": "scattercarpet"
           }
          ],
          "scattergeo": [
           {
            "marker": {
             "colorbar": {
              "outlinewidth": 1,
              "tickcolor": "rgb(36,36,36)",
              "ticks": "outside"
             }
            },
            "type": "scattergeo"
           }
          ],
          "scattergl": [
           {
            "marker": {
             "colorbar": {
              "outlinewidth": 1,
              "tickcolor": "rgb(36,36,36)",
              "ticks": "outside"
             }
            },
            "type": "scattergl"
           }
          ],
          "scattermapbox": [
           {
            "marker": {
             "colorbar": {
              "outlinewidth": 1,
              "tickcolor": "rgb(36,36,36)",
              "ticks": "outside"
             }
            },
            "type": "scattermapbox"
           }
          ],
          "scatterpolar": [
           {
            "marker": {
             "colorbar": {
              "outlinewidth": 1,
              "tickcolor": "rgb(36,36,36)",
              "ticks": "outside"
             }
            },
            "type": "scatterpolar"
           }
          ],
          "scatterpolargl": [
           {
            "marker": {
             "colorbar": {
              "outlinewidth": 1,
              "tickcolor": "rgb(36,36,36)",
              "ticks": "outside"
             }
            },
            "type": "scatterpolargl"
           }
          ],
          "scatterternary": [
           {
            "marker": {
             "colorbar": {
              "outlinewidth": 1,
              "tickcolor": "rgb(36,36,36)",
              "ticks": "outside"
             }
            },
            "type": "scatterternary"
           }
          ],
          "surface": [
           {
            "colorbar": {
             "outlinewidth": 1,
             "tickcolor": "rgb(36,36,36)",
             "ticks": "outside"
            },
            "colorscale": [
             [
              0,
              "#440154"
             ],
             [
              0.1111111111111111,
              "#482878"
             ],
             [
              0.2222222222222222,
              "#3e4989"
             ],
             [
              0.3333333333333333,
              "#31688e"
             ],
             [
              0.4444444444444444,
              "#26828e"
             ],
             [
              0.5555555555555556,
              "#1f9e89"
             ],
             [
              0.6666666666666666,
              "#35b779"
             ],
             [
              0.7777777777777778,
              "#6ece58"
             ],
             [
              0.8888888888888888,
              "#b5de2b"
             ],
             [
              1,
              "#fde725"
             ]
            ],
            "type": "surface"
           }
          ],
          "table": [
           {
            "cells": {
             "fill": {
              "color": "rgb(237,237,237)"
             },
             "line": {
              "color": "white"
             }
            },
            "header": {
             "fill": {
              "color": "rgb(217,217,217)"
             },
             "line": {
              "color": "white"
             }
            },
            "type": "table"
           }
          ]
         },
         "layout": {
          "annotationdefaults": {
           "arrowhead": 0,
           "arrowwidth": 1
          },
          "autotypenumbers": "strict",
          "coloraxis": {
           "colorbar": {
            "outlinewidth": 1,
            "tickcolor": "rgb(36,36,36)",
            "ticks": "outside"
           }
          },
          "colorscale": {
           "diverging": [
            [
             0,
             "rgb(103,0,31)"
            ],
            [
             0.1,
             "rgb(178,24,43)"
            ],
            [
             0.2,
             "rgb(214,96,77)"
            ],
            [
             0.3,
             "rgb(244,165,130)"
            ],
            [
             0.4,
             "rgb(253,219,199)"
            ],
            [
             0.5,
             "rgb(247,247,247)"
            ],
            [
             0.6,
             "rgb(209,229,240)"
            ],
            [
             0.7,
             "rgb(146,197,222)"
            ],
            [
             0.8,
             "rgb(67,147,195)"
            ],
            [
             0.9,
             "rgb(33,102,172)"
            ],
            [
             1,
             "rgb(5,48,97)"
            ]
           ],
           "sequential": [
            [
             0,
             "#440154"
            ],
            [
             0.1111111111111111,
             "#482878"
            ],
            [
             0.2222222222222222,
             "#3e4989"
            ],
            [
             0.3333333333333333,
             "#31688e"
            ],
            [
             0.4444444444444444,
             "#26828e"
            ],
            [
             0.5555555555555556,
             "#1f9e89"
            ],
            [
             0.6666666666666666,
             "#35b779"
            ],
            [
             0.7777777777777778,
             "#6ece58"
            ],
            [
             0.8888888888888888,
             "#b5de2b"
            ],
            [
             1,
             "#fde725"
            ]
           ],
           "sequentialminus": [
            [
             0,
             "#440154"
            ],
            [
             0.1111111111111111,
             "#482878"
            ],
            [
             0.2222222222222222,
             "#3e4989"
            ],
            [
             0.3333333333333333,
             "#31688e"
            ],
            [
             0.4444444444444444,
             "#26828e"
            ],
            [
             0.5555555555555556,
             "#1f9e89"
            ],
            [
             0.6666666666666666,
             "#35b779"
            ],
            [
             0.7777777777777778,
             "#6ece58"
            ],
            [
             0.8888888888888888,
             "#b5de2b"
            ],
            [
             1,
             "#fde725"
            ]
           ]
          },
          "colorway": [
           "#1F77B4",
           "#FF7F0E",
           "#2CA02C",
           "#D62728",
           "#9467BD",
           "#8C564B",
           "#E377C2",
           "#7F7F7F",
           "#BCBD22",
           "#17BECF"
          ],
          "font": {
           "color": "rgb(36,36,36)"
          },
          "geo": {
           "bgcolor": "white",
           "lakecolor": "white",
           "landcolor": "white",
           "showlakes": true,
           "showland": true,
           "subunitcolor": "white"
          },
          "hoverlabel": {
           "align": "left"
          },
          "hovermode": "closest",
          "mapbox": {
           "style": "light"
          },
          "paper_bgcolor": "white",
          "plot_bgcolor": "white",
          "polar": {
           "angularaxis": {
            "gridcolor": "rgb(232,232,232)",
            "linecolor": "rgb(36,36,36)",
            "showgrid": false,
            "showline": true,
            "ticks": "outside"
           },
           "bgcolor": "white",
           "radialaxis": {
            "gridcolor": "rgb(232,232,232)",
            "linecolor": "rgb(36,36,36)",
            "showgrid": false,
            "showline": true,
            "ticks": "outside"
           }
          },
          "scene": {
           "xaxis": {
            "backgroundcolor": "white",
            "gridcolor": "rgb(232,232,232)",
            "gridwidth": 2,
            "linecolor": "rgb(36,36,36)",
            "showbackground": true,
            "showgrid": false,
            "showline": true,
            "ticks": "outside",
            "zeroline": false,
            "zerolinecolor": "rgb(36,36,36)"
           },
           "yaxis": {
            "backgroundcolor": "white",
            "gridcolor": "rgb(232,232,232)",
            "gridwidth": 2,
            "linecolor": "rgb(36,36,36)",
            "showbackground": true,
            "showgrid": false,
            "showline": true,
            "ticks": "outside",
            "zeroline": false,
            "zerolinecolor": "rgb(36,36,36)"
           },
           "zaxis": {
            "backgroundcolor": "white",
            "gridcolor": "rgb(232,232,232)",
            "gridwidth": 2,
            "linecolor": "rgb(36,36,36)",
            "showbackground": true,
            "showgrid": false,
            "showline": true,
            "ticks": "outside",
            "zeroline": false,
            "zerolinecolor": "rgb(36,36,36)"
           }
          },
          "shapedefaults": {
           "fillcolor": "black",
           "line": {
            "width": 0
           },
           "opacity": 0.3
          },
          "ternary": {
           "aaxis": {
            "gridcolor": "rgb(232,232,232)",
            "linecolor": "rgb(36,36,36)",
            "showgrid": false,
            "showline": true,
            "ticks": "outside"
           },
           "baxis": {
            "gridcolor": "rgb(232,232,232)",
            "linecolor": "rgb(36,36,36)",
            "showgrid": false,
            "showline": true,
            "ticks": "outside"
           },
           "bgcolor": "white",
           "caxis": {
            "gridcolor": "rgb(232,232,232)",
            "linecolor": "rgb(36,36,36)",
            "showgrid": false,
            "showline": true,
            "ticks": "outside"
           }
          },
          "title": {
           "x": 0.05
          },
          "xaxis": {
           "automargin": true,
           "gridcolor": "rgb(232,232,232)",
           "linecolor": "rgb(36,36,36)",
           "showgrid": false,
           "showline": true,
           "ticks": "outside",
           "title": {
            "standoff": 15
           },
           "zeroline": false,
           "zerolinecolor": "rgb(36,36,36)"
          },
          "yaxis": {
           "automargin": true,
           "gridcolor": "rgb(232,232,232)",
           "linecolor": "rgb(36,36,36)",
           "showgrid": false,
           "showline": true,
           "ticks": "outside",
           "title": {
            "standoff": 15
           },
           "zeroline": false,
           "zerolinecolor": "rgb(36,36,36)"
          }
         }
        },
        "title": {
         "text": "Kumulierte Gesamtkapazität (Photovoltaik) pro Kanton (2015–2024)"
        },
        "updatemenus": [
         {
          "buttons": [
           {
            "args": [
             null,
             {
              "frame": {
               "duration": 500,
               "redraw": true
              },
              "fromcurrent": true,
              "mode": "immediate",
              "transition": {
               "duration": 500,
               "easing": "linear"
              }
             }
            ],
            "label": "&#9654;",
            "method": "animate"
           },
           {
            "args": [
             [
              null
             ],
             {
              "frame": {
               "duration": 0,
               "redraw": true
              },
              "fromcurrent": true,
              "mode": "immediate",
              "transition": {
               "duration": 0,
               "easing": "linear"
              }
             }
            ],
            "label": "&#9724;",
            "method": "animate"
           }
          ],
          "direction": "left",
          "pad": {
           "r": 10,
           "t": 70
          },
          "showactive": false,
          "type": "buttons",
          "x": 0.1,
          "xanchor": "right",
          "y": 0,
          "yanchor": "top"
         }
        ],
        "xaxis": {
         "anchor": "y",
         "categoryorder": "total descending",
         "domain": [
          0,
          1
         ],
         "title": {
          "text": "Kanton"
         }
        },
        "yaxis": {
         "anchor": "x",
         "domain": [
          0,
          1
         ],
         "range": [
          0,
          785787.959
         ],
         "title": {
          "text": "Kumulierte Gesamtkapazität (MW)"
         }
        }
       }
      }
     },
     "metadata": {},
     "output_type": "display_data"
    }
   ],
   "source": [
    "# Auf Jahre 2015–2024 beschränken\n",
    "df = df[df['Year'].between(2015, 2024)]\n",
    "\n",
    "# Kumulative Gesamtkapazität pro Kanton und Jahr berechnen\n",
    "df_cumulative = (\n",
    "    df.groupby(['Year', 'Canton'])['TotalPower']\n",
    "    .sum()\n",
    "    .groupby(level=1).cumsum()\n",
    "    .reset_index()\n",
    ")\n",
    "\n",
    "# Farben zuweisen: Top 4 Kantone pro Jahr individuell einfärben\n",
    "def assign_color(row, top4):\n",
    "    return (\n",
    "        'rgb(0, 102, 204)' if row['Canton'] == top4[0] else  # Blau\n",
    "        'rgb(0, 153, 76)' if row['Canton'] == top4[1] else  # Grün\n",
    "        'rgb(255, 153, 51)' if row['Canton'] == top4[2] else  # Orange\n",
    "        'rgb(204, 0, 0)' if row['Canton'] == top4[3] else  # Rot\n",
    "        'rgb(169, 169, 169)'  # Grau\n",
    "    )\n",
    "\n",
    "colored_data = []\n",
    "for year in range(2015, 2025):\n",
    "    year_data = df_cumulative[df_cumulative['Year'] == year].copy()\n",
    "    top4 = year_data.sort_values(by='TotalPower', ascending=False).head(4)['Canton'].tolist()\n",
    "    year_data['Color'] = year_data.apply(lambda row: assign_color(row, top4), axis=1)\n",
    "    colored_data.append(year_data)\n",
    "\n",
    "df_colored = pd.concat(colored_data)\n",
    "\n",
    "# Maximalwert für Y-Achse mit 10% Puffer\n",
    "max_y = df_colored['TotalPower'].max() * 1.1\n",
    "\n",
    "import plotly.express as px\n",
    "\n",
    "fig = px.bar(\n",
    "    df_colored,\n",
    "    x='Canton',\n",
    "    y='TotalPower',\n",
    "    animation_frame='Year',\n",
    "    title='Kumulierte Gesamtkapazität (Photovoltaik) pro Kanton (2015–2024)',\n",
    "    labels={'TotalPower': 'Kumulierte Gesamtkapazität (MW)'},\n",
    "    color='Color',\n",
    "    color_discrete_map='identity'\n",
    ")\n",
    "\n",
    "fig.update_traces(text=None)\n",
    "\n",
    "fig.update_layout(\n",
    "    xaxis=dict(categoryorder='total descending', title='Kanton'),\n",
    "    yaxis=dict(range=[0, max_y], title='Kumulierte Gesamtkapazität (MW)'),\n",
    "    template='simple_white',\n",
    "    showlegend=False\n",
    ")\n",
    "\n",
    "# Slider mit redraw, damit Y-Achse sich dynamisch anpasst\n",
    "fig.layout.sliders[0]['steps'] = [\n",
    "    dict(\n",
    "        args=[[str(year)], {\"frame\": {\"duration\": 500, \"redraw\": True}, \"mode\": \"immediate\"}],\n",
    "        label=str(year),\n",
    "        method=\"animate\"\n",
    "    )\n",
    "    for year in df_colored['Year'].unique()\n",
    "]\n",
    "\n",
    "fig.write_html(\"../docs/assets/diagramme/elcom_total_power_2015_2024_kumuliert.html\")\n",
    "\n",
    "fig.show()\n"
   ]
  },
  {
   "cell_type": "markdown",
   "metadata": {},
   "source": [
    "## Karte mit kumulierter Gesamtkapazität der PV-Anlagen pro Gemeinde bis 2024\n",
    "Diese Karte zeigt die kumulierte Gesamtkapazität der PV-Anlagen in jeder Gemeinde bis zum Jahr 2024."
   ]
  },
  {
   "cell_type": "code",
   "execution_count": null,
   "metadata": {},
   "outputs": [],
   "source": [
    "import folium\n",
    "import json\n",
    "from shapely.geometry import shape, mapping\n",
    "from shapely.ops import transform\n",
    "from functools import partial\n",
    "import pyproj\n",
    "\n",
    "# Load CSV File\n",
    "file_path = '../data/electricity_production_plants/AMTOVZ_CSV_WGS84.csv'\n",
    "df_bfs_to_plz = pd.read_csv(file_path, delimiter=';')\n",
    "\n",
    "# Merge DataFrames\n",
    "merged_df = df.merge(\n",
    "    df_bfs_to_plz[['PLZ', 'BFS-Nr']],\n",
    "    left_on='PostCode',\n",
    "    right_on='PLZ',\n",
    "    how='left',\n",
    "    indicator=True\n",
    ")\n",
    "\n",
    "# Prepare cumulative data\n",
    "cumulative_map_data = merged_df[merged_df['Year'] <= 2024].groupby(['BFS-Nr'])['TotalPower'].sum().reset_index()\n",
    "\n",
    "# Load and simplify GeoJSON\n",
    "with open('../data/electricity_production_plants/gemeinden.geojson', 'r', encoding='utf-8') as f:\n",
    "    geojson_data = json.load(f)\n",
    "\n",
    "# Assign default values to missing municipalities\n",
    "average_power = cumulative_map_data['TotalPower'].mean()\n",
    "missing_bfs = set(geojson_data['features'][i]['properties']['gemeinde_BFS_NUMMER'] for i in range(len(geojson_data['features']))) - set(cumulative_map_data['BFS-Nr'])\n",
    "for bfs in missing_bfs:\n",
    "    cumulative_map_data = pd.concat([cumulative_map_data, pd.DataFrame({'BFS-Nr': [bfs], 'TotalPower': [average_power]})], ignore_index=True)\n",
    "\n",
    "simplified_features = []\n",
    "for feature in geojson_data['features']:\n",
    "    geom = shape(feature['geometry'])\n",
    "    simplify = partial(\n",
    "        pyproj.Transformer.from_crs('EPSG:4326', 'EPSG:4326', always_xy=True).transform\n",
    "    )\n",
    "    simplified_geom = transform(simplify, geom).simplify(0.001, preserve_topology=True)\n",
    "    feature['geometry'] = mapping(simplified_geom)\n",
    "    bfs_nr = feature['properties']['gemeinde_BFS_NUMMER']\n",
    "    total_power = cumulative_map_data.loc[cumulative_map_data['BFS-Nr'] == bfs_nr, 'TotalPower'].values[0] if bfs_nr in cumulative_map_data['BFS-Nr'].values else 0\n",
    "    feature['properties']['TotalPower'] = f\"{int(total_power):,}\".replace(\",\", \"'\")\n",
    "    feature['properties']['bfs-str'] = str(feature['properties']['gemeinde_BFS_NUMMER'])\n",
    "    simplified_features.append(feature)\n",
    "\n",
    "geojson_data['features'] = simplified_features\n",
    "\n",
    "map = folium.Map(location=[46.8, 8.33], zoom_start=7)\n",
    "\n",
    "# Add choropleth layer\n",
    "folium.Choropleth(\n",
    "    geo_data=geojson_data,\n",
    "    name='Choropleth',\n",
    "    data=cumulative_map_data,\n",
    "    columns=['BFS-Nr', 'TotalPower'],\n",
    "    key_on='feature.properties.gemeinde_BFS_NUMMER',\n",
    "    fill_color='YlOrRd',\n",
    "    fill_opacity=0.7,\n",
    "    line_opacity=0.2,\n",
    "    legend_name='Total Power (MW)'\n",
    ").add_to(map)\n",
    "\n",
    "# Add tooltips and customize boundary style\n",
    "folium.GeoJson(\n",
    "    geojson_data,\n",
    "    name=\"Gemeinden\",\n",
    "    style_function=lambda feature: {\n",
    "        'color': 'black',\n",
    "        'weight': 0.3,\n",
    "        'fillOpacity': 0\n",
    "    },\n",
    "    tooltip=folium.GeoJsonTooltip(\n",
    "        fields=['gemeinde_NAME', 'bfs-str', 'TotalPower'],\n",
    "        aliases=['Gemeinde:', 'BFS-Nummer:', 'Gesamtkapazität (MW):'],\n",
    "        localize=True\n",
    "    )\n",
    ").add_to(map)\n",
    "\n",
    "# Add title and save map\n",
    "title_html = '''\n",
    "<div style=\"font-size:20px;position: absolute;z-index: 1000;left: 25%;\"><b>Choroplethenkarte von der Leistung der PV Anlagen pro Gemeinde</b></div>\n",
    "'''\n",
    "map.get_root().html.add_child(folium.Element(title_html))\n",
    "\n",
    "map.save('../docs/assets/diagramme/map_cumulative_pv_power.html')\n",
    "\n",
    "map"
   ]
  }
 ],
 "metadata": {
  "kernelspec": {
   "display_name": "base",
   "language": "python",
   "name": "python3"
  },
  "language_info": {
   "codemirror_mode": {
    "name": "ipython",
    "version": 3
   },
   "file_extension": ".py",
   "mimetype": "text/x-python",
   "name": "python",
   "nbconvert_exporter": "python",
   "pygments_lexer": "ipython3",
   "version": "3.12.7"
  }
 },
 "nbformat": 4,
 "nbformat_minor": 2
}
