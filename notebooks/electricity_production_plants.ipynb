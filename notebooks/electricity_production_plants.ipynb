{
 "cells": [
  {
   "cell_type": "markdown",
   "metadata": {},
   "source": [
    "<a href=\"https://colab.research.google.com/github/alendoko/bina/blob/main/LB4/DATA/Python_JUPYTER_Data_Analysis_SteyByStep_Melbourne_Houseprice2025.ipynb\" target=\"_parent\"><img src=\"https://colab.research.google.com/assets/colab-badge.svg\" alt=\"Open In Colab\"/></a>"
   ]
  },
  {
   "cell_type": "markdown",
   "metadata": {},
   "source": [
    "# Jupiter Notebook, welches sich die Daten von bestehenden PV-Anlagen in der Schweiz analysiert"
   ]
  },
  {
   "cell_type": "markdown",
   "metadata": {},
   "source": [
    "## Daten laden, aufbereiten und anreichern"
   ]
  },
  {
   "cell_type": "code",
   "execution_count": null,
   "metadata": {},
   "outputs": [],
   "source": [
    "import pandas as pd\n",
    "\n",
    "# Load CSV File\n",
    "file_path = '../data/electricity_production_plants/ElectricityProductionPlant.csv'  # Replace with the path to your CSV file\n",
    "df = pd.read_csv(file_path)  # Read the CSV file into a DataFrame, handling bad lines and ensuring comma as separator\n",
    "\n",
    "\n",
    "main_categories_file_path = '../data/electricity_production_plants/MainCategoryCatalogue.csv'  # Path to the replacement file\n",
    "main_categories = pd.read_csv(main_categories_file_path)\n",
    "main_categories_dict = dict(zip(main_categories['Catalogue_id'], main_categories['de']))\n",
    "df['MainCategory'] = df['MainCategory'].replace(main_categories_dict)\n",
    "\n",
    "sub_categories_file_path = '../data/electricity_production_plants/SubCategoryCatalogue.csv'  # Path to the replacement file\n",
    "sub_categories = pd.read_csv(sub_categories_file_path)\n",
    "sub_categories_dict = dict(zip(sub_categories['Catalogue_id'], sub_categories['de']))\n",
    "df['SubCategory'] = df['SubCategory'].replace(sub_categories_dict)\n",
    "\n",
    "plant_categories_file_path = '../data/electricity_production_plants/PlantCategoryCatalogue.csv'  # Path to the replacement file\n",
    "plant_categories = pd.read_csv(plant_categories_file_path)\n",
    "plant_categories_dict = dict(zip(plant_categories['Catalogue_id'], plant_categories['de']))\n",
    "df['PlantCategory'] = df['PlantCategory'].replace(plant_categories_dict)\n",
    "\n",
    "# Display the first few rows of the DataFrame to verify the data\n",
    "df.head()\n",
    "\n",
    "\n",
    "\"\"\"\n",
    "    TODO Visualisierungen\n",
    "     - Anzahl der potenziellen Gesamtleistung für alle Kantone aufführen\n",
    "     - Entwicklung der Gesamtleistung je Kanton aggregiert mit Regler für Zeitraum 2015-2024 erstellen. Wie sind die Unterschiede, gibt es Auffälligkeiten?\n",
    "     - Karte mit allen Kraftwerken und deren Leistung erstellen\n",
    "\"\"\""
   ]
  },
  {
   "cell_type": "markdown",
   "metadata": {},
   "source": [
    "## Karte mit allen PV-Anlagen in der Schweiz, Stand 2024"
   ]
  },
  {
   "cell_type": "code",
   "execution_count": null,
   "metadata": {},
   "outputs": [],
   "source": [
    "import folium\n",
    "from folium.plugins import MarkerCluster\n",
    "import ipywidgets as widgets\n",
    "from IPython.display import display\n",
    "from pyproj import Transformer\n",
    "from folium.plugins import FastMarkerCluster\n",
    "\n",
    "# Filter the dataset for Photovoltaik Anlagen\n",
    "df_photovoltaik = df[df['SubCategory'] == 'Photovoltaik']\n",
    "\n",
    "# Convert the 'BeginningOfOperation' column to datetime\n",
    "df_photovoltaik = df_photovoltaik.copy()\n",
    "df_photovoltaik['BeginningOfOperation'] = pd.to_datetime(df_photovoltaik['BeginningOfOperation'], errors='coerce')\n",
    "\n",
    "# Filter the data for the years to 2024\n",
    "df_photovoltaik = df_photovoltaik[df_photovoltaik['BeginningOfOperation'].dt.year <= 2024]\n",
    "\n",
    "# Create a folium map centered on Switzerland\n",
    "map = folium.Map(location=[46.8, 8.33], zoom_start=7, tiles='TopPlusOpen.Color', attr='Map data: &copy; <a href=\"http://www.govdata.de/dl-de/by-2-0\">dl-de/by-2-0</a>')\n",
    "\n",
    "# Add a FastMarkerCluster for better performance with large datasets\n",
    "transformer = Transformer.from_crs(\"EPSG:2056\", \"EPSG:4326\", always_xy=True)\n",
    "markerCluster = FastMarkerCluster(\n",
    "    [[transformer.transform(row['_x'], row['_y'])[1], transformer.transform(row['_x'], row['_y'])[0]]\n",
    "     for _, row in df_photovoltaik.iterrows() if not pd.isna(row['_x']) and not pd.isna(row['_y'])]\n",
    ").add_to(map)\n",
    "\n",
    "# HTML-Code für den Titel\n",
    "title_html = '''\n",
    "<div style=\"font-size:20px;position: absolute;z-index: 1000;left: 25%;\"><b>PV-Anlagen in der Schweiz, Stand 2024</b></div>\n",
    "'''\n",
    "# Hinzufügen des Titels zur Karte\n",
    "map.get_root().html.add_child(folium.Element(title_html))\n",
    "\n",
    "# Speichern der Karte in einer HTML-Datei\n",
    "map.save('../docs/assets/diagramme/elcoms_map.html')\n",
    "\n",
    "# Anzeigen der Karte\n",
    "map\n",
    "\n"
   ]
  }
 ],
 "metadata": {
  "kernelspec": {
   "display_name": "Python 3",
   "language": "python",
   "name": "python3"
  },
  "language_info": {
   "codemirror_mode": {
    "name": "ipython",
    "version": 3
   },
   "file_extension": ".py",
   "mimetype": "text/x-python",
   "name": "python",
   "nbconvert_exporter": "python",
   "pygments_lexer": "ipython3",
   "version": "3.13.2"
  }
 },
 "nbformat": 4,
 "nbformat_minor": 2
}
