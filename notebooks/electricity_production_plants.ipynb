{
 "cells": [
  {
   "cell_type": "markdown",
   "metadata": {},
   "source": [
    "<a href=\"https://colab.research.google.com/github/alendoko/bina/blob/main/LB4/DATA/Python_JUPYTER_Data_Analysis_SteyByStep_Melbourne_Houseprice2025.ipynb\" target=\"_parent\"><img src=\"https://colab.research.google.com/assets/colab-badge.svg\" alt=\"Open In Colab\"/></a>"
   ]
  },
  {
   "cell_type": "markdown",
   "metadata": {},
   "source": [
    "# Jupiter Notebook, welches sich die Daten von bestehenden PV-Anlagen in der Schweiz analysiert"
   ]
  },
  {
   "cell_type": "markdown",
   "metadata": {},
   "source": [
    "## Daten laden, aufbereiten und anreichern"
   ]
  },
  {
   "cell_type": "code",
   "execution_count": null,
   "metadata": {},
   "outputs": [],
   "source": [
    "import pandas as pd\n",
    "\n",
    "# Load CSV File\n",
    "file_path = '../data/electricity_production_plants/ElectricityProductionPlant.csv'  # Path to the main dataset\n",
    "df = pd.read_csv(file_path)  # Read the CSV file into a DataFrame\n",
    "\n",
    "# Load and replace MainCategory values\n",
    "main_categories_file_path = '../data/electricity_production_plants/MainCategoryCatalogue.csv'\n",
    "main_categories = pd.read_csv(main_categories_file_path)\n",
    "main_categories_dict = dict(zip(main_categories['Catalogue_id'], main_categories['de']))\n",
    "df['MainCategory'] = df['MainCategory'].replace(main_categories_dict)\n",
    "\n",
    "# Load and replace SubCategory values\n",
    "sub_categories_file_path = '../data/electricity_production_plants/SubCategoryCatalogue.csv'\n",
    "sub_categories = pd.read_csv(sub_categories_file_path)\n",
    "sub_categories_dict = dict(zip(sub_categories['Catalogue_id'], sub_categories['de']))\n",
    "df['SubCategory'] = df['SubCategory'].replace(sub_categories_dict)\n",
    "\n",
    "# Load and replace PlantCategory values\n",
    "plant_categories_file_path = '../data/electricity_production_plants/PlantCategoryCatalogue.csv'\n",
    "plant_categories = pd.read_csv(plant_categories_file_path)\n",
    "plant_categories_dict = dict(zip(plant_categories['Catalogue_id'], plant_categories['de']))\n",
    "df['PlantCategory'] = df['PlantCategory'].replace(plant_categories_dict)\n",
    "\n",
    "# Filter the dataset for Photovoltaik Anlagen\n",
    "df = df[df['SubCategory'] == 'Photovoltaik'].copy()\n",
    "\n",
    "df['Year'] = pd.to_datetime(df['BeginningOfOperation'], errors='coerce').dt.year\n",
    "\n",
    "# Display the first few rows of the DataFrame to verify the data\n",
    "df.head()\n",
    "\n",
    "# TODO: Add visualizations\n",
    "# - Total potential capacity for all cantons\n",
    "# - Development of total capacity per canton (2015-2024)"
   ]
  },
  {
   "cell_type": "markdown",
   "metadata": {},
   "source": [
    "## Karte mit allen PV-Anlagen in der Schweiz, Stand 2024"
   ]
  },
  {
   "cell_type": "code",
   "execution_count": null,
   "metadata": {},
   "outputs": [],
   "source": [
    "import folium\n",
    "from folium.plugins import FastMarkerCluster\n",
    "from pyproj import Transformer\n",
    "\n",
    "# Convert the 'BeginningOfOperation' column to datetime\n",
    "df['BeginningOfOperation'] = pd.to_datetime(df['BeginningOfOperation'], errors='coerce')\n",
    "\n",
    "# Filter the data for installations up to 2024\n",
    "df = df[df['BeginningOfOperation'].dt.year <= 2024]\n",
    "\n",
    "# Create a folium map centered on Switzerland\n",
    "map = folium.Map(location=[46.8, 8.33], zoom_start=7, tiles='TopPlusOpen.Color', attr='Map data: &copy; <a href=\"http://www.govdata.de/dl-de/by-2-0\">dl-de/by-2-0</a>')\n",
    "\n",
    "# Add a FastMarkerCluster for better performance with large datasets\n",
    "transformer = Transformer.from_crs(\"EPSG:2056\", \"EPSG:4326\", always_xy=True)\n",
    "coordinates = [\n",
    "    [transformer.transform(row['_x'], row['_y'])[1], transformer.transform(row['_x'], row['_y'])[0]]\n",
    "    for _, row in df.iterrows() if not pd.isna(row['_x']) and not pd.isna(row['_y'])\n",
    "]\n",
    "FastMarkerCluster(coordinates).add_to(map)\n",
    "\n",
    "# Add a title to the map\n",
    "title_html = '''\n",
    "<div style=\"font-size:20px;position: absolute;z-index: 1000;left: 25%;\"><b>PV-Anlagen in der Schweiz, Stand 2024</b></div>\n",
    "'''\n",
    "map.get_root().html.add_child(folium.Element(title_html))\n",
    "\n",
    "# Save the map to an HTML file\n",
    "map.save('../docs/assets/diagramme/elcoms_map.html')\n",
    "\n",
    "# Display the map\n",
    "map"
   ]
  },
  {
   "cell_type": "markdown",
   "metadata": {},
   "source": [
    "## Kumulative Entwicklung der Gesamtkapazität ab 2015"
   ]
  },
  {
   "cell_type": "code",
   "execution_count": null,
   "metadata": {},
   "outputs": [],
   "source": [
    "import plotly.express as px\n",
    "\n",
    "cumulative_data = df.groupby(['Year', 'Canton'])['TotalPower'].sum().groupby(level=1).cumsum().reset_index()\n",
    "\n",
    "# Filter data for cumulative values starting from 2015\n",
    "filtered_data = cumulative_data[(cumulative_data['Year'] >= 2015) & (cumulative_data['Year'] <= 2024)]\n",
    "\n",
    "# Calculate cumulative power per canton\n",
    "filtered_data = filtered_data.copy()\n",
    "filtered_data['CumulativePower'] = filtered_data.groupby('Canton')['TotalPower'].cumsum()\n",
    "\n",
    "# Create a line plot\n",
    "fig = px.line(\n",
    "    filtered_data,\n",
    "    x='Year',\n",
    "    y='CumulativePower',\n",
    "    color='Canton',\n",
    "    title='Kumulative Entwicklung der Gesamtkapazität pro Kanton ab 2015 (MW)',\n",
    "    labels={'Year': 'Jahr', 'CumulativePower': 'Kumulative Gesamtkapazität (MW)', 'Canton': 'Kanton'}\n",
    ")\n",
    "\n",
    "# Update x-axis to show every year\n",
    "fig.update_layout(xaxis=dict(tickmode='linear', tick0=2015, dtick=1))\n",
    "\n",
    "fig.show()\n",
    "fig.write_html(\"../docs/assets/diagramme/elcom_entwicklung_total_power.html\")"
   ]
  },
  {
   "cell_type": "markdown",
   "metadata": {},
   "source": [
    "## Gesamtkapazität pro Kanton im Jahr 2024"
   ]
  },
  {
   "cell_type": "code",
   "execution_count": null,
   "metadata": {},
   "outputs": [],
   "source": [
    "import plotly.express as px\n",
    "\n",
    "# Filter data for the year 2024\n",
    "data_2024 = df[df['Year'] == 2024].groupby('Canton')['TotalPower'].sum().reset_index()\n",
    "\n",
    "# Create a bar chart with different colors for each bar\n",
    "fig = px.bar(\n",
    "    data_2024,\n",
    "    x='Canton',\n",
    "    y='TotalPower',\n",
    "    title='Gesamtkapazität pro Kanton im Jahr 2024 (MW)',\n",
    "    labels={'Canton': 'Kanton', 'TotalPower': 'Gesamtkapazität (MW)'},\n",
    "    text='TotalPower'\n",
    ")\n",
    "\n",
    "# Update layout for better readability\n",
    "fig.update_traces(texttemplate='%{text:.2s}', textposition='outside')\n",
    "fig.update_layout(xaxis=dict(categoryorder='total descending'))\n",
    "\n",
    "fig.show()\n",
    "fig.write_html(\"../docs/assets/diagramme/elcom_total_power_2024.html\")"
   ]
  },
  {
   "cell_type": "markdown",
   "metadata": {},
   "source": [
    "## Folium Map: Total Power der PV-Anlagen pro Gemeinde mit Regler pro Jahr"
   ]
  },
  {
   "cell_type": "code",
   "execution_count": null,
   "metadata": {},
   "outputs": [],
   "source": [
    "import folium\n",
    "from folium.plugins import TimeSliderChoropleth\n",
    "\n",
    "# Prepare data for the map\n",
    "df['Year'] = pd.to_datetime(df['BeginningOfOperation'], errors='coerce').dt.year\n",
    "map_data = df.groupby(['Municipality', 'Year', '_x', '_y'])['TotalPower'].sum().reset_index()\n",
    "map_data = map_data.dropna(subset=['_x', '_y'])\n",
    "\n",
    "# Create a GeoJSON-like structure for TimeSliderChoropleth\n",
    "features = []\n",
    "for _, row in map_data.iterrows():\n",
    "    feature = {\n",
    "        'type': 'Feature',\n",
    "        'geometry': {\n",
    "            'type': 'Point',\n",
    "            'coordinates': [row['_x'], row['_y']]\n",
    "        },\n",
    "        'properties': {\n",
    "            'time': row['Year'],\n",
    "            'style': {'color': 'blue', 'fillColor': 'blue', 'fillOpacity': 0.6},\n",
    "            'icon': 'circle',\n",
    "            'popup': f\"Gemeinde: {row['Municipality']}<br>Total Power: {row['TotalPower']} MW\"\n",
    "        }\n",
    "    }\n",
    "    features.append(feature)\n",
    "\n",
    "geojson = {\n",
    "    'type': 'FeatureCollection',\n",
    "    'features': features\n",
    "}\n",
    "\n",
    "# Create a Folium map\n",
    "m = folium.Map(location=[46.8, 8.33], zoom_start=7)\n",
    "\n",
    "# Add TimeSliderChoropleth\n",
    "TimeSliderChoropleth(geojson,\n",
    "    styledict={\n",
    "        feature['properties']['time']: {\n",
    "            'color': feature['properties']['style']['color'],\n",
    "            'opacity': feature['properties']['style']['fillOpacity']\n",
    "        } for feature in features\n",
    "    }\n",
    ").add_to(m)\n",
    "\n",
    "# Save the map to an HTML file\n",
    "m.save('../docs/assets/diagramme/folium_map_pv_total_power.html')\n",
    "\n",
    "# Display the map\n",
    "m"
   ]
  }
 ],
 "metadata": {
  "kernelspec": {
   "display_name": "Python 3",
   "language": "python",
   "name": "python3"
  },
  "language_info": {
   "codemirror_mode": {
    "name": "ipython",
    "version": 3
   },
   "file_extension": ".py",
   "mimetype": "text/x-python",
   "name": "python",
   "nbconvert_exporter": "python",
   "pygments_lexer": "ipython3",
   "version": "3.13.2"
  }
 },
 "nbformat": 4,
 "nbformat_minor": 2
}
