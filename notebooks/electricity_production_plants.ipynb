{
 "cells": [
  {
   "cell_type": "markdown",
   "metadata": {},
   "source": [
    "<a href=\"https://colab.research.google.com/github/alendoko/bina/blob/main/LB4/DATA/Python_JUPYTER_Data_Analysis_SteyByStep_Melbourne_Houseprice2025.ipynb\" target=\"_parent\"><img src=\"https://colab.research.google.com/assets/colab-badge.svg\" alt=\"Open In Colab\"/></a>"
   ]
  },
  {
   "cell_type": "markdown",
   "metadata": {},
   "source": [
    "# Jupiter Notebook, welches sich die Daten von bestehenden PV-Anlagen in der Schweiz analysiert"
   ]
  },
  {
   "cell_type": "markdown",
   "metadata": {},
   "source": [
    "## Daten laden, aufbereiten und anreichern"
   ]
  },
  {
   "cell_type": "code",
   "execution_count": null,
   "metadata": {},
   "outputs": [],
   "source": [
    "import pandas as pd\n",
    "\n",
    "# Load CSV File\n",
    "file_path = '../data/electricity_production_plants/ElectricityProductionPlant.csv'  # Path to the main dataset\n",
    "df = pd.read_csv(file_path)  # Read the CSV file into a DataFrame\n",
    "\n",
    "# Load and replace MainCategory values\n",
    "main_categories_file_path = '../data/electricity_production_plants/MainCategoryCatalogue.csv'\n",
    "main_categories = pd.read_csv(main_categories_file_path)\n",
    "main_categories_dict = dict(zip(main_categories['Catalogue_id'], main_categories['de']))\n",
    "df['MainCategory'] = df['MainCategory'].replace(main_categories_dict)\n",
    "\n",
    "# Load and replace SubCategory values\n",
    "sub_categories_file_path = '../data/electricity_production_plants/SubCategoryCatalogue.csv'\n",
    "sub_categories = pd.read_csv(sub_categories_file_path)\n",
    "sub_categories_dict = dict(zip(sub_categories['Catalogue_id'], sub_categories['de']))\n",
    "df['SubCategory'] = df['SubCategory'].replace(sub_categories_dict)\n",
    "\n",
    "# Load and replace PlantCategory values\n",
    "plant_categories_file_path = '../data/electricity_production_plants/PlantCategoryCatalogue.csv'\n",
    "plant_categories = pd.read_csv(plant_categories_file_path)\n",
    "plant_categories_dict = dict(zip(plant_categories['Catalogue_id'], plant_categories['de']))\n",
    "df['PlantCategory'] = df['PlantCategory'].replace(plant_categories_dict)\n",
    "\n",
    "# Display the first few rows of the DataFrame to verify the data\n",
    "df.head()\n",
    "\n",
    "# TODO: Add visualizations\n",
    "# - Total potential capacity for all cantons\n",
    "# - Development of total capacity per canton (2015-2024)"
   ]
  },
  {
   "cell_type": "markdown",
   "metadata": {},
   "source": [
    "## Karte mit allen PV-Anlagen in der Schweiz, Stand 2024"
   ]
  },
  {
   "cell_type": "code",
   "execution_count": null,
   "metadata": {},
   "outputs": [],
   "source": [
    "import folium\n",
    "from folium.plugins import MarkerCluster, FastMarkerCluster\n",
    "from pyproj import Transformer\n",
    "\n",
    "# Filter the dataset for Photovoltaik Anlagen\n",
    "df_photovoltaik = df[df['SubCategory'] == 'Photovoltaik'].copy()\n",
    "\n",
    "# Convert the 'BeginningOfOperation' column to datetime\n",
    "df_photovoltaik['BeginningOfOperation'] = pd.to_datetime(df_photovoltaik['BeginningOfOperation'], errors='coerce')\n",
    "\n",
    "# Filter the data for installations up to 2024\n",
    "df_photovoltaik = df_photovoltaik[df_photovoltaik['BeginningOfOperation'].dt.year <= 2024]\n",
    "\n",
    "# Create a folium map centered on Switzerland\n",
    "map = folium.Map(location=[46.8, 8.33], zoom_start=7, tiles='TopPlusOpen.Color', attr='Map data: &copy; <a href=\"http://www.govdata.de/dl-de/by-2-0\">dl-de/by-2-0</a>')\n",
    "\n",
    "# Add a FastMarkerCluster for better performance with large datasets\n",
    "transformer = Transformer.from_crs(\"EPSG:2056\", \"EPSG:4326\", always_xy=True)\n",
    "coordinates = [\n",
    "    [transformer.transform(row['_x'], row['_y'])[1], transformer.transform(row['_x'], row['_y'])[0]]\n",
    "    for _, row in df_photovoltaik.iterrows() if not pd.isna(row['_x']) and not pd.isna(row['_y'])\n",
    "]\n",
    "FastMarkerCluster(coordinates).add_to(map)\n",
    "\n",
    "# Add a title to the map\n",
    "title_html = '''\n",
    "<div style=\"font-size:20px;position: absolute;z-index: 1000;left: 25%;\"><b>PV-Anlagen in der Schweiz, Stand 2024</b></div>\n",
    "'''\n",
    "map.get_root().html.add_child(folium.Element(title_html))\n",
    "\n",
    "# Save the map to an HTML file\n",
    "map.save('../docs/assets/diagramme/elcoms_map.html')\n",
    "\n",
    "# Display the map\n",
    "map"
   ]
  },
  {
   "cell_type": "markdown",
   "metadata": {},
   "source": [
    "## Kumulative Entwicklung der Gesamtkapazität ab 2015"
   ]
  },
  {
   "cell_type": "code",
   "execution_count": null,
   "metadata": {},
   "outputs": [],
   "source": [
    "import plotly.express as px\n",
    "\n",
    "df['Year'] = pd.to_datetime(df['BeginningOfOperation'], errors='coerce').dt.year\n",
    "cumulative_data = df.groupby(['Year', 'Canton'])['TotalPower'].sum().groupby(level=1).cumsum().reset_index()\n",
    "\n",
    "# Filter data for cumulative values starting from 2015\n",
    "filtered_data = cumulative_data[(cumulative_data['Year'] >= 2015) & (cumulative_data['Year'] <= 2024)]\n",
    "\n",
    "# Calculate cumulative power per canton\n",
    "filtered_data = filtered_data.copy()\n",
    "filtered_data['CumulativePower'] = filtered_data.groupby('Canton')['TotalPower'].cumsum()\n",
    "\n",
    "# Create a line plot\n",
    "fig = px.line(\n",
    "    filtered_data,\n",
    "    x='Year',\n",
    "    y='CumulativePower',\n",
    "    color='Canton',\n",
    "    title='Kumulative Entwicklung der Gesamtkapazität pro Kanton ab 2015 (MW)',\n",
    "    labels={'Year': 'Jahr', 'CumulativePower': 'Kumulative Gesamtkapazität (MW)', 'Canton': 'Kanton'}\n",
    ")\n",
    "\n",
    "# Update x-axis to show every year\n",
    "fig.update_layout(xaxis=dict(tickmode='linear', tick0=2015, dtick=1))\n",
    "\n",
    "fig.show()\n",
    "fig.write_html(\"../docs/assets/diagramme/elcom_entwicklung_total_power.html\")"
   ]
  },
  {
   "cell_type": "markdown",
   "metadata": {},
   "source": [
    "## Gesamtkapazität pro Kanton im Jahr 2024"
   ]
  },
  {
   "cell_type": "code",
   "execution_count": null,
   "metadata": {},
   "outputs": [],
   "source": [
    "import plotly.express as px\n",
    "\n",
    "# Filter data for the year 2024\n",
    "data_2024 = df[df['Year'] == 2024].groupby('Canton')['TotalPower'].sum().reset_index()\n",
    "\n",
    "# Create a bar chart with different colors for each bar\n",
    "fig = px.bar(\n",
    "    data_2024,\n",
    "    x='Canton',\n",
    "    y='TotalPower',\n",
    "    title='Gesamtkapazität pro Kanton im Jahr 2024 (MW)',\n",
    "    labels={'Canton': 'Kanton', 'TotalPower': 'Gesamtkapazität (MW)'},\n",
    "    text='TotalPower',\n",
    "    color='Canton',  # Assign a unique color per Canton\n",
    "    color_discrete_sequence=px.colors.qualitative.Set3  # Use a predefined color set\n",
    ")\n",
    "\n",
    "# Update layout for better readability\n",
    "fig.update_traces(texttemplate='%{text:.2s}', textposition='outside')\n",
    "fig.update_layout(xaxis=dict(categoryorder='total descending'))\n",
    "\n",
    "fig.show()\n",
    "fig.write_html(\"../docs/assets/diagramme/elcom_total_power_2024.html\")"
   ]
  }
 ],
 "metadata": {
  "kernelspec": {
   "display_name": "Python 3",
   "language": "python",
   "name": "python3"
  },
  "language_info": {
   "codemirror_mode": {
    "name": "ipython",
    "version": 3
   },
   "file_extension": ".py",
   "mimetype": "text/x-python",
   "name": "python",
   "nbconvert_exporter": "python",
   "pygments_lexer": "ipython3",
   "version": "3.13.2"
  }
 },
 "nbformat": 4,
 "nbformat_minor": 2
}
