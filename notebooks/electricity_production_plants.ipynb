{
 "cells": [
  {
   "cell_type": "markdown",
   "metadata": {},
   "source": [
    "<a href=\"https://colab.research.google.com/github/alendoko/bina/blob/main/LB4/DATA/Python_JUPYTER_Data_Analysis_SteyByStep_Melbourne_Houseprice2025.ipynb\" target=\"_parent\"><img src=\"https://colab.research.google.com/assets/colab-badge.svg\" alt=\"Open In Colab\"/></a>"
   ]
  },
  {
   "cell_type": "markdown",
   "metadata": {},
   "source": [
    "# Jupyter Notebook zur Analyse von PV-Anlagen in der Schweiz"
   ]
  },
  {
   "cell_type": "markdown",
   "metadata": {},
   "source": [
    "## Daten laden, aufbereiten und anreichern"
   ]
  },
  {
   "cell_type": "code",
   "execution_count": null,
   "metadata": {},
   "outputs": [],
   "source": [
    "import pandas as pd\n",
    "\n",
    "# Load CSV File\n",
    "file_path = '../data/electricity_production_plants/ElectricityProductionPlant.csv'\n",
    "df = pd.read_csv(file_path)\n",
    "\n",
    "# Replace MainCategory values\n",
    "main_categories = pd.read_csv('../data/electricity_production_plants/MainCategoryCatalogue.csv')\n",
    "df['MainCategory'] = df['MainCategory'].replace(dict(zip(main_categories['Catalogue_id'], main_categories['de'])))\n",
    "\n",
    "# Replace SubCategory values\n",
    "sub_categories = pd.read_csv('../data/electricity_production_plants/SubCategoryCatalogue.csv')\n",
    "df['SubCategory'] = df['SubCategory'].replace(dict(zip(sub_categories['Catalogue_id'], sub_categories['de'])))\n",
    "\n",
    "# Replace PlantCategory values\n",
    "plant_categories = pd.read_csv('../data/electricity_production_plants/PlantCategoryCatalogue.csv')\n",
    "df['PlantCategory'] = df['PlantCategory'].replace(dict(zip(plant_categories['Catalogue_id'], plant_categories['de'])))\n",
    "\n",
    "# Filter for Photovoltaik Anlagen\n",
    "df = df[df['SubCategory'] == 'Photovoltaik'].copy()\n",
    "\n",
    "# Extract year from 'BeginningOfOperation'\n",
    "df['Year'] = pd.to_datetime(df['BeginningOfOperation'], errors='coerce').dt.year\n",
    "\n",
    "# Display the first few rows\n",
    "df.head()"
   ]
  },
  {
   "cell_type": "markdown",
   "metadata": {},
   "source": [
    "## Karte mit allen PV-Anlagen in der Schweiz, Stand 2024"
   ]
  },
  {
   "cell_type": "code",
   "execution_count": null,
   "metadata": {},
   "outputs": [],
   "source": [
    "import folium\n",
    "from folium.plugins import FastMarkerCluster\n",
    "from pyproj import Transformer\n",
    "\n",
    "# Filter data for installations up to 2024\n",
    "df['BeginningOfOperation'] = pd.to_datetime(df['BeginningOfOperation'], errors='coerce')\n",
    "df = df[df['BeginningOfOperation'].dt.year <= 2024]\n",
    "\n",
    "# Create a folium map\n",
    "map = folium.Map(location=[46.8, 8.33], zoom_start=7, tiles='TopPlusOpen.Color', attr='Map data: &copy; <a href=\"http://www.govdata.de/dl-de/by-2-0\">dl-de/by-2-0</a>')\n",
    "\n",
    "# Add marker clusters\n",
    "transformer = Transformer.from_crs(\"EPSG:2056\", \"EPSG:4326\", always_xy=True)\n",
    "coordinates = [\n",
    "    [transformer.transform(row['_x'], row['_y'])[1], transformer.transform(row['_x'], row['_y'])[0]]\n",
    "    for _, row in df.iterrows() if not pd.isna(row['_x']) and not pd.isna(row['_y'])\n",
    "]\n",
    "FastMarkerCluster(coordinates).add_to(map)\n",
    "\n",
    "# Add a title\n",
    "title_html = '''\n",
    "<div style=\"font-size:20px;position: absolute;z-index: 1000;left: 25%;\"><b>PV-Anlagen in der Schweiz, Stand 2024</b></div>\n",
    "'''\n",
    "map.get_root().html.add_child(folium.Element(title_html))\n",
    "\n",
    "# Save and display the map\n",
    "map.save('../docs/assets/diagramme/elcoms_map.html')\n",
    "map"
   ]
  },
  {
   "cell_type": "markdown",
   "metadata": {},
   "source": [
    "## Kumulative Entwicklung der Gesamtkapazität ab 2015"
   ]
  },
  {
   "cell_type": "code",
   "execution_count": null,
   "metadata": {},
   "outputs": [],
   "source": [
    "import plotly.express as px\n",
    "\n",
    "# Group and calculate cumulative data\n",
    "cumulative_data = df.groupby(['Year', 'Canton'])['TotalPower'].sum().groupby(level=1).cumsum().reset_index()\n",
    "filtered_data = cumulative_data[(cumulative_data['Year'] >= 2015) & (cumulative_data['Year'] <= 2024)].copy()\n",
    "filtered_data['CumulativePower'] = filtered_data.groupby('Canton')['TotalPower'].cumsum()\n",
    "\n",
    "# Create a line plot\n",
    "fig = px.line(\n",
    "    filtered_data,\n",
    "    x='Year',\n",
    "    y='CumulativePower',\n",
    "    color='Canton',\n",
    "    title='Kumulative Entwicklung der Gesamtkapazität pro Kanton ab 2015 (MW)',\n",
    "    labels={'Year': 'Jahr', 'CumulativePower': 'Kumulative Gesamtkapazität (MW)', 'Canton': 'Kanton'}\n",
    ")\n",
    "fig.update_layout(xaxis=dict(tickmode='linear', tick0=2015, dtick=1))\n",
    "fig.show()\n",
    "fig.write_html(\"../docs/assets/diagramme/elcom_entwicklung_total_power.html\")"
   ]
  },
  {
   "cell_type": "markdown",
   "metadata": {},
   "source": [
    "## Gesamtkapazität pro Kanton im Jahr 2024"
   ]
  },
  {
   "cell_type": "code",
   "execution_count": null,
   "metadata": {},
   "outputs": [],
   "source": [
    "import plotly.express as px\n",
    "\n",
    "# Filter data for 2024\n",
    "data_2024 = df[df['Year'] == 2024].groupby('Canton')['TotalPower'].sum().reset_index()\n",
    "\n",
    "# Create a bar chart\n",
    "fig = px.bar(\n",
    "    data_2024,\n",
    "    x='Canton',\n",
    "    y='TotalPower',\n",
    "    title='Gesamtkapazität pro Kanton im Jahr 2024 (MW)',\n",
    "    labels={'Canton': 'Kanton', 'TotalPower': 'Gesamtkapazität (MW)'},\n",
    "    text='TotalPower'\n",
    ")\n",
    "fig.update_traces(texttemplate='%{text:.2s}', textposition='outside')\n",
    "fig.update_layout(xaxis=dict(categoryorder='total descending'))\n",
    "fig.show()\n",
    "fig.write_html(\"../docs/assets/diagramme/elcom_total_power_2024.html\")"
   ]
  },
  {
   "cell_type": "markdown",
   "metadata": {},
   "source": [
    "## Karte mit kumulierter Gesamtkapazität der PV-Anlagen pro Gemeinde bis 2024"
   ]
  },
  {
   "cell_type": "code",
   "execution_count": null,
   "metadata": {},
   "outputs": [],
   "source": [
    "import locale\n",
    "import folium\n",
    "import json\n",
    "from shapely.geometry import shape, mapping\n",
    "from shapely.ops import transform\n",
    "from functools import partial\n",
    "import pyproj\n",
    "\n",
    "# Load CSV File\n",
    "file_path = '../data/electricity_production_plants/AMTOVZ_CSV_WGS84.csv'\n",
    "df_bfs_to_plz = pd.read_csv(file_path, delimiter=';')\n",
    "\n",
    "# Merge and identify non-matching rows\n",
    "merged_df = df.merge(\n",
    "    df_bfs_to_plz[['PLZ', 'BFS-Nr']],\n",
    "    left_on='PostCode',\n",
    "    right_on='PLZ',\n",
    "    how='left',\n",
    "    indicator=True\n",
    ")\n",
    "\n",
    "# Prepare cumulative data\n",
    "cumulative_map_data = merged_df[merged_df['Year'] <= 2024].groupby(['BFS-Nr'])['TotalPower'].sum().reset_index()\n",
    "\n",
    "# Assign default values to missing municipalities\n",
    "average_power = cumulative_map_data['TotalPower'].mean()\n",
    "missing_bfs = set(geojson_data['features'][i]['properties']['gemeinde_BFS_NUMMER'] for i in range(len(geojson_data['features']))) - set(cumulative_map_data['BFS-Nr'])\n",
    "for bfs in missing_bfs:\n",
    "    cumulative_map_data = pd.concat([cumulative_map_data, pd.DataFrame({'BFS-Nr': [bfs], 'TotalPower': [average_power]})], ignore_index=True)\n",
    "\n",
    "# Load and simplify GeoJSON\n",
    "with open('../data/electricity_production_plants/gemeinden.geojson', 'r', encoding='utf-8') as f:\n",
    "    geojson_data = json.load(f)\n",
    "\n",
    "simplified_features = []\n",
    "for feature in geojson_data['features']:\n",
    "    geom = shape(feature['geometry'])\n",
    "    simplify = partial(\n",
    "        pyproj.Transformer.from_crs('EPSG:4326', 'EPSG:4326', always_xy=True).transform\n",
    "    )\n",
    "    simplified_geom = transform(simplify, geom).simplify(0.001, preserve_topology=True)\n",
    "    feature['geometry'] = mapping(simplified_geom)\n",
    "    bfs_nr = feature['properties']['gemeinde_BFS_NUMMER']\n",
    "    total_power = cumulative_map_data.loc[cumulative_map_data['BFS-Nr'] == bfs_nr, 'TotalPower'].values[0] if bfs_nr in cumulative_map_data['BFS-Nr'].values else 0\n",
    "    feature['properties']['TotalPower'] = f\"{int(total_power):,}\".replace(\",\", \"'\")\n",
    "    feature['properties']['bfs-str'] = str(feature['properties']['gemeinde_BFS_NUMMER'])\n",
    "    simplified_features.append(feature)\n",
    "\n",
    "geojson_data['features'] = simplified_features\n",
    "\n",
    "map = folium.Map(location=[46.8, 8.33], zoom_start=7)\n",
    "\n",
    "# Add choropleth layer\n",
    "folium.Choropleth(\n",
    "    geo_data=geojson_data,\n",
    "    name='Choropleth',\n",
    "    data=cumulative_map_data,\n",
    "    columns=['BFS-Nr', 'TotalPower'],\n",
    "    key_on='feature.properties.gemeinde_BFS_NUMMER',\n",
    "    fill_color='YlOrRd',\n",
    "    fill_opacity=0.7,\n",
    "    line_opacity=0.2,\n",
    "    legend_name='Total Power (MW)'\n",
    ").add_to(map)\n",
    "\n",
    "# Add tooltips and customize boundary style\n",
    "folium.GeoJson(\n",
    "    geojson_data,\n",
    "    name=\"Gemeinden\",\n",
    "    style_function=lambda feature: {\n",
    "        'color': 'black',\n",
    "        'weight': 0.3,\n",
    "        'fillOpacity': 0\n",
    "    },\n",
    "    tooltip=folium.GeoJsonTooltip(\n",
    "        fields=['gemeinde_NAME', 'bfs-str', 'TotalPower'],\n",
    "        aliases=['Gemeinde:', 'BFS-Nummer:', 'Gesamtkapazität (MW):'],\n",
    "        localize=True\n",
    "    )\n",
    ").add_to(map)\n",
    "\n",
    "# Add title and save map\n",
    "title_html = '''\n",
    "<div style=\"font-size:20px;position: absolute;z-index: 1000;left: 25%;\"><b>Heatmap von der Leistung der PV Anlagen pro Gemeinde</b></div>\n",
    "'''\n",
    "map.get_root().html.add_child(folium.Element(title_html))\n",
    "\n",
    "map.save('../docs/assets/diagramme/map_cumulative_pv_power.html')\n",
    "\n",
    "map"
   ]
  }
 ],
 "metadata": {
  "kernelspec": {
   "display_name": "Python 3",
   "language": "python",
   "name": "python3"
  },
  "language_info": {
   "codemirror_mode": {
    "name": "ipython",
    "version": 3
   },
   "file_extension": ".py",
   "mimetype": "text/x-python",
   "name": "python",
   "nbconvert_exporter": "python",
   "pygments_lexer": "ipython3",
   "version": "3.13.3"
  }
 },
 "nbformat": 4,
 "nbformat_minor": 2
}
