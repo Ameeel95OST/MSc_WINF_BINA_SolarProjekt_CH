{
 "cells": [
  {
   "cell_type": "markdown",
   "id": "856b2d32",
   "metadata": {},
   "source": [
    "# Wirkungsgrad der PV-Anlagen in der Schweiz der letzten 10 Jahre\n",
    "Dieses Notebook visualisiert die Entwicklung des Modulwirkungsgrads von PV-Anlagen in der Schweiz über die letzten 10 Jahre."
   ]
  },
  {
   "cell_type": "markdown",
   "id": "dc99fd2c",
   "metadata": {},
   "source": [
    "## Daten laden, aufbereiten und anreichern"
   ]
  },
  {
   "cell_type": "code",
   "execution_count": null,
   "id": "dfd65852",
   "metadata": {},
   "outputs": [],
   "source": [
    "# Bibliotheken importieren\n",
    "import pandas as pd\n",
    "import plotly.express as px\n",
    "\n",
    "# CSV-Daten laden\n",
    "file_path = '../data/wirkungsgrad/Wirkungsgrad PV Anlagen Schweiz 10 Jahre.csv'\n",
    "data = pd.read_csv(file_path, sep=';')\n",
    "\n",
    "# Spalten umbenennen für bessere Lesbarkeit\n",
    "data.rename(columns={\n",
    "    'Jahr': 'Year',\n",
    "    '∅ Modulwirkungsgrad in % Von': 'Efficiency From (%)',\n",
    "    '∅ Modulwirkungsgrad in % Bis': 'Efficiency To (%)'\n",
    "}, inplace=True)\n",
    "\n",
    "# Durchschnittlichen Wirkungsgrad berechnen\n",
    "data['Average Efficiency (%)'] = (data['Efficiency From (%)'] + data['Efficiency To (%)']) / 2\n",
    "\n",
    "# Daten anzeigen\n",
    "data"
   ]
  },
  {
   "cell_type": "markdown",
   "id": "858cf538",
   "metadata": {},
   "source": [
    "## Diagramm erstellen"
   ]
  },
  {
   "cell_type": "code",
   "execution_count": null,
   "id": "3ba63a96",
   "metadata": {},
   "outputs": [],
   "source": [
    "# Interaktives Diagramm erstellen\n",
    "fig = px.line(\n",
    "    data,\n",
    "    x='Year',\n",
    "    y='Average Efficiency (%)',\n",
    "    title='Durchschnittlicher Modulwirkungsgrad von PV-Anlagen in der Schweiz (2015-2024)',\n",
    "    labels={'Year': 'Jahr', 'Average Efficiency (%)': 'Durchschnittlicher Wirkungsgrad (%)'}\n",
    ")\n",
    "\n",
    "# Layout anpassen\n",
    "fig.update_traces(mode='markers+lines', line_color='gray')  # Neutrale Farbe für die Linie\n",
    "fig.update_layout(\n",
    "    xaxis=dict(tickmode='linear', title='Jahr', showline=True, linecolor='black'),\n",
    "    yaxis=dict(title='Durchschnittlicher Wirkungsgrad (%)', showline=True, linecolor='black'),\n",
    "    title=dict(font=dict(size=16)),\n",
    "    plot_bgcolor='white',\n",
    "    showlegend=False  # Legende ausblenden, da sie redundant ist\n",
    ")\n",
    "\n",
    "# Diagramm als HTML speichern\n",
    "fig.write_html('../docs/assets/diagramme/Wirkungsgrad_PV_Anlagen.html')\n",
    "\n",
    "# Diagramm anzeigen\n",
    "fig.show()"
   ]
  }
 ],
 "metadata": {
  "kernelspec": {
   "display_name": "Python 3",
   "language": "python",
   "name": "python3"
  },
  "language_info": {
   "codemirror_mode": {
    "name": "ipython",
    "version": 3
   },
   "file_extension": ".py",
   "mimetype": "text/x-python",
   "name": "python",
   "nbconvert_exporter": "python",
   "pygments_lexer": "ipython3",
   "version": "3.13.3"
  }
 },
 "nbformat": 4,
 "nbformat_minor": 5
}
