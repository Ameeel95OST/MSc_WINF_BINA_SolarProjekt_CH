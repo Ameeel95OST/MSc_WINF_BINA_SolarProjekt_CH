{
 "cells": [
  {
   "cell_type": "markdown",
   "id": "856b2d32",
   "metadata": {},
   "source": [
    "# Entwicklung des Modulwirkungsgrads von PV-Anlagen in der Schweiz (2015–2024)\n",
    "Dieses Notebook analysiert und visualisiert die Entwicklung des durchschnittlichen Modulwirkungsgrads von Photovoltaik-Anlagen in der Schweiz über die letzten 10 Jahre."
   ]
  },
  {
   "cell_type": "markdown",
   "id": "dc99fd2c",
   "metadata": {},
   "source": [
    "## Datenimport und Aufbereitung\n",
    "Im Folgenden werden die Rohdaten geladen, sinnvoll umbenannt und für die Analyse vorbereitet."
   ]
  },
  {
   "cell_type": "code",
   "execution_count": null,
   "id": "dfd65852",
   "metadata": {},
   "outputs": [],
   "source": [
    "# Bibliotheken importieren\n",
    "import pandas as pd\n",
    "import plotly.express as px\n",
    "\n",
    "# CSV-Daten einlesen\n",
    "file_path = '../data/wirkungsgrad/Wirkungsgrad PV Anlagen Schweiz 10 Jahre.csv'\n",
    "data = pd.read_csv(file_path, sep=';')\n",
    "\n",
    "# Spalten für bessere Lesbarkeit umbenennen\n",
    "data.rename(\n",
    "    columns={\n",
    "        'Jahr': 'Year',\n",
    "        '∅ Modulwirkungsgrad in % Von': 'Efficiency From (%)',\n",
    "        '∅ Modulwirkungsgrad in % Bis': 'Efficiency To (%)'\n",
    "    },\n",
    "    inplace=True\n",
    ")\n",
    "\n",
    "# Durchschnittlichen Modulwirkungsgrad berechnen\n",
    "data['Average Efficiency (%)'] = (\n",
    "    data['Efficiency From (%)'] + data['Efficiency To (%)']\n",
    ") / 2\n",
    "\n",
    "# Datenüberblick anzeigen\n",
    "data"
   ]
  },
  {
   "cell_type": "markdown",
   "id": "858cf538",
   "metadata": {},
   "source": [
    "## Visualisierung des Wirkungsgrads\n",
    "Im nächsten Schritt wird die Entwicklung des durchschnittlichen Modulwirkungsgrads als Liniendiagramm dargestellt."
   ]
  },
  {
   "cell_type": "code",
   "execution_count": null,
   "id": "3ba63a96",
   "metadata": {},
   "outputs": [],
   "source": [
    "# Interaktives Liniendiagramm mit Plotly erstellen\n",
    "fig = px.line(\n",
    "    data,\n",
    "    x='Year',\n",
    "    y='Average Efficiency (%)',\n",
    "    title='Durchschnittlicher Modulwirkungsgrad von PV-Anlagen in der Schweiz',\n",
    "    labels={\n",
    "        'Year': 'Jahr',\n",
    "        'Average Efficiency (%)': 'Durchschnittlicher Wirkungsgrad (%)'\n",
    "    }\n",
    ")\n",
    "\n",
    "# Diagramm-Layout anpassen\n",
    "fig.update_traces(\n",
    "    mode='markers+lines',\n",
    "    line_color='gray'\n",
    ")\n",
    "fig.update_layout(\n",
    "    xaxis=dict(\n",
    "        tickmode='linear',\n",
    "        title='Jahr',\n",
    "        showline=True,\n",
    "        linecolor='black'\n",
    "    ),\n",
    "    yaxis=dict(\n",
    "        title='Durchschnittlicher Wirkungsgrad (%)',\n",
    "        showline=True,\n",
    "        linecolor='black'\n",
    "    ),\n",
    "    title=dict(font=dict(size=16)),\n",
    "    plot_bgcolor='white',\n",
    "    showlegend=False\n",
    ")\n",
    "\n",
    "# Diagramm als HTML-Datei speichern und anzeigen\n",
    "fig.write_html('../docs/assets/diagramme/Wirkungsgrad_PV_Anlagen.html')\n",
    "fig.show()"
   ]
  }
 ],
 "metadata": {
  "kernelspec": {
   "display_name": "Python 3",
   "language": "python",
   "name": "python3"
  },
  "language_info": {
   "codemirror_mode": {
    "name": "ipython",
    "version": 3
   },
   "file_extension": ".py",
   "mimetype": "text/x-python",
   "name": "python",
   "nbconvert_exporter": "python",
   "pygments_lexer": "ipython3",
   "version": "3.13.3"
  }
 },
 "nbformat": 4,
 "nbformat_minor": 5
}
