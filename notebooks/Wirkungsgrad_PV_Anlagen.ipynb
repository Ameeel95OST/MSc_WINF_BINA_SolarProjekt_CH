{
 "cells": [
  {
   "cell_type": "markdown",
   "id": "7ec53c96",
   "metadata": {},
   "source": [
    "<a href=\"https://colab.research.google.com/github/alendoko/bina/blob/main/LB4/DATA/Python_JUPYTER_Data_Analysis_SteyByStep_Melbourne_Houseprice2025.ipynb\" target=\"_parent\"><img src=\"https://colab.research.google.com/assets/colab-badge.svg\" alt=\"Open In Colab\"/></a>"
   ]
  },
  {
   "cell_type": "markdown",
   "id": "856b2d32",
   "metadata": {},
   "source": [
    "# Wirkungsgrad der PV-Anlagen in der Schweiz der letzten 10 Jahre\n",
    "Dieses Notebook visualisiert die Entwicklung des Modulwirkungsgrads von PV-Anlagen in der Schweiz über die letzten 10 Jahre."
   ]
  },
  {
   "cell_type": "markdown",
   "id": "dc99fd2c",
   "metadata": {},
   "source": [
    "## Daten laden, aufbereiten und anreichern"
   ]
  },
  {
   "cell_type": "code",
   "execution_count": null,
   "id": "dfd65852",
   "metadata": {},
   "outputs": [],
   "source": [
    "# Bibliotheken importieren\n",
    "import pandas as pd\n",
    "import plotly.express as px\n",
    "\n",
    "# CSV-Daten laden\n",
    "file_path = '../data/wirkungsgrad/Wirkungsgrad PV Anlagen Schweiz 10 Jahre.csv'\n",
    "data = pd.read_csv(file_path, sep=';')\n",
    "data.rename(columns={\n",
    "    'Jahr': 'Year',\n",
    "    '∅ Modulwirkungsgrad in % Von': 'Efficiency From (%)',\n",
    "    '∅ Modulwirkungsgrad in % Bis': 'Efficiency To (%)'\n",
    "}, inplace=True)\n",
    "data['Average Efficiency (%)'] = (data['Efficiency From (%)'] + data['Efficiency To (%)']) / 2\n",
    "data"
   ]
  },
  {
   "cell_type": "markdown",
   "id": "858cf538",
   "metadata": {},
   "source": [
    "## Diagramm erstellen"
   ]
  },
  {
   "cell_type": "code",
   "execution_count": null,
   "id": "3ba63a96",
   "metadata": {},
   "outputs": [],
   "source": [
    "# Interaktives Diagramm erstellen\n",
    "fig = px.line(\n",
    "    data,\n",
    "    x='Year',\n",
    "    y='Average Efficiency (%)',\n",
    "    title='Durchschnittlicher Modulwirkungsgrad von PV-Anlagen in der Schweiz (2015-2024)',\n",
    "    labels={'Year': 'Jahr', 'Average Efficiency (%)': 'Durchschnittlicher Wirkungsgrad (%)'}\n",
    ")\n",
    "fig.update_traces(mode='markers+lines')\n",
    "fig.update_layout(xaxis=dict(tickmode='linear'))  # Alle Jahre anzeigen\n",
    "\n",
    "# Diagramm als HTML speichern\n",
    "output_file = '../docs/assets/diagramme/Wirkungsgrad_PV_Anlagen.html'\n",
    "fig.write_html(output_file)\n",
    "print(f'Diagramm wurde als HTML gespeichert: {output_file}')\n",
    "\n",
    "fig.show()"
   ]
  }
 ],
 "metadata": {
  "kernelspec": {
   "display_name": "Python 3",
   "language": "python",
   "name": "python3"
  },
  "language_info": {
   "codemirror_mode": {
    "name": "ipython",
    "version": 3
   },
   "file_extension": ".py",
   "mimetype": "text/x-python",
   "name": "python",
   "nbconvert_exporter": "python",
   "pygments_lexer": "ipython3",
   "version": "3.13.2"
  }
 },
 "nbformat": 4,
 "nbformat_minor": 5
}
