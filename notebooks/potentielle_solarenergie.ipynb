{
 "cells": [
  {
   "cell_type": "markdown",
   "id": "749f26c6",
   "metadata": {},
   "source": [
    "# Analyse der potentiellen Solarenergie in der Schweiz\n",
    "Dieses Notebook analysiert die potentiellen Solarenergiepotenziale in der Schweiz basierend auf Dach- und Fassadenflächen."
   ]
  },
  {
   "cell_type": "markdown",
   "id": "387b8a9a",
   "metadata": {},
   "source": [
    "## Daten laden, aufbereiten und anreichern\n",
    "In diesem Abschnitt werden die Daten geladen, gefiltert und für die Analyse vorbereitet."
   ]
  },
  {
   "cell_type": "code",
   "execution_count": 1,
   "id": "52948397",
   "metadata": {},
   "outputs": [
    {
     "data": {
      "text/html": [
       "<div>\n",
       "<style scoped>\n",
       "    .dataframe tbody tr th:only-of-type {\n",
       "        vertical-align: middle;\n",
       "    }\n",
       "\n",
       "    .dataframe tbody tr th {\n",
       "        vertical-align: top;\n",
       "    }\n",
       "\n",
       "    .dataframe thead th {\n",
       "        text-align: right;\n",
       "    }\n",
       "</style>\n",
       "<table border=\"1\" class=\"dataframe\">\n",
       "  <thead>\n",
       "    <tr style=\"text-align: right;\">\n",
       "      <th></th>\n",
       "      <th>Canton</th>\n",
       "      <th>Scenario1_RoofsOnly_PotentialSolarElectricity_GWh</th>\n",
       "      <th>Scenario3_RoofsFacades_PotentialSolarElectricity_GWh</th>\n",
       "    </tr>\n",
       "  </thead>\n",
       "  <tbody>\n",
       "    <tr>\n",
       "      <th>0</th>\n",
       "      <td>Zürich</td>\n",
       "      <td>16.03</td>\n",
       "      <td>21.42</td>\n",
       "    </tr>\n",
       "    <tr>\n",
       "      <th>1</th>\n",
       "      <td>Zürich</td>\n",
       "      <td>68.29</td>\n",
       "      <td>92.03</td>\n",
       "    </tr>\n",
       "    <tr>\n",
       "      <th>2</th>\n",
       "      <td>Zürich</td>\n",
       "      <td>24.62</td>\n",
       "      <td>32.93</td>\n",
       "    </tr>\n",
       "    <tr>\n",
       "      <th>3</th>\n",
       "      <td>Zürich</td>\n",
       "      <td>29.31</td>\n",
       "      <td>40.20</td>\n",
       "    </tr>\n",
       "    <tr>\n",
       "      <th>4</th>\n",
       "      <td>Zürich</td>\n",
       "      <td>23.13</td>\n",
       "      <td>31.05</td>\n",
       "    </tr>\n",
       "  </tbody>\n",
       "</table>\n",
       "</div>"
      ],
      "text/plain": [
       "   Canton  Scenario1_RoofsOnly_PotentialSolarElectricity_GWh  \\\n",
       "0  Zürich                                              16.03   \n",
       "1  Zürich                                              68.29   \n",
       "2  Zürich                                              24.62   \n",
       "3  Zürich                                              29.31   \n",
       "4  Zürich                                              23.13   \n",
       "\n",
       "   Scenario3_RoofsFacades_PotentialSolarElectricity_GWh  \n",
       "0                                              21.42     \n",
       "1                                              92.03     \n",
       "2                                              32.93     \n",
       "3                                              40.20     \n",
       "4                                              31.05     "
      ]
     },
     "execution_count": 1,
     "metadata": {},
     "output_type": "execute_result"
    }
   ],
   "source": [
    "# Bibliotheken importieren\n",
    "import pandas as pd\n",
    "import requests\n",
    "\n",
    "# Pfad zur JSON-Datei mit den Solarenergiepotenzialen\n",
    "file_path_data = '../data/potentielle_solarenergie/Solarenergiepotenziale_Gemeinden_Daecher_und_Fassaden.json'\n",
    "\n",
    "# Daten laden\n",
    "data = pd.read_json(file_path_data)\n",
    "\n",
    "# Daten in ein DataFrame umwandeln\n",
    "df = pd.DataFrame(data)\n",
    "\n",
    "# Daten nach Country = 'CH' filtern\n",
    "df = df[df['Country'] == 'CH']\n",
    "\n",
    "# Nur relevante Spalten auswählen\n",
    "df = df[['Canton', 'Scenario1_RoofsOnly_PotentialSolarElectricity_GWh', 'Scenario3_RoofsFacades_PotentialSolarElectricity_GWh']]\n",
    "\n",
    "# Erste Zeilen anzeigen\n",
    "df.head()"
   ]
  },
  {
   "cell_type": "markdown",
   "id": "91135b24",
   "metadata": {},
   "source": [
    "## Balkendiagramm erstellen: Potenzielle Solarenergie in der Schweiz\n",
    "Das Diagramm visualisiert die potentiellen Solarenergiepotenziale nach Kanton."
   ]
  },
  {
   "cell_type": "code",
   "execution_count": 11,
   "id": "88105dba",
   "metadata": {},
   "outputs": [
    {
     "data": {
      "application/vnd.plotly.v1+json": {
       "config": {
        "plotlyServerURL": "https://plot.ly"
       },
       "data": [
        {
         "marker": {
          "color": [
           "rgb(0, 0, 0)",
           "rgb(0, 0, 0)",
           "rgb(0, 0, 0)",
           "rgb(0, 0, 0)",
           "rgb(169, 169, 169)",
           "rgb(169, 169, 169)",
           "rgb(169, 169, 169)",
           "rgb(169, 169, 169)",
           "rgb(169, 169, 169)",
           "rgb(169, 169, 169)",
           "rgb(169, 169, 169)",
           "rgb(169, 169, 169)",
           "rgb(169, 169, 169)",
           "rgb(169, 169, 169)",
           "rgb(169, 169, 169)",
           "rgb(169, 169, 169)",
           "rgb(169, 169, 169)",
           "rgb(169, 169, 169)",
           "rgb(169, 169, 169)",
           "rgb(169, 169, 169)",
           "rgb(169, 169, 169)",
           "rgb(169, 169, 169)",
           "rgb(169, 169, 169)",
           "rgb(169, 169, 169)",
           "rgb(169, 169, 169)",
           "rgb(169, 169, 169)"
          ]
         },
         "name": "Dächer",
         "text": [
          "9.2k",
          "7.3k",
          "6.0k",
          "5.4k",
          "4.1k",
          "3.9k",
          "3.4k",
          "3.3k",
          "3.3k",
          "2.8k",
          "2.6k",
          "2.4k",
          "2.1k",
          "1.9k",
          "1.2k",
          "1.1k",
          "1.0k",
          "0.7k",
          "0.7k",
          "0.6k",
          "0.4k",
          "0.3k",
          "0.3k",
          "0.3k",
          "0.3k",
          "0.2k"
         ],
         "textposition": "inside",
         "type": "bar",
         "x": [
          "Bern",
          "Zürich",
          "Vaud",
          "Aargau",
          "St. Gallen",
          "Valais",
          "Ticino",
          "Luzern",
          "Fribourg",
          "Thurgau",
          "Graubünden",
          "Solothurn",
          "Genève",
          "Basel-Landschaft",
          "Neuchâtel",
          "Schwyz",
          "Jura",
          "Schaffhausen",
          "Zug",
          "Basel-Stadt",
          "Appenzell Ausserrhoden",
          "Obwalden",
          "Glarus",
          "Uri",
          "Nidwalden",
          "Appenzell Innerrhoden"
         ],
         "y": {
          "bdata": "KVyPwlXwwUC4HoXrkXq8QGZmZmbmkLdAw/UoXA83tUAfhetRONCvQDMzMzMzUK5APQrXo/CxqkBxPQrXI/upQOxRuB6F+qlA61G4HgUEpkCuR+F6lIukQClcj8L1iaJAmpmZmZkKoEBmZmZmZiWdQFK4HoXrVJNAcT0K16OSkED2KFyPwj+PQOF6FK5HB4ZApHA9CteNhUApXI/C9c6DQKRwPQrXv3pACtejcD1idUC4HoXrUZx0QK5H4XoUEnJAPQrXo3Ctb0C4HoXrUUBkQA==",
          "dtype": "f8"
         }
        },
        {
         "marker": {
          "color": [
           "rgb(128, 128, 128)",
           "rgb(128, 128, 128)",
           "rgb(128, 128, 128)",
           "rgb(128, 128, 128)",
           "rgb(211, 211, 211)",
           "rgb(211, 211, 211)",
           "rgb(211, 211, 211)",
           "rgb(211, 211, 211)",
           "rgb(211, 211, 211)",
           "rgb(211, 211, 211)",
           "rgb(211, 211, 211)",
           "rgb(211, 211, 211)",
           "rgb(211, 211, 211)",
           "rgb(211, 211, 211)",
           "rgb(211, 211, 211)",
           "rgb(211, 211, 211)",
           "rgb(211, 211, 211)",
           "rgb(211, 211, 211)",
           "rgb(211, 211, 211)",
           "rgb(211, 211, 211)",
           "rgb(211, 211, 211)",
           "rgb(211, 211, 211)",
           "rgb(211, 211, 211)",
           "rgb(211, 211, 211)",
           "rgb(211, 211, 211)",
           "rgb(211, 211, 211)"
          ]
         },
         "name": "Fassaden",
         "text": [
          "2.7k",
          "2.5k",
          "1.9k",
          "1.6k",
          "1.4k",
          "1.4k",
          "1.2k",
          "1.1k",
          "1.1k",
          "0.8k",
          "1.1k",
          "0.7k",
          "0.5k",
          "0.6k",
          "0.5k",
          "0.4k",
          "0.3k",
          "0.2k",
          "0.3k",
          "0.2k",
          "0.2k",
          "0.1k",
          "0.1k",
          "0.1k",
          "0.1k",
          "0.1k"
         ],
         "textposition": "inside",
         "type": "bar",
         "x": [
          "Bern",
          "Zürich",
          "Vaud",
          "Aargau",
          "St. Gallen",
          "Valais",
          "Ticino",
          "Luzern",
          "Fribourg",
          "Thurgau",
          "Graubünden",
          "Solothurn",
          "Genève",
          "Basel-Landschaft",
          "Neuchâtel",
          "Schwyz",
          "Jura",
          "Schaffhausen",
          "Zug",
          "Basel-Stadt",
          "Appenzell Ausserrhoden",
          "Obwalden",
          "Glarus",
          "Uri",
          "Nidwalden",
          "Appenzell Innerrhoden"
         ],
         "y": {
          "bdata": "pHA9ClcXpUB8FK5HYZujQLBH4XoUx51A9Chcj8JUmUCamZmZmTeWQJqZmZmZKpVAKlyPwvUMk0AehetRuCSRQOB6FK5H0pBAVLgehet7ikAqXI/C9RSRQKRwPQrXW4VAqEfhehRGfkAoXI/C9b6DQOxRuB6Fs31AWI/C9SgMeUCkcD0K1/9yQBSuR+F6bGpA9ihcj8IhcEC4HoXrUcBoQMT1KFyPKmdAAAAAAACIYEAEAAAAAHBcQGhmZmZmJlpA/v////8PV0CQwvUoXD9RQA==",
          "dtype": "f8"
         }
        }
       ],
       "layout": {
        "barmode": "stack",
        "height": 500,
        "legend": {
         "title": {
          "text": "Flächenkategorie"
         }
        },
        "template": {
         "data": {
          "bar": [
           {
            "error_x": {
             "color": "rgb(36,36,36)"
            },
            "error_y": {
             "color": "rgb(36,36,36)"
            },
            "marker": {
             "line": {
              "color": "white",
              "width": 0.5
             },
             "pattern": {
              "fillmode": "overlay",
              "size": 10,
              "solidity": 0.2
             }
            },
            "type": "bar"
           }
          ],
          "barpolar": [
           {
            "marker": {
             "line": {
              "color": "white",
              "width": 0.5
             },
             "pattern": {
              "fillmode": "overlay",
              "size": 10,
              "solidity": 0.2
             }
            },
            "type": "barpolar"
           }
          ],
          "carpet": [
           {
            "aaxis": {
             "endlinecolor": "rgb(36,36,36)",
             "gridcolor": "white",
             "linecolor": "white",
             "minorgridcolor": "white",
             "startlinecolor": "rgb(36,36,36)"
            },
            "baxis": {
             "endlinecolor": "rgb(36,36,36)",
             "gridcolor": "white",
             "linecolor": "white",
             "minorgridcolor": "white",
             "startlinecolor": "rgb(36,36,36)"
            },
            "type": "carpet"
           }
          ],
          "choropleth": [
           {
            "colorbar": {
             "outlinewidth": 1,
             "tickcolor": "rgb(36,36,36)",
             "ticks": "outside"
            },
            "type": "choropleth"
           }
          ],
          "contour": [
           {
            "colorbar": {
             "outlinewidth": 1,
             "tickcolor": "rgb(36,36,36)",
             "ticks": "outside"
            },
            "colorscale": [
             [
              0,
              "#440154"
             ],
             [
              0.1111111111111111,
              "#482878"
             ],
             [
              0.2222222222222222,
              "#3e4989"
             ],
             [
              0.3333333333333333,
              "#31688e"
             ],
             [
              0.4444444444444444,
              "#26828e"
             ],
             [
              0.5555555555555556,
              "#1f9e89"
             ],
             [
              0.6666666666666666,
              "#35b779"
             ],
             [
              0.7777777777777778,
              "#6ece58"
             ],
             [
              0.8888888888888888,
              "#b5de2b"
             ],
             [
              1,
              "#fde725"
             ]
            ],
            "type": "contour"
           }
          ],
          "contourcarpet": [
           {
            "colorbar": {
             "outlinewidth": 1,
             "tickcolor": "rgb(36,36,36)",
             "ticks": "outside"
            },
            "type": "contourcarpet"
           }
          ],
          "heatmap": [
           {
            "colorbar": {
             "outlinewidth": 1,
             "tickcolor": "rgb(36,36,36)",
             "ticks": "outside"
            },
            "colorscale": [
             [
              0,
              "#440154"
             ],
             [
              0.1111111111111111,
              "#482878"
             ],
             [
              0.2222222222222222,
              "#3e4989"
             ],
             [
              0.3333333333333333,
              "#31688e"
             ],
             [
              0.4444444444444444,
              "#26828e"
             ],
             [
              0.5555555555555556,
              "#1f9e89"
             ],
             [
              0.6666666666666666,
              "#35b779"
             ],
             [
              0.7777777777777778,
              "#6ece58"
             ],
             [
              0.8888888888888888,
              "#b5de2b"
             ],
             [
              1,
              "#fde725"
             ]
            ],
            "type": "heatmap"
           }
          ],
          "histogram": [
           {
            "marker": {
             "line": {
              "color": "white",
              "width": 0.6
             }
            },
            "type": "histogram"
           }
          ],
          "histogram2d": [
           {
            "colorbar": {
             "outlinewidth": 1,
             "tickcolor": "rgb(36,36,36)",
             "ticks": "outside"
            },
            "colorscale": [
             [
              0,
              "#440154"
             ],
             [
              0.1111111111111111,
              "#482878"
             ],
             [
              0.2222222222222222,
              "#3e4989"
             ],
             [
              0.3333333333333333,
              "#31688e"
             ],
             [
              0.4444444444444444,
              "#26828e"
             ],
             [
              0.5555555555555556,
              "#1f9e89"
             ],
             [
              0.6666666666666666,
              "#35b779"
             ],
             [
              0.7777777777777778,
              "#6ece58"
             ],
             [
              0.8888888888888888,
              "#b5de2b"
             ],
             [
              1,
              "#fde725"
             ]
            ],
            "type": "histogram2d"
           }
          ],
          "histogram2dcontour": [
           {
            "colorbar": {
             "outlinewidth": 1,
             "tickcolor": "rgb(36,36,36)",
             "ticks": "outside"
            },
            "colorscale": [
             [
              0,
              "#440154"
             ],
             [
              0.1111111111111111,
              "#482878"
             ],
             [
              0.2222222222222222,
              "#3e4989"
             ],
             [
              0.3333333333333333,
              "#31688e"
             ],
             [
              0.4444444444444444,
              "#26828e"
             ],
             [
              0.5555555555555556,
              "#1f9e89"
             ],
             [
              0.6666666666666666,
              "#35b779"
             ],
             [
              0.7777777777777778,
              "#6ece58"
             ],
             [
              0.8888888888888888,
              "#b5de2b"
             ],
             [
              1,
              "#fde725"
             ]
            ],
            "type": "histogram2dcontour"
           }
          ],
          "mesh3d": [
           {
            "colorbar": {
             "outlinewidth": 1,
             "tickcolor": "rgb(36,36,36)",
             "ticks": "outside"
            },
            "type": "mesh3d"
           }
          ],
          "parcoords": [
           {
            "line": {
             "colorbar": {
              "outlinewidth": 1,
              "tickcolor": "rgb(36,36,36)",
              "ticks": "outside"
             }
            },
            "type": "parcoords"
           }
          ],
          "pie": [
           {
            "automargin": true,
            "type": "pie"
           }
          ],
          "scatter": [
           {
            "fillpattern": {
             "fillmode": "overlay",
             "size": 10,
             "solidity": 0.2
            },
            "type": "scatter"
           }
          ],
          "scatter3d": [
           {
            "line": {
             "colorbar": {
              "outlinewidth": 1,
              "tickcolor": "rgb(36,36,36)",
              "ticks": "outside"
             }
            },
            "marker": {
             "colorbar": {
              "outlinewidth": 1,
              "tickcolor": "rgb(36,36,36)",
              "ticks": "outside"
             }
            },
            "type": "scatter3d"
           }
          ],
          "scattercarpet": [
           {
            "marker": {
             "colorbar": {
              "outlinewidth": 1,
              "tickcolor": "rgb(36,36,36)",
              "ticks": "outside"
             }
            },
            "type": "scattercarpet"
           }
          ],
          "scattergeo": [
           {
            "marker": {
             "colorbar": {
              "outlinewidth": 1,
              "tickcolor": "rgb(36,36,36)",
              "ticks": "outside"
             }
            },
            "type": "scattergeo"
           }
          ],
          "scattergl": [
           {
            "marker": {
             "colorbar": {
              "outlinewidth": 1,
              "tickcolor": "rgb(36,36,36)",
              "ticks": "outside"
             }
            },
            "type": "scattergl"
           }
          ],
          "scattermap": [
           {
            "marker": {
             "colorbar": {
              "outlinewidth": 1,
              "tickcolor": "rgb(36,36,36)",
              "ticks": "outside"
             }
            },
            "type": "scattermap"
           }
          ],
          "scattermapbox": [
           {
            "marker": {
             "colorbar": {
              "outlinewidth": 1,
              "tickcolor": "rgb(36,36,36)",
              "ticks": "outside"
             }
            },
            "type": "scattermapbox"
           }
          ],
          "scatterpolar": [
           {
            "marker": {
             "colorbar": {
              "outlinewidth": 1,
              "tickcolor": "rgb(36,36,36)",
              "ticks": "outside"
             }
            },
            "type": "scatterpolar"
           }
          ],
          "scatterpolargl": [
           {
            "marker": {
             "colorbar": {
              "outlinewidth": 1,
              "tickcolor": "rgb(36,36,36)",
              "ticks": "outside"
             }
            },
            "type": "scatterpolargl"
           }
          ],
          "scatterternary": [
           {
            "marker": {
             "colorbar": {
              "outlinewidth": 1,
              "tickcolor": "rgb(36,36,36)",
              "ticks": "outside"
             }
            },
            "type": "scatterternary"
           }
          ],
          "surface": [
           {
            "colorbar": {
             "outlinewidth": 1,
             "tickcolor": "rgb(36,36,36)",
             "ticks": "outside"
            },
            "colorscale": [
             [
              0,
              "#440154"
             ],
             [
              0.1111111111111111,
              "#482878"
             ],
             [
              0.2222222222222222,
              "#3e4989"
             ],
             [
              0.3333333333333333,
              "#31688e"
             ],
             [
              0.4444444444444444,
              "#26828e"
             ],
             [
              0.5555555555555556,
              "#1f9e89"
             ],
             [
              0.6666666666666666,
              "#35b779"
             ],
             [
              0.7777777777777778,
              "#6ece58"
             ],
             [
              0.8888888888888888,
              "#b5de2b"
             ],
             [
              1,
              "#fde725"
             ]
            ],
            "type": "surface"
           }
          ],
          "table": [
           {
            "cells": {
             "fill": {
              "color": "rgb(237,237,237)"
             },
             "line": {
              "color": "white"
             }
            },
            "header": {
             "fill": {
              "color": "rgb(217,217,217)"
             },
             "line": {
              "color": "white"
             }
            },
            "type": "table"
           }
          ]
         },
         "layout": {
          "annotationdefaults": {
           "arrowhead": 0,
           "arrowwidth": 1
          },
          "autotypenumbers": "strict",
          "coloraxis": {
           "colorbar": {
            "outlinewidth": 1,
            "tickcolor": "rgb(36,36,36)",
            "ticks": "outside"
           }
          },
          "colorscale": {
           "diverging": [
            [
             0,
             "rgb(103,0,31)"
            ],
            [
             0.1,
             "rgb(178,24,43)"
            ],
            [
             0.2,
             "rgb(214,96,77)"
            ],
            [
             0.3,
             "rgb(244,165,130)"
            ],
            [
             0.4,
             "rgb(253,219,199)"
            ],
            [
             0.5,
             "rgb(247,247,247)"
            ],
            [
             0.6,
             "rgb(209,229,240)"
            ],
            [
             0.7,
             "rgb(146,197,222)"
            ],
            [
             0.8,
             "rgb(67,147,195)"
            ],
            [
             0.9,
             "rgb(33,102,172)"
            ],
            [
             1,
             "rgb(5,48,97)"
            ]
           ],
           "sequential": [
            [
             0,
             "#440154"
            ],
            [
             0.1111111111111111,
             "#482878"
            ],
            [
             0.2222222222222222,
             "#3e4989"
            ],
            [
             0.3333333333333333,
             "#31688e"
            ],
            [
             0.4444444444444444,
             "#26828e"
            ],
            [
             0.5555555555555556,
             "#1f9e89"
            ],
            [
             0.6666666666666666,
             "#35b779"
            ],
            [
             0.7777777777777778,
             "#6ece58"
            ],
            [
             0.8888888888888888,
             "#b5de2b"
            ],
            [
             1,
             "#fde725"
            ]
           ],
           "sequentialminus": [
            [
             0,
             "#440154"
            ],
            [
             0.1111111111111111,
             "#482878"
            ],
            [
             0.2222222222222222,
             "#3e4989"
            ],
            [
             0.3333333333333333,
             "#31688e"
            ],
            [
             0.4444444444444444,
             "#26828e"
            ],
            [
             0.5555555555555556,
             "#1f9e89"
            ],
            [
             0.6666666666666666,
             "#35b779"
            ],
            [
             0.7777777777777778,
             "#6ece58"
            ],
            [
             0.8888888888888888,
             "#b5de2b"
            ],
            [
             1,
             "#fde725"
            ]
           ]
          },
          "colorway": [
           "#1F77B4",
           "#FF7F0E",
           "#2CA02C",
           "#D62728",
           "#9467BD",
           "#8C564B",
           "#E377C2",
           "#7F7F7F",
           "#BCBD22",
           "#17BECF"
          ],
          "font": {
           "color": "rgb(36,36,36)"
          },
          "geo": {
           "bgcolor": "white",
           "lakecolor": "white",
           "landcolor": "white",
           "showlakes": true,
           "showland": true,
           "subunitcolor": "white"
          },
          "hoverlabel": {
           "align": "left"
          },
          "hovermode": "closest",
          "mapbox": {
           "style": "light"
          },
          "paper_bgcolor": "white",
          "plot_bgcolor": "white",
          "polar": {
           "angularaxis": {
            "gridcolor": "rgb(232,232,232)",
            "linecolor": "rgb(36,36,36)",
            "showgrid": false,
            "showline": true,
            "ticks": "outside"
           },
           "bgcolor": "white",
           "radialaxis": {
            "gridcolor": "rgb(232,232,232)",
            "linecolor": "rgb(36,36,36)",
            "showgrid": false,
            "showline": true,
            "ticks": "outside"
           }
          },
          "scene": {
           "xaxis": {
            "backgroundcolor": "white",
            "gridcolor": "rgb(232,232,232)",
            "gridwidth": 2,
            "linecolor": "rgb(36,36,36)",
            "showbackground": true,
            "showgrid": false,
            "showline": true,
            "ticks": "outside",
            "zeroline": false,
            "zerolinecolor": "rgb(36,36,36)"
           },
           "yaxis": {
            "backgroundcolor": "white",
            "gridcolor": "rgb(232,232,232)",
            "gridwidth": 2,
            "linecolor": "rgb(36,36,36)",
            "showbackground": true,
            "showgrid": false,
            "showline": true,
            "ticks": "outside",
            "zeroline": false,
            "zerolinecolor": "rgb(36,36,36)"
           },
           "zaxis": {
            "backgroundcolor": "white",
            "gridcolor": "rgb(232,232,232)",
            "gridwidth": 2,
            "linecolor": "rgb(36,36,36)",
            "showbackground": true,
            "showgrid": false,
            "showline": true,
            "ticks": "outside",
            "zeroline": false,
            "zerolinecolor": "rgb(36,36,36)"
           }
          },
          "shapedefaults": {
           "fillcolor": "black",
           "line": {
            "width": 0
           },
           "opacity": 0.3
          },
          "ternary": {
           "aaxis": {
            "gridcolor": "rgb(232,232,232)",
            "linecolor": "rgb(36,36,36)",
            "showgrid": false,
            "showline": true,
            "ticks": "outside"
           },
           "baxis": {
            "gridcolor": "rgb(232,232,232)",
            "linecolor": "rgb(36,36,36)",
            "showgrid": false,
            "showline": true,
            "ticks": "outside"
           },
           "bgcolor": "white",
           "caxis": {
            "gridcolor": "rgb(232,232,232)",
            "linecolor": "rgb(36,36,36)",
            "showgrid": false,
            "showline": true,
            "ticks": "outside"
           }
          },
          "title": {
           "x": 0.05
          },
          "xaxis": {
           "automargin": true,
           "gridcolor": "rgb(232,232,232)",
           "linecolor": "rgb(36,36,36)",
           "showgrid": false,
           "showline": true,
           "ticks": "outside",
           "title": {
            "standoff": 15
           },
           "zeroline": false,
           "zerolinecolor": "rgb(36,36,36)"
          },
          "yaxis": {
           "automargin": true,
           "gridcolor": "rgb(232,232,232)",
           "linecolor": "rgb(36,36,36)",
           "showgrid": false,
           "showline": true,
           "ticks": "outside",
           "title": {
            "standoff": 15
           },
           "zeroline": false,
           "zerolinecolor": "rgb(36,36,36)"
          }
         }
        },
        "title": {
         "text": "Potenzielle Solarenergie in der Schweiz nach Kanton (Stand März 2025)"
        },
        "xaxis": {
         "title": {
          "text": "Kanton"
         }
        },
        "yaxis": {
         "title": {
          "text": "Potentielle Solarenergie (GWh)"
         }
        }
       }
      }
     },
     "metadata": {},
     "output_type": "display_data"
    }
   ],
   "source": [
    "# Plotly für die Visualisierung importieren\n",
    "import plotly.graph_objects as go\n",
    "\n",
    "# Daten für das gestapelte Balkendiagramm vorbereiten\n",
    "stacked_data = df.groupby(\"Canton\")[[\"Scenario1_RoofsOnly_PotentialSolarElectricity_GWh\", \"Scenario3_RoofsFacades_PotentialSolarElectricity_GWh\"]].sum()\n",
    "\n",
    "# Fassaden-Werte bereinigen (Fassaden - Dächer)\n",
    "stacked_data.loc[:, \"Scenario3_RoofsFacades_PotentialSolarElectricity_GWh\"] -= stacked_data[\"Scenario1_RoofsOnly_PotentialSolarElectricity_GWh\"]\n",
    "\n",
    "# Sortieren der Daten in absteigender Reihenfolge\n",
    "stacked_data = stacked_data.sort_values(by=\"Scenario1_RoofsOnly_PotentialSolarElectricity_GWh\", ascending=False)\n",
    "\n",
    "# Farben für die Top 4 Kantone definieren\n",
    "colors_roofs = ['rgb(0, 0, 0)' if i < 4 else 'rgb(169, 169, 169)' for i in range(len(stacked_data))]\n",
    "colors_facades = ['rgb(128, 128, 128)' if i < 4 else 'rgb(211, 211, 211)' for i in range(len(stacked_data))]\n",
    "\n",
    "# Erstellen des gestapelten Balkendiagramms\n",
    "fig = go.Figure()\n",
    "fig.add_trace(go.Bar(\n",
    "    name='Dächer',\n",
    "    x=stacked_data.index,\n",
    "    y=stacked_data[\"Scenario1_RoofsOnly_PotentialSolarElectricity_GWh\"],\n",
    "    marker_color=colors_roofs,\n",
    "    text=(stacked_data[\"Scenario1_RoofsOnly_PotentialSolarElectricity_GWh\"] / 1000).round(1).astype(str) + 'k',\n",
    "    textposition='inside'\n",
    "))\n",
    "fig.add_trace(go.Bar(\n",
    "    name='Fassaden',\n",
    "    x=stacked_data.index,\n",
    "    y=stacked_data[\"Scenario3_RoofsFacades_PotentialSolarElectricity_GWh\"],\n",
    "    marker_color=colors_facades,\n",
    "    text=(stacked_data[\"Scenario3_RoofsFacades_PotentialSolarElectricity_GWh\"] / 1000).round(1).astype(str) + 'k',\n",
    "    textposition='inside'\n",
    "))\n",
    "\n",
    "# Layout anpassen\n",
    "fig.update_layout(barmode='stack',\n",
    "                  title='Potenzielle Solarenergie in der Schweiz nach Kanton (Stand März 2025)',\n",
    "                  xaxis_title='Kanton',\n",
    "                  yaxis_title='Potentielle Solarenergie (GWh)',\n",
    "                  height=500,\n",
    "                  template='simple_white',\n",
    "                  legend_title_text='Flächenkategorie')\n",
    "\n",
    "# Diagramm als HTML-Datei speichern\n",
    "fig.write_html(\"../docs/assets/diagramme/pot_solarenergie_pro_kanton.html\")\n",
    "\n",
    "# Diagramm anzeigen\n",
    "fig.show()"
   ]
  }
 ],
 "metadata": {
  "kernelspec": {
   "display_name": "Python 3",
   "language": "python",
   "name": "python3"
  },
  "language_info": {
   "codemirror_mode": {
    "name": "ipython",
    "version": 3
   },
   "file_extension": ".py",
   "mimetype": "text/x-python",
   "name": "python",
   "nbconvert_exporter": "python",
   "pygments_lexer": "ipython3",
   "version": "3.13.3"
  }
 },
 "nbformat": 4,
 "nbformat_minor": 5
}
