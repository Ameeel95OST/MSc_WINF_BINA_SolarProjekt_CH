{
 "cells": [
  {
   "cell_type": "markdown",
   "id": "749f26c6",
   "metadata": {},
   "source": [
    "# Analyse der potentiellen Solarenergie in der Schweiz\n",
    "Dieses Notebook analysiert die potentiellen Solarenergiepotenziale in der Schweiz basierend auf Dach- und Fassadenflächen."
   ]
  },
  {
   "cell_type": "markdown",
   "id": "387b8a9a",
   "metadata": {},
   "source": [
    "## Daten laden, aufbereiten und anreichern\n",
    "In diesem Abschnitt werden die Daten geladen, gefiltert und für die Analyse vorbereitet."
   ]
  },
  {
   "cell_type": "code",
   "execution_count": null,
   "id": "52948397",
   "metadata": {},
   "outputs": [],
   "source": [
    "# Bibliotheken importieren\n",
    "import pandas as pd\n",
    "import requests\n",
    "\n",
    "# Pfad zur JSON-Datei mit den Solarenergiepotenzialen\n",
    "file_path_data = '../data/potentielle_solarenergie/Solarenergiepotenziale_Gemeinden_Daecher_und_Fassaden.json'\n",
    "\n",
    "# Daten laden\n",
    "data = pd.read_json(file_path_data)\n",
    "\n",
    "# Daten in ein DataFrame umwandeln\n",
    "df = pd.DataFrame(data)\n",
    "\n",
    "# Daten nach Country = 'CH' filtern\n",
    "df = df[df['Country'] == 'CH']\n",
    "\n",
    "# Nur relevante Spalten auswählen\n",
    "df = df[['Canton', 'Scenario1_RoofsOnly_PotentialSolarElectricity_GWh', 'Scenario3_RoofsFacades_PotentialSolarElectricity_GWh']]\n",
    "\n",
    "# Erste Zeilen anzeigen\n",
    "df.head()"
   ]
  },
  {
   "cell_type": "markdown",
   "id": "91135b24",
   "metadata": {},
   "source": [
    "## Balkendiagramm erstellen: Potenzielle Solarenergie in der Schweiz\n",
    "Das Diagramm visualisiert die potentiellen Solarenergiepotenziale nach Kanton."
   ]
  },
  {
   "cell_type": "code",
   "execution_count": null,
   "id": "88105dba",
   "metadata": {},
   "outputs": [],
   "source": [
    "# Plotly für die Visualisierung importieren\n",
    "import plotly.graph_objects as go\n",
    "\n",
    "# Daten für das gestapelte Balkendiagramm vorbereiten\n",
    "stacked_data = df.groupby(\"Canton\")[[\"Scenario1_RoofsOnly_PotentialSolarElectricity_GWh\", \"Scenario3_RoofsFacades_PotentialSolarElectricity_GWh\"]].sum()\n",
    "\n",
    "# Fassaden-Werte bereinigen (Fassaden - Dächer)\n",
    "stacked_data.loc[:, \"Scenario3_RoofsFacades_PotentialSolarElectricity_GWh\"] -= stacked_data[\"Scenario1_RoofsOnly_PotentialSolarElectricity_GWh\"]\n",
    "\n",
    "# Sortieren der Daten in absteigender Reihenfolge\n",
    "stacked_data = stacked_data.sort_values(by=\"Scenario1_RoofsOnly_PotentialSolarElectricity_GWh\", ascending=False)\n",
    "\n",
    "# Farben für die Top 4 Kantone definieren\n",
    "colors_roofs = ['rgb(0, 0, 0)' if i < 4 else 'rgb(169, 169, 169)' for i in range(len(stacked_data))]\n",
    "colors_facades = ['rgb(128, 128, 128)' if i < 4 else 'rgb(211, 211, 211)' for i in range(len(stacked_data))]\n",
    "\n",
    "# Erstellen des gestapelten Balkendiagramms\n",
    "fig = go.Figure()\n",
    "fig.add_trace(go.Bar(\n",
    "    name='Dächer',\n",
    "    x=stacked_data.index,\n",
    "    y=stacked_data[\"Scenario1_RoofsOnly_PotentialSolarElectricity_GWh\"],\n",
    "    marker_color=colors_roofs,\n",
    "    text=(stacked_data[\"Scenario1_RoofsOnly_PotentialSolarElectricity_GWh\"] / 1000).round(1).astype(str) + 'k',\n",
    "    textposition='inside'\n",
    "))\n",
    "fig.add_trace(go.Bar(\n",
    "    name='Fassaden',\n",
    "    x=stacked_data.index,\n",
    "    y=stacked_data[\"Scenario3_RoofsFacades_PotentialSolarElectricity_GWh\"],\n",
    "    marker_color=colors_facades,\n",
    "    text=(stacked_data[\"Scenario3_RoofsFacades_PotentialSolarElectricity_GWh\"] / 1000).round(1).astype(str) + 'k',\n",
    "    textposition='inside'\n",
    "))\n",
    "\n",
    "# Layout anpassen\n",
    "fig.update_layout(barmode='stack',\n",
    "                  title='Potenzielle Solarenergie in der Schweiz nach Kanton (Stand März 2025)',\n",
    "                  xaxis_title='Kanton',\n",
    "                  yaxis_title='Potentielle Solarenergie (GWh)',\n",
    "                  height=500,\n",
    "                  template='simple_white',\n",
    "                  legend_title_text='Flächenkategorie')\n",
    "\n",
    "# Diagramm als HTML-Datei speichern\n",
    "fig.write_html(\"../docs/assets/diagramme/pot_solarenergie_pro_kanton.html\")\n",
    "\n",
    "# Diagramm anzeigen\n",
    "fig.show()"
   ]
  }
 ],
 "metadata": {
  "kernelspec": {
   "display_name": "Python 3",
   "language": "python",
   "name": "python3"
  },
  "language_info": {
   "codemirror_mode": {
    "name": "ipython",
    "version": 3
   },
   "file_extension": ".py",
   "mimetype": "text/x-python",
   "name": "python",
   "nbconvert_exporter": "python",
   "pygments_lexer": "ipython3",
   "version": "3.13.3"
  }
 },
 "nbformat": 4,
 "nbformat_minor": 5
}
