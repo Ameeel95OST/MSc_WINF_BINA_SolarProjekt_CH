{
 "cells": [
  {
   "cell_type": "markdown",
   "id": "9495bbba",
   "metadata": {},
   "source": [
    "<a href=\"https://colab.research.google.com/github/alendoko/bina/blob/main/LB4/DATA/Python_JUPYTER_Data_Analysis_SteyByStep_Melbourne_Houseprice2025.ipynb\" target=\"_parent\"><img src=\"https://colab.research.google.com/assets/colab-badge.svg\" alt=\"Open In Colab\"/></a>"
   ]
  },
  {
   "cell_type": "markdown",
   "id": "749f26c6",
   "metadata": {},
   "source": [
    "# Jupiter Notebook, welches die potentielle Solarenergie in der Schweiz analysiert"
   ]
  },
  {
   "cell_type": "markdown",
   "id": "387b8a9a",
   "metadata": {},
   "source": [
    "## Daten laden, aufbereiten und anreichern"
   ]
  },
  {
   "cell_type": "code",
   "execution_count": null,
   "id": "52948397",
   "metadata": {},
   "outputs": [],
   "source": [
    "import pandas as pd\n",
    "import requests\n",
    "\n",
    "file_path_data = '../data/potentielle_solarenergie/Solarenergiepotenziale_Gemeinden_Daecher_und_Fassaden.json'\n",
    "data = pd.read_json(file_path_data)\n",
    "\n",
    "df = pd.DataFrame(data)\n",
    "\n",
    "# Daten nach Country = 'CH' filtern\n",
    "df = df[df['Country'] == 'CH']\n",
    "\n",
    "# Nur relevante Spalten auswählen\n",
    "df = df[['Canton', 'Scenario1_RoofsOnly_PotentialSolarElectricity_GWh', 'Scenario3_RoofsFacades_PotentialSolarElectricity_GWh']]\n",
    "\n",
    "# Erste Zeilen anzeigen\n",
    "df.head()"
   ]
  },
  {
   "cell_type": "markdown",
   "id": "91135b24",
   "metadata": {},
   "source": [
    "## Balkendiagramm erstellen, mit der Potenzielle Solarenergie in der Schweiz"
   ]
  },
  {
   "cell_type": "code",
   "execution_count": null,
   "id": "88105dba",
   "metadata": {},
   "outputs": [],
   "source": [
    "import plotly.graph_objects as go\n",
    "\n",
    "# Daten für das gestapelte Balkendiagramm vorbereiten\n",
    "stacked_data = df.groupby(\"Canton\")[[\"Scenario1_RoofsOnly_PotentialSolarElectricity_GWh\", \"Scenario3_RoofsFacades_PotentialSolarElectricity_GWh\"]].sum()\n",
    "\n",
    "# Fassaden-Werte bereinigen (Fassaden - Dächer)\n",
    "stacked_data.loc[:, \"Scenario3_RoofsFacades_PotentialSolarElectricity_GWh\"] -= stacked_data[\"Scenario1_RoofsOnly_PotentialSolarElectricity_GWh\"]\n",
    "\n",
    "# Sortieren der Daten in absteigender Reihenfolge\n",
    "stacked_data = stacked_data.sort_values(by=\"Scenario1_RoofsOnly_PotentialSolarElectricity_GWh\", ascending=False)\n",
    "\n",
    "# Erstellen des gestapelten Balkendiagramms mit schöneren Farben\n",
    "fig = go.Figure()\n",
    "fig.add_trace(go.Bar(name='Dächer', x=stacked_data.index, y=stacked_data[\"Scenario1_RoofsOnly_PotentialSolarElectricity_GWh\"], marker_color='rgb(31, 119, 180)'))\n",
    "fig.add_trace(go.Bar(name='Fassaden', x=stacked_data.index, y=stacked_data[\"Scenario3_RoofsFacades_PotentialSolarElectricity_GWh\"], marker_color='rgb(255, 127, 14)'))\n",
    "\n",
    "# Layout anpassen\n",
    "fig.update_layout(barmode='stack',\n",
    "                  title='Potenzielle Solarenergie in der Schweiz nach Kanton (Stand März 2025)',\n",
    "                  xaxis_title='Kanton',\n",
    "                  yaxis_title='Potentielle Solarenergie (GWh)',\n",
    "                  height=700)\n",
    "\n",
    "# Diagramm als HTML-Datei speichern\n",
    "fig.write_html(\"../docs/assets/diagramme/pot_solarenergie_pro_kanton.html\")\n",
    "\n",
    "# Diagramm anzeigen\n",
    "fig.show()"
   ]
  }
 ],
 "metadata": {
  "kernelspec": {
   "display_name": "Python 3",
   "language": "python",
   "name": "python3"
  },
  "language_info": {
   "codemirror_mode": {
    "name": "ipython",
    "version": 3
   },
   "file_extension": ".py",
   "mimetype": "text/x-python",
   "name": "python",
   "nbconvert_exporter": "python",
   "pygments_lexer": "ipython3",
   "version": "3.13.3"
  }
 },
 "nbformat": 4,
 "nbformat_minor": 5
}
