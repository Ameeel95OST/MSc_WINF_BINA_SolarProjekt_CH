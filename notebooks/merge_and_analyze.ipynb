{
 "cells": [
  {
   "cell_type": "markdown",
   "id": "474277ed",
   "metadata": {},
   "source": [
    "# Merge and Analyze CSV Data\n",
    "This notebook merges two CSV files based on `nrElcom` and calculates the average remuneration (`power1 + eco1`) per canton and year."
   ]
  },
  {
   "cell_type": "code",
   "execution_count": 75,
   "id": "98f6bcce",
   "metadata": {},
   "outputs": [],
   "source": [
    "# Import required libraries\n",
    "import pandas as pd"
   ]
  },
  {
   "cell_type": "code",
   "execution_count": 76,
   "id": "61bd84a2",
   "metadata": {},
   "outputs": [],
   "source": [
    "# Load the CSV files\n",
    "evu_df = pd.read_csv(r'c:\\Users\\André Winkler\\OneDrive - FFHS\\BINA\\Git\\LN_BINA_FS25\\data\\vese\\evu_ergebnisse.csv', sep=';')\n",
    "gemeinde_df = pd.read_csv(r'c:\\Users\\André Winkler\\OneDrive - FFHS\\BINA\\Git\\LN_BINA_FS25\\data\\vese\\gemeinde_ergebnisse.csv', sep=';')"
   ]
  },
  {
   "cell_type": "code",
   "execution_count": 77,
   "id": "f61c8290",
   "metadata": {},
   "outputs": [],
   "source": [
    "# Merge the dataframes on `nrElcom`\n",
    "merged_df = pd.merge(evu_df, gemeinde_df, on='nrElcom', how='inner')"
   ]
  },
  {
   "cell_type": "code",
   "execution_count": 78,
   "id": "a6d9eccb",
   "metadata": {},
   "outputs": [],
   "source": [
    "# Load Gemeindestand.csv to map cantons\n",
    "gemeindestand_df = pd.read_csv(r'c:\\Users\\André Winkler\\OneDrive - FFHS\\BINA\\Git\\LN_BINA_FS25\\data\\vese\\Gemeindestand.csv', sep=';')\n",
    "\n",
    "# Map cantons using Gemeindestand.csv\n",
    "gemeinde_to_kanton = gemeindestand_df.set_index('Gemeindename')['Kanton'].to_dict()\n",
    "merged_df['Kanton'] = merged_df['Gemeinde'].map(gemeinde_to_kanton)"
   ]
  },
  {
   "cell_type": "code",
   "execution_count": 79,
   "id": "448157d7",
   "metadata": {},
   "outputs": [],
   "source": [
    "# Calculate the average remuneration per canton and year\n",
    "# Fill missing values in 'energy1' and 'eco1' with 0\n",
    "merged_df = merged_df.copy()  # Ensure we are working on a copy of the DataFrame\n",
    "merged_df['energy1'] = merged_df['energy1'].fillna(0)\n",
    "merged_df['eco1'] = merged_df['eco1'].fillna(0)\n",
    "\n",
    "# Calculate remuneration and group by year and canton\n",
    "merged_df['remuneration'] = merged_df['energy1'] + merged_df['eco1']\n",
    "result = merged_df.groupby(['year', 'Kanton'])['remuneration'].mean().reset_index()\n",
    "result.rename(columns={'remuneration': 'avg_remuneration'}, inplace=True)"
   ]
  },
  {
   "cell_type": "code",
   "execution_count": 80,
   "id": "d412d0e4",
   "metadata": {},
   "outputs": [
    {
     "name": "stdout",
     "output_type": "stream",
     "text": [
      "     year Kanton  avg_remuneration\n",
      "0    2015     AG          0.000000\n",
      "1    2015     AI          0.000000\n",
      "2    2015     AR          0.000000\n",
      "3    2015     BE          0.000000\n",
      "4    2015     BL          0.000000\n",
      "..    ...    ...               ...\n",
      "255  2024     UR         13.457895\n",
      "256  2024     VD         17.410000\n",
      "257  2024     VS         14.531849\n",
      "258  2024     ZG         21.004286\n",
      "259  2024     ZH         18.762753\n",
      "\n",
      "[260 rows x 3 columns]\n"
     ]
    }
   ],
   "source": [
    "# Display the result\n",
    "print(result)"
   ]
  },
  {
   "cell_type": "code",
   "execution_count": 82,
   "id": "4271ee1b",
   "metadata": {},
   "outputs": [
    {
     "data": {
      "application/vnd.plotly.v1+json": {
       "config": {
        "plotlyServerURL": "https://plot.ly"
       },
       "data": [
        {
         "hovertemplate": "canton_group=AG<br>year=2015<br>Canton=%{x}<br>Average Remuneration (CHF)=%{y}<extra></extra>",
         "legendgroup": "AG",
         "marker": {
          "color": "#FF7F0E",
          "pattern": {
           "shape": ""
          }
         },
         "name": "AG",
         "orientation": "v",
         "showlegend": true,
         "textposition": "auto",
         "type": "bar",
         "x": [
          "AG"
         ],
         "xaxis": "x",
         "y": {
          "bdata": "AAAAAAAAAAA=",
          "dtype": "f8"
         },
         "yaxis": "y"
        },
        {
         "hovertemplate": "canton_group=AI<br>year=2015<br>Canton=%{x}<br>Average Remuneration (CHF)=%{y}<extra></extra>",
         "legendgroup": "AI",
         "marker": {
          "color": "#2CA02C",
          "pattern": {
           "shape": ""
          }
         },
         "name": "AI",
         "orientation": "v",
         "showlegend": true,
         "textposition": "auto",
         "type": "bar",
         "x": [
          "AI"
         ],
         "xaxis": "x",
         "y": {
          "bdata": "AAAAAAAAAAA=",
          "dtype": "f8"
         },
         "yaxis": "y"
        },
        {
         "hovertemplate": "canton_group=AR<br>year=2015<br>Canton=%{x}<br>Average Remuneration (CHF)=%{y}<extra></extra>",
         "legendgroup": "AR",
         "marker": {
          "color": "#D62728",
          "pattern": {
           "shape": ""
          }
         },
         "name": "AR",
         "orientation": "v",
         "showlegend": true,
         "textposition": "auto",
         "type": "bar",
         "x": [
          "AR"
         ],
         "xaxis": "x",
         "y": {
          "bdata": "AAAAAAAAAAA=",
          "dtype": "f8"
         },
         "yaxis": "y"
        },
        {
         "hovertemplate": "canton_group=BE<br>year=2015<br>Canton=%{x}<br>Average Remuneration (CHF)=%{y}<extra></extra>",
         "legendgroup": "BE",
         "marker": {
          "color": "#9467BD",
          "pattern": {
           "shape": ""
          }
         },
         "name": "BE",
         "orientation": "v",
         "showlegend": true,
         "textposition": "auto",
         "type": "bar",
         "x": [
          "BE"
         ],
         "xaxis": "x",
         "y": {
          "bdata": "AAAAAAAAAAA=",
          "dtype": "f8"
         },
         "yaxis": "y"
        },
        {
         "hovertemplate": "canton_group=Other<br>year=2015<br>Canton=%{x}<br>Average Remuneration (CHF)=%{y}<extra></extra>",
         "legendgroup": "Other",
         "marker": {
          "color": "#D9D9D9",
          "pattern": {
           "shape": ""
          }
         },
         "name": "Other",
         "orientation": "v",
         "showlegend": true,
         "textposition": "auto",
         "type": "bar",
         "x": [
          "BL",
          "BS",
          "FR",
          "GE",
          "GL",
          "GR",
          "JU",
          "LU",
          "NE",
          "NW",
          "OW",
          "SG",
          "SH",
          "SO",
          "SZ",
          "TG",
          "TI",
          "UR",
          "VD",
          "VS",
          "ZG",
          "ZH"
         ],
         "xaxis": "x",
         "y": {
          "bdata": "AAAAAAAAAAAAAAAAAAAAAAAAAAAAAAAAAAAAAAAAAAAAAAAAAAAAAAAAAAAAAAAAAAAAAAAAAAAAAAAAAAAAAAAAAAAAAAAAAAAAAAAAAAAAAAAAAAAAAAAAAAAAAAAAAAAAAAAAAAAAAAAAAAAAAAAAAAAAAAAAAAAAAAAAAAAAAAAAAAAAAAAAAAAAAAAAAAAAAAAAAAAAAAAAAAAAAAAAAAAAAAAAAAAAAAAAAAA=",
          "dtype": "f8"
         },
         "yaxis": "y"
        }
       ],
       "frames": [
        {
         "data": [
          {
           "hovertemplate": "canton_group=AG<br>year=2015<br>Canton=%{x}<br>Average Remuneration (CHF)=%{y}<extra></extra>",
           "legendgroup": "AG",
           "marker": {
            "color": "#FF7F0E",
            "pattern": {
             "shape": ""
            }
           },
           "name": "AG",
           "orientation": "v",
           "showlegend": true,
           "textposition": "auto",
           "type": "bar",
           "x": [
            "AG"
           ],
           "xaxis": "x",
           "y": {
            "bdata": "AAAAAAAAAAA=",
            "dtype": "f8"
           },
           "yaxis": "y"
          },
          {
           "hovertemplate": "canton_group=AI<br>year=2015<br>Canton=%{x}<br>Average Remuneration (CHF)=%{y}<extra></extra>",
           "legendgroup": "AI",
           "marker": {
            "color": "#2CA02C",
            "pattern": {
             "shape": ""
            }
           },
           "name": "AI",
           "orientation": "v",
           "showlegend": true,
           "textposition": "auto",
           "type": "bar",
           "x": [
            "AI"
           ],
           "xaxis": "x",
           "y": {
            "bdata": "AAAAAAAAAAA=",
            "dtype": "f8"
           },
           "yaxis": "y"
          },
          {
           "hovertemplate": "canton_group=AR<br>year=2015<br>Canton=%{x}<br>Average Remuneration (CHF)=%{y}<extra></extra>",
           "legendgroup": "AR",
           "marker": {
            "color": "#D62728",
            "pattern": {
             "shape": ""
            }
           },
           "name": "AR",
           "orientation": "v",
           "showlegend": true,
           "textposition": "auto",
           "type": "bar",
           "x": [
            "AR"
           ],
           "xaxis": "x",
           "y": {
            "bdata": "AAAAAAAAAAA=",
            "dtype": "f8"
           },
           "yaxis": "y"
          },
          {
           "hovertemplate": "canton_group=BE<br>year=2015<br>Canton=%{x}<br>Average Remuneration (CHF)=%{y}<extra></extra>",
           "legendgroup": "BE",
           "marker": {
            "color": "#9467BD",
            "pattern": {
             "shape": ""
            }
           },
           "name": "BE",
           "orientation": "v",
           "showlegend": true,
           "textposition": "auto",
           "type": "bar",
           "x": [
            "BE"
           ],
           "xaxis": "x",
           "y": {
            "bdata": "AAAAAAAAAAA=",
            "dtype": "f8"
           },
           "yaxis": "y"
          },
          {
           "hovertemplate": "canton_group=Other<br>year=2015<br>Canton=%{x}<br>Average Remuneration (CHF)=%{y}<extra></extra>",
           "legendgroup": "Other",
           "marker": {
            "color": "#D9D9D9",
            "pattern": {
             "shape": ""
            }
           },
           "name": "Other",
           "orientation": "v",
           "showlegend": true,
           "textposition": "auto",
           "type": "bar",
           "x": [
            "BL",
            "BS",
            "FR",
            "GE",
            "GL",
            "GR",
            "JU",
            "LU",
            "NE",
            "NW",
            "OW",
            "SG",
            "SH",
            "SO",
            "SZ",
            "TG",
            "TI",
            "UR",
            "VD",
            "VS",
            "ZG",
            "ZH"
           ],
           "xaxis": "x",
           "y": {
            "bdata": "AAAAAAAAAAAAAAAAAAAAAAAAAAAAAAAAAAAAAAAAAAAAAAAAAAAAAAAAAAAAAAAAAAAAAAAAAAAAAAAAAAAAAAAAAAAAAAAAAAAAAAAAAAAAAAAAAAAAAAAAAAAAAAAAAAAAAAAAAAAAAAAAAAAAAAAAAAAAAAAAAAAAAAAAAAAAAAAAAAAAAAAAAAAAAAAAAAAAAAAAAAAAAAAAAAAAAAAAAAAAAAAAAAAAAAAAAAA=",
            "dtype": "f8"
           },
           "yaxis": "y"
          }
         ],
         "name": "2015"
        },
        {
         "data": [
          {
           "hovertemplate": "canton_group=AG<br>year=2016<br>Canton=%{x}<br>Average Remuneration (CHF)=%{y}<extra></extra>",
           "legendgroup": "AG",
           "marker": {
            "color": "#FF7F0E",
            "pattern": {
             "shape": ""
            }
           },
           "name": "AG",
           "orientation": "v",
           "showlegend": true,
           "textposition": "auto",
           "type": "bar",
           "x": [
            "AG"
           ],
           "xaxis": "x",
           "y": {
            "bdata": "AAAAAAAAAAA=",
            "dtype": "f8"
           },
           "yaxis": "y"
          },
          {
           "hovertemplate": "canton_group=AI<br>year=2016<br>Canton=%{x}<br>Average Remuneration (CHF)=%{y}<extra></extra>",
           "legendgroup": "AI",
           "marker": {
            "color": "#2CA02C",
            "pattern": {
             "shape": ""
            }
           },
           "name": "AI",
           "orientation": "v",
           "showlegend": true,
           "textposition": "auto",
           "type": "bar",
           "x": [
            "AI"
           ],
           "xaxis": "x",
           "y": {
            "bdata": "AAAAAAAAAAA=",
            "dtype": "f8"
           },
           "yaxis": "y"
          },
          {
           "hovertemplate": "canton_group=AR<br>year=2016<br>Canton=%{x}<br>Average Remuneration (CHF)=%{y}<extra></extra>",
           "legendgroup": "AR",
           "marker": {
            "color": "#D62728",
            "pattern": {
             "shape": ""
            }
           },
           "name": "AR",
           "orientation": "v",
           "showlegend": true,
           "textposition": "auto",
           "type": "bar",
           "x": [
            "AR"
           ],
           "xaxis": "x",
           "y": {
            "bdata": "AAAAAAAAAAA=",
            "dtype": "f8"
           },
           "yaxis": "y"
          },
          {
           "hovertemplate": "canton_group=BE<br>year=2016<br>Canton=%{x}<br>Average Remuneration (CHF)=%{y}<extra></extra>",
           "legendgroup": "BE",
           "marker": {
            "color": "#9467BD",
            "pattern": {
             "shape": ""
            }
           },
           "name": "BE",
           "orientation": "v",
           "showlegend": true,
           "textposition": "auto",
           "type": "bar",
           "x": [
            "BE"
           ],
           "xaxis": "x",
           "y": {
            "bdata": "AAAAAAAAAAA=",
            "dtype": "f8"
           },
           "yaxis": "y"
          },
          {
           "hovertemplate": "canton_group=Other<br>year=2016<br>Canton=%{x}<br>Average Remuneration (CHF)=%{y}<extra></extra>",
           "legendgroup": "Other",
           "marker": {
            "color": "#D9D9D9",
            "pattern": {
             "shape": ""
            }
           },
           "name": "Other",
           "orientation": "v",
           "showlegend": true,
           "textposition": "auto",
           "type": "bar",
           "x": [
            "BL",
            "BS",
            "FR",
            "GE",
            "GL",
            "GR",
            "JU",
            "LU",
            "NE",
            "NW",
            "OW",
            "SG",
            "SH",
            "SO",
            "SZ",
            "TG",
            "TI",
            "UR",
            "VD",
            "VS",
            "ZG",
            "ZH"
           ],
           "xaxis": "x",
           "y": {
            "bdata": "AAAAAAAAAAAAAAAAAAAAAAAAAAAAAAAAAAAAAAAAAAAAAAAAAAAAAAAAAAAAAAAAAAAAAAAAAAAAAAAAAAAAAAAAAAAAAAAAAAAAAAAAAAAAAAAAAAAAAAAAAAAAAAAAAAAAAAAAAAAAAAAAAAAAAAAAAAAAAAAAAAAAAAAAAAAAAAAAAAAAAAAAAAAAAAAAAAAAAAAAAAAAAAAAAAAAAAAAAAAAAAAAAAAAAAAAAAA=",
            "dtype": "f8"
           },
           "yaxis": "y"
          }
         ],
         "name": "2016"
        },
        {
         "data": [
          {
           "hovertemplate": "canton_group=Other<br>year=2017<br>Canton=%{x}<br>Average Remuneration (CHF)=%{y}<extra></extra>",
           "legendgroup": "Other",
           "marker": {
            "color": "#D9D9D9",
            "pattern": {
             "shape": ""
            }
           },
           "name": "Other",
           "orientation": "v",
           "showlegend": true,
           "textposition": "auto",
           "type": "bar",
           "x": [
            "AG",
            "AI",
            "AR",
            "BE",
            "BL",
            "FR",
            "GL",
            "GR",
            "JU",
            "LU",
            "NE",
            "NW",
            "SG",
            "SH",
            "SO",
            "SZ",
            "TG",
            "TI",
            "UR",
            "VD",
            "VS",
            "ZH"
           ],
           "xaxis": "x",
           "y": {
            "bdata": "aSnb4+IbG0Bcj8L1KFwgQMP1KFyPwhpAHI250ZibIkB83ete97ohQDbsWTXsWSJAZ2ZmZmZmGEABlDYTGpEjQBezxhBFNSJAbrt29G6YIkBI4XoUrpciQHlKkKcEeRpAWqN/ndZ3IkBAyFDZYeoZQAsOcMMs9SBAW94YwUR/IEBaWlpaWvokQKcNdNpAsyJAuB6F61H4IUB8zYWkKZUhQGLwnabADh1ADH8M6K0yG0A=",
            "dtype": "f8"
           },
           "yaxis": "y"
          },
          {
           "hovertemplate": "canton_group=BS<br>year=2017<br>Canton=%{x}<br>Average Remuneration (CHF)=%{y}<extra></extra>",
           "legendgroup": "BS",
           "marker": {
            "color": "#8C564B",
            "pattern": {
             "shape": ""
            }
           },
           "name": "BS",
           "orientation": "v",
           "showlegend": true,
           "textposition": "auto",
           "type": "bar",
           "x": [
            "BS"
           ],
           "xaxis": "x",
           "y": {
            "bdata": "AAAAAAAAN0A=",
            "dtype": "f8"
           },
           "yaxis": "y"
          },
          {
           "hovertemplate": "canton_group=GE<br>year=2017<br>Canton=%{x}<br>Average Remuneration (CHF)=%{y}<extra></extra>",
           "legendgroup": "GE",
           "marker": {
            "color": "#E377C2",
            "pattern": {
             "shape": ""
            }
           },
           "name": "GE",
           "orientation": "v",
           "showlegend": true,
           "textposition": "auto",
           "type": "bar",
           "x": [
            "GE"
           ],
           "xaxis": "x",
           "y": {
            "bdata": "sAVbsAXbJ0A=",
            "dtype": "f8"
           },
           "yaxis": "y"
          },
          {
           "hovertemplate": "canton_group=OW<br>year=2017<br>Canton=%{x}<br>Average Remuneration (CHF)=%{y}<extra></extra>",
           "legendgroup": "OW",
           "marker": {
            "color": "#7F7F7F",
            "pattern": {
             "shape": ""
            }
           },
           "name": "OW",
           "orientation": "v",
           "showlegend": true,
           "textposition": "auto",
           "type": "bar",
           "x": [
            "OW"
           ],
           "xaxis": "x",
           "y": {
            "bdata": "AAAAAAAAJkA=",
            "dtype": "f8"
           },
           "yaxis": "y"
          },
          {
           "hovertemplate": "canton_group=ZG<br>year=2017<br>Canton=%{x}<br>Average Remuneration (CHF)=%{y}<extra></extra>",
           "legendgroup": "ZG",
           "marker": {
            "color": "#BCBD22",
            "pattern": {
             "shape": ""
            }
           },
           "name": "ZG",
           "orientation": "v",
           "showlegend": true,
           "textposition": "auto",
           "type": "bar",
           "x": [
            "ZG"
           ],
           "xaxis": "x",
           "y": {
            "bdata": "dXz62uJgK0A=",
            "dtype": "f8"
           },
           "yaxis": "y"
          }
         ],
         "name": "2017"
        },
        {
         "data": [
          {
           "hovertemplate": "canton_group=Other<br>year=2018<br>Canton=%{x}<br>Average Remuneration (CHF)=%{y}<extra></extra>",
           "legendgroup": "Other",
           "marker": {
            "color": "#D9D9D9",
            "pattern": {
             "shape": ""
            }
           },
           "name": "Other",
           "orientation": "v",
           "showlegend": true,
           "textposition": "auto",
           "type": "bar",
           "x": [
            "AG",
            "AI",
            "AR",
            "BE",
            "BL",
            "FR",
            "GE",
            "GL",
            "GR",
            "JU",
            "LU",
            "NE",
            "NW",
            "SG",
            "SH",
            "SO",
            "SZ",
            "TG",
            "UR",
            "VD",
            "VS",
            "ZH"
           ],
           "xaxis": "x",
           "y": {
            "bdata": "IiIiIiIiGECamZmZmZkfQFyPwvUoXBVAofy1nPEoJEA/7ZLzKyIiQHSCbA0chiJAhzy+DCgQIUCrqqqqqqoaQHR7f2yhFSNA/WLJL5akJEAzkXn/XUYiQEjhehSulyJAVII8JchTHEB8tYBnBzkeQOUByTpXHh1AhpvqbgKII0CQRc9hv9ogQJZDi2znSyFAbef7qfHSI0DEsKTLRnMgQHjZq1XPXxpA09xfT4SJGEA=",
            "dtype": "f8"
           },
           "yaxis": "y"
          },
          {
           "hovertemplate": "canton_group=BS<br>year=2018<br>Canton=%{x}<br>Average Remuneration (CHF)=%{y}<extra></extra>",
           "legendgroup": "BS",
           "marker": {
            "color": "#8C564B",
            "pattern": {
             "shape": ""
            }
           },
           "name": "BS",
           "orientation": "v",
           "showlegend": true,
           "textposition": "auto",
           "type": "bar",
           "x": [
            "BS"
           ],
           "xaxis": "x",
           "y": {
            "bdata": "AAAAAAAAKkA=",
            "dtype": "f8"
           },
           "yaxis": "y"
          },
          {
           "hovertemplate": "canton_group=OW<br>year=2018<br>Canton=%{x}<br>Average Remuneration (CHF)=%{y}<extra></extra>",
           "legendgroup": "OW",
           "marker": {
            "color": "#7F7F7F",
            "pattern": {
             "shape": ""
            }
           },
           "name": "OW",
           "orientation": "v",
           "showlegend": true,
           "textposition": "auto",
           "type": "bar",
           "x": [
            "OW"
           ],
           "xaxis": "x",
           "y": {
            "bdata": "AAAAAAAAJkA=",
            "dtype": "f8"
           },
           "yaxis": "y"
          },
          {
           "hovertemplate": "canton_group=ZG<br>year=2018<br>Canton=%{x}<br>Average Remuneration (CHF)=%{y}<extra></extra>",
           "legendgroup": "ZG",
           "marker": {
            "color": "#BCBD22",
            "pattern": {
             "shape": ""
            }
           },
           "name": "ZG",
           "orientation": "v",
           "showlegend": true,
           "textposition": "auto",
           "type": "bar",
           "x": [
            "ZG"
           ],
           "xaxis": "x",
           "y": {
            "bdata": "t6vuHRJVJkA=",
            "dtype": "f8"
           },
           "yaxis": "y"
          },
          {
           "hovertemplate": "canton_group=TI<br>year=2018<br>Canton=%{x}<br>Average Remuneration (CHF)=%{y}<extra></extra>",
           "legendgroup": "TI",
           "marker": {
            "color": "#17BECF",
            "pattern": {
             "shape": ""
            }
           },
           "name": "TI",
           "orientation": "v",
           "showlegend": true,
           "textposition": "auto",
           "type": "bar",
           "x": [
            "TI"
           ],
           "xaxis": "x",
           "y": {
            "bdata": "W1+m9WXaJEA=",
            "dtype": "f8"
           },
           "yaxis": "y"
          }
         ],
         "name": "2018"
        },
        {
         "data": [
          {
           "hovertemplate": "canton_group=Other<br>year=2019<br>Canton=%{x}<br>Average Remuneration (CHF)=%{y}<extra></extra>",
           "legendgroup": "Other",
           "marker": {
            "color": "#D9D9D9",
            "pattern": {
             "shape": ""
            }
           },
           "name": "Other",
           "orientation": "v",
           "showlegend": true,
           "textposition": "auto",
           "type": "bar",
           "x": [
            "AG",
            "AI",
            "AR",
            "BE",
            "BL",
            "FR",
            "GL",
            "GR",
            "JU",
            "LU",
            "NE",
            "NW",
            "SG",
            "SH",
            "SO",
            "SZ",
            "TG",
            "TI",
            "UR",
            "VD",
            "VS",
            "ZH"
           ],
           "xaxis": "x",
           "y": {
            "bdata": "seQXS35pGkDXo3A9CtcgQJ9hV4DcaxZAp+OZvCTdIkAUO7ETO7EjQNrDZHNdfiJAq6qqqqqqIEBPmC1fi/UhQB0/Qisp4yJA3KARSMxoIED9YskvljwjQLrooosuuiBAb5NPIfbvHUCSizCAeh8bQNwJ4mSSaiNAk8X4K1+SH0AYingsOMAhQM8fwkOfoyFAnlvi1O85JEAfMtlXJ4UgQPxep468gh1A0sQGMx5GGEA=",
            "dtype": "f8"
           },
           "yaxis": "y"
          },
          {
           "hovertemplate": "canton_group=BS<br>year=2019<br>Canton=%{x}<br>Average Remuneration (CHF)=%{y}<extra></extra>",
           "legendgroup": "BS",
           "marker": {
            "color": "#8C564B",
            "pattern": {
             "shape": ""
            }
           },
           "name": "BS",
           "orientation": "v",
           "showlegend": true,
           "textposition": "auto",
           "type": "bar",
           "x": [
            "BS"
           ],
           "xaxis": "x",
           "y": {
            "bdata": "AAAAAAAAKkA=",
            "dtype": "f8"
           },
           "yaxis": "y"
          },
          {
           "hovertemplate": "canton_group=GE<br>year=2019<br>Canton=%{x}<br>Average Remuneration (CHF)=%{y}<extra></extra>",
           "legendgroup": "GE",
           "marker": {
            "color": "#E377C2",
            "pattern": {
             "shape": ""
            }
           },
           "name": "GE",
           "orientation": "v",
           "showlegend": true,
           "textposition": "auto",
           "type": "bar",
           "x": [
            "GE"
           ],
           "xaxis": "x",
           "y": {
            "bdata": "FdQsH6vQJUA=",
            "dtype": "f8"
           },
           "yaxis": "y"
          },
          {
           "hovertemplate": "canton_group=OW<br>year=2019<br>Canton=%{x}<br>Average Remuneration (CHF)=%{y}<extra></extra>",
           "legendgroup": "OW",
           "marker": {
            "color": "#7F7F7F",
            "pattern": {
             "shape": ""
            }
           },
           "name": "OW",
           "orientation": "v",
           "showlegend": true,
           "textposition": "auto",
           "type": "bar",
           "x": [
            "OW"
           ],
           "xaxis": "x",
           "y": {
            "bdata": "mZmZmZmZJkA=",
            "dtype": "f8"
           },
           "yaxis": "y"
          },
          {
           "hovertemplate": "canton_group=ZG<br>year=2019<br>Canton=%{x}<br>Average Remuneration (CHF)=%{y}<extra></extra>",
           "legendgroup": "ZG",
           "marker": {
            "color": "#BCBD22",
            "pattern": {
             "shape": ""
            }
           },
           "name": "ZG",
           "orientation": "v",
           "showlegend": true,
           "textposition": "auto",
           "type": "bar",
           "x": [
            "ZG"
           ],
           "xaxis": "x",
           "y": {
            "bdata": "V8sbI5joJUA=",
            "dtype": "f8"
           },
           "yaxis": "y"
          }
         ],
         "name": "2019"
        },
        {
         "data": [
          {
           "hovertemplate": "canton_group=Other<br>year=2020<br>Canton=%{x}<br>Average Remuneration (CHF)=%{y}<extra></extra>",
           "legendgroup": "Other",
           "marker": {
            "color": "#D9D9D9",
            "pattern": {
             "shape": ""
            }
           },
           "name": "Other",
           "orientation": "v",
           "showlegend": true,
           "textposition": "auto",
           "type": "bar",
           "x": [
            "AG",
            "AI",
            "AR",
            "BE",
            "BL",
            "FR",
            "GL",
            "GR",
            "JU",
            "LU",
            "NE",
            "NW",
            "SG",
            "SH",
            "SO",
            "SZ",
            "TG",
            "TI",
            "UR",
            "VD",
            "VS",
            "ZH"
           ],
           "xaxis": "x",
           "y": {
            "bdata": "1AY6baCPHUBSuB6F69EgQAgZKjtMXRtAf0Zl/bs4IECgZtBsM50jQEaklasKfCJAAAAAAAAAJEAbQxTVAgUiQD0K16Nw3R9AfkL5azljIEC/WPKLJZ8hQJCnBHlKkBtAKJ4VjQR8H0Dfx1uagxcgQHzsGNsaqSJAFRUVFRUVH0CxQl4XqcQiQLy7u7u7AyJAnU1QsVXzIkDfxl2Wi6cgQDQHL6x+Jh9AW5KIbchSHkA=",
            "dtype": "f8"
           },
           "yaxis": "y"
          },
          {
           "hovertemplate": "canton_group=BS<br>year=2020<br>Canton=%{x}<br>Average Remuneration (CHF)=%{y}<extra></extra>",
           "legendgroup": "BS",
           "marker": {
            "color": "#8C564B",
            "pattern": {
             "shape": ""
            }
           },
           "name": "BS",
           "orientation": "v",
           "showlegend": true,
           "textposition": "auto",
           "type": "bar",
           "x": [
            "BS"
           ],
           "xaxis": "x",
           "y": {
            "bdata": "AAAAAAAAKkA=",
            "dtype": "f8"
           },
           "yaxis": "y"
          },
          {
           "hovertemplate": "canton_group=GE<br>year=2020<br>Canton=%{x}<br>Average Remuneration (CHF)=%{y}<extra></extra>",
           "legendgroup": "GE",
           "marker": {
            "color": "#E377C2",
            "pattern": {
             "shape": ""
            }
           },
           "name": "GE",
           "orientation": "v",
           "showlegend": true,
           "textposition": "auto",
           "type": "bar",
           "x": [
            "GE"
           ],
           "xaxis": "x",
           "y": {
            "bdata": "PwrXo3A9KEA=",
            "dtype": "f8"
           },
           "yaxis": "y"
          },
          {
           "hovertemplate": "canton_group=OW<br>year=2020<br>Canton=%{x}<br>Average Remuneration (CHF)=%{y}<extra></extra>",
           "legendgroup": "OW",
           "marker": {
            "color": "#7F7F7F",
            "pattern": {
             "shape": ""
            }
           },
           "name": "OW",
           "orientation": "v",
           "showlegend": true,
           "textposition": "auto",
           "type": "bar",
           "x": [
            "OW"
           ],
           "xaxis": "x",
           "y": {
            "bdata": "AAAAAAAAJkA=",
            "dtype": "f8"
           },
           "yaxis": "y"
          },
          {
           "hovertemplate": "canton_group=ZG<br>year=2020<br>Canton=%{x}<br>Average Remuneration (CHF)=%{y}<extra></extra>",
           "legendgroup": "ZG",
           "marker": {
            "color": "#BCBD22",
            "pattern": {
             "shape": ""
            }
           },
           "name": "ZG",
           "orientation": "v",
           "showlegend": true,
           "textposition": "auto",
           "type": "bar",
           "x": [
            "ZG"
           ],
           "xaxis": "x",
           "y": {
            "bdata": "RX8nq+WNJkA=",
            "dtype": "f8"
           },
           "yaxis": "y"
          }
         ],
         "name": "2020"
        },
        {
         "data": [
          {
           "hovertemplate": "canton_group=BE<br>year=2021<br>Canton=%{x}<br>Average Remuneration (CHF)=%{y}<extra></extra>",
           "legendgroup": "BE",
           "marker": {
            "color": "#9467BD",
            "pattern": {
             "shape": ""
            }
           },
           "name": "BE",
           "orientation": "v",
           "showlegend": true,
           "textposition": "auto",
           "type": "bar",
           "x": [
            "BE"
           ],
           "xaxis": "x",
           "y": {
            "bdata": "gLtj5yFKKUA=",
            "dtype": "f8"
           },
           "yaxis": "y"
          },
          {
           "hovertemplate": "canton_group=Other<br>year=2021<br>Canton=%{x}<br>Average Remuneration (CHF)=%{y}<extra></extra>",
           "legendgroup": "Other",
           "marker": {
            "color": "#D9D9D9",
            "pattern": {
             "shape": ""
            }
           },
           "name": "Other",
           "orientation": "v",
           "showlegend": true,
           "textposition": "auto",
           "type": "bar",
           "x": [
            "AG",
            "AI",
            "AR",
            "BL",
            "FR",
            "GL",
            "GR",
            "LU",
            "NE",
            "NW",
            "OW",
            "SG",
            "SH",
            "SO",
            "SZ",
            "TG",
            "TI",
            "UR",
            "VD",
            "VS",
            "ZG",
            "ZH"
           ],
           "xaxis": "x",
           "y": {
            "bdata": "Xk08KxqJIEA/u4DYVBojQJUdpi63vyJABKn20HXDJEA01OLMbXwiQAAAAAAAACRAMpUhUxkyIkBoNbxM0A8gQA0CK4cWuSJAo4suuuiiIEAAAAAAAAAkQIJOG+i0QSJAewntJbQXIED4R7B6ioMlQI4KzqjgjB9AsHJoke2cJUD/bwftz9EhQHoUrkfhKiRAn3ZGXYjLIEAVMSEa3t8eQJmZmZmZmSZAjux4dfN8HkA=",
            "dtype": "f8"
           },
           "yaxis": "y"
          },
          {
           "hovertemplate": "canton_group=BS<br>year=2021<br>Canton=%{x}<br>Average Remuneration (CHF)=%{y}<extra></extra>",
           "legendgroup": "BS",
           "marker": {
            "color": "#8C564B",
            "pattern": {
             "shape": ""
            }
           },
           "name": "BS",
           "orientation": "v",
           "showlegend": true,
           "textposition": "auto",
           "type": "bar",
           "x": [
            "BS"
           ],
           "xaxis": "x",
           "y": {
            "bdata": "AAAAAAAAKkA=",
            "dtype": "f8"
           },
           "yaxis": "y"
          },
          {
           "hovertemplate": "canton_group=GE<br>year=2021<br>Canton=%{x}<br>Average Remuneration (CHF)=%{y}<extra></extra>",
           "legendgroup": "GE",
           "marker": {
            "color": "#E377C2",
            "pattern": {
             "shape": ""
            }
           },
           "name": "GE",
           "orientation": "v",
           "showlegend": true,
           "textposition": "auto",
           "type": "bar",
           "x": [
            "GE"
           ],
           "xaxis": "x",
           "y": {
            "bdata": "nKPdSuu+KUA=",
            "dtype": "f8"
           },
           "yaxis": "y"
          },
          {
           "hovertemplate": "canton_group=JU<br>year=2021<br>Canton=%{x}<br>Average Remuneration (CHF)=%{y}<extra></extra>",
           "legendgroup": "JU",
           "marker": {
            "color": "#1F77B4",
            "pattern": {
             "shape": ""
            }
           },
           "name": "JU",
           "orientation": "v",
           "showlegend": true,
           "textposition": "auto",
           "type": "bar",
           "x": [
            "JU"
           ],
           "xaxis": "x",
           "y": {
            "bdata": "UsZzJgiRK0A=",
            "dtype": "f8"
           },
           "yaxis": "y"
          }
         ],
         "name": "2021"
        },
        {
         "data": [
          {
           "hovertemplate": "canton_group=Other<br>year=2022<br>Canton=%{x}<br>Average Remuneration (CHF)=%{y}<extra></extra>",
           "legendgroup": "Other",
           "marker": {
            "color": "#D9D9D9",
            "pattern": {
             "shape": ""
            }
           },
           "name": "Other",
           "orientation": "v",
           "showlegend": true,
           "textposition": "auto",
           "type": "bar",
           "x": [
            "AG",
            "AI",
            "AR",
            "BE",
            "BL",
            "BS",
            "FR",
            "GE",
            "GL",
            "GR",
            "NE",
            "SG",
            "SH",
            "SO",
            "SZ",
            "TG",
            "TI",
            "UR",
            "VD",
            "VS",
            "ZG",
            "ZH"
           ],
           "xaxis": "x",
           "y": {
            "bdata": "sPiKr/iKIUCITaUh5z4kQNZJlTEs6iJAUrgehetBOEDhEA7hEI4qQAAAAAAAACpAkyzGX/mSIkBVVVVVVVUqQAAAAAAAACRAdry6eT6xIkAt+cWSX3wjQEHvNhiTJyNAUsPfphg1JEBPK/eFVhswQLpT7YYgejJAlqdheRqWJUBD3n7hjPMiQK8AuddcSCtAQxXj6cEMI0AbOXP5EPggQHVQB3VQBydAV9PjrqmzIUA=",
            "dtype": "f8"
           },
           "yaxis": "y"
          },
          {
           "hovertemplate": "canton_group=OW<br>year=2022<br>Canton=%{x}<br>Average Remuneration (CHF)=%{y}<extra></extra>",
           "legendgroup": "OW",
           "marker": {
            "color": "#7F7F7F",
            "pattern": {
             "shape": ""
            }
           },
           "name": "OW",
           "orientation": "v",
           "showlegend": true,
           "textposition": "auto",
           "type": "bar",
           "x": [
            "OW"
           ],
           "xaxis": "x",
           "y": {
            "bdata": "AAAAAACAPkA=",
            "dtype": "f8"
           },
           "yaxis": "y"
          },
          {
           "hovertemplate": "canton_group=JU<br>year=2022<br>Canton=%{x}<br>Average Remuneration (CHF)=%{y}<extra></extra>",
           "legendgroup": "JU",
           "marker": {
            "color": "#1F77B4",
            "pattern": {
             "shape": ""
            }
           },
           "name": "JU",
           "orientation": "v",
           "showlegend": true,
           "textposition": "auto",
           "type": "bar",
           "x": [
            "JU"
           ],
           "xaxis": "x",
           "y": {
            "bdata": "sj401ofGPEA=",
            "dtype": "f8"
           },
           "yaxis": "y"
          },
          {
           "hovertemplate": "canton_group=LU<br>year=2022<br>Canton=%{x}<br>Average Remuneration (CHF)=%{y}<extra></extra>",
           "legendgroup": "LU",
           "marker": {
            "color": "#FF7F0E",
            "pattern": {
             "shape": ""
            }
           },
           "name": "LU",
           "orientation": "v",
           "showlegend": true,
           "textposition": "auto",
           "type": "bar",
           "x": [
            "LU"
           ],
           "xaxis": "x",
           "y": {
            "bdata": "T3kugaxhPUA=",
            "dtype": "f8"
           },
           "yaxis": "y"
          },
          {
           "hovertemplate": "canton_group=NW<br>year=2022<br>Canton=%{x}<br>Average Remuneration (CHF)=%{y}<extra></extra>",
           "legendgroup": "NW",
           "marker": {
            "color": "#2CA02C",
            "pattern": {
             "shape": ""
            }
           },
           "name": "NW",
           "orientation": "v",
           "showlegend": true,
           "textposition": "auto",
           "type": "bar",
           "x": [
            "NW"
           ],
           "xaxis": "x",
           "y": {
            "bdata": "F1100UWXPkA=",
            "dtype": "f8"
           },
           "yaxis": "y"
          }
         ],
         "name": "2022"
        },
        {
         "data": [
          {
           "hovertemplate": "canton_group=Other<br>year=2023<br>Canton=%{x}<br>Average Remuneration (CHF)=%{y}<extra></extra>",
           "legendgroup": "Other",
           "marker": {
            "color": "#D9D9D9",
            "pattern": {
             "shape": ""
            }
           },
           "name": "Other",
           "orientation": "v",
           "showlegend": true,
           "textposition": "auto",
           "type": "bar",
           "x": [
            "AG",
            "AI",
            "AR",
            "BE",
            "BL",
            "BS",
            "FR",
            "GE",
            "GL",
            "GR",
            "JU",
            "LU",
            "NE",
            "NW",
            "OW",
            "SH",
            "SZ",
            "TG",
            "TI",
            "UR",
            "VS",
            "ZH"
           ],
           "xaxis": "x",
           "y": {
            "bdata": "oIwZ1OQ7LEAK16NwPfovQBiGYRiGYStAZN+N8MlCJ0B8HT5I6oowQAAAAAAAACpAsEJnsEJnLUAUG1XCYjYpQAAAAAAAADBAcmPvFNQsKUAawFsgQfEjQKhR50HrwCVArUfhehQeLkDtG9a+Ye0nQLgehetRuCNAPCsaCfjmLEB+F7FK5P0pQBGAWZO8fi9Ac7uj5w0JLEBoGh1+IsAsQCIP0VUlRC1Awpepnq2LKUA=",
            "dtype": "f8"
           },
           "yaxis": "y"
          },
          {
           "hovertemplate": "canton_group=ZG<br>year=2023<br>Canton=%{x}<br>Average Remuneration (CHF)=%{y}<extra></extra>",
           "legendgroup": "ZG",
           "marker": {
            "color": "#BCBD22",
            "pattern": {
             "shape": ""
            }
           },
           "name": "ZG",
           "orientation": "v",
           "showlegend": true,
           "textposition": "auto",
           "type": "bar",
           "x": [
            "ZG"
           ],
           "xaxis": "x",
           "y": {
            "bdata": "CtejcD3KMUA=",
            "dtype": "f8"
           },
           "yaxis": "y"
          },
          {
           "hovertemplate": "canton_group=SG<br>year=2023<br>Canton=%{x}<br>Average Remuneration (CHF)=%{y}<extra></extra>",
           "legendgroup": "SG",
           "marker": {
            "color": "#D62728",
            "pattern": {
             "shape": ""
            }
           },
           "name": "SG",
           "orientation": "v",
           "showlegend": true,
           "textposition": "auto",
           "type": "bar",
           "x": [
            "SG"
           ],
           "xaxis": "x",
           "y": {
            "bdata": "IhBZNcTIMEA=",
            "dtype": "f8"
           },
           "yaxis": "y"
          },
          {
           "hovertemplate": "canton_group=SO<br>year=2023<br>Canton=%{x}<br>Average Remuneration (CHF)=%{y}<extra></extra>",
           "legendgroup": "SO",
           "marker": {
            "color": "#9467BD",
            "pattern": {
             "shape": ""
            }
           },
           "name": "SO",
           "orientation": "v",
           "showlegend": true,
           "textposition": "auto",
           "type": "bar",
           "x": [
            "SO"
           ],
           "xaxis": "x",
           "y": {
            "bdata": "d4I4maQKMkA=",
            "dtype": "f8"
           },
           "yaxis": "y"
          },
          {
           "hovertemplate": "canton_group=VD<br>year=2023<br>Canton=%{x}<br>Average Remuneration (CHF)=%{y}<extra></extra>",
           "legendgroup": "VD",
           "marker": {
            "color": "#8C564B",
            "pattern": {
             "shape": ""
            }
           },
           "name": "VD",
           "orientation": "v",
           "showlegend": true,
           "textposition": "auto",
           "type": "bar",
           "x": [
            "VD"
           ],
           "xaxis": "x",
           "y": {
            "bdata": "5aZdJWcxMkA=",
            "dtype": "f8"
           },
           "yaxis": "y"
          }
         ],
         "name": "2023"
        },
        {
         "data": [
          {
           "hovertemplate": "canton_group=AG<br>year=2024<br>Canton=%{x}<br>Average Remuneration (CHF)=%{y}<extra></extra>",
           "legendgroup": "AG",
           "marker": {
            "color": "#FF7F0E",
            "pattern": {
             "shape": ""
            }
           },
           "name": "AG",
           "orientation": "v",
           "showlegend": true,
           "textposition": "auto",
           "type": "bar",
           "x": [
            "AG"
           ],
           "xaxis": "x",
           "y": {
            "bdata": "b4fIKWxWMkA=",
            "dtype": "f8"
           },
           "yaxis": "y"
          },
          {
           "hovertemplate": "canton_group=Other<br>year=2024<br>Canton=%{x}<br>Average Remuneration (CHF)=%{y}<extra></extra>",
           "legendgroup": "Other",
           "marker": {
            "color": "#D9D9D9",
            "pattern": {
             "shape": ""
            }
           },
           "name": "Other",
           "orientation": "v",
           "showlegend": true,
           "textposition": "auto",
           "type": "bar",
           "x": [
            "AI",
            "AR",
            "BE",
            "BL",
            "BS",
            "FR",
            "GE",
            "GL",
            "GR",
            "JU",
            "LU",
            "NW",
            "OW",
            "SG",
            "SH",
            "SO",
            "SZ",
            "TG",
            "TI",
            "UR",
            "VD",
            "VS"
           ],
           "xaxis": "x",
           "y": {
            "bdata": "mpmZmZlxMECkcD0K16MuQKZP9fge8CNAeQ8MbzioLUAAAAAAAAAqQOLh4eHh4SxAhAyVHaYuMEAAAAAAAAAxQLHkF0t+RSlA6dms+lxtHkC2h1/ZJQQgQH3D2jesfRtApXA9CtejF0DQEotok1cxQPnFkl8suTBAXUWdWrfXLkClPthxC+UoQGWeljqk2zBAYCz5xZL/K0Cnfs8tceoqQClcj8L1aDFARxtdek4QLUA=",
            "dtype": "f8"
           },
           "yaxis": "y"
          },
          {
           "hovertemplate": "canton_group=ZG<br>year=2024<br>Canton=%{x}<br>Average Remuneration (CHF)=%{y}<extra></extra>",
           "legendgroup": "ZG",
           "marker": {
            "color": "#BCBD22",
            "pattern": {
             "shape": ""
            }
           },
           "name": "ZG",
           "orientation": "v",
           "showlegend": true,
           "textposition": "auto",
           "type": "bar",
           "x": [
            "ZG"
           ],
           "xaxis": "x",
           "y": {
            "bdata": "eLJa3hgBNUA=",
            "dtype": "f8"
           },
           "yaxis": "y"
          },
          {
           "hovertemplate": "canton_group=NE<br>year=2024<br>Canton=%{x}<br>Average Remuneration (CHF)=%{y}<extra></extra>",
           "legendgroup": "NE",
           "marker": {
            "color": "#E377C2",
            "pattern": {
             "shape": ""
            }
           },
           "name": "NE",
           "orientation": "v",
           "showlegend": true,
           "textposition": "auto",
           "type": "bar",
           "x": [
            "NE"
           ],
           "xaxis": "x",
           "y": {
            "bdata": "MzMzMzPDMUA=",
            "dtype": "f8"
           },
           "yaxis": "y"
          },
          {
           "hovertemplate": "canton_group=ZH<br>year=2024<br>Canton=%{x}<br>Average Remuneration (CHF)=%{y}<extra></extra>",
           "legendgroup": "ZH",
           "marker": {
            "color": "#7F7F7F",
            "pattern": {
             "shape": ""
            }
           },
           "name": "ZH",
           "orientation": "v",
           "showlegend": true,
           "textposition": "auto",
           "type": "bar",
           "x": [
            "ZH"
           ],
           "xaxis": "x",
           "y": {
            "bdata": "9ImhxEPDMkA=",
            "dtype": "f8"
           },
           "yaxis": "y"
          }
         ],
         "name": "2024"
        }
       ],
       "layout": {
        "barmode": "relative",
        "legend": {
         "title": {
          "text": "canton_group"
         },
         "tracegroupgap": 0
        },
        "showlegend": false,
        "sliders": [
         {
          "active": 0,
          "currentvalue": {
           "prefix": "year="
          },
          "len": 0.9,
          "pad": {
           "b": 10,
           "t": 60
          },
          "steps": [
           {
            "args": [
             [
              "2015"
             ],
             {
              "frame": {
               "duration": 0,
               "redraw": true
              },
              "fromcurrent": true,
              "mode": "immediate",
              "transition": {
               "duration": 0,
               "easing": "linear"
              }
             }
            ],
            "label": "2015",
            "method": "animate"
           },
           {
            "args": [
             [
              "2016"
             ],
             {
              "frame": {
               "duration": 0,
               "redraw": true
              },
              "fromcurrent": true,
              "mode": "immediate",
              "transition": {
               "duration": 0,
               "easing": "linear"
              }
             }
            ],
            "label": "2016",
            "method": "animate"
           },
           {
            "args": [
             [
              "2017"
             ],
             {
              "frame": {
               "duration": 0,
               "redraw": true
              },
              "fromcurrent": true,
              "mode": "immediate",
              "transition": {
               "duration": 0,
               "easing": "linear"
              }
             }
            ],
            "label": "2017",
            "method": "animate"
           },
           {
            "args": [
             [
              "2018"
             ],
             {
              "frame": {
               "duration": 0,
               "redraw": true
              },
              "fromcurrent": true,
              "mode": "immediate",
              "transition": {
               "duration": 0,
               "easing": "linear"
              }
             }
            ],
            "label": "2018",
            "method": "animate"
           },
           {
            "args": [
             [
              "2019"
             ],
             {
              "frame": {
               "duration": 0,
               "redraw": true
              },
              "fromcurrent": true,
              "mode": "immediate",
              "transition": {
               "duration": 0,
               "easing": "linear"
              }
             }
            ],
            "label": "2019",
            "method": "animate"
           },
           {
            "args": [
             [
              "2020"
             ],
             {
              "frame": {
               "duration": 0,
               "redraw": true
              },
              "fromcurrent": true,
              "mode": "immediate",
              "transition": {
               "duration": 0,
               "easing": "linear"
              }
             }
            ],
            "label": "2020",
            "method": "animate"
           },
           {
            "args": [
             [
              "2021"
             ],
             {
              "frame": {
               "duration": 0,
               "redraw": true
              },
              "fromcurrent": true,
              "mode": "immediate",
              "transition": {
               "duration": 0,
               "easing": "linear"
              }
             }
            ],
            "label": "2021",
            "method": "animate"
           },
           {
            "args": [
             [
              "2022"
             ],
             {
              "frame": {
               "duration": 0,
               "redraw": true
              },
              "fromcurrent": true,
              "mode": "immediate",
              "transition": {
               "duration": 0,
               "easing": "linear"
              }
             }
            ],
            "label": "2022",
            "method": "animate"
           },
           {
            "args": [
             [
              "2023"
             ],
             {
              "frame": {
               "duration": 0,
               "redraw": true
              },
              "fromcurrent": true,
              "mode": "immediate",
              "transition": {
               "duration": 0,
               "easing": "linear"
              }
             }
            ],
            "label": "2023",
            "method": "animate"
           },
           {
            "args": [
             [
              "2024"
             ],
             {
              "frame": {
               "duration": 0,
               "redraw": true
              },
              "fromcurrent": true,
              "mode": "immediate",
              "transition": {
               "duration": 0,
               "easing": "linear"
              }
             }
            ],
            "label": "2024",
            "method": "animate"
           }
          ],
          "x": 0.1,
          "xanchor": "left",
          "y": 0,
          "yanchor": "top"
         }
        ],
        "template": {
         "data": {
          "bar": [
           {
            "error_x": {
             "color": "rgb(36,36,36)"
            },
            "error_y": {
             "color": "rgb(36,36,36)"
            },
            "marker": {
             "line": {
              "color": "white",
              "width": 0.5
             },
             "pattern": {
              "fillmode": "overlay",
              "size": 10,
              "solidity": 0.2
             }
            },
            "type": "bar"
           }
          ],
          "barpolar": [
           {
            "marker": {
             "line": {
              "color": "white",
              "width": 0.5
             },
             "pattern": {
              "fillmode": "overlay",
              "size": 10,
              "solidity": 0.2
             }
            },
            "type": "barpolar"
           }
          ],
          "carpet": [
           {
            "aaxis": {
             "endlinecolor": "rgb(36,36,36)",
             "gridcolor": "white",
             "linecolor": "white",
             "minorgridcolor": "white",
             "startlinecolor": "rgb(36,36,36)"
            },
            "baxis": {
             "endlinecolor": "rgb(36,36,36)",
             "gridcolor": "white",
             "linecolor": "white",
             "minorgridcolor": "white",
             "startlinecolor": "rgb(36,36,36)"
            },
            "type": "carpet"
           }
          ],
          "choropleth": [
           {
            "colorbar": {
             "outlinewidth": 1,
             "tickcolor": "rgb(36,36,36)",
             "ticks": "outside"
            },
            "type": "choropleth"
           }
          ],
          "contour": [
           {
            "colorbar": {
             "outlinewidth": 1,
             "tickcolor": "rgb(36,36,36)",
             "ticks": "outside"
            },
            "colorscale": [
             [
              0,
              "#440154"
             ],
             [
              0.1111111111111111,
              "#482878"
             ],
             [
              0.2222222222222222,
              "#3e4989"
             ],
             [
              0.3333333333333333,
              "#31688e"
             ],
             [
              0.4444444444444444,
              "#26828e"
             ],
             [
              0.5555555555555556,
              "#1f9e89"
             ],
             [
              0.6666666666666666,
              "#35b779"
             ],
             [
              0.7777777777777778,
              "#6ece58"
             ],
             [
              0.8888888888888888,
              "#b5de2b"
             ],
             [
              1,
              "#fde725"
             ]
            ],
            "type": "contour"
           }
          ],
          "contourcarpet": [
           {
            "colorbar": {
             "outlinewidth": 1,
             "tickcolor": "rgb(36,36,36)",
             "ticks": "outside"
            },
            "type": "contourcarpet"
           }
          ],
          "heatmap": [
           {
            "colorbar": {
             "outlinewidth": 1,
             "tickcolor": "rgb(36,36,36)",
             "ticks": "outside"
            },
            "colorscale": [
             [
              0,
              "#440154"
             ],
             [
              0.1111111111111111,
              "#482878"
             ],
             [
              0.2222222222222222,
              "#3e4989"
             ],
             [
              0.3333333333333333,
              "#31688e"
             ],
             [
              0.4444444444444444,
              "#26828e"
             ],
             [
              0.5555555555555556,
              "#1f9e89"
             ],
             [
              0.6666666666666666,
              "#35b779"
             ],
             [
              0.7777777777777778,
              "#6ece58"
             ],
             [
              0.8888888888888888,
              "#b5de2b"
             ],
             [
              1,
              "#fde725"
             ]
            ],
            "type": "heatmap"
           }
          ],
          "histogram": [
           {
            "marker": {
             "line": {
              "color": "white",
              "width": 0.6
             }
            },
            "type": "histogram"
           }
          ],
          "histogram2d": [
           {
            "colorbar": {
             "outlinewidth": 1,
             "tickcolor": "rgb(36,36,36)",
             "ticks": "outside"
            },
            "colorscale": [
             [
              0,
              "#440154"
             ],
             [
              0.1111111111111111,
              "#482878"
             ],
             [
              0.2222222222222222,
              "#3e4989"
             ],
             [
              0.3333333333333333,
              "#31688e"
             ],
             [
              0.4444444444444444,
              "#26828e"
             ],
             [
              0.5555555555555556,
              "#1f9e89"
             ],
             [
              0.6666666666666666,
              "#35b779"
             ],
             [
              0.7777777777777778,
              "#6ece58"
             ],
             [
              0.8888888888888888,
              "#b5de2b"
             ],
             [
              1,
              "#fde725"
             ]
            ],
            "type": "histogram2d"
           }
          ],
          "histogram2dcontour": [
           {
            "colorbar": {
             "outlinewidth": 1,
             "tickcolor": "rgb(36,36,36)",
             "ticks": "outside"
            },
            "colorscale": [
             [
              0,
              "#440154"
             ],
             [
              0.1111111111111111,
              "#482878"
             ],
             [
              0.2222222222222222,
              "#3e4989"
             ],
             [
              0.3333333333333333,
              "#31688e"
             ],
             [
              0.4444444444444444,
              "#26828e"
             ],
             [
              0.5555555555555556,
              "#1f9e89"
             ],
             [
              0.6666666666666666,
              "#35b779"
             ],
             [
              0.7777777777777778,
              "#6ece58"
             ],
             [
              0.8888888888888888,
              "#b5de2b"
             ],
             [
              1,
              "#fde725"
             ]
            ],
            "type": "histogram2dcontour"
           }
          ],
          "mesh3d": [
           {
            "colorbar": {
             "outlinewidth": 1,
             "tickcolor": "rgb(36,36,36)",
             "ticks": "outside"
            },
            "type": "mesh3d"
           }
          ],
          "parcoords": [
           {
            "line": {
             "colorbar": {
              "outlinewidth": 1,
              "tickcolor": "rgb(36,36,36)",
              "ticks": "outside"
             }
            },
            "type": "parcoords"
           }
          ],
          "pie": [
           {
            "automargin": true,
            "type": "pie"
           }
          ],
          "scatter": [
           {
            "fillpattern": {
             "fillmode": "overlay",
             "size": 10,
             "solidity": 0.2
            },
            "type": "scatter"
           }
          ],
          "scatter3d": [
           {
            "line": {
             "colorbar": {
              "outlinewidth": 1,
              "tickcolor": "rgb(36,36,36)",
              "ticks": "outside"
             }
            },
            "marker": {
             "colorbar": {
              "outlinewidth": 1,
              "tickcolor": "rgb(36,36,36)",
              "ticks": "outside"
             }
            },
            "type": "scatter3d"
           }
          ],
          "scattercarpet": [
           {
            "marker": {
             "colorbar": {
              "outlinewidth": 1,
              "tickcolor": "rgb(36,36,36)",
              "ticks": "outside"
             }
            },
            "type": "scattercarpet"
           }
          ],
          "scattergeo": [
           {
            "marker": {
             "colorbar": {
              "outlinewidth": 1,
              "tickcolor": "rgb(36,36,36)",
              "ticks": "outside"
             }
            },
            "type": "scattergeo"
           }
          ],
          "scattergl": [
           {
            "marker": {
             "colorbar": {
              "outlinewidth": 1,
              "tickcolor": "rgb(36,36,36)",
              "ticks": "outside"
             }
            },
            "type": "scattergl"
           }
          ],
          "scattermap": [
           {
            "marker": {
             "colorbar": {
              "outlinewidth": 1,
              "tickcolor": "rgb(36,36,36)",
              "ticks": "outside"
             }
            },
            "type": "scattermap"
           }
          ],
          "scattermapbox": [
           {
            "marker": {
             "colorbar": {
              "outlinewidth": 1,
              "tickcolor": "rgb(36,36,36)",
              "ticks": "outside"
             }
            },
            "type": "scattermapbox"
           }
          ],
          "scatterpolar": [
           {
            "marker": {
             "colorbar": {
              "outlinewidth": 1,
              "tickcolor": "rgb(36,36,36)",
              "ticks": "outside"
             }
            },
            "type": "scatterpolar"
           }
          ],
          "scatterpolargl": [
           {
            "marker": {
             "colorbar": {
              "outlinewidth": 1,
              "tickcolor": "rgb(36,36,36)",
              "ticks": "outside"
             }
            },
            "type": "scatterpolargl"
           }
          ],
          "scatterternary": [
           {
            "marker": {
             "colorbar": {
              "outlinewidth": 1,
              "tickcolor": "rgb(36,36,36)",
              "ticks": "outside"
             }
            },
            "type": "scatterternary"
           }
          ],
          "surface": [
           {
            "colorbar": {
             "outlinewidth": 1,
             "tickcolor": "rgb(36,36,36)",
             "ticks": "outside"
            },
            "colorscale": [
             [
              0,
              "#440154"
             ],
             [
              0.1111111111111111,
              "#482878"
             ],
             [
              0.2222222222222222,
              "#3e4989"
             ],
             [
              0.3333333333333333,
              "#31688e"
             ],
             [
              0.4444444444444444,
              "#26828e"
             ],
             [
              0.5555555555555556,
              "#1f9e89"
             ],
             [
              0.6666666666666666,
              "#35b779"
             ],
             [
              0.7777777777777778,
              "#6ece58"
             ],
             [
              0.8888888888888888,
              "#b5de2b"
             ],
             [
              1,
              "#fde725"
             ]
            ],
            "type": "surface"
           }
          ],
          "table": [
           {
            "cells": {
             "fill": {
              "color": "rgb(237,237,237)"
             },
             "line": {
              "color": "white"
             }
            },
            "header": {
             "fill": {
              "color": "rgb(217,217,217)"
             },
             "line": {
              "color": "white"
             }
            },
            "type": "table"
           }
          ]
         },
         "layout": {
          "annotationdefaults": {
           "arrowhead": 0,
           "arrowwidth": 1
          },
          "autotypenumbers": "strict",
          "coloraxis": {
           "colorbar": {
            "outlinewidth": 1,
            "tickcolor": "rgb(36,36,36)",
            "ticks": "outside"
           }
          },
          "colorscale": {
           "diverging": [
            [
             0,
             "rgb(103,0,31)"
            ],
            [
             0.1,
             "rgb(178,24,43)"
            ],
            [
             0.2,
             "rgb(214,96,77)"
            ],
            [
             0.3,
             "rgb(244,165,130)"
            ],
            [
             0.4,
             "rgb(253,219,199)"
            ],
            [
             0.5,
             "rgb(247,247,247)"
            ],
            [
             0.6,
             "rgb(209,229,240)"
            ],
            [
             0.7,
             "rgb(146,197,222)"
            ],
            [
             0.8,
             "rgb(67,147,195)"
            ],
            [
             0.9,
             "rgb(33,102,172)"
            ],
            [
             1,
             "rgb(5,48,97)"
            ]
           ],
           "sequential": [
            [
             0,
             "#440154"
            ],
            [
             0.1111111111111111,
             "#482878"
            ],
            [
             0.2222222222222222,
             "#3e4989"
            ],
            [
             0.3333333333333333,
             "#31688e"
            ],
            [
             0.4444444444444444,
             "#26828e"
            ],
            [
             0.5555555555555556,
             "#1f9e89"
            ],
            [
             0.6666666666666666,
             "#35b779"
            ],
            [
             0.7777777777777778,
             "#6ece58"
            ],
            [
             0.8888888888888888,
             "#b5de2b"
            ],
            [
             1,
             "#fde725"
            ]
           ],
           "sequentialminus": [
            [
             0,
             "#440154"
            ],
            [
             0.1111111111111111,
             "#482878"
            ],
            [
             0.2222222222222222,
             "#3e4989"
            ],
            [
             0.3333333333333333,
             "#31688e"
            ],
            [
             0.4444444444444444,
             "#26828e"
            ],
            [
             0.5555555555555556,
             "#1f9e89"
            ],
            [
             0.6666666666666666,
             "#35b779"
            ],
            [
             0.7777777777777778,
             "#6ece58"
            ],
            [
             0.8888888888888888,
             "#b5de2b"
            ],
            [
             1,
             "#fde725"
            ]
           ]
          },
          "colorway": [
           "#1F77B4",
           "#FF7F0E",
           "#2CA02C",
           "#D62728",
           "#9467BD",
           "#8C564B",
           "#E377C2",
           "#7F7F7F",
           "#BCBD22",
           "#17BECF"
          ],
          "font": {
           "color": "rgb(36,36,36)"
          },
          "geo": {
           "bgcolor": "white",
           "lakecolor": "white",
           "landcolor": "white",
           "showlakes": true,
           "showland": true,
           "subunitcolor": "white"
          },
          "hoverlabel": {
           "align": "left"
          },
          "hovermode": "closest",
          "mapbox": {
           "style": "light"
          },
          "paper_bgcolor": "white",
          "plot_bgcolor": "white",
          "polar": {
           "angularaxis": {
            "gridcolor": "rgb(232,232,232)",
            "linecolor": "rgb(36,36,36)",
            "showgrid": false,
            "showline": true,
            "ticks": "outside"
           },
           "bgcolor": "white",
           "radialaxis": {
            "gridcolor": "rgb(232,232,232)",
            "linecolor": "rgb(36,36,36)",
            "showgrid": false,
            "showline": true,
            "ticks": "outside"
           }
          },
          "scene": {
           "xaxis": {
            "backgroundcolor": "white",
            "gridcolor": "rgb(232,232,232)",
            "gridwidth": 2,
            "linecolor": "rgb(36,36,36)",
            "showbackground": true,
            "showgrid": false,
            "showline": true,
            "ticks": "outside",
            "zeroline": false,
            "zerolinecolor": "rgb(36,36,36)"
           },
           "yaxis": {
            "backgroundcolor": "white",
            "gridcolor": "rgb(232,232,232)",
            "gridwidth": 2,
            "linecolor": "rgb(36,36,36)",
            "showbackground": true,
            "showgrid": false,
            "showline": true,
            "ticks": "outside",
            "zeroline": false,
            "zerolinecolor": "rgb(36,36,36)"
           },
           "zaxis": {
            "backgroundcolor": "white",
            "gridcolor": "rgb(232,232,232)",
            "gridwidth": 2,
            "linecolor": "rgb(36,36,36)",
            "showbackground": true,
            "showgrid": false,
            "showline": true,
            "ticks": "outside",
            "zeroline": false,
            "zerolinecolor": "rgb(36,36,36)"
           }
          },
          "shapedefaults": {
           "fillcolor": "black",
           "line": {
            "width": 0
           },
           "opacity": 0.3
          },
          "ternary": {
           "aaxis": {
            "gridcolor": "rgb(232,232,232)",
            "linecolor": "rgb(36,36,36)",
            "showgrid": false,
            "showline": true,
            "ticks": "outside"
           },
           "baxis": {
            "gridcolor": "rgb(232,232,232)",
            "linecolor": "rgb(36,36,36)",
            "showgrid": false,
            "showline": true,
            "ticks": "outside"
           },
           "bgcolor": "white",
           "caxis": {
            "gridcolor": "rgb(232,232,232)",
            "linecolor": "rgb(36,36,36)",
            "showgrid": false,
            "showline": true,
            "ticks": "outside"
           }
          },
          "title": {
           "x": 0.05
          },
          "xaxis": {
           "automargin": true,
           "gridcolor": "rgb(232,232,232)",
           "linecolor": "rgb(36,36,36)",
           "showgrid": false,
           "showline": true,
           "ticks": "outside",
           "title": {
            "standoff": 15
           },
           "zeroline": false,
           "zerolinecolor": "rgb(36,36,36)"
          },
          "yaxis": {
           "automargin": true,
           "gridcolor": "rgb(232,232,232)",
           "linecolor": "rgb(36,36,36)",
           "showgrid": false,
           "showline": true,
           "ticks": "outside",
           "title": {
            "standoff": 15
           },
           "zeroline": false,
           "zerolinecolor": "rgb(36,36,36)"
          }
         }
        },
        "title": {
         "font": {
          "color": "black",
          "family": "Arial",
          "size": 16
         },
         "text": "Average Remuneration per Canton and Year"
        },
        "updatemenus": [
         {
          "buttons": [
           {
            "args": [
             null,
             {
              "frame": {
               "duration": 500,
               "redraw": true
              },
              "fromcurrent": true,
              "mode": "immediate",
              "transition": {
               "duration": 500,
               "easing": "linear"
              }
             }
            ],
            "label": "&#9654;",
            "method": "animate"
           },
           {
            "args": [
             [
              null
             ],
             {
              "frame": {
               "duration": 0,
               "redraw": true
              },
              "fromcurrent": true,
              "mode": "immediate",
              "transition": {
               "duration": 0,
               "easing": "linear"
              }
             }
            ],
            "label": "&#9724;",
            "method": "animate"
           }
          ],
          "direction": "left",
          "pad": {
           "r": 10,
           "t": 70
          },
          "showactive": false,
          "type": "buttons",
          "x": 0.1,
          "xanchor": "right",
          "y": 0,
          "yanchor": "top"
         }
        ],
        "xaxis": {
         "anchor": "y",
         "categoryarray": [
          "AG",
          "AI",
          "AR",
          "BE",
          "BL",
          "BS",
          "FR",
          "GE",
          "GL",
          "GR",
          "JU",
          "LU",
          "NE",
          "NW",
          "OW",
          "SG",
          "SH",
          "SO",
          "SZ",
          "TG",
          "TI",
          "UR",
          "VD",
          "VS",
          "ZG",
          "ZH"
         ],
         "categoryorder": "array",
         "domain": [
          0,
          1
         ],
         "showgrid": false,
         "title": {
          "text": "Canton"
         }
        },
        "yaxis": {
         "anchor": "x",
         "domain": [
          0,
          1
         ],
         "range": [
          0,
          31
         ],
         "showgrid": true,
         "title": {
          "text": "Average Remuneration (CHF)"
         },
         "zeroline": true,
         "zerolinecolor": "black"
        }
       }
      }
     },
     "metadata": {},
     "output_type": "display_data"
    }
   ],
   "source": [
    "# Import required libraries for visualization\n",
    "import plotly.express as px\n",
    "\n",
    "# Define a fixed order for cantons\n",
    "fixed_canton_order = sorted(result['Kanton'].unique())\n",
    "\n",
    "# Identify the top 4 cantons by average remuneration for each year\n",
    "def assign_canton_group(row, top_cantons_per_year):\n",
    "    if row['Kanton'] in top_cantons_per_year.get(row['year'], []):\n",
    "        return row['Kanton']\n",
    "    return 'Other'\n",
    "\n",
    "# Get the top 4 cantons for each year\n",
    "top_cantons_per_year = (\n",
    "    result.groupby('year', group_keys=False)  # Exclude grouping columns\n",
    "    .apply(lambda group: group.nlargest(4, 'avg_remuneration')['Kanton'].tolist(), include_groups=False)\n",
    "    .to_dict()\n",
    ")\n",
    "\n",
    "# Assign canton group based on the top cantons per year\n",
    "result['canton_group'] = result.apply(assign_canton_group, axis=1, top_cantons_per_year=top_cantons_per_year)\n",
    "\n",
    "# Create an interactive bar chart with a year slider\n",
    "fig = px.bar(result, x='Kanton', y='avg_remuneration', color='canton_group',\n",
    "             animation_frame='year',\n",
    "             title='Average Remuneration per Canton and Year',\n",
    "             labels={'avg_remuneration': 'Average Remuneration (CHF)', 'Kanton': 'Canton'},\n",
    "             category_orders={'Kanton': fixed_canton_order},  # Fix canton order\n",
    "             color_discrete_map={\n",
    "                 'Other': '#D9D9D9'  # Gray for other cantons\n",
    "             },\n",
    "             template='simple_white')\n",
    "\n",
    "# Update layout for IBCS compliance, hide legend, and fix y-axis range\n",
    "fig.update_layout(\n",
    "    xaxis_title='Canton',\n",
    "    yaxis_title='Average Remuneration (CHF)',\n",
    "    title_font=dict(size=16, family='Arial', color='black'),\n",
    "    xaxis=dict(showgrid=False),\n",
    "    yaxis=dict(showgrid=True, zeroline=True, zerolinecolor='black', range=[0, 31]),  # Fix y-axis range\n",
    "    showlegend=False  # Hide legend\n",
    ")\n",
    "\n",
    "# Show the interactive plot\n",
    "fig.show()"
   ]
  }
 ],
 "metadata": {
  "kernelspec": {
   "display_name": "Python 3",
   "language": "python",
   "name": "python3"
  },
  "language_info": {
   "codemirror_mode": {
    "name": "ipython",
    "version": 3
   },
   "file_extension": ".py",
   "mimetype": "text/x-python",
   "name": "python",
   "nbconvert_exporter": "python",
   "pygments_lexer": "ipython3",
   "version": "3.13.3"
  }
 },
 "nbformat": 4,
 "nbformat_minor": 5
}
