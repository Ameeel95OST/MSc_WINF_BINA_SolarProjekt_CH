{
 "cells": [
  {
   "cell_type": "markdown",
   "id": "5958e389",
   "metadata": {},
   "source": [
    "<a href=\"https://colab.research.google.com/github/alendoko/bina/blob/main/LB4/DATA/Python_JUPYTER_Data_Analysis_SteyByStep_Melbourne_Houseprice2025.ipynb\" target=\"_parent\"><img src=\"https://colab.research.google.com/assets/colab-badge.svg\" alt=\"Open In Colab\"/></a>"
   ]
  },
  {
   "cell_type": "markdown",
   "id": "b7127651",
   "metadata": {},
   "source": [
    "# Strom-Endverbrauch in der Schweiz\n",
    "Dieses Notebook visualisiert den Strom-Endverbrauch in der Schweiz über die Jahre, basierend auf verschiedenen Sektoren."
   ]
  },
  {
   "cell_type": "markdown",
   "id": "07ae5701",
   "metadata": {},
   "source": [
    "## Daten laden, aufbereiten und anreichern"
   ]
  },
  {
   "cell_type": "code",
   "execution_count": null,
   "id": "d1bad5e3",
   "metadata": {},
   "outputs": [],
   "source": [
    "# Bibliotheken importieren\n",
    "import pandas as pd\n",
    "import plotly.express as px\n",
    "\n",
    "# CSV-Daten laden\n",
    "file_path = '../data/verbrauch/Strom_Endverbrauch_Schweiz.csv'\n",
    "data = pd.read_csv(file_path, sep=';')\n",
    "\n",
    "# Daten filtern\n",
    "data = data[(data['Jahr'] >= 2015) & (data['Jahr'] <= 2024)]\n",
    "\n",
    "# Spaltennamen anpassen, um \" in GWh\" am Ende zu entfernen\n",
    "data.columns = [col.replace(' in GWh', '') for col in data.columns]\n",
    "\n",
    "# Daten überprüfen\n",
    "data.head()"
   ]
  },
  {
   "cell_type": "markdown",
   "id": "e71b2526",
   "metadata": {},
   "source": [
    "## Interaktives Diagramm erstellen"
   ]
  },
  {
   "cell_type": "code",
   "execution_count": null,
   "id": "cf0393b0",
   "metadata": {},
   "outputs": [],
   "source": [
    "# Interaktives Diagramm erstellen\n",
    "fig = px.line(\n",
    "    data.melt(id_vars=['Jahr'], var_name='Sektor', value_name='Verbrauch (GWh)'),\n",
    "    x='Jahr',\n",
    "    y='Verbrauch (GWh)',\n",
    "    color='Sektor',\n",
    "    title='Strom-Endverbrauch in der Schweiz nach Sektoren',\n",
    "    labels={'Jahr': 'Jahr', 'Verbrauch (GWh)': 'Verbrauch (GWh)', 'Sektor': 'Sektor'}\n",
    ")\n",
    "fig.update_traces(mode='markers+lines')\n",
    "fig.update_layout(xaxis=dict(tickmode='linear'))  # Alle Jahre anzeigen\n",
    "\n",
    "# Diagramm als HTML speichern\n",
    "fig.write_html('../docs/assets/diagramme/Strom_Endverbrauch_Schweiz.html')\n",
    "\n",
    "fig.show()"
   ]
  }
 ],
 "metadata": {
  "kernelspec": {
   "display_name": "Python 3",
   "language": "python",
   "name": "python3"
  },
  "language_info": {
   "codemirror_mode": {
    "name": "ipython",
    "version": 3
   },
   "file_extension": ".py",
   "mimetype": "text/x-python",
   "name": "python",
   "nbconvert_exporter": "python",
   "pygments_lexer": "ipython3",
   "version": "3.13.2"
  }
 },
 "nbformat": 4,
 "nbformat_minor": 5
}
