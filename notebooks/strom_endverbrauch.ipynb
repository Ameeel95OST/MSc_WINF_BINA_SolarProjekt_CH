{
 "cells": [
  {
   "cell_type": "markdown",
   "id": "b7127651",
   "metadata": {},
   "source": [
    "# Strom-Endverbrauch Schweiz: Entwicklung nach Sektoren\n",
    "Dieses Notebook analysiert und visualisiert den Strom-Endverbrauch in der Schweiz über die letzten Jahre, differenziert nach Sektoren."
   ]
  },
  {
   "cell_type": "markdown",
   "id": "07ae5701",
   "metadata": {},
   "source": [
    "## Datenimport, Aufbereitung & Anreicherung\n",
    "In diesem Abschnitt werden die Rohdaten geladen, bereinigt und für die Visualisierung vorbereitet."
   ]
  },
  {
   "cell_type": "code",
   "execution_count": null,
   "id": "d1bad5e3",
   "metadata": {},
   "outputs": [],
   "source": [
    "# Bibliotheken importieren\n",
    "import pandas as pd\n",
    "import plotly.express as px\n",
    "\n",
    "# CSV-Daten einlesen (Trennzeichen: Semikolon)\n",
    "file_path = '../data/verbrauch/Strom_Endverbrauch_Schweiz.csv'\n",
    "data = pd.read_csv(file_path, sep=';')\n",
    "\n",
    "# Daten auf relevante Jahre beschränken (2015–2024)\n",
    "data = data[(data['Jahr'] >= 2015) & (data['Jahr'] <= 2024)]\n",
    "\n",
    "# Spaltennamen bereinigen: Entferne \" in GWh\" aus allen Spaltennamen\n",
    "data.columns = [col.replace(' in GWh', '') for col in data.columns]\n",
    "\n",
    "# Datenüberblick: Zeige die ersten 5 Zeilen\n",
    "data.head()"
   ]
  },
  {
   "cell_type": "markdown",
   "id": "e71b2526",
   "metadata": {},
   "source": [
    "## Interaktive Visualisierung: Stromverbrauch nach Sektor"
   ]
  },
  {
   "cell_type": "code",
   "execution_count": null,
   "id": "cf0393b0",
   "metadata": {},
   "outputs": [],
   "source": [
    "# Daten für Visualisierung transformieren: Wide- zu Long-Format\n",
    "data_melted = data.melt(\n",
    "    id_vars=['Jahr'],\n",
    "    var_name='Sektor',\n",
    "    value_name='Verbrauch (GWh)'\n",
    ")\n",
    "\n",
    "# Top-3 Sektoren nach Gesamtverbrauch bestimmen\n",
    "top_sectors = (\n",
    "    data_melted.groupby('Sektor')['Verbrauch (GWh)']\n",
    "    .sum()\n",
    "    .nlargest(3)\n",
    "    .index\n",
    ")\n",
    "\n",
    "# Farbzuordnung: Top-3 Sektoren farbig, Rest grau\n",
    "base_colors = ['#636efa', '#EF553B', '#00cc96']\n",
    "color_map = {sector: color for sector, color in zip(top_sectors, base_colors)}\n",
    "color_map.update({\n",
    "    sector: 'lightgray'\n",
    "    for sector in data_melted['Sektor'].unique()\n",
    "    if sector not in top_sectors\n",
    "})\n",
    "\n",
    "# Liniendiagramm mit Plotly Express erstellen\n",
    "fig = px.line(\n",
    "    data_melted,\n",
    "    x='Jahr',\n",
    "    y='Verbrauch (GWh)',\n",
    "    color='Sektor',\n",
    "    title='Strom-Endverbrauch in der Schweiz nach Sektoren',\n",
    "    labels={\n",
    "        'Jahr': 'Jahr',\n",
    "        'Verbrauch (GWh)': 'Verbrauch (GWh)',\n",
    "        'Sektor': 'Sektor'\n",
    "    },\n",
    "    color_discrete_map=color_map\n",
    ")\n",
    "\n",
    "# Darstellung der Linien und Marker anpassen\n",
    "fig.update_traces(\n",
    "    mode='markers+lines',\n",
    "    marker=dict(size=6),\n",
    "    line=dict(width=2)\n",
    ")\n",
    "\n",
    "# Layout-Optimierungen: Achsen, Legende, Design\n",
    "fig.update_layout(\n",
    "    xaxis=dict(tickmode='linear', title='Jahr'),\n",
    "    yaxis=dict(title='Verbrauch (GWh)'),\n",
    "    legend_title='Sektor',\n",
    "    template='simple_white',\n",
    "    title=dict(font=dict(size=20))\n",
    ")\n",
    "\n",
    "# Diagramm als HTML-Datei speichern und anzeigen\n",
    "fig.write_html('../docs/assets/diagramme/Strom_Endverbrauch_Schweiz.html')\n",
    "fig.show()"
   ]
  }
 ],
 "metadata": {
  "kernelspec": {
   "display_name": "Python 3",
   "language": "python",
   "name": "python3"
  },
  "language_info": {
   "codemirror_mode": {
    "name": "ipython",
    "version": 3
   },
   "file_extension": ".py",
   "mimetype": "text/x-python",
   "name": "python",
   "nbconvert_exporter": "python",
   "pygments_lexer": "ipython3",
   "version": "3.13.3"
  }
 },
 "nbformat": 4,
 "nbformat_minor": 5
}
