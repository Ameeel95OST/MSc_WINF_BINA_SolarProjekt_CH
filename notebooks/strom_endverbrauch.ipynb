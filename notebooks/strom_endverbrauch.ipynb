{
 "cells": [
  {
   "cell_type": "markdown",
   "id": "b7127651",
   "metadata": {},
   "source": [
    "# Strom-Endverbrauch in der Schweiz\n",
    "Dieses Notebook visualisiert den Strom-Endverbrauch in der Schweiz über die Jahre, basierend auf verschiedenen Sektoren."
   ]
  },
  {
   "cell_type": "markdown",
   "id": "07ae5701",
   "metadata": {},
   "source": [
    "## Daten laden, aufbereiten und anreichern\n",
    "In diesem Abschnitt werden die Daten geladen, gefiltert und für die Visualisierung vorbereitet."
   ]
  },
  {
   "cell_type": "code",
   "execution_count": null,
   "id": "d1bad5e3",
   "metadata": {},
   "outputs": [],
   "source": [
    "# Bibliotheken importieren\n",
    "import pandas as pd\n",
    "import plotly.express as px\n",
    "\n",
    "# CSV-Daten laden\n",
    "file_path = '../data/verbrauch/Strom_Endverbrauch_Schweiz.csv'\n",
    "data = pd.read_csv(file_path, sep=';')\n",
    "\n",
    "# Daten filtern: Nur Jahre zwischen 2015 und 2024\n",
    "data = data[(data['Jahr'] >= 2015) & (data['Jahr'] <= 2024)]\n",
    "\n",
    "# Spaltennamen anpassen: Entfernen von \" in GWh\"\n",
    "data.columns = [col.replace(' in GWh', '') for col in data.columns]\n",
    "\n",
    "# Daten überprüfen: Zeige die ersten Zeilen\n",
    "data.head()"
   ]
  },
  {
   "cell_type": "markdown",
   "id": "e71b2526",
   "metadata": {},
   "source": [
    "## Interaktives Diagramm erstellen"
   ]
  },
  {
   "cell_type": "code",
   "execution_count": null,
   "id": "cf0393b0",
   "metadata": {},
   "outputs": [],
   "source": [
    "# Interaktives Diagramm erstellen \n",
    "# Daten transformieren: Umwandeln in ein langes Format für die Visualisierung\n",
    "data_melted = data.melt(id_vars=['Jahr'], var_name='Sektor', value_name='Verbrauch (GWh)')\n",
    "\n",
    "# Top 3 Sektoren basierend auf dem Gesamtverbrauch berechnen\n",
    "top_sectors = data_melted.groupby('Sektor')['Verbrauch (GWh)'].sum().nlargest(3).index\n",
    "\n",
    "# Farben für die Top 3 Sektoren definieren, andere Sektoren in Grau darstellen\n",
    "color_map = {\n",
    "    sector: color for sector, color in zip(top_sectors, ['#636efa', '#EF553B', '#00cc96'])\n",
    "}\n",
    "color_map.update({sector: 'lightgray' for sector in data_melted['Sektor'].unique() if sector not in top_sectors})\n",
    "\n",
    "# Diagramm erstellen mit farblicher Hervorhebung der Top 3 Sektoren\n",
    "fig = px.line(\n",
    "    data_melted,\n",
    "    x='Jahr',\n",
    "    y='Verbrauch (GWh)',\n",
    "    color='Sektor',\n",
    "    title='Strom-Endverbrauch in der Schweiz nach Sektoren',\n",
    "    labels={'Jahr': 'Jahr', 'Verbrauch (GWh)': 'Verbrauch (GWh)', 'Sektor': 'Sektor'},\n",
    "    color_discrete_map=color_map\n",
    ")\n",
    "\n",
    "# Linien und Marker anpassen\n",
    "fig.update_traces(mode='markers+lines', marker=dict(size=6), line=dict(width=2))\n",
    "\n",
    "# Layout anpassen: Einheitliche Achsen und klare Beschriftungen\n",
    "fig.update_layout(\n",
    "    xaxis=dict(tickmode='linear', title='Jahr'),\n",
    "    yaxis=dict(title='Verbrauch (GWh)'),\n",
    "    legend_title='Sektor',\n",
    "    template='simple_white',  # Minimalistisches Design\n",
    "    title=dict(font=dict(size=20))\n",
    ")\n",
    "\n",
    "# Diagramm als HTML speichern\n",
    "fig.write_html('../docs/assets/diagramme/Strom_Endverbrauch_Schweiz.html')\n",
    "\n",
    "# Diagramm anzeigen\n",
    "fig.show()"
   ]
  }
 ],
 "metadata": {
  "kernelspec": {
   "display_name": "Python 3",
   "language": "python",
   "name": "python3"
  },
  "language_info": {
   "codemirror_mode": {
    "name": "ipython",
    "version": 3
   },
   "file_extension": ".py",
   "mimetype": "text/x-python",
   "name": "python",
   "nbconvert_exporter": "python",
   "pygments_lexer": "ipython3",
   "version": "3.13.3"
  }
 },
 "nbformat": 4,
 "nbformat_minor": 5
}
