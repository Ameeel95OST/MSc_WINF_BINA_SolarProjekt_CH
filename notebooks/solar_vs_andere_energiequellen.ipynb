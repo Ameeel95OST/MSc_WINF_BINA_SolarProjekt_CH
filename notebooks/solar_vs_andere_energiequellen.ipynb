{
 "cells": [
  {
   "cell_type": "markdown",
   "metadata": {},
   "source": [
    "# Analyse der Solarenergie-Entwicklung in der Schweiz\n",
    "Dieses Notebook analysiert die Entwicklung der Solarenergie und anderer Energiequellen in der Schweiz der letzten 10 Jahre."
   ]
  },
  {
   "cell_type": "markdown",
   "metadata": {},
   "source": [
    "## Daten laden und vorbereiten\n",
    "Die Daten werden aus einer CSV-Datei geladen, bereinigt und für die Analyse vorbereitet."
   ]
  },
  {
   "cell_type": "code",
   "execution_count": 1,
   "metadata": {},
   "outputs": [],
   "source": [
    "# Bibliotheken importieren\n",
    "import pandas as pd\n",
    "import plotly.express as px\n",
    "import plotly.graph_objects as go\n",
    "\n",
    "# Datenpfad definieren\n",
    "file_path_energy_data = '../data/energy_sources/elektrizitaetbilanz_jahreswerte.csv'\n",
    "\n",
    "# CSV-Datei laden\n",
    "energy_data = pd.read_csv(file_path_energy_data, delimiter=';')\n",
    "\n",
    "# Nur relevante Spalten behalten\n",
    "columns_to_keep = ['Jahr'] + [col for col in energy_data.columns if col.startswith('Erzeugung_')]\n",
    "energy_data = energy_data[columns_to_keep]\n",
    "\n",
    "# Neue Spalten für aggregierte Energiequellen erstellen\n",
    "energy_data['Wasserkraft'] = (energy_data['Erzeugung_laufwerk_GWh'] + energy_data['Erzeugung_speicherwerk_GWh'])\n",
    "energy_data['Andere_erneuerbare_Energien_GWh'] = (energy_data['Erzeugung_holz_GWh'] + energy_data['Erzeugung_biogas_GWh'] + energy_data['Erzeugung_wind_GWh'])\n",
    "\n",
    "# Daten filtern: Nur Werte ab 2015\n",
    "energy_data = energy_data[energy_data['Jahr'] >= 2015]\n",
    "\n",
    "# Jahre als Kategorien behandeln\n",
    "energy_data['Jahr'] = energy_data['Jahr'].astype(str)\n",
    "\n",
    "# Spalten umbenennen für bessere Lesbarkeit\n",
    "energy_data.rename(columns={\n",
    "    'Erzeugung_kernkraftwerk_GWh': 'Kernkraft',\n",
    "    'Erzeugung_andere_total_GWh': 'Thermische Kraft',\n",
    "    'Erzeugung_photovoltaik_GWh': 'Photovoltaik',\n",
    "    'Andere_erneuerbare_Energien_GWh': 'Andere erneuerbare Energien'\n",
    "}, inplace=True)\n",
    "\n",
    "# Daten für Visualisierung vorbereiten (melt-Operation)\n",
    "columns_to_melt = ['Wasserkraft', 'Kernkraft', 'Thermische Kraft', 'Photovoltaik', 'Andere erneuerbare Energien']\n",
    "energy_data_melted = energy_data.melt(\n",
    "    id_vars=['Jahr'], \n",
    "    value_vars=columns_to_melt, \n",
    "    var_name='Energiequelle', \n",
    "    value_name='Wert'\n",
    ")"
   ]
  },
  {
   "cell_type": "markdown",
   "metadata": {},
   "source": [
    "## Flächenchart: Energieproduktion nach Quellen\n",
    "Das folgende Diagramm zeigt die Entwicklung der Energieproduktion nach Quellen in der Schweiz."
   ]
  },
  {
   "cell_type": "code",
   "execution_count": 2,
   "metadata": {},
   "outputs": [
    {
     "data": {
      "application/vnd.plotly.v1+json": {
       "config": {
        "plotlyServerURL": "https://plot.ly"
       },
       "data": [
        {
         "fillpattern": {
          "shape": ""
         },
         "hovertemplate": "Energiequelle=Wasserkraft<br>=%{x}<br>Energieproduktion (GWh)=%{y}<extra></extra>",
         "legendgroup": "Wasserkraft",
         "line": {
          "color": "#f6c90e"
         },
         "marker": {
          "symbol": "circle"
         },
         "mode": "lines",
         "name": "Wasserkraft",
         "orientation": "v",
         "showlegend": true,
         "stackgroup": "1",
         "type": "scatter",
         "x": [
          "2015",
          "2016",
          "2017",
          "2018",
          "2019",
          "2020",
          "2021",
          "2022",
          "2023",
          "2024"
         ],
         "xaxis": "x",
         "y": [
          39486,
          36326,
          36666,
          37428,
          40556,
          40616,
          39500,
          33501,
          40780,
          48308
         ],
         "yaxis": "y"
        },
        {
         "fillpattern": {
          "shape": ""
         },
         "hovertemplate": "Energiequelle=Kernkraft<br>=%{x}<br>Energieproduktion (GWh)=%{y}<extra></extra>",
         "legendgroup": "Kernkraft",
         "line": {
          "color": "#3c91e6"
         },
         "marker": {
          "symbol": "circle"
         },
         "mode": "lines",
         "name": "Kernkraft",
         "orientation": "v",
         "showlegend": true,
         "stackgroup": "1",
         "type": "scatter",
         "x": [
          "2015",
          "2016",
          "2017",
          "2018",
          "2019",
          "2020",
          "2021",
          "2022",
          "2023",
          "2024"
         ],
         "xaxis": "x",
         "y": [
          22095,
          20235,
          19499,
          24414,
          25280,
          22990,
          18530,
          23113,
          23334,
          22976
         ],
         "yaxis": "y"
        },
        {
         "fillpattern": {
          "shape": ""
         },
         "hovertemplate": "Energiequelle=Thermische Kraft<br>=%{x}<br>Energieproduktion (GWh)=%{y}<extra></extra>",
         "legendgroup": "Thermische Kraft",
         "line": {
          "color": "#52de97"
         },
         "marker": {
          "symbol": "circle"
         },
         "mode": "lines",
         "name": "Thermische Kraft",
         "orientation": "v",
         "showlegend": true,
         "stackgroup": "1",
         "type": "scatter",
         "x": [
          "2015",
          "2016",
          "2017",
          "2018",
          "2019",
          "2020",
          "2021",
          "2022",
          "2023",
          "2024"
         ],
         "xaxis": "x",
         "y": [
          2661,
          3069,
          2851,
          3008,
          3050,
          2791,
          2320,
          1970,
          2191,
          2493
         ],
         "yaxis": "y"
        },
        {
         "fillpattern": {
          "shape": ""
         },
         "hovertemplate": "Energiequelle=Photovoltaik<br>=%{x}<br>Energieproduktion (GWh)=%{y}<extra></extra>",
         "legendgroup": "Photovoltaik",
         "line": {
          "color": "#fa744f"
         },
         "marker": {
          "symbol": "circle"
         },
         "mode": "lines",
         "name": "Photovoltaik",
         "orientation": "v",
         "showlegend": true,
         "stackgroup": "1",
         "type": "scatter",
         "x": [
          "2015",
          "2016",
          "2017",
          "2018",
          "2019",
          "2020",
          "2021",
          "2022",
          "2023",
          "2024"
         ],
         "xaxis": "x",
         "y": [
          1119,
          1333,
          1683,
          1945,
          2178,
          2599,
          2842,
          3858,
          4624,
          4993
         ],
         "yaxis": "y"
        },
        {
         "fillpattern": {
          "shape": ""
         },
         "hovertemplate": "Energiequelle=Andere erneuerbare Energien<br>=%{x}<br>Energieproduktion (GWh)=%{y}<extra></extra>",
         "legendgroup": "Andere erneuerbare Energien",
         "line": {
          "color": "#8a6ded"
         },
         "marker": {
          "symbol": "circle"
         },
         "mode": "lines",
         "name": "Andere erneuerbare Energien",
         "orientation": "v",
         "showlegend": true,
         "stackgroup": "1",
         "type": "scatter",
         "x": [
          "2015",
          "2016",
          "2017",
          "2018",
          "2019",
          "2020",
          "2021",
          "2022",
          "2023",
          "2024"
         ],
         "xaxis": "x",
         "y": [
          597,
          653,
          789,
          763,
          831,
          928,
          1023,
          1063,
          1125,
          1244
         ],
         "yaxis": "y"
        }
       ],
       "layout": {
        "font": {
         "size": 12
        },
        "legend": {
         "orientation": "h",
         "title": {
          "text": "Energiequelle"
         },
         "tracegroupgap": 0,
         "x": 0.5,
         "xanchor": "center",
         "y": -0.2,
         "yanchor": "bottom"
        },
        "margin": {
         "b": 50,
         "l": 50,
         "r": 50,
         "t": 50
        },
        "template": {
         "data": {
          "bar": [
           {
            "error_x": {
             "color": "#2a3f5f"
            },
            "error_y": {
             "color": "#2a3f5f"
            },
            "marker": {
             "line": {
              "color": "#E5ECF6",
              "width": 0.5
             },
             "pattern": {
              "fillmode": "overlay",
              "size": 10,
              "solidity": 0.2
             }
            },
            "type": "bar"
           }
          ],
          "barpolar": [
           {
            "marker": {
             "line": {
              "color": "#E5ECF6",
              "width": 0.5
             },
             "pattern": {
              "fillmode": "overlay",
              "size": 10,
              "solidity": 0.2
             }
            },
            "type": "barpolar"
           }
          ],
          "carpet": [
           {
            "aaxis": {
             "endlinecolor": "#2a3f5f",
             "gridcolor": "white",
             "linecolor": "white",
             "minorgridcolor": "white",
             "startlinecolor": "#2a3f5f"
            },
            "baxis": {
             "endlinecolor": "#2a3f5f",
             "gridcolor": "white",
             "linecolor": "white",
             "minorgridcolor": "white",
             "startlinecolor": "#2a3f5f"
            },
            "type": "carpet"
           }
          ],
          "choropleth": [
           {
            "colorbar": {
             "outlinewidth": 0,
             "ticks": ""
            },
            "type": "choropleth"
           }
          ],
          "contour": [
           {
            "colorbar": {
             "outlinewidth": 0,
             "ticks": ""
            },
            "colorscale": [
             [
              0,
              "#0d0887"
             ],
             [
              0.1111111111111111,
              "#46039f"
             ],
             [
              0.2222222222222222,
              "#7201a8"
             ],
             [
              0.3333333333333333,
              "#9c179e"
             ],
             [
              0.4444444444444444,
              "#bd3786"
             ],
             [
              0.5555555555555556,
              "#d8576b"
             ],
             [
              0.6666666666666666,
              "#ed7953"
             ],
             [
              0.7777777777777778,
              "#fb9f3a"
             ],
             [
              0.8888888888888888,
              "#fdca26"
             ],
             [
              1,
              "#f0f921"
             ]
            ],
            "type": "contour"
           }
          ],
          "contourcarpet": [
           {
            "colorbar": {
             "outlinewidth": 0,
             "ticks": ""
            },
            "type": "contourcarpet"
           }
          ],
          "heatmap": [
           {
            "colorbar": {
             "outlinewidth": 0,
             "ticks": ""
            },
            "colorscale": [
             [
              0,
              "#0d0887"
             ],
             [
              0.1111111111111111,
              "#46039f"
             ],
             [
              0.2222222222222222,
              "#7201a8"
             ],
             [
              0.3333333333333333,
              "#9c179e"
             ],
             [
              0.4444444444444444,
              "#bd3786"
             ],
             [
              0.5555555555555556,
              "#d8576b"
             ],
             [
              0.6666666666666666,
              "#ed7953"
             ],
             [
              0.7777777777777778,
              "#fb9f3a"
             ],
             [
              0.8888888888888888,
              "#fdca26"
             ],
             [
              1,
              "#f0f921"
             ]
            ],
            "type": "heatmap"
           }
          ],
          "heatmapgl": [
           {
            "colorbar": {
             "outlinewidth": 0,
             "ticks": ""
            },
            "colorscale": [
             [
              0,
              "#0d0887"
             ],
             [
              0.1111111111111111,
              "#46039f"
             ],
             [
              0.2222222222222222,
              "#7201a8"
             ],
             [
              0.3333333333333333,
              "#9c179e"
             ],
             [
              0.4444444444444444,
              "#bd3786"
             ],
             [
              0.5555555555555556,
              "#d8576b"
             ],
             [
              0.6666666666666666,
              "#ed7953"
             ],
             [
              0.7777777777777778,
              "#fb9f3a"
             ],
             [
              0.8888888888888888,
              "#fdca26"
             ],
             [
              1,
              "#f0f921"
             ]
            ],
            "type": "heatmapgl"
           }
          ],
          "histogram": [
           {
            "marker": {
             "pattern": {
              "fillmode": "overlay",
              "size": 10,
              "solidity": 0.2
             }
            },
            "type": "histogram"
           }
          ],
          "histogram2d": [
           {
            "colorbar": {
             "outlinewidth": 0,
             "ticks": ""
            },
            "colorscale": [
             [
              0,
              "#0d0887"
             ],
             [
              0.1111111111111111,
              "#46039f"
             ],
             [
              0.2222222222222222,
              "#7201a8"
             ],
             [
              0.3333333333333333,
              "#9c179e"
             ],
             [
              0.4444444444444444,
              "#bd3786"
             ],
             [
              0.5555555555555556,
              "#d8576b"
             ],
             [
              0.6666666666666666,
              "#ed7953"
             ],
             [
              0.7777777777777778,
              "#fb9f3a"
             ],
             [
              0.8888888888888888,
              "#fdca26"
             ],
             [
              1,
              "#f0f921"
             ]
            ],
            "type": "histogram2d"
           }
          ],
          "histogram2dcontour": [
           {
            "colorbar": {
             "outlinewidth": 0,
             "ticks": ""
            },
            "colorscale": [
             [
              0,
              "#0d0887"
             ],
             [
              0.1111111111111111,
              "#46039f"
             ],
             [
              0.2222222222222222,
              "#7201a8"
             ],
             [
              0.3333333333333333,
              "#9c179e"
             ],
             [
              0.4444444444444444,
              "#bd3786"
             ],
             [
              0.5555555555555556,
              "#d8576b"
             ],
             [
              0.6666666666666666,
              "#ed7953"
             ],
             [
              0.7777777777777778,
              "#fb9f3a"
             ],
             [
              0.8888888888888888,
              "#fdca26"
             ],
             [
              1,
              "#f0f921"
             ]
            ],
            "type": "histogram2dcontour"
           }
          ],
          "mesh3d": [
           {
            "colorbar": {
             "outlinewidth": 0,
             "ticks": ""
            },
            "type": "mesh3d"
           }
          ],
          "parcoords": [
           {
            "line": {
             "colorbar": {
              "outlinewidth": 0,
              "ticks": ""
             }
            },
            "type": "parcoords"
           }
          ],
          "pie": [
           {
            "automargin": true,
            "type": "pie"
           }
          ],
          "scatter": [
           {
            "fillpattern": {
             "fillmode": "overlay",
             "size": 10,
             "solidity": 0.2
            },
            "type": "scatter"
           }
          ],
          "scatter3d": [
           {
            "line": {
             "colorbar": {
              "outlinewidth": 0,
              "ticks": ""
             }
            },
            "marker": {
             "colorbar": {
              "outlinewidth": 0,
              "ticks": ""
             }
            },
            "type": "scatter3d"
           }
          ],
          "scattercarpet": [
           {
            "marker": {
             "colorbar": {
              "outlinewidth": 0,
              "ticks": ""
             }
            },
            "type": "scattercarpet"
           }
          ],
          "scattergeo": [
           {
            "marker": {
             "colorbar": {
              "outlinewidth": 0,
              "ticks": ""
             }
            },
            "type": "scattergeo"
           }
          ],
          "scattergl": [
           {
            "marker": {
             "colorbar": {
              "outlinewidth": 0,
              "ticks": ""
             }
            },
            "type": "scattergl"
           }
          ],
          "scattermapbox": [
           {
            "marker": {
             "colorbar": {
              "outlinewidth": 0,
              "ticks": ""
             }
            },
            "type": "scattermapbox"
           }
          ],
          "scatterpolar": [
           {
            "marker": {
             "colorbar": {
              "outlinewidth": 0,
              "ticks": ""
             }
            },
            "type": "scatterpolar"
           }
          ],
          "scatterpolargl": [
           {
            "marker": {
             "colorbar": {
              "outlinewidth": 0,
              "ticks": ""
             }
            },
            "type": "scatterpolargl"
           }
          ],
          "scatterternary": [
           {
            "marker": {
             "colorbar": {
              "outlinewidth": 0,
              "ticks": ""
             }
            },
            "type": "scatterternary"
           }
          ],
          "surface": [
           {
            "colorbar": {
             "outlinewidth": 0,
             "ticks": ""
            },
            "colorscale": [
             [
              0,
              "#0d0887"
             ],
             [
              0.1111111111111111,
              "#46039f"
             ],
             [
              0.2222222222222222,
              "#7201a8"
             ],
             [
              0.3333333333333333,
              "#9c179e"
             ],
             [
              0.4444444444444444,
              "#bd3786"
             ],
             [
              0.5555555555555556,
              "#d8576b"
             ],
             [
              0.6666666666666666,
              "#ed7953"
             ],
             [
              0.7777777777777778,
              "#fb9f3a"
             ],
             [
              0.8888888888888888,
              "#fdca26"
             ],
             [
              1,
              "#f0f921"
             ]
            ],
            "type": "surface"
           }
          ],
          "table": [
           {
            "cells": {
             "fill": {
              "color": "#EBF0F8"
             },
             "line": {
              "color": "white"
             }
            },
            "header": {
             "fill": {
              "color": "#C8D4E3"
             },
             "line": {
              "color": "white"
             }
            },
            "type": "table"
           }
          ]
         },
         "layout": {
          "annotationdefaults": {
           "arrowcolor": "#2a3f5f",
           "arrowhead": 0,
           "arrowwidth": 1
          },
          "autotypenumbers": "strict",
          "coloraxis": {
           "colorbar": {
            "outlinewidth": 0,
            "ticks": ""
           }
          },
          "colorscale": {
           "diverging": [
            [
             0,
             "#8e0152"
            ],
            [
             0.1,
             "#c51b7d"
            ],
            [
             0.2,
             "#de77ae"
            ],
            [
             0.3,
             "#f1b6da"
            ],
            [
             0.4,
             "#fde0ef"
            ],
            [
             0.5,
             "#f7f7f7"
            ],
            [
             0.6,
             "#e6f5d0"
            ],
            [
             0.7,
             "#b8e186"
            ],
            [
             0.8,
             "#7fbc41"
            ],
            [
             0.9,
             "#4d9221"
            ],
            [
             1,
             "#276419"
            ]
           ],
           "sequential": [
            [
             0,
             "#0d0887"
            ],
            [
             0.1111111111111111,
             "#46039f"
            ],
            [
             0.2222222222222222,
             "#7201a8"
            ],
            [
             0.3333333333333333,
             "#9c179e"
            ],
            [
             0.4444444444444444,
             "#bd3786"
            ],
            [
             0.5555555555555556,
             "#d8576b"
            ],
            [
             0.6666666666666666,
             "#ed7953"
            ],
            [
             0.7777777777777778,
             "#fb9f3a"
            ],
            [
             0.8888888888888888,
             "#fdca26"
            ],
            [
             1,
             "#f0f921"
            ]
           ],
           "sequentialminus": [
            [
             0,
             "#0d0887"
            ],
            [
             0.1111111111111111,
             "#46039f"
            ],
            [
             0.2222222222222222,
             "#7201a8"
            ],
            [
             0.3333333333333333,
             "#9c179e"
            ],
            [
             0.4444444444444444,
             "#bd3786"
            ],
            [
             0.5555555555555556,
             "#d8576b"
            ],
            [
             0.6666666666666666,
             "#ed7953"
            ],
            [
             0.7777777777777778,
             "#fb9f3a"
            ],
            [
             0.8888888888888888,
             "#fdca26"
            ],
            [
             1,
             "#f0f921"
            ]
           ]
          },
          "colorway": [
           "#636efa",
           "#EF553B",
           "#00cc96",
           "#ab63fa",
           "#FFA15A",
           "#19d3f3",
           "#FF6692",
           "#B6E880",
           "#FF97FF",
           "#FECB52"
          ],
          "font": {
           "color": "#2a3f5f"
          },
          "geo": {
           "bgcolor": "white",
           "lakecolor": "white",
           "landcolor": "#E5ECF6",
           "showlakes": true,
           "showland": true,
           "subunitcolor": "white"
          },
          "hoverlabel": {
           "align": "left"
          },
          "hovermode": "closest",
          "mapbox": {
           "style": "light"
          },
          "paper_bgcolor": "white",
          "plot_bgcolor": "#E5ECF6",
          "polar": {
           "angularaxis": {
            "gridcolor": "white",
            "linecolor": "white",
            "ticks": ""
           },
           "bgcolor": "#E5ECF6",
           "radialaxis": {
            "gridcolor": "white",
            "linecolor": "white",
            "ticks": ""
           }
          },
          "scene": {
           "xaxis": {
            "backgroundcolor": "#E5ECF6",
            "gridcolor": "white",
            "gridwidth": 2,
            "linecolor": "white",
            "showbackground": true,
            "ticks": "",
            "zerolinecolor": "white"
           },
           "yaxis": {
            "backgroundcolor": "#E5ECF6",
            "gridcolor": "white",
            "gridwidth": 2,
            "linecolor": "white",
            "showbackground": true,
            "ticks": "",
            "zerolinecolor": "white"
           },
           "zaxis": {
            "backgroundcolor": "#E5ECF6",
            "gridcolor": "white",
            "gridwidth": 2,
            "linecolor": "white",
            "showbackground": true,
            "ticks": "",
            "zerolinecolor": "white"
           }
          },
          "shapedefaults": {
           "line": {
            "color": "#2a3f5f"
           }
          },
          "ternary": {
           "aaxis": {
            "gridcolor": "white",
            "linecolor": "white",
            "ticks": ""
           },
           "baxis": {
            "gridcolor": "white",
            "linecolor": "white",
            "ticks": ""
           },
           "bgcolor": "#E5ECF6",
           "caxis": {
            "gridcolor": "white",
            "linecolor": "white",
            "ticks": ""
           }
          },
          "title": {
           "x": 0.05
          },
          "xaxis": {
           "automargin": true,
           "gridcolor": "white",
           "linecolor": "white",
           "ticks": "",
           "title": {
            "standoff": 15
           },
           "zerolinecolor": "white",
           "zerolinewidth": 2
          },
          "yaxis": {
           "automargin": true,
           "gridcolor": "white",
           "linecolor": "white",
           "ticks": "",
           "title": {
            "standoff": 15
           },
           "zerolinecolor": "white",
           "zerolinewidth": 2
          }
         }
        },
        "title": {
         "text": "Energieproduktion nach Quellen in der Schweiz",
         "x": 0.5
        },
        "xaxis": {
         "anchor": "y",
         "domain": [
          0,
          1
         ],
         "title": {
          "text": ""
         }
        },
        "yaxis": {
         "anchor": "x",
         "domain": [
          0,
          1
         ],
         "title": {
          "text": "Energieproduktion (GWh)"
         }
        }
       }
      }
     },
     "metadata": {},
     "output_type": "display_data"
    }
   ],
   "source": [
    "# Flächenchart erstellen\n",
    "fig = px.area(\n",
    "    energy_data_melted,\n",
    "    x='Jahr',\n",
    "    y='Wert',\n",
    "    color='Energiequelle',\n",
    "    title='Energieproduktion nach Quellen in der Schweiz',\n",
    "    labels={'Wert': 'Energieproduktion (GWh)', 'Jahr': '', 'Energiequelle': 'Energiequelle'},\n",
    "    color_discrete_sequence=['#f6c90e', '#3c91e6', '#52de97', '#fa744f', '#8a6ded']  # Konsistente Farben\n",
    ")\n",
    "\n",
    "# Layout anpassen\n",
    "fig.update_layout(\n",
    "    title=dict(x=0.5),  # Titel zentrieren\n",
    "    yaxis_title='Energieproduktion (GWh)',\n",
    "    legend_title='Energiequelle',\n",
    "    font=dict(size=12),\n",
    "    margin=dict(t=50, b=50, l=50, r=50),\n",
    "    legend=dict(orientation=\"h\", yanchor=\"bottom\", y=-0.2, xanchor=\"center\", x=0.5)  # Legende unten zentrieren\n",
    ")\n",
    "\n",
    "# Diagramm anzeigen\n",
    "fig.show()\n",
    "\n",
    "# Diagramm speichern\n",
    "fig.write_html('../docs/assets/diagramme/solar_vs_other_energy_sources.html')"
   ]
  },
  {
   "cell_type": "markdown",
   "metadata": {},
   "source": [
    "## Kuchendiagramm: Vergleich der Energiequellen pro Jahr\n",
    "Das Kuchendiagramm zeigt die prozentuale Verteilung der Energiequellen für ein ausgewähltes Jahr."
   ]
  },
  {
   "cell_type": "code",
   "execution_count": 3,
   "metadata": {},
   "outputs": [
    {
     "data": {
      "application/vnd.plotly.v1+json": {
       "config": {
        "plotlyServerURL": "https://plot.ly"
       },
       "data": [
        {
         "hole": 0.4,
         "hoverinfo": "label+value+percent",
         "insidetextfont": {
          "size": 14
         },
         "labels": [
          "Photovoltaik",
          "Kernkraft",
          "Wasserkraft",
          "Thermische Kraft",
          "Andere erneuerbare Energien"
         ],
         "marker": {
          "colors": [
           "#f6c90e",
           "#3c91e6",
           "#52de97",
           "#fa744f",
           "#8a6ded"
          ],
          "line": {
           "color": "#ffffff",
           "width": 2
          }
         },
         "name": "2015",
         "rotation": 120,
         "sort": false,
         "textinfo": "percent+label",
         "texttemplate": "%{label}: %{percent:.1%}",
         "type": "pie",
         "values": [
          1119,
          22095,
          39486,
          2661,
          597
         ]
        }
       ],
       "layout": {
        "font": {
         "family": "Arial",
         "size": 14
        },
        "margin": {
         "b": 50,
         "l": 50,
         "r": 50,
         "t": 100
        },
        "showlegend": false,
        "sliders": [
         {
          "active": 0,
          "currentvalue": {
           "font": {
            "size": 16
           },
           "prefix": "Jahr: "
          },
          "pad": {
           "t": 50
          },
          "steps": [
           {
            "args": [
             {
              "marker": [
               {
                "colors": [
                 "#f6c90e",
                 "#3c91e6",
                 "#52de97",
                 "#fa744f",
                 "#8a6ded"
                ]
               }
              ],
              "rotation": [
               120
              ],
              "sort": [
               false
              ],
              "values": [
               [
                1119,
                22095,
                39486,
                2661,
                597
               ]
              ]
             }
            ],
            "label": "2015",
            "method": "restyle"
           },
           {
            "args": [
             {
              "marker": [
               {
                "colors": [
                 "#f6c90e",
                 "#3c91e6",
                 "#52de97",
                 "#fa744f",
                 "#8a6ded"
                ]
               }
              ],
              "rotation": [
               120
              ],
              "sort": [
               false
              ],
              "values": [
               [
                1333,
                20235,
                36326,
                3069,
                653
               ]
              ]
             }
            ],
            "label": "2016",
            "method": "restyle"
           },
           {
            "args": [
             {
              "marker": [
               {
                "colors": [
                 "#f6c90e",
                 "#3c91e6",
                 "#52de97",
                 "#fa744f",
                 "#8a6ded"
                ]
               }
              ],
              "rotation": [
               120
              ],
              "sort": [
               false
              ],
              "values": [
               [
                1683,
                19499,
                36666,
                2851,
                789
               ]
              ]
             }
            ],
            "label": "2017",
            "method": "restyle"
           },
           {
            "args": [
             {
              "marker": [
               {
                "colors": [
                 "#f6c90e",
                 "#3c91e6",
                 "#52de97",
                 "#fa744f",
                 "#8a6ded"
                ]
               }
              ],
              "rotation": [
               120
              ],
              "sort": [
               false
              ],
              "values": [
               [
                1945,
                24414,
                37428,
                3008,
                763
               ]
              ]
             }
            ],
            "label": "2018",
            "method": "restyle"
           },
           {
            "args": [
             {
              "marker": [
               {
                "colors": [
                 "#f6c90e",
                 "#3c91e6",
                 "#52de97",
                 "#fa744f",
                 "#8a6ded"
                ]
               }
              ],
              "rotation": [
               120
              ],
              "sort": [
               false
              ],
              "values": [
               [
                2178,
                25280,
                40556,
                3050,
                831
               ]
              ]
             }
            ],
            "label": "2019",
            "method": "restyle"
           },
           {
            "args": [
             {
              "marker": [
               {
                "colors": [
                 "#f6c90e",
                 "#3c91e6",
                 "#52de97",
                 "#fa744f",
                 "#8a6ded"
                ]
               }
              ],
              "rotation": [
               120
              ],
              "sort": [
               false
              ],
              "values": [
               [
                2599,
                22990,
                40616,
                2791,
                928
               ]
              ]
             }
            ],
            "label": "2020",
            "method": "restyle"
           },
           {
            "args": [
             {
              "marker": [
               {
                "colors": [
                 "#f6c90e",
                 "#3c91e6",
                 "#52de97",
                 "#fa744f",
                 "#8a6ded"
                ]
               }
              ],
              "rotation": [
               120
              ],
              "sort": [
               false
              ],
              "values": [
               [
                2842,
                18530,
                39500,
                2320,
                1023
               ]
              ]
             }
            ],
            "label": "2021",
            "method": "restyle"
           },
           {
            "args": [
             {
              "marker": [
               {
                "colors": [
                 "#f6c90e",
                 "#3c91e6",
                 "#52de97",
                 "#fa744f",
                 "#8a6ded"
                ]
               }
              ],
              "rotation": [
               120
              ],
              "sort": [
               false
              ],
              "values": [
               [
                3858,
                23113,
                33501,
                1970,
                1063
               ]
              ]
             }
            ],
            "label": "2022",
            "method": "restyle"
           },
           {
            "args": [
             {
              "marker": [
               {
                "colors": [
                 "#f6c90e",
                 "#3c91e6",
                 "#52de97",
                 "#fa744f",
                 "#8a6ded"
                ]
               }
              ],
              "rotation": [
               120
              ],
              "sort": [
               false
              ],
              "values": [
               [
                4624,
                23334,
                40780,
                2191,
                1125
               ]
              ]
             }
            ],
            "label": "2023",
            "method": "restyle"
           },
           {
            "args": [
             {
              "marker": [
               {
                "colors": [
                 "#f6c90e",
                 "#3c91e6",
                 "#52de97",
                 "#fa744f",
                 "#8a6ded"
                ]
               }
              ],
              "rotation": [
               120
              ],
              "sort": [
               false
              ],
              "values": [
               [
                4993,
                22976,
                48308,
                2493,
                1244
               ]
              ]
             }
            ],
            "label": "2024",
            "method": "restyle"
           }
          ]
         }
        ],
        "template": {
         "data": {
          "bar": [
           {
            "error_x": {
             "color": "#2a3f5f"
            },
            "error_y": {
             "color": "#2a3f5f"
            },
            "marker": {
             "line": {
              "color": "#E5ECF6",
              "width": 0.5
             },
             "pattern": {
              "fillmode": "overlay",
              "size": 10,
              "solidity": 0.2
             }
            },
            "type": "bar"
           }
          ],
          "barpolar": [
           {
            "marker": {
             "line": {
              "color": "#E5ECF6",
              "width": 0.5
             },
             "pattern": {
              "fillmode": "overlay",
              "size": 10,
              "solidity": 0.2
             }
            },
            "type": "barpolar"
           }
          ],
          "carpet": [
           {
            "aaxis": {
             "endlinecolor": "#2a3f5f",
             "gridcolor": "white",
             "linecolor": "white",
             "minorgridcolor": "white",
             "startlinecolor": "#2a3f5f"
            },
            "baxis": {
             "endlinecolor": "#2a3f5f",
             "gridcolor": "white",
             "linecolor": "white",
             "minorgridcolor": "white",
             "startlinecolor": "#2a3f5f"
            },
            "type": "carpet"
           }
          ],
          "choropleth": [
           {
            "colorbar": {
             "outlinewidth": 0,
             "ticks": ""
            },
            "type": "choropleth"
           }
          ],
          "contour": [
           {
            "colorbar": {
             "outlinewidth": 0,
             "ticks": ""
            },
            "colorscale": [
             [
              0,
              "#0d0887"
             ],
             [
              0.1111111111111111,
              "#46039f"
             ],
             [
              0.2222222222222222,
              "#7201a8"
             ],
             [
              0.3333333333333333,
              "#9c179e"
             ],
             [
              0.4444444444444444,
              "#bd3786"
             ],
             [
              0.5555555555555556,
              "#d8576b"
             ],
             [
              0.6666666666666666,
              "#ed7953"
             ],
             [
              0.7777777777777778,
              "#fb9f3a"
             ],
             [
              0.8888888888888888,
              "#fdca26"
             ],
             [
              1,
              "#f0f921"
             ]
            ],
            "type": "contour"
           }
          ],
          "contourcarpet": [
           {
            "colorbar": {
             "outlinewidth": 0,
             "ticks": ""
            },
            "type": "contourcarpet"
           }
          ],
          "heatmap": [
           {
            "colorbar": {
             "outlinewidth": 0,
             "ticks": ""
            },
            "colorscale": [
             [
              0,
              "#0d0887"
             ],
             [
              0.1111111111111111,
              "#46039f"
             ],
             [
              0.2222222222222222,
              "#7201a8"
             ],
             [
              0.3333333333333333,
              "#9c179e"
             ],
             [
              0.4444444444444444,
              "#bd3786"
             ],
             [
              0.5555555555555556,
              "#d8576b"
             ],
             [
              0.6666666666666666,
              "#ed7953"
             ],
             [
              0.7777777777777778,
              "#fb9f3a"
             ],
             [
              0.8888888888888888,
              "#fdca26"
             ],
             [
              1,
              "#f0f921"
             ]
            ],
            "type": "heatmap"
           }
          ],
          "heatmapgl": [
           {
            "colorbar": {
             "outlinewidth": 0,
             "ticks": ""
            },
            "colorscale": [
             [
              0,
              "#0d0887"
             ],
             [
              0.1111111111111111,
              "#46039f"
             ],
             [
              0.2222222222222222,
              "#7201a8"
             ],
             [
              0.3333333333333333,
              "#9c179e"
             ],
             [
              0.4444444444444444,
              "#bd3786"
             ],
             [
              0.5555555555555556,
              "#d8576b"
             ],
             [
              0.6666666666666666,
              "#ed7953"
             ],
             [
              0.7777777777777778,
              "#fb9f3a"
             ],
             [
              0.8888888888888888,
              "#fdca26"
             ],
             [
              1,
              "#f0f921"
             ]
            ],
            "type": "heatmapgl"
           }
          ],
          "histogram": [
           {
            "marker": {
             "pattern": {
              "fillmode": "overlay",
              "size": 10,
              "solidity": 0.2
             }
            },
            "type": "histogram"
           }
          ],
          "histogram2d": [
           {
            "colorbar": {
             "outlinewidth": 0,
             "ticks": ""
            },
            "colorscale": [
             [
              0,
              "#0d0887"
             ],
             [
              0.1111111111111111,
              "#46039f"
             ],
             [
              0.2222222222222222,
              "#7201a8"
             ],
             [
              0.3333333333333333,
              "#9c179e"
             ],
             [
              0.4444444444444444,
              "#bd3786"
             ],
             [
              0.5555555555555556,
              "#d8576b"
             ],
             [
              0.6666666666666666,
              "#ed7953"
             ],
             [
              0.7777777777777778,
              "#fb9f3a"
             ],
             [
              0.8888888888888888,
              "#fdca26"
             ],
             [
              1,
              "#f0f921"
             ]
            ],
            "type": "histogram2d"
           }
          ],
          "histogram2dcontour": [
           {
            "colorbar": {
             "outlinewidth": 0,
             "ticks": ""
            },
            "colorscale": [
             [
              0,
              "#0d0887"
             ],
             [
              0.1111111111111111,
              "#46039f"
             ],
             [
              0.2222222222222222,
              "#7201a8"
             ],
             [
              0.3333333333333333,
              "#9c179e"
             ],
             [
              0.4444444444444444,
              "#bd3786"
             ],
             [
              0.5555555555555556,
              "#d8576b"
             ],
             [
              0.6666666666666666,
              "#ed7953"
             ],
             [
              0.7777777777777778,
              "#fb9f3a"
             ],
             [
              0.8888888888888888,
              "#fdca26"
             ],
             [
              1,
              "#f0f921"
             ]
            ],
            "type": "histogram2dcontour"
           }
          ],
          "mesh3d": [
           {
            "colorbar": {
             "outlinewidth": 0,
             "ticks": ""
            },
            "type": "mesh3d"
           }
          ],
          "parcoords": [
           {
            "line": {
             "colorbar": {
              "outlinewidth": 0,
              "ticks": ""
             }
            },
            "type": "parcoords"
           }
          ],
          "pie": [
           {
            "automargin": true,
            "type": "pie"
           }
          ],
          "scatter": [
           {
            "fillpattern": {
             "fillmode": "overlay",
             "size": 10,
             "solidity": 0.2
            },
            "type": "scatter"
           }
          ],
          "scatter3d": [
           {
            "line": {
             "colorbar": {
              "outlinewidth": 0,
              "ticks": ""
             }
            },
            "marker": {
             "colorbar": {
              "outlinewidth": 0,
              "ticks": ""
             }
            },
            "type": "scatter3d"
           }
          ],
          "scattercarpet": [
           {
            "marker": {
             "colorbar": {
              "outlinewidth": 0,
              "ticks": ""
             }
            },
            "type": "scattercarpet"
           }
          ],
          "scattergeo": [
           {
            "marker": {
             "colorbar": {
              "outlinewidth": 0,
              "ticks": ""
             }
            },
            "type": "scattergeo"
           }
          ],
          "scattergl": [
           {
            "marker": {
             "colorbar": {
              "outlinewidth": 0,
              "ticks": ""
             }
            },
            "type": "scattergl"
           }
          ],
          "scattermapbox": [
           {
            "marker": {
             "colorbar": {
              "outlinewidth": 0,
              "ticks": ""
             }
            },
            "type": "scattermapbox"
           }
          ],
          "scatterpolar": [
           {
            "marker": {
             "colorbar": {
              "outlinewidth": 0,
              "ticks": ""
             }
            },
            "type": "scatterpolar"
           }
          ],
          "scatterpolargl": [
           {
            "marker": {
             "colorbar": {
              "outlinewidth": 0,
              "ticks": ""
             }
            },
            "type": "scatterpolargl"
           }
          ],
          "scatterternary": [
           {
            "marker": {
             "colorbar": {
              "outlinewidth": 0,
              "ticks": ""
             }
            },
            "type": "scatterternary"
           }
          ],
          "surface": [
           {
            "colorbar": {
             "outlinewidth": 0,
             "ticks": ""
            },
            "colorscale": [
             [
              0,
              "#0d0887"
             ],
             [
              0.1111111111111111,
              "#46039f"
             ],
             [
              0.2222222222222222,
              "#7201a8"
             ],
             [
              0.3333333333333333,
              "#9c179e"
             ],
             [
              0.4444444444444444,
              "#bd3786"
             ],
             [
              0.5555555555555556,
              "#d8576b"
             ],
             [
              0.6666666666666666,
              "#ed7953"
             ],
             [
              0.7777777777777778,
              "#fb9f3a"
             ],
             [
              0.8888888888888888,
              "#fdca26"
             ],
             [
              1,
              "#f0f921"
             ]
            ],
            "type": "surface"
           }
          ],
          "table": [
           {
            "cells": {
             "fill": {
              "color": "#EBF0F8"
             },
             "line": {
              "color": "white"
             }
            },
            "header": {
             "fill": {
              "color": "#C8D4E3"
             },
             "line": {
              "color": "white"
             }
            },
            "type": "table"
           }
          ]
         },
         "layout": {
          "annotationdefaults": {
           "arrowcolor": "#2a3f5f",
           "arrowhead": 0,
           "arrowwidth": 1
          },
          "autotypenumbers": "strict",
          "coloraxis": {
           "colorbar": {
            "outlinewidth": 0,
            "ticks": ""
           }
          },
          "colorscale": {
           "diverging": [
            [
             0,
             "#8e0152"
            ],
            [
             0.1,
             "#c51b7d"
            ],
            [
             0.2,
             "#de77ae"
            ],
            [
             0.3,
             "#f1b6da"
            ],
            [
             0.4,
             "#fde0ef"
            ],
            [
             0.5,
             "#f7f7f7"
            ],
            [
             0.6,
             "#e6f5d0"
            ],
            [
             0.7,
             "#b8e186"
            ],
            [
             0.8,
             "#7fbc41"
            ],
            [
             0.9,
             "#4d9221"
            ],
            [
             1,
             "#276419"
            ]
           ],
           "sequential": [
            [
             0,
             "#0d0887"
            ],
            [
             0.1111111111111111,
             "#46039f"
            ],
            [
             0.2222222222222222,
             "#7201a8"
            ],
            [
             0.3333333333333333,
             "#9c179e"
            ],
            [
             0.4444444444444444,
             "#bd3786"
            ],
            [
             0.5555555555555556,
             "#d8576b"
            ],
            [
             0.6666666666666666,
             "#ed7953"
            ],
            [
             0.7777777777777778,
             "#fb9f3a"
            ],
            [
             0.8888888888888888,
             "#fdca26"
            ],
            [
             1,
             "#f0f921"
            ]
           ],
           "sequentialminus": [
            [
             0,
             "#0d0887"
            ],
            [
             0.1111111111111111,
             "#46039f"
            ],
            [
             0.2222222222222222,
             "#7201a8"
            ],
            [
             0.3333333333333333,
             "#9c179e"
            ],
            [
             0.4444444444444444,
             "#bd3786"
            ],
            [
             0.5555555555555556,
             "#d8576b"
            ],
            [
             0.6666666666666666,
             "#ed7953"
            ],
            [
             0.7777777777777778,
             "#fb9f3a"
            ],
            [
             0.8888888888888888,
             "#fdca26"
            ],
            [
             1,
             "#f0f921"
            ]
           ]
          },
          "colorway": [
           "#636efa",
           "#EF553B",
           "#00cc96",
           "#ab63fa",
           "#FFA15A",
           "#19d3f3",
           "#FF6692",
           "#B6E880",
           "#FF97FF",
           "#FECB52"
          ],
          "font": {
           "color": "#2a3f5f"
          },
          "geo": {
           "bgcolor": "white",
           "lakecolor": "white",
           "landcolor": "#E5ECF6",
           "showlakes": true,
           "showland": true,
           "subunitcolor": "white"
          },
          "hoverlabel": {
           "align": "left"
          },
          "hovermode": "closest",
          "mapbox": {
           "style": "light"
          },
          "paper_bgcolor": "white",
          "plot_bgcolor": "#E5ECF6",
          "polar": {
           "angularaxis": {
            "gridcolor": "white",
            "linecolor": "white",
            "ticks": ""
           },
           "bgcolor": "#E5ECF6",
           "radialaxis": {
            "gridcolor": "white",
            "linecolor": "white",
            "ticks": ""
           }
          },
          "scene": {
           "xaxis": {
            "backgroundcolor": "#E5ECF6",
            "gridcolor": "white",
            "gridwidth": 2,
            "linecolor": "white",
            "showbackground": true,
            "ticks": "",
            "zerolinecolor": "white"
           },
           "yaxis": {
            "backgroundcolor": "#E5ECF6",
            "gridcolor": "white",
            "gridwidth": 2,
            "linecolor": "white",
            "showbackground": true,
            "ticks": "",
            "zerolinecolor": "white"
           },
           "zaxis": {
            "backgroundcolor": "#E5ECF6",
            "gridcolor": "white",
            "gridwidth": 2,
            "linecolor": "white",
            "showbackground": true,
            "ticks": "",
            "zerolinecolor": "white"
           }
          },
          "shapedefaults": {
           "line": {
            "color": "#2a3f5f"
           }
          },
          "ternary": {
           "aaxis": {
            "gridcolor": "white",
            "linecolor": "white",
            "ticks": ""
           },
           "baxis": {
            "gridcolor": "white",
            "linecolor": "white",
            "ticks": ""
           },
           "bgcolor": "#E5ECF6",
           "caxis": {
            "gridcolor": "white",
            "linecolor": "white",
            "ticks": ""
           }
          },
          "title": {
           "x": 0.05
          },
          "xaxis": {
           "automargin": true,
           "gridcolor": "white",
           "linecolor": "white",
           "ticks": "",
           "title": {
            "standoff": 15
           },
           "zerolinecolor": "white",
           "zerolinewidth": 2
          },
          "yaxis": {
           "automargin": true,
           "gridcolor": "white",
           "linecolor": "white",
           "ticks": "",
           "title": {
            "standoff": 15
           },
           "zerolinecolor": "white",
           "zerolinewidth": 2
          }
         }
        },
        "title": {
         "font": {
          "size": 20
         },
         "text": "Stromerzeugung Schweiz – Prozentuale Verteilung nach Energiequellen (GWh)",
         "x": 0.5
        }
       }
      }
     },
     "metadata": {},
     "output_type": "display_data"
    }
   ],
   "source": [
    "# Farben für die Energiequellen definieren\n",
    "farben = {\n",
    "    \"Photovoltaik\": \"#f6c90e\",\n",
    "    \"Kernkraft\": \"#3c91e6\",\n",
    "    \"Wasserkraft\": \"#52de97\",\n",
    "    \"Thermische Kraft\": \"#fa744f\",\n",
    "    \"Andere erneuerbare Energien\": \"#8a6ded\"\n",
    "}\n",
    "\n",
    "# Liste der Energiequellen und Jahre aus den Daten extrahieren\n",
    "quellen = list(farben.keys())\n",
    "years = energy_data[\"Jahr\"].tolist()\n",
    "\n",
    "# Werte für das erste Jahr (2015) extrahieren\n",
    "werte_0 = energy_data[energy_data[\"Jahr\"] == years[0]][quellen].values.flatten()\n",
    "\n",
    "# Kuchendiagramm für das erste Jahr erstellen\n",
    "fig = go.Figure()\n",
    "fig.add_trace(go.Pie(\n",
    "    labels=quellen,\n",
    "    values=werte_0,\n",
    "    name=str(years[0]),\n",
    "    hole=0.4,  # Donut-Diagramm\n",
    "    sort=False,  # Reihenfolge der Werte nicht sortieren\n",
    "    rotation=120,  # Startwinkel des Diagramms\n",
    "    marker=dict(\n",
    "        colors=[farben[q] for q in quellen],  # Farben für die Energiequellen\n",
    "        line=dict(color=\"#ffffff\", width=2)  # Weisser Rand um die Segmente\n",
    "    ),\n",
    "    textinfo=\"percent+label\",  # Prozent und Label anzeigen\n",
    "    hoverinfo=\"label+value+percent\",  # Tooltip-Informationen\n",
    "    insidetextfont=dict(size=14),\n",
    "    texttemplate=\"%{label}: %{percent:.1%}\"  # Prozentzahlen auf 1 Kommastelle runden\n",
    "))\n",
    "\n",
    "# Slider-Schritte für jedes Jahr erstellen\n",
    "steps = []\n",
    "for year in years:\n",
    "    # Werte für das aktuelle Jahr extrahieren\n",
    "    werte = energy_data[energy_data[\"Jahr\"] == year][quellen].values.flatten()\n",
    "    \n",
    "    # Schritt für den Slider definieren\n",
    "    step = dict(\n",
    "        method=\"restyle\",  # Methode zum Aktualisieren des Diagramms\n",
    "        args=[{\n",
    "            \"values\": [werte],  # Neue Werte für das Diagramm\n",
    "            \"marker\": [dict(colors=[farben[q] for q in quellen])],  # Farben beibehalten\n",
    "            \"sort\": [False],  # Sortierung beibehalten\n",
    "            \"rotation\": [120]  # Rotation beibehalten\n",
    "        }],\n",
    "        label=str(year)  # Jahr als Label für den Slider\n",
    "    )\n",
    "    steps.append(step)\n",
    "\n",
    "# Slider-Layout definieren\n",
    "sliders = [dict(\n",
    "    active=0,  # Standardmässig das erste Jahr aktivieren\n",
    "    currentvalue={\"prefix\": \"Jahr: \", \"font\": {\"size\": 16}},  # Aktuelles Jahr anzeigen\n",
    "    pad={\"t\": 50},  # Abstand zum Diagramm\n",
    "    steps=steps  # Schritte hinzufügen\n",
    ")]\n",
    "\n",
    "# Layout des Diagramms aktualisieren\n",
    "fig.update_layout(\n",
    "    title=dict(\n",
    "        text=\"Stromerzeugung Schweiz – Prozentuale Verteilung nach Energiequellen (GWh)\",\n",
    "        x=0.5,  # Titel zentrieren\n",
    "        font=dict(size=20)  # Schriftgrösse des Titels\n",
    "    ),\n",
    "    sliders=sliders,  # Slider hinzufügen\n",
    "    font=dict(family=\"Arial\", size=14),  # Schriftart und -grösse\n",
    "    margin=dict(t=100, b=50, l=50, r=50),  # Ränder des Diagramms\n",
    "    showlegend=False\n",
    ")\n",
    "\n",
    "# Diagramm als HTML-Datei speichern\n",
    "fig.write_html(\"../docs/assets/diagramme/stromproduktion_kuchendiagramm_slider.html\")\n",
    "\n",
    "# Diagramm anzeigen\n",
    "fig.show()"
   ]
  }
 ],
 "metadata": {
  "kernelspec": {
   "display_name": "base",
   "language": "python",
   "name": "python3"
  },
  "language_info": {
   "codemirror_mode": {
    "name": "ipython",
    "version": 3
   },
   "file_extension": ".py",
   "mimetype": "text/x-python",
   "name": "python",
   "nbconvert_exporter": "python",
   "pygments_lexer": "ipython3",
   "version": "3.12.7"
  }
 },
 "nbformat": 4,
 "nbformat_minor": 2
}
