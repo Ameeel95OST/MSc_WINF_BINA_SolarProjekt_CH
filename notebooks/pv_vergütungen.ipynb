{
 "cells": [
  {
   "cell_type": "markdown",
   "id": "474277ed",
   "metadata": {},
   "source": [
    "# Analyse der PV-Vergütungen in der Schweiz\n",
    "Dieses Notebook analysiert die Photovoltaik-Anlagen Vergütungen in der Schweiz, einschliesslich ihrer Verteilung und Entwicklung."
   ]
  },
  {
   "cell_type": "markdown",
   "id": "64fad96b",
   "metadata": {},
   "source": [
    "## Daten laden, aufbereiten und anreichern\n",
    "In diesem Abschnitt werden die Daten geladen, gefiltert und für die Analyse vorbereitet."
   ]
  },
  {
   "cell_type": "code",
   "execution_count": 1,
   "id": "98f6bcce",
   "metadata": {},
   "outputs": [],
   "source": [
    "# Bibliotheken importieren\n",
    "import pandas as pd\n",
    "\n",
    "# CSV-Dateien laden\n",
    "evu_df = pd.read_csv('../data/vese/evu_ergebnisse.csv', sep=';')  # EVU-Daten\n",
    "gemeinde_df = pd.read_csv('../data/vese/gemeinde_ergebnisse.csv', sep=';')  # Gemeinde-Daten\n",
    "\n",
    "# Datenframes basierend auf `nrElcom` zusammenführen\n",
    "merged_df = pd.merge(evu_df, gemeinde_df, on='nrElcom', how='inner')  # Inner Join\n",
    "\n",
    "# Gemeindestand.csv laden, um Kantone und BFS Gde-nummer zuzuordnen\n",
    "gemeindestand_df = pd.read_csv('../data/vese/Gemeindestand.csv', sep=';')  # Mapping-Daten\n",
    "\n",
    "# Mapping-Dictionary für Kantone und BFS Gde-nummer erstellen\n",
    "gemeinde_to_kanton = gemeindestand_df.set_index('BFS Gde-nummer')['Kanton'].to_dict()\n",
    "\n",
    "# Kantone und BFS Gde-nummer zuordnen\n",
    "merged_df['Kanton'] = merged_df['idofs'].map(gemeinde_to_kanton)\n",
    "\n",
    "# Fehlende Werte in 'energy1' und 'eco1' mit 0 auffüllen\n",
    "merged_df = merged_df.copy()  # Sicherstellen, dass auf einer Kopie gearbeitet wird\n",
    "merged_df['energy1'] = merged_df['energy1'].fillna(0)  # NaN durch 0 ersetzen\n",
    "merged_df['eco1'] = merged_df['eco1'].fillna(0)\n",
    "\n",
    "# Zeilen entfernen, in denen sowohl 'energy1' als auch 'eco1' 0 sind\n",
    "merged_df = merged_df[~((merged_df['energy1'] == 0) & (merged_df['eco1'] == 0))]\n",
    "\n",
    "# Vergütung berechnen\n",
    "merged_df['remuneration'] = merged_df['energy1'] + merged_df['eco1']  # Gesamtvergütung berechnen"
   ]
  },
  {
   "cell_type": "markdown",
   "id": "8e1fb6b6",
   "metadata": {},
   "source": [
    "## Interaktives Balkendiagramm mit Jahr-Schieberegler erstellen"
   ]
  },
  {
   "cell_type": "code",
   "execution_count": 3,
   "id": "4271ee1b",
   "metadata": {},
   "outputs": [
    {
     "name": "stderr",
     "output_type": "stream",
     "text": [
      "C:\\Users\\X250\\AppData\\Local\\Temp\\ipykernel_6892\\2893862314.py:11: DeprecationWarning:\n",
      "\n",
      "DataFrameGroupBy.apply operated on the grouping columns. This behavior is deprecated, and in a future version of pandas the grouping columns will be excluded from the operation. Either pass `include_groups=False` to exclude the groupings or explicitly select the grouping columns after groupby to silence this warning.\n",
      "\n"
     ]
    },
    {
     "data": {
      "application/vnd.plotly.v1+json": {
       "config": {
        "plotlyServerURL": "https://plot.ly"
       },
       "data": [
        {
         "alignmentgroup": "True",
         "hovertemplate": "canton_group=Other<br>year=2017<br>Kanton=%{x}<br>Durchschnittliche Vergütung (Rp/kWh)=%{text}<extra></extra>",
         "legendgroup": "Other",
         "marker": {
          "color": "#D9D9D9",
          "pattern": {
           "shape": ""
          }
         },
         "name": "Other",
         "offsetgroup": "Other",
         "orientation": "v",
         "showlegend": true,
         "text": [
          6.78,
          8.18,
          6.69,
          9.3,
          8.87,
          9.18,
          6.1,
          9.78,
          9.1,
          9.29,
          9.3,
          6.62,
          9.23,
          6.48,
          8.48,
          8.25,
          10.49,
          9.35,
          8.98,
          8.79,
          7.26,
          6.8
         ],
         "textposition": "inside",
         "texttemplate": "%{text:.0f}",
         "type": "bar",
         "x": [
          "AG",
          "AI",
          "AR",
          "BE",
          "BL",
          "FR",
          "GL",
          "GR",
          "JU",
          "LU",
          "NE",
          "NW",
          "SG",
          "SH",
          "SO",
          "SZ",
          "TG",
          "TI",
          "UR",
          "VD",
          "VS",
          "ZH"
         ],
         "xaxis": "x",
         "y": [
          6.78,
          8.18,
          6.69,
          9.3,
          8.87,
          9.18,
          6.1,
          9.78,
          9.1,
          9.29,
          9.3,
          6.62,
          9.23,
          6.48,
          8.48,
          8.25,
          10.49,
          9.35,
          8.98,
          8.79,
          7.26,
          6.8
         ],
         "yaxis": "y"
        },
        {
         "alignmentgroup": "True",
         "hovertemplate": "canton_group=BS<br>year=2017<br>Kanton=%{x}<br>Durchschnittliche Vergütung (Rp/kWh)=%{text}<extra></extra>",
         "legendgroup": "BS",
         "marker": {
          "color": "#FF7F0E",
          "pattern": {
           "shape": ""
          }
         },
         "name": "BS",
         "offsetgroup": "BS",
         "orientation": "v",
         "showlegend": true,
         "text": [
          23
         ],
         "textposition": "inside",
         "texttemplate": "%{text:.0f}",
         "type": "bar",
         "x": [
          "BS"
         ],
         "xaxis": "x",
         "y": [
          23
         ],
         "yaxis": "y"
        },
        {
         "alignmentgroup": "True",
         "hovertemplate": "canton_group=GE<br>year=2017<br>Kanton=%{x}<br>Durchschnittliche Vergütung (Rp/kWh)=%{text}<extra></extra>",
         "legendgroup": "GE",
         "marker": {
          "color": "#2CA02C",
          "pattern": {
           "shape": ""
          }
         },
         "name": "GE",
         "offsetgroup": "GE",
         "orientation": "v",
         "showlegend": true,
         "text": [
          11.93
         ],
         "textposition": "inside",
         "texttemplate": "%{text:.0f}",
         "type": "bar",
         "x": [
          "GE"
         ],
         "xaxis": "x",
         "y": [
          11.93
         ],
         "yaxis": "y"
        },
        {
         "alignmentgroup": "True",
         "hovertemplate": "canton_group=OW<br>year=2017<br>Kanton=%{x}<br>Durchschnittliche Vergütung (Rp/kWh)=%{text}<extra></extra>",
         "legendgroup": "OW",
         "marker": {
          "color": "#D62728",
          "pattern": {
           "shape": ""
          }
         },
         "name": "OW",
         "offsetgroup": "OW",
         "orientation": "v",
         "showlegend": true,
         "text": [
          11
         ],
         "textposition": "inside",
         "texttemplate": "%{text:.0f}",
         "type": "bar",
         "x": [
          "OW"
         ],
         "xaxis": "x",
         "y": [
          11
         ],
         "yaxis": "y"
        },
        {
         "alignmentgroup": "True",
         "hovertemplate": "canton_group=ZG<br>year=2017<br>Kanton=%{x}<br>Durchschnittliche Vergütung (Rp/kWh)=%{text}<extra></extra>",
         "legendgroup": "ZG",
         "marker": {
          "color": "#9467BD",
          "pattern": {
           "shape": ""
          }
         },
         "name": "ZG",
         "offsetgroup": "ZG",
         "orientation": "v",
         "showlegend": true,
         "text": [
          13.69
         ],
         "textposition": "inside",
         "texttemplate": "%{text:.0f}",
         "type": "bar",
         "x": [
          "ZG"
         ],
         "xaxis": "x",
         "y": [
          13.69
         ],
         "yaxis": "y"
        }
       ],
       "frames": [
        {
         "data": [
          {
           "alignmentgroup": "True",
           "hovertemplate": "canton_group=Other<br>year=2017<br>Kanton=%{x}<br>Durchschnittliche Vergütung (Rp/kWh)=%{text}<extra></extra>",
           "legendgroup": "Other",
           "marker": {
            "color": "#D9D9D9",
            "pattern": {
             "shape": ""
            }
           },
           "name": "Other",
           "offsetgroup": "Other",
           "orientation": "v",
           "showlegend": true,
           "text": [
            6.78,
            8.18,
            6.69,
            9.3,
            8.87,
            9.18,
            6.1,
            9.78,
            9.1,
            9.29,
            9.3,
            6.62,
            9.23,
            6.48,
            8.48,
            8.25,
            10.49,
            9.35,
            8.98,
            8.79,
            7.26,
            6.8
           ],
           "textposition": "auto",
           "type": "bar",
           "x": [
            "AG",
            "AI",
            "AR",
            "BE",
            "BL",
            "FR",
            "GL",
            "GR",
            "JU",
            "LU",
            "NE",
            "NW",
            "SG",
            "SH",
            "SO",
            "SZ",
            "TG",
            "TI",
            "UR",
            "VD",
            "VS",
            "ZH"
           ],
           "xaxis": "x",
           "y": [
            6.78,
            8.18,
            6.69,
            9.3,
            8.87,
            9.18,
            6.1,
            9.78,
            9.1,
            9.29,
            9.3,
            6.62,
            9.23,
            6.48,
            8.48,
            8.25,
            10.49,
            9.35,
            8.98,
            8.79,
            7.26,
            6.8
           ],
           "yaxis": "y"
          },
          {
           "alignmentgroup": "True",
           "hovertemplate": "canton_group=BS<br>year=2017<br>Kanton=%{x}<br>Durchschnittliche Vergütung (Rp/kWh)=%{text}<extra></extra>",
           "legendgroup": "BS",
           "marker": {
            "color": "#FF7F0E",
            "pattern": {
             "shape": ""
            }
           },
           "name": "BS",
           "offsetgroup": "BS",
           "orientation": "v",
           "showlegend": true,
           "text": [
            23
           ],
           "textposition": "auto",
           "type": "bar",
           "x": [
            "BS"
           ],
           "xaxis": "x",
           "y": [
            23
           ],
           "yaxis": "y"
          },
          {
           "alignmentgroup": "True",
           "hovertemplate": "canton_group=GE<br>year=2017<br>Kanton=%{x}<br>Durchschnittliche Vergütung (Rp/kWh)=%{text}<extra></extra>",
           "legendgroup": "GE",
           "marker": {
            "color": "#2CA02C",
            "pattern": {
             "shape": ""
            }
           },
           "name": "GE",
           "offsetgroup": "GE",
           "orientation": "v",
           "showlegend": true,
           "text": [
            11.93
           ],
           "textposition": "auto",
           "type": "bar",
           "x": [
            "GE"
           ],
           "xaxis": "x",
           "y": [
            11.93
           ],
           "yaxis": "y"
          },
          {
           "alignmentgroup": "True",
           "hovertemplate": "canton_group=OW<br>year=2017<br>Kanton=%{x}<br>Durchschnittliche Vergütung (Rp/kWh)=%{text}<extra></extra>",
           "legendgroup": "OW",
           "marker": {
            "color": "#D62728",
            "pattern": {
             "shape": ""
            }
           },
           "name": "OW",
           "offsetgroup": "OW",
           "orientation": "v",
           "showlegend": true,
           "text": [
            11
           ],
           "textposition": "auto",
           "type": "bar",
           "x": [
            "OW"
           ],
           "xaxis": "x",
           "y": [
            11
           ],
           "yaxis": "y"
          },
          {
           "alignmentgroup": "True",
           "hovertemplate": "canton_group=ZG<br>year=2017<br>Kanton=%{x}<br>Durchschnittliche Vergütung (Rp/kWh)=%{text}<extra></extra>",
           "legendgroup": "ZG",
           "marker": {
            "color": "#9467BD",
            "pattern": {
             "shape": ""
            }
           },
           "name": "ZG",
           "offsetgroup": "ZG",
           "orientation": "v",
           "showlegend": true,
           "text": [
            13.69
           ],
           "textposition": "auto",
           "type": "bar",
           "x": [
            "ZG"
           ],
           "xaxis": "x",
           "y": [
            13.69
           ],
           "yaxis": "y"
          }
         ],
         "name": "2017"
        },
        {
         "data": [
          {
           "alignmentgroup": "True",
           "hovertemplate": "canton_group=Other<br>year=2018<br>Kanton=%{x}<br>Durchschnittliche Vergütung (Rp/kWh)=%{text}<extra></extra>",
           "legendgroup": "Other",
           "marker": {
            "color": "#D9D9D9",
            "pattern": {
             "shape": ""
            }
           },
           "name": "Other",
           "offsetgroup": "Other",
           "orientation": "v",
           "showlegend": true,
           "text": [
            6.03,
            7.9,
            5.34,
            10.08,
            9.07,
            9.26,
            8.53,
            6.67,
            9.55,
            10.32,
            9.14,
            9.3,
            7.08,
            7.56,
            7.28,
            9.77,
            8.43,
            8.65,
            9.91,
            8.22,
            6.59,
            6.13
           ],
           "textposition": "auto",
           "type": "bar",
           "x": [
            "AG",
            "AI",
            "AR",
            "BE",
            "BL",
            "FR",
            "GE",
            "GL",
            "GR",
            "JU",
            "LU",
            "NE",
            "NW",
            "SG",
            "SH",
            "SO",
            "SZ",
            "TG",
            "UR",
            "VD",
            "VS",
            "ZH"
           ],
           "xaxis": "x",
           "y": [
            6.03,
            7.9,
            5.34,
            10.08,
            9.07,
            9.26,
            8.53,
            6.67,
            9.55,
            10.32,
            9.14,
            9.3,
            7.08,
            7.56,
            7.28,
            9.77,
            8.43,
            8.65,
            9.91,
            8.22,
            6.59,
            6.13
           ],
           "yaxis": "y"
          },
          {
           "alignmentgroup": "True",
           "hovertemplate": "canton_group=BS<br>year=2018<br>Kanton=%{x}<br>Durchschnittliche Vergütung (Rp/kWh)=%{text}<extra></extra>",
           "legendgroup": "BS",
           "marker": {
            "color": "#FF7F0E",
            "pattern": {
             "shape": ""
            }
           },
           "name": "BS",
           "offsetgroup": "BS",
           "orientation": "v",
           "showlegend": true,
           "text": [
            13
           ],
           "textposition": "auto",
           "type": "bar",
           "x": [
            "BS"
           ],
           "xaxis": "x",
           "y": [
            13
           ],
           "yaxis": "y"
          },
          {
           "alignmentgroup": "True",
           "hovertemplate": "canton_group=OW<br>year=2018<br>Kanton=%{x}<br>Durchschnittliche Vergütung (Rp/kWh)=%{text}<extra></extra>",
           "legendgroup": "OW",
           "marker": {
            "color": "#D62728",
            "pattern": {
             "shape": ""
            }
           },
           "name": "OW",
           "offsetgroup": "OW",
           "orientation": "v",
           "showlegend": true,
           "text": [
            11
           ],
           "textposition": "auto",
           "type": "bar",
           "x": [
            "OW"
           ],
           "xaxis": "x",
           "y": [
            11
           ],
           "yaxis": "y"
          },
          {
           "alignmentgroup": "True",
           "hovertemplate": "canton_group=ZG<br>year=2018<br>Kanton=%{x}<br>Durchschnittliche Vergütung (Rp/kWh)=%{text}<extra></extra>",
           "legendgroup": "ZG",
           "marker": {
            "color": "#9467BD",
            "pattern": {
             "shape": ""
            }
           },
           "name": "ZG",
           "offsetgroup": "ZG",
           "orientation": "v",
           "showlegend": true,
           "text": [
            11.17
           ],
           "textposition": "auto",
           "type": "bar",
           "x": [
            "ZG"
           ],
           "xaxis": "x",
           "y": [
            11.17
           ],
           "yaxis": "y"
          },
          {
           "alignmentgroup": "True",
           "hovertemplate": "canton_group=TI<br>year=2018<br>Kanton=%{x}<br>Durchschnittliche Vergütung (Rp/kWh)=%{text}<extra></extra>",
           "legendgroup": "TI",
           "marker": {
            "color": "#8C564B",
            "pattern": {
             "shape": ""
            }
           },
           "name": "TI",
           "offsetgroup": "TI",
           "orientation": "v",
           "showlegend": true,
           "text": [
            10.43
           ],
           "textposition": "auto",
           "type": "bar",
           "x": [
            "TI"
           ],
           "xaxis": "x",
           "y": [
            10.43
           ],
           "yaxis": "y"
          }
         ],
         "name": "2018"
        },
        {
         "data": [
          {
           "alignmentgroup": "True",
           "hovertemplate": "canton_group=Other<br>year=2019<br>Kanton=%{x}<br>Durchschnittliche Vergütung (Rp/kWh)=%{text}<extra></extra>",
           "legendgroup": "Other",
           "marker": {
            "color": "#D9D9D9",
            "pattern": {
             "shape": ""
            }
           },
           "name": "Other",
           "offsetgroup": "Other",
           "orientation": "v",
           "showlegend": true,
           "text": [
            6.6,
            8.42,
            5.61,
            9.43,
            9.85,
            9.25,
            8.33,
            9.01,
            9.44,
            8.2,
            9.61,
            8.36,
            7.48,
            6.78,
            9.71,
            7.89,
            9.14,
            8.82,
            10.11,
            8.26,
            7.38,
            6.07
           ],
           "textposition": "auto",
           "type": "bar",
           "x": [
            "AG",
            "AI",
            "AR",
            "BE",
            "BL",
            "FR",
            "GL",
            "GR",
            "JU",
            "LU",
            "NE",
            "NW",
            "SG",
            "SH",
            "SO",
            "SZ",
            "TG",
            "TI",
            "UR",
            "VD",
            "VS",
            "ZH"
           ],
           "xaxis": "x",
           "y": [
            6.6,
            8.42,
            5.61,
            9.43,
            9.85,
            9.25,
            8.33,
            9.01,
            9.44,
            8.2,
            9.61,
            8.36,
            7.48,
            6.78,
            9.71,
            7.89,
            9.14,
            8.82,
            10.11,
            8.26,
            7.38,
            6.07
           ],
           "yaxis": "y"
          },
          {
           "alignmentgroup": "True",
           "hovertemplate": "canton_group=BS<br>year=2019<br>Kanton=%{x}<br>Durchschnittliche Vergütung (Rp/kWh)=%{text}<extra></extra>",
           "legendgroup": "BS",
           "marker": {
            "color": "#FF7F0E",
            "pattern": {
             "shape": ""
            }
           },
           "name": "BS",
           "offsetgroup": "BS",
           "orientation": "v",
           "showlegend": true,
           "text": [
            13
           ],
           "textposition": "auto",
           "type": "bar",
           "x": [
            "BS"
           ],
           "xaxis": "x",
           "y": [
            13
           ],
           "yaxis": "y"
          },
          {
           "alignmentgroup": "True",
           "hovertemplate": "canton_group=GE<br>year=2019<br>Kanton=%{x}<br>Durchschnittliche Vergütung (Rp/kWh)=%{text}<extra></extra>",
           "legendgroup": "GE",
           "marker": {
            "color": "#2CA02C",
            "pattern": {
             "shape": ""
            }
           },
           "name": "GE",
           "offsetgroup": "GE",
           "orientation": "v",
           "showlegend": true,
           "text": [
            10.91
           ],
           "textposition": "auto",
           "type": "bar",
           "x": [
            "GE"
           ],
           "xaxis": "x",
           "y": [
            10.91
           ],
           "yaxis": "y"
          },
          {
           "alignmentgroup": "True",
           "hovertemplate": "canton_group=OW<br>year=2019<br>Kanton=%{x}<br>Durchschnittliche Vergütung (Rp/kWh)=%{text}<extra></extra>",
           "legendgroup": "OW",
           "marker": {
            "color": "#D62728",
            "pattern": {
             "shape": ""
            }
           },
           "name": "OW",
           "offsetgroup": "OW",
           "orientation": "v",
           "showlegend": true,
           "text": [
            11.3
           ],
           "textposition": "auto",
           "type": "bar",
           "x": [
            "OW"
           ],
           "xaxis": "x",
           "y": [
            11.3
           ],
           "yaxis": "y"
          },
          {
           "alignmentgroup": "True",
           "hovertemplate": "canton_group=ZG<br>year=2019<br>Kanton=%{x}<br>Durchschnittliche Vergütung (Rp/kWh)=%{text}<extra></extra>",
           "legendgroup": "ZG",
           "marker": {
            "color": "#9467BD",
            "pattern": {
             "shape": ""
            }
           },
           "name": "ZG",
           "offsetgroup": "ZG",
           "orientation": "v",
           "showlegend": true,
           "text": [
            10.95
           ],
           "textposition": "auto",
           "type": "bar",
           "x": [
            "ZG"
           ],
           "xaxis": "x",
           "y": [
            10.95
           ],
           "yaxis": "y"
          }
         ],
         "name": "2019"
        },
        {
         "data": [
          {
           "alignmentgroup": "True",
           "hovertemplate": "canton_group=Other<br>year=2020<br>Kanton=%{x}<br>Durchschnittliche Vergütung (Rp/kWh)=%{text}<extra></extra>",
           "legendgroup": "Other",
           "marker": {
            "color": "#D9D9D9",
            "pattern": {
             "shape": ""
            }
           },
           "name": "Other",
           "offsetgroup": "Other",
           "orientation": "v",
           "showlegend": true,
           "text": [
            7.39,
            8.41,
            6.84,
            8.11,
            9.81,
            9.24,
            10,
            9.04,
            7.97,
            8.19,
            8.83,
            6.89,
            7.87,
            8.05,
            9.33,
            7.77,
            9.38,
            9.01,
            9.48,
            8.33,
            7.79,
            7.58
           ],
           "textposition": "auto",
           "type": "bar",
           "x": [
            "AG",
            "AI",
            "AR",
            "BE",
            "BL",
            "FR",
            "GL",
            "GR",
            "JU",
            "LU",
            "NE",
            "NW",
            "SG",
            "SH",
            "SO",
            "SZ",
            "TG",
            "TI",
            "UR",
            "VD",
            "VS",
            "ZH"
           ],
           "xaxis": "x",
           "y": [
            7.39,
            8.41,
            6.84,
            8.11,
            9.81,
            9.24,
            10,
            9.04,
            7.97,
            8.19,
            8.83,
            6.89,
            7.87,
            8.05,
            9.33,
            7.77,
            9.38,
            9.01,
            9.48,
            8.33,
            7.79,
            7.58
           ],
           "yaxis": "y"
          },
          {
           "alignmentgroup": "True",
           "hovertemplate": "canton_group=BS<br>year=2020<br>Kanton=%{x}<br>Durchschnittliche Vergütung (Rp/kWh)=%{text}<extra></extra>",
           "legendgroup": "BS",
           "marker": {
            "color": "#FF7F0E",
            "pattern": {
             "shape": ""
            }
           },
           "name": "BS",
           "offsetgroup": "BS",
           "orientation": "v",
           "showlegend": true,
           "text": [
            13
           ],
           "textposition": "auto",
           "type": "bar",
           "x": [
            "BS"
           ],
           "xaxis": "x",
           "y": [
            13
           ],
           "yaxis": "y"
          },
          {
           "alignmentgroup": "True",
           "hovertemplate": "canton_group=GE<br>year=2020<br>Kanton=%{x}<br>Durchschnittliche Vergütung (Rp/kWh)=%{text}<extra></extra>",
           "legendgroup": "GE",
           "marker": {
            "color": "#2CA02C",
            "pattern": {
             "shape": ""
            }
           },
           "name": "GE",
           "offsetgroup": "GE",
           "orientation": "v",
           "showlegend": true,
           "text": [
            12.12
           ],
           "textposition": "auto",
           "type": "bar",
           "x": [
            "GE"
           ],
           "xaxis": "x",
           "y": [
            12.12
           ],
           "yaxis": "y"
          },
          {
           "alignmentgroup": "True",
           "hovertemplate": "canton_group=OW<br>year=2020<br>Kanton=%{x}<br>Durchschnittliche Vergütung (Rp/kWh)=%{text}<extra></extra>",
           "legendgroup": "OW",
           "marker": {
            "color": "#D62728",
            "pattern": {
             "shape": ""
            }
           },
           "name": "OW",
           "offsetgroup": "OW",
           "orientation": "v",
           "showlegend": true,
           "text": [
            11
           ],
           "textposition": "auto",
           "type": "bar",
           "x": [
            "OW"
           ],
           "xaxis": "x",
           "y": [
            11
           ],
           "yaxis": "y"
          },
          {
           "alignmentgroup": "True",
           "hovertemplate": "canton_group=ZG<br>year=2020<br>Kanton=%{x}<br>Durchschnittliche Vergütung (Rp/kWh)=%{text}<extra></extra>",
           "legendgroup": "ZG",
           "marker": {
            "color": "#9467BD",
            "pattern": {
             "shape": ""
            }
           },
           "name": "ZG",
           "offsetgroup": "ZG",
           "orientation": "v",
           "showlegend": true,
           "text": [
            11.28
           ],
           "textposition": "auto",
           "type": "bar",
           "x": [
            "ZG"
           ],
           "xaxis": "x",
           "y": [
            11.28
           ],
           "yaxis": "y"
          }
         ],
         "name": "2020"
        },
        {
         "data": [
          {
           "alignmentgroup": "True",
           "hovertemplate": "canton_group=Other<br>year=2021<br>Kanton=%{x}<br>Durchschnittliche Vergütung (Rp/kWh)=%{text}<extra></extra>",
           "legendgroup": "Other",
           "marker": {
            "color": "#D9D9D9",
            "pattern": {
             "shape": ""
            }
           },
           "name": "Other",
           "offsetgroup": "Other",
           "orientation": "v",
           "showlegend": true,
           "text": [
            8.27,
            9.55,
            9.37,
            10.38,
            9.24,
            10,
            9.13,
            8.03,
            9.36,
            8.32,
            10,
            9.13,
            8.05,
            10.76,
            7.89,
            10.81,
            8.91,
            10.08,
            8.4,
            7.72,
            11.3,
            7.62
           ],
           "textposition": "auto",
           "type": "bar",
           "x": [
            "AG",
            "AI",
            "AR",
            "BL",
            "FR",
            "GL",
            "GR",
            "LU",
            "NE",
            "NW",
            "OW",
            "SG",
            "SH",
            "SO",
            "SZ",
            "TG",
            "TI",
            "UR",
            "VD",
            "VS",
            "ZG",
            "ZH"
           ],
           "xaxis": "x",
           "y": [
            8.27,
            9.55,
            9.37,
            10.38,
            9.24,
            10,
            9.13,
            8.03,
            9.36,
            8.32,
            10,
            9.13,
            8.05,
            10.76,
            7.89,
            10.81,
            8.91,
            10.08,
            8.4,
            7.72,
            11.3,
            7.62
           ],
           "yaxis": "y"
          },
          {
           "alignmentgroup": "True",
           "hovertemplate": "canton_group=BS<br>year=2021<br>Kanton=%{x}<br>Durchschnittliche Vergütung (Rp/kWh)=%{text}<extra></extra>",
           "legendgroup": "BS",
           "marker": {
            "color": "#FF7F0E",
            "pattern": {
             "shape": ""
            }
           },
           "name": "BS",
           "offsetgroup": "BS",
           "orientation": "v",
           "showlegend": true,
           "text": [
            13
           ],
           "textposition": "auto",
           "type": "bar",
           "x": [
            "BS"
           ],
           "xaxis": "x",
           "y": [
            13
           ],
           "yaxis": "y"
          },
          {
           "alignmentgroup": "True",
           "hovertemplate": "canton_group=GE<br>year=2021<br>Kanton=%{x}<br>Durchschnittliche Vergütung (Rp/kWh)=%{text}<extra></extra>",
           "legendgroup": "GE",
           "marker": {
            "color": "#2CA02C",
            "pattern": {
             "shape": ""
            }
           },
           "name": "GE",
           "offsetgroup": "GE",
           "orientation": "v",
           "showlegend": true,
           "text": [
            12.87
           ],
           "textposition": "auto",
           "type": "bar",
           "x": [
            "GE"
           ],
           "xaxis": "x",
           "y": [
            12.87
           ],
           "yaxis": "y"
          },
          {
           "alignmentgroup": "True",
           "hovertemplate": "canton_group=BE<br>year=2021<br>Kanton=%{x}<br>Durchschnittliche Vergütung (Rp/kWh)=%{text}<extra></extra>",
           "legendgroup": "BE",
           "marker": {
            "color": "#E377C2",
            "pattern": {
             "shape": ""
            }
           },
           "name": "BE",
           "offsetgroup": "BE",
           "orientation": "v",
           "showlegend": true,
           "text": [
            12.68
           ],
           "textposition": "auto",
           "type": "bar",
           "x": [
            "BE"
           ],
           "xaxis": "x",
           "y": [
            12.68
           ],
           "yaxis": "y"
          },
          {
           "alignmentgroup": "True",
           "hovertemplate": "canton_group=JU<br>year=2021<br>Kanton=%{x}<br>Durchschnittliche Vergütung (Rp/kWh)=%{text}<extra></extra>",
           "legendgroup": "JU",
           "marker": {
            "color": "#7F7F7F",
            "pattern": {
             "shape": ""
            }
           },
           "name": "JU",
           "offsetgroup": "JU",
           "orientation": "v",
           "showlegend": true,
           "text": [
            13.78
           ],
           "textposition": "auto",
           "type": "bar",
           "x": [
            "JU"
           ],
           "xaxis": "x",
           "y": [
            13.78
           ],
           "yaxis": "y"
          }
         ],
         "name": "2021"
        },
        {
         "data": [
          {
           "alignmentgroup": "True",
           "hovertemplate": "canton_group=Other<br>year=2022<br>Kanton=%{x}<br>Durchschnittliche Vergütung (Rp/kWh)=%{text}<extra></extra>",
           "legendgroup": "Other",
           "marker": {
            "color": "#D9D9D9",
            "pattern": {
             "shape": ""
            }
           },
           "name": "Other",
           "offsetgroup": "Other",
           "orientation": "v",
           "showlegend": true,
           "text": [
            8.82,
            10.12,
            9.46,
            24.26,
            13.28,
            13,
            9.29,
            13.17,
            10,
            9.37,
            9.73,
            9.58,
            10.1,
            16.11,
            18.48,
            10.79,
            9.48,
            13.64,
            9.52,
            8.48,
            11.51,
            8.85
           ],
           "textposition": "auto",
           "type": "bar",
           "x": [
            "AG",
            "AI",
            "AR",
            "BE",
            "BL",
            "BS",
            "FR",
            "GE",
            "GL",
            "GR",
            "NE",
            "SG",
            "SH",
            "SO",
            "SZ",
            "TG",
            "TI",
            "UR",
            "VD",
            "VS",
            "ZG",
            "ZH"
           ],
           "xaxis": "x",
           "y": [
            8.82,
            10.12,
            9.46,
            24.26,
            13.28,
            13,
            9.29,
            13.17,
            10,
            9.37,
            9.73,
            9.58,
            10.1,
            16.11,
            18.48,
            10.79,
            9.48,
            13.64,
            9.52,
            8.48,
            11.51,
            8.85
           ],
           "yaxis": "y"
          },
          {
           "alignmentgroup": "True",
           "hovertemplate": "canton_group=OW<br>year=2022<br>Kanton=%{x}<br>Durchschnittliche Vergütung (Rp/kWh)=%{text}<extra></extra>",
           "legendgroup": "OW",
           "marker": {
            "color": "#D62728",
            "pattern": {
             "shape": ""
            }
           },
           "name": "OW",
           "offsetgroup": "OW",
           "orientation": "v",
           "showlegend": true,
           "text": [
            30.5
           ],
           "textposition": "auto",
           "type": "bar",
           "x": [
            "OW"
           ],
           "xaxis": "x",
           "y": [
            30.5
           ],
           "yaxis": "y"
          },
          {
           "alignmentgroup": "True",
           "hovertemplate": "canton_group=JU<br>year=2022<br>Kanton=%{x}<br>Durchschnittliche Vergütung (Rp/kWh)=%{text}<extra></extra>",
           "legendgroup": "JU",
           "marker": {
            "color": "#7F7F7F",
            "pattern": {
             "shape": ""
            }
           },
           "name": "JU",
           "offsetgroup": "JU",
           "orientation": "v",
           "showlegend": true,
           "text": [
            28.78
           ],
           "textposition": "auto",
           "type": "bar",
           "x": [
            "JU"
           ],
           "xaxis": "x",
           "y": [
            28.78
           ],
           "yaxis": "y"
          },
          {
           "alignmentgroup": "True",
           "hovertemplate": "canton_group=LU<br>year=2022<br>Kanton=%{x}<br>Durchschnittliche Vergütung (Rp/kWh)=%{text}<extra></extra>",
           "legendgroup": "LU",
           "marker": {
            "color": "#BCBD22",
            "pattern": {
             "shape": ""
            }
           },
           "name": "LU",
           "offsetgroup": "LU",
           "orientation": "v",
           "showlegend": true,
           "text": [
            29.4
           ],
           "textposition": "auto",
           "type": "bar",
           "x": [
            "LU"
           ],
           "xaxis": "x",
           "y": [
            29.4
           ],
           "yaxis": "y"
          },
          {
           "alignmentgroup": "True",
           "hovertemplate": "canton_group=NW<br>year=2022<br>Kanton=%{x}<br>Durchschnittliche Vergütung (Rp/kWh)=%{text}<extra></extra>",
           "legendgroup": "NW",
           "marker": {
            "color": "#17BECF",
            "pattern": {
             "shape": ""
            }
           },
           "name": "NW",
           "offsetgroup": "NW",
           "orientation": "v",
           "showlegend": true,
           "text": [
            30.59
           ],
           "textposition": "auto",
           "type": "bar",
           "x": [
            "NW"
           ],
           "xaxis": "x",
           "y": [
            30.59
           ],
           "yaxis": "y"
          }
         ],
         "name": "2022"
        },
        {
         "data": [
          {
           "alignmentgroup": "True",
           "hovertemplate": "canton_group=Other<br>year=2023<br>Kanton=%{x}<br>Durchschnittliche Vergütung (Rp/kWh)=%{text}<extra></extra>",
           "legendgroup": "Other",
           "marker": {
            "color": "#D9D9D9",
            "pattern": {
             "shape": ""
            }
           },
           "name": "Other",
           "offsetgroup": "Other",
           "orientation": "v",
           "showlegend": true,
           "text": [
            14.19,
            15.99,
            13.69,
            11.63,
            16.54,
            13,
            14.7,
            12.61,
            16,
            12.5,
            9.97,
            10.87,
            15.03,
            11.96,
            9.86,
            14.45,
            13,
            15.75,
            14.02,
            14.38,
            14.63,
            12.77
           ],
           "textposition": "auto",
           "type": "bar",
           "x": [
            "AG",
            "AI",
            "AR",
            "BE",
            "BL",
            "BS",
            "FR",
            "GE",
            "GL",
            "GR",
            "JU",
            "LU",
            "NE",
            "NW",
            "OW",
            "SH",
            "SZ",
            "TG",
            "TI",
            "UR",
            "VS",
            "ZH"
           ],
           "xaxis": "x",
           "y": [
            14.19,
            15.99,
            13.69,
            11.63,
            16.54,
            13,
            14.7,
            12.61,
            16,
            12.5,
            9.97,
            10.87,
            15.03,
            11.96,
            9.86,
            14.45,
            13,
            15.75,
            14.02,
            14.38,
            14.63,
            12.77
           ],
           "yaxis": "y"
          },
          {
           "alignmentgroup": "True",
           "hovertemplate": "canton_group=ZG<br>year=2023<br>Kanton=%{x}<br>Durchschnittliche Vergütung (Rp/kWh)=%{text}<extra></extra>",
           "legendgroup": "ZG",
           "marker": {
            "color": "#9467BD",
            "pattern": {
             "shape": ""
            }
           },
           "name": "ZG",
           "offsetgroup": "ZG",
           "orientation": "v",
           "showlegend": true,
           "text": [
            17.79
           ],
           "textposition": "auto",
           "type": "bar",
           "x": [
            "ZG"
           ],
           "xaxis": "x",
           "y": [
            17.79
           ],
           "yaxis": "y"
          },
          {
           "alignmentgroup": "True",
           "hovertemplate": "canton_group=SG<br>year=2023<br>Kanton=%{x}<br>Durchschnittliche Vergütung (Rp/kWh)=%{text}<extra></extra>",
           "legendgroup": "SG",
           "marker": {
            "color": "#1F77B4",
            "pattern": {
             "shape": ""
            }
           },
           "name": "SG",
           "offsetgroup": "SG",
           "orientation": "v",
           "showlegend": true,
           "text": [
            16.78
           ],
           "textposition": "auto",
           "type": "bar",
           "x": [
            "SG"
           ],
           "xaxis": "x",
           "y": [
            16.78
           ],
           "yaxis": "y"
          },
          {
           "alignmentgroup": "True",
           "hovertemplate": "canton_group=SO<br>year=2023<br>Kanton=%{x}<br>Durchschnittliche Vergütung (Rp/kWh)=%{text}<extra></extra>",
           "legendgroup": "SO",
           "marker": {
            "color": "#FF7F0E",
            "pattern": {
             "shape": ""
            }
           },
           "name": "SO",
           "offsetgroup": "SO",
           "orientation": "v",
           "showlegend": true,
           "text": [
            18.04
           ],
           "textposition": "auto",
           "type": "bar",
           "x": [
            "SO"
           ],
           "xaxis": "x",
           "y": [
            18.04
           ],
           "yaxis": "y"
          },
          {
           "alignmentgroup": "True",
           "hovertemplate": "canton_group=VD<br>year=2023<br>Kanton=%{x}<br>Durchschnittliche Vergütung (Rp/kWh)=%{text}<extra></extra>",
           "legendgroup": "VD",
           "marker": {
            "color": "#2CA02C",
            "pattern": {
             "shape": ""
            }
           },
           "name": "VD",
           "offsetgroup": "VD",
           "orientation": "v",
           "showlegend": true,
           "text": [
            18.19
           ],
           "textposition": "auto",
           "type": "bar",
           "x": [
            "VD"
           ],
           "xaxis": "x",
           "y": [
            18.19
           ],
           "yaxis": "y"
          }
         ],
         "name": "2023"
        },
        {
         "data": [
          {
           "alignmentgroup": "True",
           "hovertemplate": "canton_group=Other<br>year=2024<br>Kanton=%{x}<br>Durchschnittliche Vergütung (Rp/kWh)=%{text}<extra></extra>",
           "legendgroup": "Other",
           "marker": {
            "color": "#D9D9D9",
            "pattern": {
             "shape": ""
            }
           },
           "name": "Other",
           "offsetgroup": "Other",
           "orientation": "v",
           "showlegend": true,
           "text": [
            16.44,
            15.32,
            9.97,
            14.83,
            13,
            14.44,
            16.18,
            17,
            12.78,
            7.61,
            8,
            6.87,
            5.91,
            17.34,
            16.72,
            15.42,
            12.45,
            16.86,
            14,
            13.46,
            17.41,
            14.66
           ],
           "textposition": "auto",
           "type": "bar",
           "x": [
            "AI",
            "AR",
            "BE",
            "BL",
            "BS",
            "FR",
            "GE",
            "GL",
            "GR",
            "JU",
            "LU",
            "NW",
            "OW",
            "SG",
            "SH",
            "SO",
            "SZ",
            "TG",
            "TI",
            "UR",
            "VD",
            "VS"
           ],
           "xaxis": "x",
           "y": [
            16.44,
            15.32,
            9.97,
            14.83,
            13,
            14.44,
            16.18,
            17,
            12.78,
            7.61,
            8,
            6.87,
            5.91,
            17.34,
            16.72,
            15.42,
            12.45,
            16.86,
            14,
            13.46,
            17.41,
            14.66
           ],
           "yaxis": "y"
          },
          {
           "alignmentgroup": "True",
           "hovertemplate": "canton_group=ZG<br>year=2024<br>Kanton=%{x}<br>Durchschnittliche Vergütung (Rp/kWh)=%{text}<extra></extra>",
           "legendgroup": "ZG",
           "marker": {
            "color": "#9467BD",
            "pattern": {
             "shape": ""
            }
           },
           "name": "ZG",
           "offsetgroup": "ZG",
           "orientation": "v",
           "showlegend": true,
           "text": [
            21
           ],
           "textposition": "auto",
           "type": "bar",
           "x": [
            "ZG"
           ],
           "xaxis": "x",
           "y": [
            21
           ],
           "yaxis": "y"
          },
          {
           "alignmentgroup": "True",
           "hovertemplate": "canton_group=AG<br>year=2024<br>Kanton=%{x}<br>Durchschnittliche Vergütung (Rp/kWh)=%{text}<extra></extra>",
           "legendgroup": "AG",
           "marker": {
            "color": "#D62728",
            "pattern": {
             "shape": ""
            }
           },
           "name": "AG",
           "offsetgroup": "AG",
           "orientation": "v",
           "showlegend": true,
           "text": [
            18.43
           ],
           "textposition": "auto",
           "type": "bar",
           "x": [
            "AG"
           ],
           "xaxis": "x",
           "y": [
            18.43
           ],
           "yaxis": "y"
          },
          {
           "alignmentgroup": "True",
           "hovertemplate": "canton_group=NE<br>year=2024<br>Kanton=%{x}<br>Durchschnittliche Vergütung (Rp/kWh)=%{text}<extra></extra>",
           "legendgroup": "NE",
           "marker": {
            "color": "#9467BD",
            "pattern": {
             "shape": ""
            }
           },
           "name": "NE",
           "offsetgroup": "NE",
           "orientation": "v",
           "showlegend": true,
           "text": [
            17.63
           ],
           "textposition": "auto",
           "type": "bar",
           "x": [
            "NE"
           ],
           "xaxis": "x",
           "y": [
            17.63
           ],
           "yaxis": "y"
          },
          {
           "alignmentgroup": "True",
           "hovertemplate": "canton_group=ZH<br>year=2024<br>Kanton=%{x}<br>Durchschnittliche Vergütung (Rp/kWh)=%{text}<extra></extra>",
           "legendgroup": "ZH",
           "marker": {
            "color": "#8C564B",
            "pattern": {
             "shape": ""
            }
           },
           "name": "ZH",
           "offsetgroup": "ZH",
           "orientation": "v",
           "showlegend": true,
           "text": [
            18.76
           ],
           "textposition": "auto",
           "type": "bar",
           "x": [
            "ZH"
           ],
           "xaxis": "x",
           "y": [
            18.76
           ],
           "yaxis": "y"
          }
         ],
         "name": "2024"
        }
       ],
       "layout": {
        "barmode": "relative",
        "legend": {
         "title": {
          "text": "canton_group"
         },
         "tracegroupgap": 0
        },
        "margin": {
         "t": 60
        },
        "showlegend": false,
        "sliders": [
         {
          "active": 0,
          "currentvalue": {
           "prefix": "year="
          },
          "len": 0.9,
          "pad": {
           "b": 10,
           "t": 60
          },
          "steps": [
           {
            "args": [
             [
              "2017"
             ],
             {
              "frame": {
               "duration": 0,
               "redraw": true
              },
              "fromcurrent": true,
              "mode": "immediate",
              "transition": {
               "duration": 0,
               "easing": "linear"
              }
             }
            ],
            "label": "2017",
            "method": "animate"
           },
           {
            "args": [
             [
              "2018"
             ],
             {
              "frame": {
               "duration": 0,
               "redraw": true
              },
              "fromcurrent": true,
              "mode": "immediate",
              "transition": {
               "duration": 0,
               "easing": "linear"
              }
             }
            ],
            "label": "2018",
            "method": "animate"
           },
           {
            "args": [
             [
              "2019"
             ],
             {
              "frame": {
               "duration": 0,
               "redraw": true
              },
              "fromcurrent": true,
              "mode": "immediate",
              "transition": {
               "duration": 0,
               "easing": "linear"
              }
             }
            ],
            "label": "2019",
            "method": "animate"
           },
           {
            "args": [
             [
              "2020"
             ],
             {
              "frame": {
               "duration": 0,
               "redraw": true
              },
              "fromcurrent": true,
              "mode": "immediate",
              "transition": {
               "duration": 0,
               "easing": "linear"
              }
             }
            ],
            "label": "2020",
            "method": "animate"
           },
           {
            "args": [
             [
              "2021"
             ],
             {
              "frame": {
               "duration": 0,
               "redraw": true
              },
              "fromcurrent": true,
              "mode": "immediate",
              "transition": {
               "duration": 0,
               "easing": "linear"
              }
             }
            ],
            "label": "2021",
            "method": "animate"
           },
           {
            "args": [
             [
              "2022"
             ],
             {
              "frame": {
               "duration": 0,
               "redraw": true
              },
              "fromcurrent": true,
              "mode": "immediate",
              "transition": {
               "duration": 0,
               "easing": "linear"
              }
             }
            ],
            "label": "2022",
            "method": "animate"
           },
           {
            "args": [
             [
              "2023"
             ],
             {
              "frame": {
               "duration": 0,
               "redraw": true
              },
              "fromcurrent": true,
              "mode": "immediate",
              "transition": {
               "duration": 0,
               "easing": "linear"
              }
             }
            ],
            "label": "2023",
            "method": "animate"
           },
           {
            "args": [
             [
              "2024"
             ],
             {
              "frame": {
               "duration": 0,
               "redraw": true
              },
              "fromcurrent": true,
              "mode": "immediate",
              "transition": {
               "duration": 0,
               "easing": "linear"
              }
             }
            ],
            "label": "2024",
            "method": "animate"
           }
          ],
          "x": 0.1,
          "xanchor": "left",
          "y": 0,
          "yanchor": "top"
         }
        ],
        "template": {
         "data": {
          "bar": [
           {
            "error_x": {
             "color": "rgb(36,36,36)"
            },
            "error_y": {
             "color": "rgb(36,36,36)"
            },
            "marker": {
             "line": {
              "color": "white",
              "width": 0.5
             },
             "pattern": {
              "fillmode": "overlay",
              "size": 10,
              "solidity": 0.2
             }
            },
            "type": "bar"
           }
          ],
          "barpolar": [
           {
            "marker": {
             "line": {
              "color": "white",
              "width": 0.5
             },
             "pattern": {
              "fillmode": "overlay",
              "size": 10,
              "solidity": 0.2
             }
            },
            "type": "barpolar"
           }
          ],
          "carpet": [
           {
            "aaxis": {
             "endlinecolor": "rgb(36,36,36)",
             "gridcolor": "white",
             "linecolor": "white",
             "minorgridcolor": "white",
             "startlinecolor": "rgb(36,36,36)"
            },
            "baxis": {
             "endlinecolor": "rgb(36,36,36)",
             "gridcolor": "white",
             "linecolor": "white",
             "minorgridcolor": "white",
             "startlinecolor": "rgb(36,36,36)"
            },
            "type": "carpet"
           }
          ],
          "choropleth": [
           {
            "colorbar": {
             "outlinewidth": 1,
             "tickcolor": "rgb(36,36,36)",
             "ticks": "outside"
            },
            "type": "choropleth"
           }
          ],
          "contour": [
           {
            "colorbar": {
             "outlinewidth": 1,
             "tickcolor": "rgb(36,36,36)",
             "ticks": "outside"
            },
            "colorscale": [
             [
              0,
              "#440154"
             ],
             [
              0.1111111111111111,
              "#482878"
             ],
             [
              0.2222222222222222,
              "#3e4989"
             ],
             [
              0.3333333333333333,
              "#31688e"
             ],
             [
              0.4444444444444444,
              "#26828e"
             ],
             [
              0.5555555555555556,
              "#1f9e89"
             ],
             [
              0.6666666666666666,
              "#35b779"
             ],
             [
              0.7777777777777778,
              "#6ece58"
             ],
             [
              0.8888888888888888,
              "#b5de2b"
             ],
             [
              1,
              "#fde725"
             ]
            ],
            "type": "contour"
           }
          ],
          "contourcarpet": [
           {
            "colorbar": {
             "outlinewidth": 1,
             "tickcolor": "rgb(36,36,36)",
             "ticks": "outside"
            },
            "type": "contourcarpet"
           }
          ],
          "heatmap": [
           {
            "colorbar": {
             "outlinewidth": 1,
             "tickcolor": "rgb(36,36,36)",
             "ticks": "outside"
            },
            "colorscale": [
             [
              0,
              "#440154"
             ],
             [
              0.1111111111111111,
              "#482878"
             ],
             [
              0.2222222222222222,
              "#3e4989"
             ],
             [
              0.3333333333333333,
              "#31688e"
             ],
             [
              0.4444444444444444,
              "#26828e"
             ],
             [
              0.5555555555555556,
              "#1f9e89"
             ],
             [
              0.6666666666666666,
              "#35b779"
             ],
             [
              0.7777777777777778,
              "#6ece58"
             ],
             [
              0.8888888888888888,
              "#b5de2b"
             ],
             [
              1,
              "#fde725"
             ]
            ],
            "type": "heatmap"
           }
          ],
          "heatmapgl": [
           {
            "colorbar": {
             "outlinewidth": 1,
             "tickcolor": "rgb(36,36,36)",
             "ticks": "outside"
            },
            "colorscale": [
             [
              0,
              "#440154"
             ],
             [
              0.1111111111111111,
              "#482878"
             ],
             [
              0.2222222222222222,
              "#3e4989"
             ],
             [
              0.3333333333333333,
              "#31688e"
             ],
             [
              0.4444444444444444,
              "#26828e"
             ],
             [
              0.5555555555555556,
              "#1f9e89"
             ],
             [
              0.6666666666666666,
              "#35b779"
             ],
             [
              0.7777777777777778,
              "#6ece58"
             ],
             [
              0.8888888888888888,
              "#b5de2b"
             ],
             [
              1,
              "#fde725"
             ]
            ],
            "type": "heatmapgl"
           }
          ],
          "histogram": [
           {
            "marker": {
             "line": {
              "color": "white",
              "width": 0.6
             }
            },
            "type": "histogram"
           }
          ],
          "histogram2d": [
           {
            "colorbar": {
             "outlinewidth": 1,
             "tickcolor": "rgb(36,36,36)",
             "ticks": "outside"
            },
            "colorscale": [
             [
              0,
              "#440154"
             ],
             [
              0.1111111111111111,
              "#482878"
             ],
             [
              0.2222222222222222,
              "#3e4989"
             ],
             [
              0.3333333333333333,
              "#31688e"
             ],
             [
              0.4444444444444444,
              "#26828e"
             ],
             [
              0.5555555555555556,
              "#1f9e89"
             ],
             [
              0.6666666666666666,
              "#35b779"
             ],
             [
              0.7777777777777778,
              "#6ece58"
             ],
             [
              0.8888888888888888,
              "#b5de2b"
             ],
             [
              1,
              "#fde725"
             ]
            ],
            "type": "histogram2d"
           }
          ],
          "histogram2dcontour": [
           {
            "colorbar": {
             "outlinewidth": 1,
             "tickcolor": "rgb(36,36,36)",
             "ticks": "outside"
            },
            "colorscale": [
             [
              0,
              "#440154"
             ],
             [
              0.1111111111111111,
              "#482878"
             ],
             [
              0.2222222222222222,
              "#3e4989"
             ],
             [
              0.3333333333333333,
              "#31688e"
             ],
             [
              0.4444444444444444,
              "#26828e"
             ],
             [
              0.5555555555555556,
              "#1f9e89"
             ],
             [
              0.6666666666666666,
              "#35b779"
             ],
             [
              0.7777777777777778,
              "#6ece58"
             ],
             [
              0.8888888888888888,
              "#b5de2b"
             ],
             [
              1,
              "#fde725"
             ]
            ],
            "type": "histogram2dcontour"
           }
          ],
          "mesh3d": [
           {
            "colorbar": {
             "outlinewidth": 1,
             "tickcolor": "rgb(36,36,36)",
             "ticks": "outside"
            },
            "type": "mesh3d"
           }
          ],
          "parcoords": [
           {
            "line": {
             "colorbar": {
              "outlinewidth": 1,
              "tickcolor": "rgb(36,36,36)",
              "ticks": "outside"
             }
            },
            "type": "parcoords"
           }
          ],
          "pie": [
           {
            "automargin": true,
            "type": "pie"
           }
          ],
          "scatter": [
           {
            "fillpattern": {
             "fillmode": "overlay",
             "size": 10,
             "solidity": 0.2
            },
            "type": "scatter"
           }
          ],
          "scatter3d": [
           {
            "line": {
             "colorbar": {
              "outlinewidth": 1,
              "tickcolor": "rgb(36,36,36)",
              "ticks": "outside"
             }
            },
            "marker": {
             "colorbar": {
              "outlinewidth": 1,
              "tickcolor": "rgb(36,36,36)",
              "ticks": "outside"
             }
            },
            "type": "scatter3d"
           }
          ],
          "scattercarpet": [
           {
            "marker": {
             "colorbar": {
              "outlinewidth": 1,
              "tickcolor": "rgb(36,36,36)",
              "ticks": "outside"
             }
            },
            "type": "scattercarpet"
           }
          ],
          "scattergeo": [
           {
            "marker": {
             "colorbar": {
              "outlinewidth": 1,
              "tickcolor": "rgb(36,36,36)",
              "ticks": "outside"
             }
            },
            "type": "scattergeo"
           }
          ],
          "scattergl": [
           {
            "marker": {
             "colorbar": {
              "outlinewidth": 1,
              "tickcolor": "rgb(36,36,36)",
              "ticks": "outside"
             }
            },
            "type": "scattergl"
           }
          ],
          "scattermapbox": [
           {
            "marker": {
             "colorbar": {
              "outlinewidth": 1,
              "tickcolor": "rgb(36,36,36)",
              "ticks": "outside"
             }
            },
            "type": "scattermapbox"
           }
          ],
          "scatterpolar": [
           {
            "marker": {
             "colorbar": {
              "outlinewidth": 1,
              "tickcolor": "rgb(36,36,36)",
              "ticks": "outside"
             }
            },
            "type": "scatterpolar"
           }
          ],
          "scatterpolargl": [
           {
            "marker": {
             "colorbar": {
              "outlinewidth": 1,
              "tickcolor": "rgb(36,36,36)",
              "ticks": "outside"
             }
            },
            "type": "scatterpolargl"
           }
          ],
          "scatterternary": [
           {
            "marker": {
             "colorbar": {
              "outlinewidth": 1,
              "tickcolor": "rgb(36,36,36)",
              "ticks": "outside"
             }
            },
            "type": "scatterternary"
           }
          ],
          "surface": [
           {
            "colorbar": {
             "outlinewidth": 1,
             "tickcolor": "rgb(36,36,36)",
             "ticks": "outside"
            },
            "colorscale": [
             [
              0,
              "#440154"
             ],
             [
              0.1111111111111111,
              "#482878"
             ],
             [
              0.2222222222222222,
              "#3e4989"
             ],
             [
              0.3333333333333333,
              "#31688e"
             ],
             [
              0.4444444444444444,
              "#26828e"
             ],
             [
              0.5555555555555556,
              "#1f9e89"
             ],
             [
              0.6666666666666666,
              "#35b779"
             ],
             [
              0.7777777777777778,
              "#6ece58"
             ],
             [
              0.8888888888888888,
              "#b5de2b"
             ],
             [
              1,
              "#fde725"
             ]
            ],
            "type": "surface"
           }
          ],
          "table": [
           {
            "cells": {
             "fill": {
              "color": "rgb(237,237,237)"
             },
             "line": {
              "color": "white"
             }
            },
            "header": {
             "fill": {
              "color": "rgb(217,217,217)"
             },
             "line": {
              "color": "white"
             }
            },
            "type": "table"
           }
          ]
         },
         "layout": {
          "annotationdefaults": {
           "arrowhead": 0,
           "arrowwidth": 1
          },
          "autotypenumbers": "strict",
          "coloraxis": {
           "colorbar": {
            "outlinewidth": 1,
            "tickcolor": "rgb(36,36,36)",
            "ticks": "outside"
           }
          },
          "colorscale": {
           "diverging": [
            [
             0,
             "rgb(103,0,31)"
            ],
            [
             0.1,
             "rgb(178,24,43)"
            ],
            [
             0.2,
             "rgb(214,96,77)"
            ],
            [
             0.3,
             "rgb(244,165,130)"
            ],
            [
             0.4,
             "rgb(253,219,199)"
            ],
            [
             0.5,
             "rgb(247,247,247)"
            ],
            [
             0.6,
             "rgb(209,229,240)"
            ],
            [
             0.7,
             "rgb(146,197,222)"
            ],
            [
             0.8,
             "rgb(67,147,195)"
            ],
            [
             0.9,
             "rgb(33,102,172)"
            ],
            [
             1,
             "rgb(5,48,97)"
            ]
           ],
           "sequential": [
            [
             0,
             "#440154"
            ],
            [
             0.1111111111111111,
             "#482878"
            ],
            [
             0.2222222222222222,
             "#3e4989"
            ],
            [
             0.3333333333333333,
             "#31688e"
            ],
            [
             0.4444444444444444,
             "#26828e"
            ],
            [
             0.5555555555555556,
             "#1f9e89"
            ],
            [
             0.6666666666666666,
             "#35b779"
            ],
            [
             0.7777777777777778,
             "#6ece58"
            ],
            [
             0.8888888888888888,
             "#b5de2b"
            ],
            [
             1,
             "#fde725"
            ]
           ],
           "sequentialminus": [
            [
             0,
             "#440154"
            ],
            [
             0.1111111111111111,
             "#482878"
            ],
            [
             0.2222222222222222,
             "#3e4989"
            ],
            [
             0.3333333333333333,
             "#31688e"
            ],
            [
             0.4444444444444444,
             "#26828e"
            ],
            [
             0.5555555555555556,
             "#1f9e89"
            ],
            [
             0.6666666666666666,
             "#35b779"
            ],
            [
             0.7777777777777778,
             "#6ece58"
            ],
            [
             0.8888888888888888,
             "#b5de2b"
            ],
            [
             1,
             "#fde725"
            ]
           ]
          },
          "colorway": [
           "#1F77B4",
           "#FF7F0E",
           "#2CA02C",
           "#D62728",
           "#9467BD",
           "#8C564B",
           "#E377C2",
           "#7F7F7F",
           "#BCBD22",
           "#17BECF"
          ],
          "font": {
           "color": "rgb(36,36,36)"
          },
          "geo": {
           "bgcolor": "white",
           "lakecolor": "white",
           "landcolor": "white",
           "showlakes": true,
           "showland": true,
           "subunitcolor": "white"
          },
          "hoverlabel": {
           "align": "left"
          },
          "hovermode": "closest",
          "mapbox": {
           "style": "light"
          },
          "paper_bgcolor": "white",
          "plot_bgcolor": "white",
          "polar": {
           "angularaxis": {
            "gridcolor": "rgb(232,232,232)",
            "linecolor": "rgb(36,36,36)",
            "showgrid": false,
            "showline": true,
            "ticks": "outside"
           },
           "bgcolor": "white",
           "radialaxis": {
            "gridcolor": "rgb(232,232,232)",
            "linecolor": "rgb(36,36,36)",
            "showgrid": false,
            "showline": true,
            "ticks": "outside"
           }
          },
          "scene": {
           "xaxis": {
            "backgroundcolor": "white",
            "gridcolor": "rgb(232,232,232)",
            "gridwidth": 2,
            "linecolor": "rgb(36,36,36)",
            "showbackground": true,
            "showgrid": false,
            "showline": true,
            "ticks": "outside",
            "zeroline": false,
            "zerolinecolor": "rgb(36,36,36)"
           },
           "yaxis": {
            "backgroundcolor": "white",
            "gridcolor": "rgb(232,232,232)",
            "gridwidth": 2,
            "linecolor": "rgb(36,36,36)",
            "showbackground": true,
            "showgrid": false,
            "showline": true,
            "ticks": "outside",
            "zeroline": false,
            "zerolinecolor": "rgb(36,36,36)"
           },
           "zaxis": {
            "backgroundcolor": "white",
            "gridcolor": "rgb(232,232,232)",
            "gridwidth": 2,
            "linecolor": "rgb(36,36,36)",
            "showbackground": true,
            "showgrid": false,
            "showline": true,
            "ticks": "outside",
            "zeroline": false,
            "zerolinecolor": "rgb(36,36,36)"
           }
          },
          "shapedefaults": {
           "fillcolor": "black",
           "line": {
            "width": 0
           },
           "opacity": 0.3
          },
          "ternary": {
           "aaxis": {
            "gridcolor": "rgb(232,232,232)",
            "linecolor": "rgb(36,36,36)",
            "showgrid": false,
            "showline": true,
            "ticks": "outside"
           },
           "baxis": {
            "gridcolor": "rgb(232,232,232)",
            "linecolor": "rgb(36,36,36)",
            "showgrid": false,
            "showline": true,
            "ticks": "outside"
           },
           "bgcolor": "white",
           "caxis": {
            "gridcolor": "rgb(232,232,232)",
            "linecolor": "rgb(36,36,36)",
            "showgrid": false,
            "showline": true,
            "ticks": "outside"
           }
          },
          "title": {
           "x": 0.05
          },
          "xaxis": {
           "automargin": true,
           "gridcolor": "rgb(232,232,232)",
           "linecolor": "rgb(36,36,36)",
           "showgrid": false,
           "showline": true,
           "ticks": "outside",
           "title": {
            "standoff": 15
           },
           "zeroline": false,
           "zerolinecolor": "rgb(36,36,36)"
          },
          "yaxis": {
           "automargin": true,
           "gridcolor": "rgb(232,232,232)",
           "linecolor": "rgb(36,36,36)",
           "showgrid": false,
           "showline": true,
           "ticks": "outside",
           "title": {
            "standoff": 15
           },
           "zeroline": false,
           "zerolinecolor": "rgb(36,36,36)"
          }
         }
        },
        "title": {
         "text": "Durchschnittliche Einspeisevergütung pro Kanton und Jahr (absteigend sortiert)"
        },
        "updatemenus": [
         {
          "buttons": [
           {
            "args": [
             null,
             {
              "frame": {
               "duration": 500,
               "redraw": true
              },
              "fromcurrent": true,
              "mode": "immediate",
              "transition": {
               "duration": 500,
               "easing": "linear"
              }
             }
            ],
            "label": "&#9654;",
            "method": "animate"
           },
           {
            "args": [
             [
              null
             ],
             {
              "frame": {
               "duration": 0,
               "redraw": true
              },
              "fromcurrent": true,
              "mode": "immediate",
              "transition": {
               "duration": 0,
               "easing": "linear"
              }
             }
            ],
            "label": "&#9724;",
            "method": "animate"
           }
          ],
          "direction": "left",
          "pad": {
           "r": 10,
           "t": 70
          },
          "showactive": false,
          "type": "buttons",
          "x": 0.1,
          "xanchor": "right",
          "y": 0,
          "yanchor": "top"
         }
        ],
        "xaxis": {
         "anchor": "y",
         "categoryorder": "total descending",
         "domain": [
          0,
          1
         ],
         "title": {
          "text": "Kanton"
         }
        },
        "yaxis": {
         "anchor": "x",
         "domain": [
          0,
          1
         ],
         "range": [
          0,
          35
         ],
         "title": {
          "text": "Durchschnittliche Vergütung (Rp/kWh)"
         }
        }
       }
      }
     },
     "metadata": {},
     "output_type": "display_data"
    }
   ],
   "source": [
    "import plotly.express as px\n",
    "\n",
    "# Gruppieren nach Jahr & Kanton\n",
    "df = merged_df.groupby(['year', 'Kanton'])['remuneration'].mean().reset_index()\n",
    "df.rename(columns={'remuneration': 'avg_remuneration'}, inplace=True)\n",
    "df['avg_remuneration'] = df['avg_remuneration'].round(2)\n",
    "\n",
    "# Top 4 Kantone pro Jahr einfärben\n",
    "top_cantons_per_year = (\n",
    "    df.groupby('year', group_keys=False)\n",
    "    .apply(lambda g: g.nlargest(4, 'avg_remuneration')['Kanton'].tolist())\n",
    "    .to_dict()\n",
    ")\n",
    "\n",
    "def assign_color_group(row, top_dict):\n",
    "    return row['Kanton'] if row['Kanton'] in top_dict.get(row['year'], []) else 'Other'\n",
    "\n",
    "df['canton_group'] = df.apply(assign_color_group, axis=1, top_dict=top_cantons_per_year)\n",
    "\n",
    "# Balkendiagramm erstellen\n",
    "fig = px.bar(\n",
    "    df,\n",
    "    x='Kanton',\n",
    "    y='avg_remuneration',\n",
    "    animation_frame='year',\n",
    "    color='canton_group',\n",
    "    text='avg_remuneration',\n",
    "    labels={'avg_remuneration': 'Durchschnittliche Vergütung (Rp/kWh)', 'Kanton': 'Kanton'},\n",
    "    color_discrete_map={'Other': '#D9D9D9'},\n",
    "    template='simple_white'\n",
    ")\n",
    "\n",
    "fig.update_traces(texttemplate='%{text:.0f}', textposition='inside')\n",
    "\n",
    "fig.update_layout(\n",
    "    xaxis=dict(categoryorder='total descending', title='Kanton'),\n",
    "    yaxis=dict(range=[0, 35], title='Durchschnittliche Vergütung (Rp/kWh)'),\n",
    "    title='Durchschnittliche Einspeisevergütung pro Kanton und Jahr (absteigend sortiert)',\n",
    "    showlegend=False\n",
    ")\n",
    "\n",
    "fig.show()\n",
    "fig.write_html(\"../docs/assets/diagramme/pv_verguetungen_sortiert_korrekt.html\")\n"
   ]
  },
  {
   "cell_type": "markdown",
   "id": "85d10fb8",
   "metadata": {},
   "source": [
    "## Choroplethenkarte von der Vergütung der PV Anlagen"
   ]
  },
  {
   "cell_type": "code",
   "execution_count": null,
   "id": "9ba4f2f2",
   "metadata": {},
   "outputs": [],
   "source": [
    "import folium\n",
    "import json\n",
    "from shapely.geometry import shape, mapping\n",
    "from shapely.ops import transform\n",
    "from functools import partial\n",
    "import pyproj\n",
    "\n",
    "df = merged_df[merged_df['year'] == 2024].copy()\n",
    "\n",
    "# Prepare cumulative data\n",
    "cumulative_map_data = df.groupby(['idofs'])['remuneration'].mean().reset_index()\n",
    "\n",
    "# Load and simplify GeoJSON\n",
    "with open('../data/electricity_production_plants/gemeinden.geojson', 'r', encoding='utf-8') as f:\n",
    "    geojson_data = json.load(f)\n",
    "\n",
    "# Assign default values to missing municipalities\n",
    "average_remuneration = cumulative_map_data['remuneration'].mean()\n",
    "missing_bfs = set(geojson_data['features'][i]['properties']['gemeinde_BFS_NUMMER'] for i in range(len(geojson_data['features']))) - set(cumulative_map_data['idofs'])\n",
    "for bfs in missing_bfs:\n",
    "    cumulative_map_data = pd.concat([cumulative_map_data, pd.DataFrame({'idofs': [bfs], 'remuneration': [average_remuneration]})], ignore_index=True)\n",
    "\n",
    "simplified_features = []\n",
    "for feature in geojson_data['features']:\n",
    "    geom = shape(feature['geometry'])\n",
    "    simplify = partial(\n",
    "        pyproj.Transformer.from_crs('EPSG:4326', 'EPSG:4326', always_xy=True).transform\n",
    "    )\n",
    "    simplified_geom = transform(simplify, geom).simplify(0.001, preserve_topology=True)\n",
    "    feature['geometry'] = mapping(simplified_geom)\n",
    "    bfs_nr = feature['properties']['gemeinde_BFS_NUMMER']\n",
    "    remuneration = cumulative_map_data.loc[cumulative_map_data['idofs'] == bfs_nr, 'remuneration'].values[0] if bfs_nr in cumulative_map_data['idofs'].values else 0\n",
    "    feature['properties']['remuneration'] = f\"{remuneration:.2f}\"\n",
    "    feature['properties']['bfs-str'] = str(feature['properties']['gemeinde_BFS_NUMMER'])\n",
    "    simplified_features.append(feature)\n",
    "\n",
    "geojson_data['features'] = simplified_features\n",
    "\n",
    "map = folium.Map(location=[46.8, 8.33], zoom_start=7)\n",
    "\n",
    "# Add choropleth layer with optimized color palette\n",
    "folium.Choropleth(\n",
    "    geo_data=geojson_data,\n",
    "    name='Choropleth',\n",
    "    data=cumulative_map_data,\n",
    "    columns=['idofs', 'remuneration'],\n",
    "    key_on='feature.properties.gemeinde_BFS_NUMMER',\n",
    "    fill_color='RdYlGn',  # Reverse color palette for green to red\n",
    "    fill_opacity=0.9,  # Increased opacity for better visibility\n",
    "    line_opacity=0.6,  # Slightly thicker boundary lines\n",
    "    line_color='black',\n",
    "    legend_name='Vergütung (Rp/kWh)',\n",
    "    threshold_scale=[0, 5, 10, 15, 20, 25, cumulative_map_data['remuneration'].max()],  # Adjust thresholds to include all values\n",
    ").add_to(map)\n",
    "\n",
    "# Add tooltips and customize boundary style\n",
    "folium.GeoJson(\n",
    "    geojson_data,\n",
    "    name=\"Gemeinden\",\n",
    "    style_function=lambda feature: {\n",
    "        'color': 'black',\n",
    "        'weight': 0.5,  # Slightly thicker boundary lines\n",
    "        'fillOpacity': 0\n",
    "    },\n",
    "    tooltip=folium.GeoJsonTooltip(\n",
    "        fields=['gemeinde_NAME', 'bfs-str', 'remuneration'],\n",
    "        aliases=['Gemeinde:', 'BFS-Nummer:', 'Vergütung (Rp/kWh):'],\n",
    "        localize=True\n",
    "    )\n",
    ").add_to(map)\n",
    "\n",
    "# Add title and save map\n",
    "title_html = '''\n",
    "<div style=\"font-size:20px;position: absolute;z-index: 1000;left: 25%;\"><b>Choroplethenkarte von der Vergütung der PV Anlagen pro Gemeinde im Jahr 2024</b></div>\n",
    "'''\n",
    "map.get_root().html.add_child(folium.Element(title_html))\n",
    "\n",
    "map.save('../docs/assets/diagramme/map_pv_vergütungen.html')\n",
    "\n",
    "map"
   ]
  }
 ],
 "metadata": {
  "kernelspec": {
   "display_name": "base",
   "language": "python",
   "name": "python3"
  },
  "language_info": {
   "codemirror_mode": {
    "name": "ipython",
    "version": 3
   },
   "file_extension": ".py",
   "mimetype": "text/x-python",
   "name": "python",
   "nbconvert_exporter": "python",
   "pygments_lexer": "ipython3",
   "version": "3.12.7"
  }
 },
 "nbformat": 4,
 "nbformat_minor": 5
}
